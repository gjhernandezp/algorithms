{
  "nbformat": 4,
  "nbformat_minor": 0,
  "metadata": {
    "colab": {
      "name": "BubbleSortNotOptimizedHistograms.ipynb",
      "provenance": [],
      "collapsed_sections": []
    },
    "kernelspec": {
      "name": "python3",
      "display_name": "Python 3"
    },
    "language_info": {
      "name": "python"
    }
  },
  "cells": [
    {
      "cell_type": "markdown",
      "metadata": {
        "id": "zQs0sILUmTR-"
      },
      "source": [
        "# Bubble sort not optimized time complexity histograms for permutations of $n$ different elements \n",
        "\n",
        "## Best case - increasingly orted array ($\\frac{n^2-n}{2}$ comparisons + $0$ swaps) - $T(n) = \\frac{n^2-n}{2} = \\Theta(n^2) $\n",
        "\n",
        "## Worst case - de creasingly sorted array ($\\frac{n^2-n}{2}$ comparisons + $\\frac{n^2-n}{2}$  swaps) - $T(n) = n^2-n = \\Theta(n^2) $\n",
        "\n",
        "## Average case - expected number of comparisons + swaps on random unifrom permutation of $n$ different elements $T(n) = \\frac{3}{4}(n^2-n)= \\Theta(n^2) $\n",
        "\n"
      ]
    },
    {
      "cell_type": "code",
      "metadata": {
        "colab": {
          "base_uri": "https://localhost:8080/"
        },
        "id": "Xzjjj7JGueNJ",
        "outputId": "e04dc51b-bf59-4a78-db23-f97081d5609b"
      },
      "source": [
        "from itertools import permutations\n",
        " \n",
        "n = 3\n",
        "perm = permutations(range(1,n+1))\n",
        "\n",
        "ls =  [] \n",
        "# Print the obtained permutations\n",
        "for i in list(perm):\n",
        "    print(i)"
      ],
      "execution_count": 3,
      "outputs": [
        {
          "output_type": "stream",
          "text": [
            "(1, 2, 3)\n",
            "(1, 3, 2)\n",
            "(2, 1, 3)\n",
            "(2, 3, 1)\n",
            "(3, 1, 2)\n",
            "(3, 2, 1)\n"
          ],
          "name": "stdout"
        }
      ]
    },
    {
      "cell_type": "code",
      "metadata": {
        "id": "Ngiw0SKuqxAr"
      },
      "source": [
        "def bubbleSort(arr):\n",
        "    steps = 0\n",
        "    n = len(arr)\n",
        " \n",
        "    # Traverse through all array elements\n",
        "    for i in range(n):\n",
        " \n",
        "        # Last i elements are already in place\n",
        "        for j in range(0, n-i-1):\n",
        " \n",
        "            # traverse the array from 0 to n-i-1\n",
        "            # Swap if the element found is greater\n",
        "            # than the next element\n",
        "            steps +=1\n",
        "            if arr[j] > arr[j+1] :\n",
        "                arr[j], arr[j+1] = arr[j+1], arr[j]\n",
        "                steps +=1\n",
        "    return(steps)\n",
        " \n"
      ],
      "execution_count": 4,
      "outputs": []
    },
    {
      "cell_type": "code",
      "metadata": {
        "colab": {
          "base_uri": "https://localhost:8080/",
          "height": 282
        },
        "id": "8k9qKleLT7Dm",
        "outputId": "770e6746-eb35-4c84-a73e-33afb13975b7"
      },
      "source": [
        "from itertools import permutations\n",
        "import matplotlib.pyplot as plt\n",
        "import numpy as np \n",
        "n = 3\n",
        "perm = permutations(range(1,n+1))\n",
        "\n",
        "ls =  [] \n",
        "# Print the obtained permutations\n",
        "for i in list(perm):\n",
        "    i = list(i)\n",
        "    ls.append(bubbleSort(i))\n",
        "\n",
        "b = np.array(range(min(ls)-1,max(ls)+2) ) +0.5\n",
        "plt.hist(ls,bins=b)\n",
        "plt.show() \n",
        "print(\"n=\", n, \"experimental min=\", min(ls),\" theoretical min= (n-1)n/2 =\", (n-1)*n/2,\" experimental max=\", max(ls),\" theoretical max = (n-1)n =\",(n-1)*n, \" experimental average=\",np.average(ls),\" theoretical average = (3/4)*(n**2-n)=\",(3/4)*(n**2-n), \" std=\",np.std(ls))"
      ],
      "execution_count": 48,
      "outputs": [
        {
          "output_type": "display_data",
          "data": {
            "image/png": "[encoded data removed]",
            "text/plain": [
              "<Figure size 432x288 with 1 Axes>"
            ]
          },
          "metadata": {
            "tags": [],
            "needs_background": "light"
          }
        },
        {
          "output_type": "stream",
          "text": [
            "n= 3 experimental min= 3  theoretical min= (n-1)n/2 = 3.0  experimental max= 6  theoretical max = (n-1)n = 6  experimental average= 4.5  theoretical average = (3/4)*(n**2-n)= 4.5  std= 0.9574271077563381\n"
          ],
          "name": "stdout"
        }
      ]
    },
    {
      "cell_type": "code",
      "metadata": {
        "colab": {
          "base_uri": "https://localhost:8080/",
          "height": 282
        },
        "id": "nzJClsF9mOjt",
        "outputId": "ba1900e7-55fc-44bb-e4d8-d0d8782157a9"
      },
      "source": [
        "from itertools import permutations\n",
        "import matplotlib.pyplot as plt\n",
        "import numpy as np \n",
        "n = 4\n",
        "perm = permutations(range(1,n+1))\n",
        "\n",
        "ls =  [] \n",
        "# Print the obtained permutations\n",
        "for i in list(perm):\n",
        "    i = list(i)\n",
        "    ls.append(bubbleSort(i))\n",
        "\n",
        "b = np.array(range(min(ls)-1,max(ls)+2) ) +0.5\n",
        "plt.hist(ls,bins=b)\n",
        "plt.show() \n",
        "print(\"n=\", n, \"experimental min=\", min(ls),\" theoretical min= (n-1)n/2 =\", (n-1)*n/2,\" experimental max=\", max(ls),\" theoretical max = (n-1)n =\",(n-1)*n, \" experimental average=\",np.average(ls),\" theoretical average = (3/4)*(n**2-n)=\",(3/4)*(n**2-n), \" std=\",np.std(ls))"
      ],
      "execution_count": 49,
      "outputs": [
        {
          "output_type": "display_data",
          "data": {
            "image/png": "[encoded data removed]",
            "text/plain": [
              "<Figure size 432x288 with 1 Axes>"
            ]
          },
          "metadata": {
            "tags": [],
            "needs_background": "light"
          }
        },
        {
          "output_type": "stream",
          "text": [
            "n= 4 experimental min= 6  theoretical min= (n-1)n/2 = 6.0  experimental max= 12  theoretical max = (n-1)n = 12  experimental average= 9.0  theoretical average = (3/4)*(n**2-n)= 9.0  std= 1.4719601443879744\n"
          ],
          "name": "stdout"
        }
      ]
    },
    {
      "cell_type": "code",
      "metadata": {
        "colab": {
          "base_uri": "https://localhost:8080/",
          "height": 282
        },
        "id": "h3V0v7lOp82E",
        "outputId": "4057fd0d-0027-452d-f62b-b39e58693e37"
      },
      "source": [
        "from itertools import permutations\n",
        "import matplotlib.pyplot as plt\n",
        "import numpy as np \n",
        "n = 5\n",
        "perm = permutations(range(1,n+1))\n",
        "\n",
        "ls =  [] \n",
        "# Print the obtained permutations\n",
        "for i in list(perm):\n",
        "    i = list(i)\n",
        "    ls.append(bubbleSort(i))\n",
        "\n",
        "b = np.array(range(min(ls)-1,max(ls)+2) ) +0.5\n",
        "plt.hist(ls,bins=b)\n",
        "plt.show() \n",
        "print(\"n=\", n, \"experimental min=\", min(ls),\" theoretical min= (n-1)n/2 =\", (n-1)*n/2,\" experimental max=\", max(ls),\" theoretical max = (n-1)n =\",(n-1)*n, \" experimental average=\",np.average(ls),\" theoretical average = (3/4)*(n**2-n)=\",(3/4)*(n**2-n), \" std=\",np.std(ls))"
      ],
      "execution_count": 50,
      "outputs": [
        {
          "output_type": "display_data",
          "data": {
            "image/png": "[encoded data removed]",
            "text/plain": [
              "<Figure size 432x288 with 1 Axes>"
            ]
          },
          "metadata": {
            "tags": [],
            "needs_background": "light"
          }
        },
        {
          "output_type": "stream",
          "text": [
            "n= 5 experimental min= 10  theoretical min= (n-1)n/2 = 10.0  experimental max= 20  theoretical max = (n-1)n = 20  experimental average= 15.0  theoretical average = (3/4)*(n**2-n)= 15.0  std= 2.041241452319315\n"
          ],
          "name": "stdout"
        }
      ]
    },
    {
      "cell_type": "code",
      "metadata": {
        "colab": {
          "base_uri": "https://localhost:8080/",
          "height": 282
        },
        "id": "INXiZJWxqAWS",
        "outputId": "809a191f-7e4c-4e5d-a878-c29076f38994"
      },
      "source": [
        "from itertools import permutations\n",
        "import matplotlib.pyplot as plt\n",
        "import numpy as np \n",
        "n = 6\n",
        "perm = permutations(range(1,n+1))\n",
        "\n",
        "ls =  [] \n",
        "# Print the obtained permutations\n",
        "for i in list(perm):\n",
        "    i = list(i)\n",
        "    ls.append(bubbleSort(i))\n",
        "\n",
        "b = np.array(range(min(ls)-1,max(ls)+2) ) +0.5\n",
        "plt.hist(ls,bins=b)\n",
        "plt.show() \n",
        "print(\"n=\", n, \"experimental min=\", min(ls),\" theoretical min= (n-1)n/2 =\", (n-1)*n/2,\" experimental max=\", max(ls),\" theoretical max = (n-1)n =\",(n-1)*n, \" experimental average=\",np.average(ls),\" theoretical average = (3/4)*(n**2-n)=\",(3/4)*(n**2-n), \" std=\",np.std(ls))"
      ],
      "execution_count": 51,
      "outputs": [
        {
          "output_type": "display_data",
          "data": {
            "image/png": "[encoded data removed]",
            "text/plain": [
              "<Figure size 432x288 with 1 Axes>"
            ]
          },
          "metadata": {
            "tags": [],
            "needs_background": "light"
          }
        },
        {
          "output_type": "stream",
          "text": [
            "n= 6 experimental min= 15  theoretical min= (n-1)n/2 = 15.0  experimental max= 30  theoretical max = (n-1)n = 30  experimental average= 22.5  theoretical average = (3/4)*(n**2-n)= 22.5  std= 2.661453237111885\n"
          ],
          "name": "stdout"
        }
      ]
    },
    {
      "cell_type": "code",
      "metadata": {
        "colab": {
          "base_uri": "https://localhost:8080/",
          "height": 286
        },
        "id": "d6TvZ4IvT8OW",
        "outputId": "2313657e-7ee7-4f59-8014-870cced92986"
      },
      "source": [
        "from itertools import permutations\n",
        "import matplotlib.pyplot as plt\n",
        "import numpy as np \n",
        "n = 7\n",
        "perm = permutations(range(1,n+1))\n",
        "\n",
        "ls =  [] \n",
        "# Print the obtained permutations\n",
        "for i in list(perm):\n",
        "    i = list(i)\n",
        "    ls.append(bubbleSort(i))\n",
        "  \n",
        "b = np.array(range(min(ls)-1,max(ls)+2) ) +0.5\n",
        "plt.hist(ls,bins=b)\n",
        "plt.show() \n",
        "print(\"n=\", n, \"experimental min=\", min(ls),\" theoretical min= (n-1)n/2 =\", (n-1)*n/2,\" experimental max=\", max(ls),\" theoretical max = (n-1)n =\",(n-1)*n, \" experimental average=\",np.average(ls),\" theoretical average = (3/4)*(n**2-n)=\",(3/4)*(n**2-n), \" std=\",np.std(ls))"
      ],
      "execution_count": 52,
      "outputs": [
        {
          "output_type": "display_data",
          "data": {
            "image/png": "[encoded data removed]",
            "text/plain": [
              "<Figure size 432x288 with 1 Axes>"
            ]
          },
          "metadata": {
            "tags": [],
            "needs_background": "light"
          }
        },
        {
          "output_type": "stream",
          "text": [
            "n= 7 experimental min= 21  theoretical min= (n-1)n/2 = 21.0  experimental max= 42  theoretical max = (n-1)n = 42  experimental average= 31.5  theoretical average = (3/4)*(n**2-n)= 31.5  std= 3.3291640592396967\n"
          ],
          "name": "stdout"
        }
      ]
    },
    {
      "cell_type": "code",
      "metadata": {
        "colab": {
          "base_uri": "https://localhost:8080/",
          "height": 285
        },
        "id": "vA_h4ju0ybaN",
        "outputId": "0d32ddc0-cb94-4ff3-932e-e85624bd1b15"
      },
      "source": [
        "from itertools import permutations\n",
        "import matplotlib.pyplot as plt\n",
        "import numpy as np \n",
        "n = 8\n",
        "perm = permutations(range(1,n+1))\n",
        "\n",
        "ls =  [] \n",
        "# Print the obtained permutations\n",
        "for i in list(perm):\n",
        "    i = list(i)\n",
        "    ls.append(bubbleSort(i))\n",
        "  \n",
        "b = np.array(range(min(ls)-1,max(ls)+2) ) +0.5\n",
        "plt.hist(ls,bins=b)\n",
        "plt.show() \n",
        "print(\"n=\", n, \"experimental min=\", min(ls),\" theoretical min= (n-1)n/2 =\", (n-1)*n/2,\" experimental max=\", max(ls),\" theoretical max = (n-1)n =\",(n-1)*n, \" experimental average=\",np.average(ls),\" theoretical average = (3/4)*(n**2-n)=\",(3/4)*(n**2-n), \" std=\",np.std(ls))"
      ],
      "execution_count": 53,
      "outputs": [
        {
          "output_type": "display_data",
          "data": {
            "image/png": "[encoded data removed]",
            "text/plain": [
              "<Figure size 432x288 with 1 Axes>"
            ]
          },
          "metadata": {
            "tags": [],
            "needs_background": "light"
          }
        },
        {
          "output_type": "stream",
          "text": [
            "n= 8 experimental min= 28  theoretical min= (n-1)n/2 = 28.0  experimental max= 56  theoretical max = (n-1)n = 56  experimental average= 42.0  theoretical average = (3/4)*(n**2-n)= 42.0  std= 4.041451884327381\n"
          ],
          "name": "stdout"
        }
      ]
    },
    {
      "cell_type": "code",
      "metadata": {
        "colab": {
          "base_uri": "https://localhost:8080/",
          "height": 282
        },
        "id": "EQ7PiKt8qc-0",
        "outputId": "03619a19-b091-40cb-e373-45ce791530d8"
      },
      "source": [
        "from itertools import permutations\n",
        "import matplotlib.pyplot as plt\n",
        "import numpy as np \n",
        "n = 9\n",
        "perm = permutations(range(1,n+1))\n",
        "\n",
        "ls =  [] \n",
        "# Print the obtained permutations\n",
        "for i in list(perm):\n",
        "    i = list(i)\n",
        "    ls.append(bubbleSort(i))\n",
        "  \n",
        "b = np.array(range(min(ls)-1,max(ls)+2) ) +0.5\n",
        "plt.hist(ls,bins=b)\n",
        "plt.show() \n",
        "print(\"n=\", n, \"experimental min=\", min(ls),\" theoretical min= (n-1)n/2 =\", (n-1)*n/2,\" experimental max=\", max(ls),\" theoretical max = (n-1)n =\",(n-1)*n, \" experimental average=\",np.average(ls),\" theoretical average = (3/4)*(n**2-n)=\",(3/4)*(n**2-n), \" std=\",np.std(ls))"
      ],
      "execution_count": 54,
      "outputs": [
        {
          "output_type": "display_data",
          "data": {
            "image/png": "[encoded data removed]",
            "text/plain": [
              "<Figure size 432x288 with 1 Axes>"
            ]
          },
          "metadata": {
            "tags": [],
            "needs_background": "light"
          }
        },
        {
          "output_type": "stream",
          "text": [
            "n= 9 experimental min= 36  theoretical min= (n-1)n/2 = 36.0  experimental max= 72  theoretical max = (n-1)n = 72  experimental average= 54.0  theoretical average = (3/4)*(n**2-n)= 54.0  std= 4.795831523312719\n"
          ],
          "name": "stdout"
        }
      ]
    },
    {
      "cell_type": "code",
      "metadata": {
        "colab": {
          "base_uri": "https://localhost:8080/",
          "height": 282
        },
        "id": "eiPO88yCyh0Z",
        "outputId": "35bd2094-3d3d-4f55-d1be-cd0f5b6d6026"
      },
      "source": [
        "from itertools import permutations\n",
        "import matplotlib.pyplot as plt\n",
        "import numpy as np \n",
        "n = 10\n",
        "perm = permutations(range(1,n+1))\n",
        "\n",
        "ls =  [] \n",
        "# Print the obtained permutations\n",
        "for i in list(perm):\n",
        "    i = list(i)\n",
        "    ls.append(bubbleSort(i))\n",
        "  \n",
        "b = np.array(range(min(ls)-1,max(ls)+2) ) +0.5\n",
        "plt.hist(ls,bins=b)\n",
        "plt.show() \n",
        "print(\"n=\", n, \"experimental min=\", min(ls),\" theoretical min= (n-1)n/2 =\", (n-1)*n/2,\" experimental max=\", max(ls),\" theoretical max = (n-1)n =\",(n-1)*n, \" experimental average=\",np.average(ls),\" theoretical average = (3/4)*(n**2-n)=\",(3/4)*(n**2-n), \" std=\",np.std(ls))"
      ],
      "execution_count": 55,
      "outputs": [
        {
          "output_type": "display_data",
          "data": {
            "image/png": "[encoded data removed]",
            "text/plain": [
              "<Figure size 432x288 with 1 Axes>"
            ]
          },
          "metadata": {
            "tags": [],
            "needs_background": "light"
          }
        },
        {
          "output_type": "stream",
          "text": [
            "n= 10 experimental min= 45  theoretical min= (n-1)n/2 = 45.0  experimental max= 90  theoretical max = (n-1)n = 90  experimental average= 67.5  theoretical average = (3/4)*(n**2-n)= 67.5  std= 5.5901699437494745\n"
          ],
          "name": "stdout"
        }
      ]
    },
    {
      "cell_type": "code",
      "metadata": {
        "colab": {
          "base_uri": "https://localhost:8080/",
          "height": 293
        },
        "id": "b0K_6ksayklL",
        "outputId": "2fb13d32-a740-4d78-f8a5-4719cbde5321"
      },
      "source": [
        "from itertools import permutations\n",
        "import matplotlib.pyplot as plt\n",
        "import numpy as np \n",
        "n = 11\n",
        "perm = permutations(range(1,n+1))\n",
        "\n",
        "ls =  [] \n",
        "# Print the obtained permutations\n",
        "for i in list(perm):\n",
        "    i = list(i)\n",
        "    ls.append(bubbleSort(i))\n",
        "  \n",
        "b = np.array(range(min(ls)-1,max(ls)+2) ) +0.5\n",
        "plt.hist(ls,bins=b)\n",
        "plt.show() \n",
        "print(\"n=\", n, \"experimental min=\", min(ls),\" theoretical min= (n-1)n/2 =\", (n-1)*n/2,\" experimental max=\", max(ls),\" theoretical max = (n-1)n =\",(n-1)*n, \" experimental average=\",np.average(ls),\" theoretical average = (3/4)*(n**2-n)=\",(3/4)*(n**2-n), \" std=\",np.std(ls))"
      ],
      "execution_count": 56,
      "outputs": [
        {
          "output_type": "display_data",
          "data": {
            "image/png": "[encoded data removed]",
            "text/plain": [
              "<Figure size 432x288 with 1 Axes>"
            ]
          },
          "metadata": {
            "tags": [],
            "needs_background": "light"
          }
        },
        {
          "output_type": "stream",
          "text": [
            "n= 11 experimental min= 55  theoretical min= (n-1)n/2 = 55.0  experimental max= 110  theoretical max = (n-1)n = 110  experimental average= 82.5  theoretical average = (3/4)*(n**2-n)= 82.5  std= 6.422616289332565\n"
          ],
          "name": "stdout"
        }
      ]
    },
    {
      "cell_type": "markdown",
      "metadata": {
        "id": "NBooJnK0yJVQ"
      },
      "source": [
        "\n",
        "# Average case - expected number of comparisons + swaps on random unifrom permtation of $n$ diffrent elementns $T(n) = \\frac{3}{4}(n^2-n)= \\Theta(n^2) $"
      ]
    },
    {
      "cell_type": "code",
      "metadata": {
        "colab": {
          "base_uri": "https://localhost:8080/",
          "height": 173
        },
        "id": "zZYBG2KttQSj",
        "outputId": "40d2ea86-607c-45ec-f8d6-e2e8e23b0af2"
      },
      "source": [
        "# Average case on random unifrom permtation of  n 3/4 (**2 -n)\n",
        "import numpy as np \n",
        "import pandas as pd\n",
        "import scipy.linalg as la\n",
        "\n",
        "n = np.array([3.0,4.0,5.0,6.0])    # Number n of sorted elments \n",
        "t = np.array([4.5,9.0, 15.0,22.5]) # Average comparisons + swaps for the corresponding n \n",
        "\n",
        "data = pd.DataFrame({'n': n, 't': t})\n",
        "data\n",
        "\n"
      ],
      "execution_count": 38,
      "outputs": [
        {
          "output_type": "execute_result",
          "data": {
            "text/html": [
              "<div>\n",
              "<style scoped>\n",
              "    .dataframe tbody tr th:only-of-type {\n",
              "        vertical-align: middle;\n",
              "    }\n",
              "\n",
              "    .dataframe tbody tr th {\n",
              "        vertical-align: top;\n",
              "    }\n",
              "\n",
              "    .dataframe thead th {\n",
              "        text-align: right;\n",
              "    }\n",
              "</style>\n",
              "<table border=\"1\" class=\"dataframe\">\n",
              "  <thead>\n",
              "    <tr style=\"text-align: right;\">\n",
              "      <th></th>\n",
              "      <th>n</th>\n",
              "      <th>t</th>\n",
              "    </tr>\n",
              "  </thead>\n",
              "  <tbody>\n",
              "    <tr>\n",
              "      <th>0</th>\n",
              "      <td>3.0</td>\n",
              "      <td>4.5</td>\n",
              "    </tr>\n",
              "    <tr>\n",
              "      <th>1</th>\n",
              "      <td>4.0</td>\n",
              "      <td>9.0</td>\n",
              "    </tr>\n",
              "    <tr>\n",
              "      <th>2</th>\n",
              "      <td>5.0</td>\n",
              "      <td>15.0</td>\n",
              "    </tr>\n",
              "    <tr>\n",
              "      <th>3</th>\n",
              "      <td>6.0</td>\n",
              "      <td>22.5</td>\n",
              "    </tr>\n",
              "  </tbody>\n",
              "</table>\n",
              "</div>"
            ],
            "text/plain": [
              "     n     t\n",
              "0  3.0   4.5\n",
              "1  4.0   9.0\n",
              "2  5.0  15.0\n",
              "3  6.0  22.5"
            ]
          },
          "metadata": {
            "tags": []
          },
          "execution_count": 38
        }
      ]
    },
    {
      "cell_type": "code",
      "metadata": {
        "colab": {
          "base_uri": "https://localhost:8080/"
        },
        "id": "rv3pQPHfwr0Z",
        "outputId": "227cace0-964c-4b71-de63-5a228a1b5fea"
      },
      "source": [
        "# Interpolating a polynomial of degree 3\n",
        "\n",
        "X = np.column_stack([n**0,n**1,n**2,n**3])\n",
        "a = la.solve(X,t)\n",
        "a"
      ],
      "execution_count": 39,
      "outputs": [
        {
          "output_type": "execute_result",
          "data": {
            "text/plain": [
              "array([ 0.  , -0.75,  0.75,  0.  ])"
            ]
          },
          "metadata": {
            "tags": []
          },
          "execution_count": 39
        }
      ]
    },
    {
      "cell_type": "markdown",
      "metadata": {
        "id": "4qXn8HA739_v"
      },
      "source": [
        "# Bubble sort not optimized time complexity histograms for permutations of $n$  elements with repetitions\n",
        "\n",
        "## Best case - increasingly orted array ($\\frac{n^2-n}{2}$ comparisons + $0$ swaps) - $T(n) = \\frac{n^2-n}{2} = \\Theta(n^2) $\n",
        "\n",
        "## Worst case - de creasingly sorted array ($\\frac{n^2-n}{2}$ comparisons + $\\frac{n^2-n}{2}$  swaps) - $T(n) = n^2-n = \\Theta(n^2) $\n",
        "\n",
        "## Average case - expected number of comparisons + swaps on random unifrom permutation of $n$ different elements $T(n) = \\frac{3}{4}n^2 - n +\\frac{1}{4}= \\Theta(n^2) $"
      ]
    },
    {
      "cell_type": "code",
      "metadata": {
        "colab": {
          "base_uri": "https://localhost:8080/"
        },
        "id": "aWZG5ajQ3wT7",
        "outputId": "4667f7c7-682d-47b4-cc82-e6f50b120db1"
      },
      "source": [
        "from itertools import product\n",
        "\n",
        "n=3 \n",
        "perm = product(range(1,n+1), repeat = n)\n",
        "\n",
        "c=0\n",
        "for i in perm:\n",
        "    print(i)\n",
        "    c+=1\n",
        "\n",
        "print(c)"
      ],
      "execution_count": 73,
      "outputs": [
        {
          "output_type": "stream",
          "text": [
            "(1, 1, 1)\n",
            "(1, 1, 2)\n",
            "(1, 1, 3)\n",
            "(1, 2, 1)\n",
            "(1, 2, 2)\n",
            "(1, 2, 3)\n",
            "(1, 3, 1)\n",
            "(1, 3, 2)\n",
            "(1, 3, 3)\n",
            "(2, 1, 1)\n",
            "(2, 1, 2)\n",
            "(2, 1, 3)\n",
            "(2, 2, 1)\n",
            "(2, 2, 2)\n",
            "(2, 2, 3)\n",
            "(2, 3, 1)\n",
            "(2, 3, 2)\n",
            "(2, 3, 3)\n",
            "(3, 1, 1)\n",
            "(3, 1, 2)\n",
            "(3, 1, 3)\n",
            "(3, 2, 1)\n",
            "(3, 2, 2)\n",
            "(3, 2, 3)\n",
            "(3, 3, 1)\n",
            "(3, 3, 2)\n",
            "(3, 3, 3)\n",
            "27\n"
          ],
          "name": "stdout"
        }
      ]
    },
    {
      "cell_type": "code",
      "metadata": {
        "colab": {
          "base_uri": "https://localhost:8080/",
          "height": 282
        },
        "id": "7_ZZndkx1r6I",
        "outputId": "8a4998cf-245c-4818-dadb-19f73e45315f"
      },
      "source": [
        "from itertools import product\n",
        "import matplotlib.pyplot as plt\n",
        "import numpy as np \n",
        "n = 3\n",
        "perm = product(range(1,n+1), repeat = n)\n",
        "\n",
        "ls =  [] \n",
        "# Print the obtained permutations\n",
        "for i in list(perm):\n",
        "    i = list(i)\n",
        "    ls.append(bubbleSort(i))\n",
        "\n",
        "b = np.array(range(min(ls)-1,max(ls)+2) ) +0.5\n",
        "plt.hist(ls,bins=b)\n",
        "plt.show() \n",
        "print(\"n=\", n, \"experimental min=\", min(ls),\" theoretical min= (n-1)n/2 =\", (n-1)*n/2,\" experimental max=\", max(ls),\" theoretical max = (n-1)n =\",(n-1)*n, \" experimental average=\",np.average(ls),\" theoretical average = (3/4)(n**2)-n+(1/4)=\",(3/4)*(n**2)-n+(1/4), \" std=\",np.std(ls))"
      ],
      "execution_count": 83,
      "outputs": [
        {
          "output_type": "display_data",
          "data": {
            "image/png": "[encoded data removed]",
            "text/plain": [
              "<Figure size 432x288 with 1 Axes>"
            ]
          },
          "metadata": {
            "tags": [],
            "needs_background": "light"
          }
        },
        {
          "output_type": "stream",
          "text": [
            "n= 3 experimental min= 3  theoretical min= (n-1)n/2 = 3.0  experimental max= 6  theoretical max = (n-1)n = 6  experimental average= 4.0  theoretical average = (3/4)(n**2)-n+(1/4)= 4.0  std= 0.90267093384844\n"
          ],
          "name": "stdout"
        }
      ]
    },
    {
      "cell_type": "code",
      "metadata": {
        "colab": {
          "base_uri": "https://localhost:8080/",
          "height": 282
        },
        "id": "HApKFX_147Qi",
        "outputId": "6d2ab392-63d3-4841-96ff-070492b4ed59"
      },
      "source": [
        "from itertools import product\n",
        "import matplotlib.pyplot as plt\n",
        "import numpy as np \n",
        "n = 4\n",
        "perm = product(range(1,n+1), repeat = n)\n",
        "\n",
        "ls =  [] \n",
        "# Print the obtained permutations\n",
        "for i in list(perm):\n",
        "    i = list(i)\n",
        "    ls.append(bubbleSort(i))\n",
        "\n",
        "b = np.array(range(min(ls)-1,max(ls)+2) ) +0.5\n",
        "plt.hist(ls,bins=b)\n",
        "plt.show() \n",
        "print(\"n=\", n, \"experimental min=\", min(ls),\" theoretical min= (n-1)n/2 =\", (n-1)*n/2,\" experimental max=\", max(ls),\" theoretical max = (n-1)n =\",(n-1)*n, \" experimental average=\",np.average(ls),\" theoretical average = (3/4)(n**2)-n+(1/4)=\",(3/4)*(n**2)-n+(1/4), \" std=\",np.std(ls))"
      ],
      "execution_count": 84,
      "outputs": [
        {
          "output_type": "display_data",
          "data": {
            "image/png": "[encoded data removed]",
            "text/plain": [
              "<Figure size 432x288 with 1 Axes>"
            ]
          },
          "metadata": {
            "tags": [],
            "needs_background": "light"
          }
        },
        {
          "output_type": "stream",
          "text": [
            "n= 4 experimental min= 6  theoretical min= (n-1)n/2 = 6.0  experimental max= 12  theoretical max = (n-1)n = 12  experimental average= 8.25  theoretical average = (3/4)(n**2)-n+(1/4)= 8.25  std= 1.4252192813739224\n"
          ],
          "name": "stdout"
        }
      ]
    },
    {
      "cell_type": "code",
      "metadata": {
        "colab": {
          "base_uri": "https://localhost:8080/",
          "height": 282
        },
        "id": "mZWKZ_hO49my",
        "outputId": "e8a1a0e0-94a1-422e-f06e-bad915f30adc"
      },
      "source": [
        "from itertools import product\n",
        "import matplotlib.pyplot as plt\n",
        "import numpy as np \n",
        "n = 5\n",
        "perm = product(range(1,n+1), repeat = n)\n",
        "\n",
        "ls =  [] \n",
        "# Print the obtained permutations\n",
        "for i in list(perm):\n",
        "    i = list(i)\n",
        "    ls.append(bubbleSort(i))\n",
        "\n",
        "b = np.array(range(min(ls)-1,max(ls)+2) ) +0.5\n",
        "plt.hist(ls,bins=b)\n",
        "plt.show() \n",
        "print(\"n=\", n, \"experimental min=\", min(ls),\" theoretical min= (n-1)n/2 =\", (n-1)*n/2,\" experimental max=\", max(ls),\" theoretical max = (n-1)n =\",(n-1)*n, \" experimental average=\",np.average(ls),\" theoretical average = (3/4)(n**2)-n+(1/4)=\",(3/4)*(n**2)-n+(1/4), \" std=\",np.std(ls))"
      ],
      "execution_count": 85,
      "outputs": [
        {
          "output_type": "display_data",
          "data": {
            "image/png": "[encoded data removed]",
            "text/plain": [
              "<Figure size 432x288 with 1 Axes>"
            ]
          },
          "metadata": {
            "tags": [],
            "needs_background": "light"
          }
        },
        {
          "output_type": "stream",
          "text": [
            "n= 5 experimental min= 10  theoretical min= (n-1)n/2 = 10.0  experimental max= 20  theoretical max = (n-1)n = 20  experimental average= 14.0  theoretical average = (3/4)(n**2)-n+(1/4)= 14.0  std= 2.0\n"
          ],
          "name": "stdout"
        }
      ]
    },
    {
      "cell_type": "code",
      "metadata": {
        "colab": {
          "base_uri": "https://localhost:8080/",
          "height": 286
        },
        "id": "2F9rraYN5ASP",
        "outputId": "e5ce90f9-3f2e-44ec-e4b3-c06f316f6c36"
      },
      "source": [
        "from itertools import product\n",
        "import matplotlib.pyplot as plt\n",
        "import numpy as np \n",
        "n = 6\n",
        "perm = product(range(1,n+1), repeat = n)\n",
        "\n",
        "ls =  [] \n",
        "# Print the obtained permutations\n",
        "for i in list(perm):\n",
        "    i = list(i)\n",
        "    ls.append(bubbleSort(i))\n",
        "\n",
        "b = np.array(range(min(ls)-1,max(ls)+2) ) +0.5\n",
        "plt.hist(ls,bins=b)\n",
        "plt.show() \n",
        "print(\"n=\", n, \"experimental min=\", min(ls),\" theoretical min= (n-1)n/2 =\", (n-1)*n/2,\" experimental max=\", max(ls),\" theoretical max = (n-1)n =\",(n-1)*n, \" experimental average=\",np.average(ls),\" theoretical average = (3/4)(n**2)-n+(1/4)=\",(3/4)*(n**2)-n+(1/4), \" std=\",np.std(ls))"
      ],
      "execution_count": 86,
      "outputs": [
        {
          "output_type": "display_data",
          "data": {
            "image/png": "[encoded data removed]",
            "text/plain": [
              "<Figure size 432x288 with 1 Axes>"
            ]
          },
          "metadata": {
            "tags": [],
            "needs_background": "light"
          }
        },
        {
          "output_type": "stream",
          "text": [
            "n= 6 experimental min= 15  theoretical min= (n-1)n/2 = 15.0  experimental max= 30  theoretical max = (n-1)n = 30  experimental average= 21.25  theoretical average = (3/4)(n**2)-n+(1/4)= 21.25  std= 2.624228281623776\n"
          ],
          "name": "stdout"
        }
      ]
    },
    {
      "cell_type": "code",
      "metadata": {
        "colab": {
          "base_uri": "https://localhost:8080/",
          "height": 282
        },
        "id": "lNUJGzza5EsP",
        "outputId": "e5c26f27-33cb-4139-c3d8-84b6abe739cd"
      },
      "source": [
        "from itertools import product\n",
        "import matplotlib.pyplot as plt\n",
        "import numpy as np \n",
        "n = 7\n",
        "perm = product(range(1,n+1), repeat = n)\n",
        "\n",
        "ls =  [] \n",
        "# Print the obtained permutations\n",
        "for i in list(perm):\n",
        "    i = list(i)\n",
        "    ls.append(bubbleSort(i))\n",
        "\n",
        "b = np.array(range(min(ls)-1,max(ls)+2) ) +0.5\n",
        "plt.hist(ls,bins=b)\n",
        "plt.show() \n",
        "print(\"n=\", n, \"experimental min=\", min(ls),\" theoretical min= (n-1)n/2 =\", (n-1)*n/2,\" experimental max=\", max(ls),\" theoretical max = (n-1)n =\",(n-1)*n, \" experimental average=\",np.average(ls),\" theoretical average = (3/4)(n**2)-n+(1/4)=\",(3/4)*(n**2)-n+(1/4), \" std=\",np.std(ls))"
      ],
      "execution_count": 87,
      "outputs": [
        {
          "output_type": "display_data",
          "data": {
            "image/png": "[encoded data removed]",
            "text/plain": [
              "<Figure size 432x288 with 1 Axes>"
            ]
          },
          "metadata": {
            "tags": [],
            "needs_background": "light"
          }
        },
        {
          "output_type": "stream",
          "text": [
            "n= 7 experimental min= 21  theoretical min= (n-1)n/2 = 21.0  experimental max= 42  theoretical max = (n-1)n = 42  experimental average= 30.0  theoretical average = (3/4)(n**2)-n+(1/4)= 30.0  std= 3.295017884191656\n"
          ],
          "name": "stdout"
        }
      ]
    },
    {
      "cell_type": "code",
      "metadata": {
        "colab": {
          "base_uri": "https://localhost:8080/",
          "height": 293
        },
        "id": "HqvE6V355G2_",
        "outputId": "8b605018-4ed8-4d32-a125-b9773762bdd5"
      },
      "source": [
        "from itertools import product\n",
        "import matplotlib.pyplot as plt\n",
        "import numpy as np \n",
        "n = 8\n",
        "perm = product(range(1,n+1), repeat = n)\n",
        "\n",
        "ls =  [] \n",
        "# Print the obtained permutations\n",
        "for i in list(perm):\n",
        "    i = list(i)\n",
        "    ls.append(bubbleSort(i))\n",
        "\n",
        "b = np.array(range(min(ls)-1,max(ls)+2) ) +0.5\n",
        "plt.hist(ls,bins=b)\n",
        "plt.show() \n",
        "print(\"n=\", n, \"experimental min=\", min(ls),\" theoretical min= (n-1)n/2 =\", (n-1)*n/2,\" experimental max=\", max(ls),\" theoretical max = (n-1)n =\",(n-1)*n, \" experimental average=\",np.average(ls),\" theoretical average = (3/4)(n**2)-n+(1/4)=\",(3/4)*(n**2)-n+(1/4), \" std=\",np.std(ls))"
      ],
      "execution_count": 88,
      "outputs": [
        {
          "output_type": "display_data",
          "data": {
            "image/png": "[encoded data removed]",
            "text/plain": [
              "<Figure size 432x288 with 1 Axes>"
            ]
          },
          "metadata": {
            "tags": [],
            "needs_background": "light"
          }
        },
        {
          "output_type": "stream",
          "text": [
            "n= 8 experimental min= 28  theoretical min= (n-1)n/2 = 28.0  experimental max= 56  theoretical max = (n-1)n = 56  experimental average= 40.25  theoretical average = (3/4)(n**2)-n+(1/4)= 40.25  std= 4.00975373308636\n"
          ],
          "name": "stdout"
        }
      ]
    },
    {
      "cell_type": "markdown",
      "metadata": {
        "id": "SYU6m43l5QPx"
      },
      "source": [
        "# Average case - expected number of comparisons + swaps on random unifrom permtation of $n$   elements with repetitions $T(n) = \\frac{3}{4}n^2 - n +\\frac{1}{4}= \\Theta(n^2) $"
      ]
    },
    {
      "cell_type": "code",
      "metadata": {
        "colab": {
          "base_uri": "https://localhost:8080/",
          "height": 173
        },
        "id": "foPLijZz5aGX",
        "outputId": "99045924-e988-4448-d36e-bf22ab059783"
      },
      "source": [
        "# Average case on random unifrom permtation of  n 3/4 (**2 -n)\n",
        "import numpy as np \n",
        "import pandas as pd\n",
        "import scipy.linalg as la\n",
        "\n",
        "n = np.array([3.0,4.0,5.0,6.0])    # Number n of sorted elments \n",
        "t = np.array([4.0 ,8.25,14.0,21.25]) # Average comparisons + swaps for the corresponding n \n",
        "\n",
        "data = pd.DataFrame({'n': n, 't': t})\n",
        "data\n"
      ],
      "execution_count": 81,
      "outputs": [
        {
          "output_type": "execute_result",
          "data": {
            "text/html": [
              "<div>\n",
              "<style scoped>\n",
              "    .dataframe tbody tr th:only-of-type {\n",
              "        vertical-align: middle;\n",
              "    }\n",
              "\n",
              "    .dataframe tbody tr th {\n",
              "        vertical-align: top;\n",
              "    }\n",
              "\n",
              "    .dataframe thead th {\n",
              "        text-align: right;\n",
              "    }\n",
              "</style>\n",
              "<table border=\"1\" class=\"dataframe\">\n",
              "  <thead>\n",
              "    <tr style=\"text-align: right;\">\n",
              "      <th></th>\n",
              "      <th>n</th>\n",
              "      <th>t</th>\n",
              "    </tr>\n",
              "  </thead>\n",
              "  <tbody>\n",
              "    <tr>\n",
              "      <th>0</th>\n",
              "      <td>3.0</td>\n",
              "      <td>4.00</td>\n",
              "    </tr>\n",
              "    <tr>\n",
              "      <th>1</th>\n",
              "      <td>4.0</td>\n",
              "      <td>8.25</td>\n",
              "    </tr>\n",
              "    <tr>\n",
              "      <th>2</th>\n",
              "      <td>5.0</td>\n",
              "      <td>14.00</td>\n",
              "    </tr>\n",
              "    <tr>\n",
              "      <th>3</th>\n",
              "      <td>6.0</td>\n",
              "      <td>21.25</td>\n",
              "    </tr>\n",
              "  </tbody>\n",
              "</table>\n",
              "</div>"
            ],
            "text/plain": [
              "     n      t\n",
              "0  3.0   4.00\n",
              "1  4.0   8.25\n",
              "2  5.0  14.00\n",
              "3  6.0  21.25"
            ]
          },
          "metadata": {
            "tags": []
          },
          "execution_count": 81
        }
      ]
    },
    {
      "cell_type": "code",
      "metadata": {
        "colab": {
          "base_uri": "https://localhost:8080/"
        },
        "id": "-1Z8g4WV6JOO",
        "outputId": "b041841a-20bb-4ae9-cfa7-d0c8219e22ed"
      },
      "source": [
        "# Interpolating a polynomial of degree 3\n",
        "\n",
        "X = np.column_stack([n**0,n**1,n**2,n**3])\n",
        "a = la.solve(X,t)\n",
        "a"
      ],
      "execution_count": 82,
      "outputs": [
        {
          "output_type": "execute_result",
          "data": {
            "text/plain": [
              "array([ 0.25, -1.  ,  0.75,  0.  ])"
            ]
          },
          "metadata": {
            "tags": []
          },
          "execution_count": 82
        }
      ]
    }
  ]
}