{
  "nbformat": 4,
  "nbformat_minor": 0,
  "metadata": {
    "colab": {
      "name": "HundredNanoSecondsXInstructionCormenSizeTimeComplexity.ipynb",
      "provenance": [],
      "collapsed_sections": [],
      "authorship_tag": "ABX9TyN7NdH1COwyZMeh9m6CR38L"
    },
    "kernelspec": {
      "name": "python3",
      "display_name": "Python 3"
    },
    "language_info": {
      "name": "python"
    }
  },
  "cells": [
    {
      "cell_type": "markdown",
      "metadata": {
        "id": "I5UAAxG2_CqQ"
      },
      "source": [
        "# What is the size of the largest problem that you can solve in the time specified in row one if you can execute ten million $10^7$ instructions every second.\n",
        "\n",
        "Asuuming that you can execute ten million instructions $10^7$ every second, i.e. each instruction takes $0.1$ microseconds (or equivalently $100$ nano seconds)  $0.1\\mu s =100 \\eta s =10^{-7}$ seconds. If you have algorithms take $\\bf{ Time\\ Complexity}$ steps to solve a problem of size $n$ as specified in column one. What is the size of the largest problem that you can solve in the time specified in row one?\n",
        "$$\n",
        "\\begin{array}{|c|c|c|c|c|c|c|c|} \n",
        " \\hline\n",
        " \\bf{ Time\\ Complexity} & Second  & Minute  & Hour & Day & Year & Century & Mileniun  \\\\ \n",
        "  \\hline\\\\ \n",
        "\\lg(n) &   2^{10^{7} }  &  2^{60 \\times 10^{7} } & 2^{3.6 \\times 10^{9}} &  2^{8.64 \\times 10^{11}}& 2^{3.1536 \\times 10^{14}} & 2^{3.1536 \\times 10^{16}} & 2^{3.1536 \\times 10^{19}} \\\\ \n",
        "   \\hline\\\\ \n",
        "\\lg^2(n) &   2^{3162}  & 2^{24495}  & 2^{189737} & 2^{929516} & 2^{17758378} & 2^{177583783} &  2^{5615692299} \\\\ \n",
        "   \\hline\\\\ \n",
        "\\sqrt{n} &  10^{14}  & 3.6 \\times 10^{17}  & 1.296 \\times 10^{21} & 7.46496 \\times 10^{23}& 9.94519296 \\times 10^{28} & 9.94519296  \\times 10^{32} & 9.94519296 \\times 10^{38}\\\\ \n",
        " \\hline\n",
        " n & 10^{7}    & 6 \\times 10^{8}   & 3.6 \\times 10^{10} & 8.64 \\times 10^{11} & 6.41136862 \\times 10^{14} & 3.1536 \\times 10^{16} &  3.1536 \\times 10^{19}\\\\ \n",
        " \\hline\n",
        " n\\lg(n) &  526172  & 24446750  &  1193909231  & 2.50130550\\times 10^{10}  &  7.37748641 \\times 10^{12} & 6.41136862 \\times 10^{14} &  5.35474192\\times 10^{17} \\\\ \n",
        " \\hline\n",
        " n^2 &  3162  & 24495  & 189737 & 293939 & 17758378 & 177583783 &  5615692299 \\\\ \n",
        " \\hline\n",
        "  n^3 &  215 &  843 & 3302 &  9524  &  68067 & 315938 & 3159382 \\\\ \n",
        " \\hline\n",
        "  n^4 &  56  &  157  & 436 & 964 & 4214 & 13326  & 74938 \\\\ \n",
        " \\hline\n",
        "  2^n &  19  &  25 & 31 & 36 & 44 & 51 & 61 \\\\ \n",
        " \\hline\n",
        " n! &  10  & 12 &  13 & 14 & 16 & 18  &  20\\\\ \n",
        " \\hline\n",
        " n^n &  7  &  9 & 10 & 11 & 13 & 14 & 16 \\\\ \n",
        " \\hline\n",
        "\\end{array}\n",
        "$$\n"
      ]
    },
    {
      "cell_type": "markdown",
      "metadata": {
        "id": "1gugytaatVFg"
      },
      "source": [
        "$\\bf{ Time\\ Complexity\\ \\lg(n) }$\n",
        "\n",
        "$Second$\n",
        "$$ \\lg(n) \\times 10^{-7}\\ s\\le 1\\ s$$ \n",
        "$$ \\lg(n) \\le 1 * 10^{7}$$ \n",
        "$$ 2^{\\lg(n)} \\le 2^{10^{7}}$$ \n",
        "$$ n \\le 2^{10^{7}}$$ \n",
        "\n",
        "$Minute$\n",
        "$$ \\lg(n) \\times 10^{-7} \\ s \\le 60\\ s$$ \n",
        "$$ \\lg(n) \\le 60 \\times 10^{7} $$ \n",
        "$$ 2^{\\lg(n)} \\le 2^{60 \\times 10^{7} }$$ \n",
        "$$ n \\le 2^{60 \\times 10^{7} }$$ \n",
        "\n",
        "$Hour$\n",
        "$$ \\lg(n) \\times 10^{-7} \\ s \\le 3600\\ s$$ \n",
        "$$ \\lg(n) \\le 3600 \\times 10^{7} $$ \n",
        "$$ 2^{\\lg(n)} \\le 2^{3.6 \\times 10^{9}}$$ \n",
        "$$ n \\le 2^{3.6 \\times 10^{9}}$$ \n",
        "\n",
        "$Day$\n",
        "$$ \\lg(n) \\times 10^{-7} \\ s \\le 86400\\ s$$ \n",
        "$$ \\lg(n) \\le 86400\\times 10^{7} $$ \n",
        "$$ 2^{\\lg(n)} \\le 2^{8.64 \\times 10^{11}}$$ \n",
        "$$ n \\le 2^{8.64 \\times 10^{10}}$$ \n",
        "\n",
        "$Year$\n",
        "$$ \\lg(n) \\times 10^{-7} \\ s \\le 31536000\\ s$$ \n",
        "$$ \\lg(n) \\le 31536000\\times 10^{7} $$ \n",
        "$$ 2^{\\lg(n)} \\le 2^{3.1536 \\times 10^{14}}$$ \n",
        "$$ n \\le 2^{3.1536 \\times 10^{14}}$$ \n",
        "\n",
        "$Century$\n",
        "$$ \\lg(n) \\times 10^{-7} \\ s \\le 3153600000\\ s$$ \n",
        "$$ \\lg(n) \\le 3153600000\\times 10^{7} $$ \n",
        "$$ 2^{\\lg(n)} \\le 2^{3.1536 \\times 10^{16}}$$ \n",
        "$$ n \\le 2^{3.1536 \\times 10^{16}}$$ \n",
        "\n",
        "$Mileniun$\n",
        "$$ \\lg(n) \\times 10^{-7} \\ s \\le 3153600000000\\ s$$ \n",
        "$$ \\lg(n) \\le 3153600000000\\times 10^{7} $$ \n",
        "$$ 2^{\\lg(n)} \\le 2^{3.1536 \\times 10^{19}}$$ \n",
        "$$ n \\le 2^{3.1536 \\times 10^{19}}$$ "
      ]
    },
    {
      "cell_type": "markdown",
      "metadata": {
        "id": "fMEAP4c32GBF"
      },
      "source": [
        "$\\bf{ Time\\ Complexity\\ \\lg^2(n) }$\n",
        "\n",
        "$Second$\n",
        "$$ \\lg^2(n) \\times 10^{-7} \\ s\\le 1\\ s$$ \n",
        "$$ \\lg(n) \\le \\sqrt{1 * 10^{7} }$$ \n",
        "$$ 2^{\\lg(n)} \\le 2^{\\sqrt{1 * 10^{7} }}$$ \n",
        "$$ n \\le 2^{3162}$$ \n",
        "\n",
        "$Minute$\n",
        "$$ \\lg^2(n) \\times 10^{-7} \\ s \\le 60\\ s$$ \n",
        "$$ \\lg(n) \\le \\sqrt{60 \\times 10^{7} }$$ \n",
        "$$ 2^{\\lg(n)} \\le 2^{\\sqrt{60 \\times 10^{7} }}$$ \n",
        "$$ n \\le 2^{ 24495}$$ \n",
        "\n",
        "$Hour$\n",
        "$$ \\lg^2(n) \\times 10^{-7} \\ s \\le 3600\\ s$$ \n",
        "$$ \\lg(n) \\le \\sqrt{3600 \\times 10^{7} }$$ \n",
        "$$ 2^{\\lg(n)} \\le 2^{\\sqrt{3.6 \\times 10^{9}}}$$ \n",
        "$$ n \\le  2^{ 189737 }$$ \n",
        "\n",
        "$Day$\n",
        "$$ \\lg^2(n) \\times 10^{-7} \\ s \\le 86400\\ s$$ \n",
        "$$ \\lg(n) \\le \\sqrt{86400\\times 10^{7} }$$ \n",
        "$$ 2^{\\lg(n)} \\le 2^{\\sqrt{8.6400\\times 10^{10}}}$$ \n",
        "$$ n \\le 2^{ 929516 }$$ \n",
        "\n",
        "$Year$\n",
        "$$ \\lg^2(n) \\times 10^{-7} \\ s \\le 31536000\\ s$$ \n",
        "$$ \\lg(n) \\le \\sqrt{31536000\\times 10^{7} }$$ \n",
        "$$ 2^{\\lg(n)} \\le 2^{\\sqrt{3.1536\\times 10^{13}}}$$ \n",
        "$$ n \\le 2^{ 17758378 }$$ \n",
        "\n",
        "$Century$\n",
        "$$ \\lg^2(n) \\times 10^{-7} \\ s \\le 3153600000\\ s$$ \n",
        "$$ \\lg(n) \\le \\sqrt{3153600000\\times 10^{7} }$$ \n",
        "$$ 2^{\\lg(n)} \\le 2^{\\sqrt{3.1536 \\times 10^{15}}}$$ \n",
        "$$ n \\le 2^{ 177583783 }$$ \n",
        "\n",
        "$Mileniun$\n",
        "$$ \\lg^2(n) \\times 10^{-7} \\ s \\le 3153600000000\\ s$$ \n",
        "$$ \\lg(n) \\le \\sqrt{3153600000000\\times 10^{7} }$$ \n",
        "$$ 2^{\\lg(n)} \\le 2^{\\sqrt{3.1536 \\times 10^{18}}}$$ \n",
        "$$ n \\le 2^{ 5615692299 }$$ "
      ]
    },
    {
      "cell_type": "code",
      "metadata": {
        "colab": {
          "base_uri": "https://localhost:8080/"
        },
        "id": "4vPVLlpv2gyT",
        "outputId": "a0ae2eda-72ba-4044-a039-781738f4f30a"
      },
      "source": [
        "import math\n",
        "print(\"Second 2^{\",round(math.sqrt(10**7)),\"}\")\n",
        "print(\"Minute 2^{\",round(math.sqrt(60*10**7)),\"}\")\n",
        "print(\"Hour 2^{\",round(math.sqrt(60*60*10**7)),\"}\")\n",
        "print(\"Day 2^{\",round(math.sqrt(24*60*60*10**7)),\"}\")\n",
        "print(\"Year 2^{\",round(math.sqrt(365*24*60*60*10**7)),\"}\")\n",
        "print(\"Century 2^{\",round(math.sqrt(100*365*24*60*60*10**7)),\"}\")\n",
        "print(\"Mileniun 2^{\",round(math.sqrt(1000*100*365*24*60*60*10**7)),\"}\")\n"
      ],
      "execution_count": 3,
      "outputs": [
        {
          "output_type": "stream",
          "name": "stdout",
          "text": [
            "Second 2^{ 3162 }\n",
            "Minute 2^{ 24495 }\n",
            "Hour 2^{ 189737 }\n",
            "Day 2^{ 929516 }\n",
            "Year 2^{ 17758378 }\n",
            "Century 2^{ 177583783 }\n",
            "Mileniun 2^{ 5615692299 }\n"
          ]
        }
      ]
    },
    {
      "cell_type": "markdown",
      "metadata": {
        "id": "WZa229V56UcN"
      },
      "source": [
        "$\\bf{ Time\\ Complexity\\ \\sqrt{n} }$\n",
        "\n",
        "$Second$\n",
        "$$  \\sqrt{n}  \\times 10^{-7} \\ s\\le 1\\ s$$ \n",
        "$$  \\sqrt{n}  \\le 10^{7}  $$\n",
        "$$  n \\le   10^{14}$$ \n",
        "\n",
        "$Minute$\n",
        "$$  \\sqrt{n} \\times 10^{-7} \\ s\\le 60\\ s$$ \n",
        "$$  \\sqrt{n}  \\le 60 \\times 10^{7} $$ \n",
        "$$  n \\le 3.600 \\times10^{17}$$ \n",
        "\n",
        "$Hour$\n",
        "$$  \\sqrt{n}\\times 10^{-7} \\ s\\le 3600\\ s$$ \n",
        "$$  \\sqrt{n} \\le 3600 \\times 10^{7}$$ \n",
        "$$  n  \\le 1.296 \\times10^{21}$$ \n",
        "\n",
        "$Day$\n",
        "$$  \\sqrt{n} \\times 10^{-7} \\ s\\le 84600\\ s$$ \n",
        "$$  \\sqrt{n}\\le 84600 \\times 10^{7} $$ \n",
        "$$  n \\le 7.15716 \\times10^{23}$$ \n",
        "\n",
        "$Year$\n",
        "$$  \\sqrt{n} \\times 10^{-7} \\ s\\le 31536000\\ s$$ \n",
        "$$  \\sqrt{n} \\le 31536000 \\times 10^{7} $$ \n",
        "$$  n \\le 9.94519296 \\times10^{28}$$ \n",
        "\n",
        "$Century$\n",
        "$$  \\sqrt{n} \\times 10^{-7} \\ s\\le 3153600000\\ s$$ \n",
        "$$  \\sqrt{n} \\le 3153600000 \\times 10^{7} $$ \n",
        "$$  n \\le 9.94519296  \\times10^{32}$$ \n",
        "\n",
        "$Mileniun$\n",
        "$$  \\sqrt{n} \\times 10^{-7} \\ s\\le 3153600000000\\ s$$ \n",
        "$$  \\sqrt{n} \\le 3153600000000 \\times 10^{7} $$ \n",
        "$$  n \\le 9.94519296 \\times10^{38}$$ \n",
        "\n"
      ]
    },
    {
      "cell_type": "code",
      "metadata": {
        "colab": {
          "base_uri": "https://localhost:8080/"
        },
        "id": "C0Zo-idx-iVH",
        "outputId": "0ea04ac2-ee31-4c6e-e96a-b8a951c1f395"
      },
      "source": [
        "import math\n",
        "print(\"Second \", \"{:.8E}\".format(math.pow(10**7,2)))\n",
        "print(\"Minute  \",\"{:.8E}\".format(math.pow(60*10**7,2)))\n",
        "print(\"Hour \",\"{:.8E}\".format(math.pow(60*60*10**7,2)))\n",
        "print(\"Day \",\"{:.8E}\".format(math.pow(24*60*60*10**7,2)))\n",
        "print(\"Year \",\"{:.8E}\".format(math.pow(365*24*60*60*10**7,2)))\n",
        "print(\"Century \",\"{:.8E}\".format(math.pow(100*365*24*60*60*10**7,2)))\n",
        "print(\"Mileniun  \",\"{:.8E}\".format(math.pow(1000*100*365*24*60*60*10**7,2)))"
      ],
      "execution_count": 4,
      "outputs": [
        {
          "output_type": "stream",
          "name": "stdout",
          "text": [
            "Second  1.00000000E+14\n",
            "Minute   3.60000000E+17\n",
            "Hour  1.29600000E+21\n",
            "Day  7.46496000E+23\n",
            "Year  9.94519296E+28\n",
            "Century  9.94519296E+32\n",
            "Mileniun   9.94519296E+38\n"
          ]
        }
      ]
    },
    {
      "cell_type": "markdown",
      "metadata": {
        "id": "Jg7RtE2sDMWt"
      },
      "source": [
        "$\\bf{ Time\\ Complexity\\ n }$\n",
        "\n",
        "$Second$\n",
        "$$  n  \\times 10^{-7} \\ s\\le 1\\ s$$ \n",
        "$$  n \\le  10^{7} $$ \n",
        "\n",
        "\n",
        "$Minute$\n",
        "$$  n \\times 10^{-7} \\ s\\le 60\\ s$$ \n",
        "$$  n \\le 60 \\times 10^{7} $$ \n",
        "\n",
        "\n",
        "$Hour$\n",
        "$$  n \\times 10^{-7} \\ s\\le 3600\\ s$$ \n",
        "$$  n \\le 3600 \\times 10^{7}  = 3.6 \\times 10^{10}$$ \n",
        "\n",
        "\n",
        "$Day$\n",
        "$$  n \\times 10^{-7} \\ s\\le 84600\\ s$$ \n",
        "$$  n \\le 84600 \\times 10^{7}  = 8.46 \\times 10^{11}$$ \n",
        "\n",
        "\n",
        "$Year$\n",
        "$$  n \\times 10^{-7} \\ s\\le 31536000\\ s$$ \n",
        "$$  n \\le 31536000 \\times 10^{7}   = 3.153 \\times 10^{14}$$ \n",
        "\n",
        "\n",
        "\n",
        "$Century$\n",
        "$$  n \\times 10^{-7} \\ s\\le 3153600000\\ s$$ \n",
        "$$  n \\le 3153600000 \\times 10^{7}  = 3.153 \\times 10^{16}$$ \n",
        " \n",
        "\n",
        "$Mileniun$\n",
        "$$  n \\times 10^{-7} \\ s\\le 3153600000000\\ s$$ \n",
        "$$  n \\le 3153600000000 \\times 10^{7}  = 3.153 \\times 10^{19}$$ "
      ]
    },
    {
      "cell_type": "code",
      "source": [
        "import math\n",
        "print(\"Second \", \"{:.8E}\".format(10**7))\n",
        "print(\"Minute  \",\"{:.8E}\".format(60*10**7))\n",
        "print(\"Hour \",\"{:.8E}\".format(60*60*10**7))\n",
        "print(\"Day \",\"{:.8E}\".format(24*60*60*10**7))\n",
        "print(\"Year \",\"{:.8E}\".format(365*24*60*60*10**7))\n",
        "print(\"Century \",\"{:.8E}\".format(100*365*24*60*60*10**7))\n",
        "print(\"Mileniun  \",\"{:.8E}\".format(1000*100*365*24*60*60*10**7))"
      ],
      "metadata": {
        "colab": {
          "base_uri": "https://localhost:8080/"
        },
        "id": "fy_lmdMfw8F0",
        "outputId": "c12e10e5-c5e8-4f62-f52b-771e5e08c638"
      },
      "execution_count": 9,
      "outputs": [
        {
          "output_type": "stream",
          "name": "stdout",
          "text": [
            "Second  1.00000000E+07\n",
            "Minute   6.00000000E+08\n",
            "Hour  3.60000000E+10\n",
            "Day  8.64000000E+11\n",
            "Year  3.15360000E+14\n",
            "Century  3.15360000E+16\n",
            "Mileniun   3.15360000E+19\n"
          ]
        }
      ]
    },
    {
      "cell_type": "markdown",
      "metadata": {
        "id": "vd6mlBsIDe9j"
      },
      "source": [
        "$\\bf{ Time\\ Complexity\\ n\\lg{n} }$\n",
        "\n",
        "$Second$\n",
        "$$   n\\lg{n}  \\times 10^{-7} \\ s\\le 1\\ s$$ \n",
        "$$   n\\lg{n} \\le  10^{7} $$ \n",
        "\n",
        "\n",
        "$Minute$\n",
        "$$   n\\lg{n} \\times 10^{-7} \\ s\\le 60\\ s$$ \n",
        "$$   n\\lg{n} \\le 60 \\times 10^{7} $$ \n",
        "\n",
        "\n",
        "$Hour$\n",
        "$$   n\\lg{n} \\times 10^{-7} \\ s\\le 3600\\ s$$ \n",
        "$$   n\\lg{n} \\le 3600 \\times 10^{7} $$ \n",
        "\n",
        "\n",
        "$Day$\n",
        "$$   n\\lg{n} \\times 10^{-7} \\ s\\le 84600\\ s$$ \n",
        "$$   n\\lg{n} \\le 84600 \\times 10^{7} $$ \n",
        "\n",
        "\n",
        "$Year$\n",
        "$$   n\\lg{n} \\times 10^{-7} \\ s\\le 31536000\\ s$$ \n",
        "$$   n\\lg{n} \\le 31536000 \\times 10^{7} $$ \n",
        "\n",
        "\n",
        "\n",
        "$Century$\n",
        "$$   n\\lg{n} \\times 10^{-7} \\ s\\le 3153600000\\ s$$ \n",
        "$$   n\\lg{n} \\le 3153600000 \\times 10^{7} $$ \n",
        " \n",
        "\n",
        "$Mileniun$\n",
        "$$   n\\lg{n} \\times 10^{-7} \\ s\\le 3153600000000\\ s$$ \n",
        "$$  n \\le 3153600000000 \\times 10^{7} $$ "
      ]
    },
    {
      "cell_type": "code",
      "metadata": {
        "colab": {
          "base_uri": "https://localhost:8080/"
        },
        "id": "6prelV3_Ja9T",
        "outputId": "a6080a5b-6a7a-4531-ab76-f1cca250ae90"
      },
      "source": [
        "import math\n",
        "def f(n):\n",
        "  return n*math.log2(n)\n",
        "\n",
        "\n",
        "def find(f,v):\n",
        "  l = 1\n",
        "  r = v\n",
        "  while True:\n",
        "    m = int((l+r)/2)\n",
        "    if ((f(m+1) > v) and (f(m) <= v) ) or (l == m) or  (r == m):\n",
        "      return int(m)   \n",
        "    elif f(m) < v:\n",
        "      l = m\n",
        "    else: \n",
        "      r = m\n",
        "\n",
        "print(\"Second \", find(f,10**7),\" = \", \"{:.8E}\".format(find(f,10**7 )))\n",
        "print(\"Minute  \",find(f,60*10**7),\" = \", \"{:.8E}\".format(find(f,60*10**7 )))\n",
        "print(\"Hour \",find(f,60*60*10**7),\" = \", \"{:.8E}\".format(find(f,60*60*10**7 )))\n",
        "print(\"Day \",find(f,24*60*60*10**7 ),\" = \", \"{:.8E}\".format(find(f,24*60*60*10**7 )) )\n",
        "print(\"Year \",find(f,365*24*60*60*10**7 ),\" = \", \"{:.8E}\".format(find(f,365*24*60*60*10**7 )) )\n",
        "print(\"Century \",find(f,100*365*24*60*60*10**7 ),\" = \", \"{:.8E}\".format(find(f,100*365*24*60*60*10**7 )) )\n",
        "print(\"Mileniun \",find(f,1000*100*365*24*60*60*10**7 ),\" = \", \"{:.8E}\".format(find(f,1000*100*365*24*60*60*10**7 )) )"
      ],
      "execution_count": 26,
      "outputs": [
        {
          "output_type": "stream",
          "name": "stdout",
          "text": [
            "Second  526172  =  5.26172000E+05\n",
            "Minute   24446750  =  2.44467500E+07\n",
            "Hour  1193909231  =  1.19390923E+09\n",
            "Day  25013054975  =  2.50130550E+10\n",
            "Year  7377486406427  =  7.37748641E+12\n",
            "Century  641136862352841  =  6.41136862E+14\n",
            "Mileniun  535474191787114112  =  5.35474192E+17\n"
          ]
        }
      ]
    },
    {
      "cell_type": "markdown",
      "metadata": {
        "id": "odG6_KiOBEK4"
      },
      "source": [
        "$\\bf{ Time\\ Complexity\\ n^2}$\n",
        "\n",
        "$Second$\n",
        "$$  n^2 \\times 10^{-7} \\ s\\le 1\\ s$$ \n",
        "$$  n^2 \\le  10^{7} $$ \n",
        "$$ \\sqrt{n^2} \\le \\sqrt{10^{7} }$$ \n",
        "$$ n \\le 3162 $$ \n",
        "\n",
        "$Minute$\n",
        "$$  n^2\\times 10^{-7} \\ s\\le 60\\ s$$ \n",
        "$$  n^2 \\le 60 \\times 10^{7} $$ \n",
        "$$ \\sqrt{n^2} \\le \\sqrt{60 \\times10^{7} }$$ \n",
        "$$ n \\le  24495 $$\n",
        "  \n",
        "$Hour$\n",
        "$$  n^2 \\times 10^{-7} \\ s\\le 3600\\ s$$ \n",
        "$$ n^2 \\le 3600 \\times 10^{7} $$ \n",
        "$$ \\sqrt{n^2} \\le \\sqrt{3.6 \\times10^{9}}$$ \n",
        "$$ n \\le 189737$$\n",
        "\n",
        "$Day$\n",
        "$$  n^2 \\times 10^{-7} \\ s\\le 84600\\ s$$ \n",
        "$$  n^2 \\le 84600 \\times 10^{7} $$ \n",
        "$$ \\sqrt{n^2} \\le \\sqrt{8.46 \\times10^{10}}$$ \n",
        "$$ n \\le 929516 $$\n",
        "\n",
        "$Year$\n",
        "$$  n^2 \\times 10^{-7} \\ s\\le 31536000\\ s$$ \n",
        "$$  n^2 \\le 31536000 \\times 10^{7} $$ \n",
        "$$ \\sqrt{n^2} \\le \\sqrt{3.1536 \\times10^{13}}$$ \n",
        "$$ n \\le 17758378 $$ \n",
        "\n",
        "$Century$\n",
        "$$  n^2 \\times 10^{-7} \\ s\\le 3153600000\\ s$$ \n",
        "$$  n^2 \\le 3153600000 \\times 10^{7} $$ \n",
        "$$ \\sqrt{n^2} \\le \\sqrt{3.1536 \\times10^{15}}$$ \n",
        "$$ n \\le 177583783 $$ \n",
        "\n",
        "$Mileniun$\n",
        "$$  n^2 \\times 10^{-7} \\ s\\le 3153600000000\\ s$$ \n",
        "$$ n^2 \\le 3153600000000 \\times 10^{7} $$ \n",
        "$$ \\sqrt{n^2} \\le \\sqrt{3.1536 \\times10^{18}}$$ \n",
        "$$ n \\le 5615692299 $$  \n"
      ]
    },
    {
      "cell_type": "code",
      "metadata": {
        "colab": {
          "base_uri": "https://localhost:8080/"
        },
        "id": "szukBFthF1_s",
        "outputId": "ae3fd7cb-3f98-4747-b12a-a89ebde044c7"
      },
      "source": [
        "import math\n",
        "print(\"Second \",round(math.sqrt(10**7 )))\n",
        "print(\"Minute  \",round(math.sqrt(60*10**7 )))\n",
        "print(\"Hour \",round(math.sqrt(60*60*10**7 )))\n",
        "print(\"Day \",round(math.sqrt(24*60*60*10**7 )))\n",
        "print(\"Year \",round(math.sqrt(365*24*60*60*10**7 )))\n",
        "print(\"Century \",round(math.sqrt(100*365*24*60*60*10**7 )))\n",
        "print(\"Mileniun \",round(math.sqrt(1000*100*365*24*60*60*10**7 )))"
      ],
      "execution_count": 27,
      "outputs": [
        {
          "output_type": "stream",
          "name": "stdout",
          "text": [
            "Second  3162\n",
            "Minute   24495\n",
            "Hour  189737\n",
            "Day  929516\n",
            "Year  17758378\n",
            "Century  177583783\n",
            "Mileniun  5615692299\n"
          ]
        }
      ]
    },
    {
      "cell_type": "markdown",
      "metadata": {
        "id": "kNrJud31v-8n"
      },
      "source": [
        "$\\bf{ Time\\ Complexity\\ n^3 }$\n",
        "\n",
        "$Second$\n",
        "$$  n^3 \\times 10^{-7} \\ s\\le 1\\ s$$ \n",
        "$$  n^3 \\le  10^{7} $$ \n",
        "$$ \\sqrt[4]{n^3} \\le \\sqrt[3]{10^{7} }$$ \n",
        "$$ n \\le  215 $$ \n",
        "\n",
        "$Minute$\n",
        "$$  n^3 \\times 10^{-7} \\ s\\le 60\\ s$$ \n",
        "$$  n^3 \\le 60 \\times 10^{7} $$ \n",
        "$$ \\sqrt[3]{n^3} \\le \\sqrt[3]{60 \\times10^{7} }$$ \n",
        "$$ n \\le  843 $$\n",
        "  \n",
        "$Hour$\n",
        "$$  n^3 \\times 10^{-7} \\ s\\le 3600\\ s$$ \n",
        "$$  n^3 \\le 3600 \\times 10^{7} $$ \n",
        "$$ \\sqrt[3]{n^3 } \\le \\sqrt[3]{3.6 \\times10^{9}}$$ \n",
        "$$ n \\le 3302 $$\n",
        "\n",
        "$Day$\n",
        "$$  n^3 \\times 10^{-7} \\ s\\le 84600\\ s$$ \n",
        "$$  n^3 \\le 84600 \\times 10^{7} $$ \n",
        "$$ \\sqrt[3]{n^3} \\le \\sqrt[3]{8.46 \\times10^{10}}$$ \n",
        "$$ n \\le 9524 $$\n",
        "\n",
        "$Year$\n",
        "$$  n^3 \\times 10^{-7} \\ s\\le 31536000\\ s$$ \n",
        "$$  n^3 \\le 31536000 \\times 10^{7} $$ \n",
        "$$ \\sqrt[3]{n^3} \\le \\sqrt[3]{3.1536 \\times10^{13}}$$ \n",
        "$$ n \\le 68067 $$ \n",
        "\n",
        "$Century$\n",
        "$$  n^3 \\times 10^{-7} \\ s\\le 3153600000\\ s$$ \n",
        "$$  n^3 \\le 3153600000 \\times 10^{7} $$ \n",
        "$$ \\sqrt[3]{n^3} \\le \\sqrt[3]{3.1536 \\times10^{15}}$$ \n",
        "$$ n \\le 315938 $$ \n",
        "\n",
        "$Mileniun$\n",
        "$$  n^3 \\times 10^{-7} \\ s\\le 3153600000000\\ s$$ \n",
        "$$  n^3 \\le 3153600000000 \\times 10^{7} $$ \n",
        "$$ \\sqrt[3]{n^3} \\le \\sqrt[3]{3.1536 \\times10^{18}}$$ \n",
        "$$ n \\le 3159382 $$ "
      ]
    },
    {
      "cell_type": "code",
      "metadata": {
        "colab": {
          "base_uri": "https://localhost:8080/"
        },
        "id": "PHR4cprXwk8a",
        "outputId": "b99234f3-b289-4177-acf7-0b5e235a9e2a"
      },
      "source": [
        "import math\n",
        "print(\"Second \",round(math.pow(10**7 ,1/3)))\n",
        "print(\"Minute  \",round(math.pow(60*10**7 ,1/3)))\n",
        "print(\"Hour \",round(math.pow(60*60*10**7 ,1/3)))\n",
        "print(\"Day \",round(math.pow(24*60*60*10**7 ,1/3)))\n",
        "print(\"Year \",round(math.pow(365*24*60*60*10**7 ,1/3)))\n",
        "print(\"Century \",round(math.pow(100*365*24*60*60*10**7 ,1/3)))\n",
        "print(\"Mileniun \",round(math.pow(1000*100*365*24*60*60*10**7 ,1/3)))\n",
        "\n"
      ],
      "execution_count": 28,
      "outputs": [
        {
          "output_type": "stream",
          "name": "stdout",
          "text": [
            "Second  215\n",
            "Minute   843\n",
            "Hour  3302\n",
            "Day  9524\n",
            "Year  68067\n",
            "Century  315938\n",
            "Mileniun  3159382\n"
          ]
        }
      ]
    },
    {
      "cell_type": "markdown",
      "metadata": {
        "id": "XCxRnrFBzwRG"
      },
      "source": [
        "$\\bf{ Time\\ Complexity\\ n^4 }$\n",
        "\n",
        "$Second$\n",
        "$$  n^4 \\times 10^{-7} \\ s\\le 1\\ s$$ \n",
        "$$  n^4\\le  10^{7} $$ \n",
        "$$ \\sqrt[4]{n^4 } \\le \\sqrt[4]{10^{7} }$$ \n",
        "$$ n \\le   56 $$ \n",
        "\n",
        "$Minute$\n",
        "$$  n^4 \\times 10^{-7} \\ s\\le 60\\ s$$ \n",
        "$$  n^4 \\le 60 \\times 10^{7} $$ \n",
        "$$ \\sqrt[4]{n^4 } \\le \\sqrt[4]{60 \\times10^{7} }$$ \n",
        "$$ n \\le 157 $$\n",
        "  \n",
        "$Hour$\n",
        "$$  n^4 \\times 10^{-7} \\ s\\le 3600\\ s$$ \n",
        "$$  n^4 \\le 3600 \\times 10^{7} $$ \n",
        "$$ \\sqrt[4]{n^4} \\le \\sqrt[4]{3.6 \\times10^{9}}$$ \n",
        "$$ n \\le 436 $$  \n",
        "\n",
        "$Day$\n",
        "$$  n^4 \\times 10^{-7} \\ s\\le 84600\\ s$$ \n",
        "$$  n^4 \\le 84600 \\times 10^{7} $$ \n",
        "$$ \\sqrt[4]{n^4} \\le \\sqrt[4]{8.46 \\times10^{10}}$$ \n",
        "$$ n \\le 964 $$\n",
        "\n",
        "$Year$\n",
        "$$  n^4 \\times 10^{-7} \\ s\\le 31536000\\ s$$ \n",
        "$$  n^4 \\le 31536000 \\times 10^{7} $$ \n",
        "$$ \\sqrt[4]{n^4} \\le \\sqrt[4]{3.1536 \\times10^{13}}$$ \n",
        "$$ n \\le 4214 $$ \n",
        "\n",
        "$Century$\n",
        "$$  n^4 \\times 10^{-7} \\ s\\le 3153600000\\ s$$ \n",
        "$$  n^4 \\le 3153600000 \\times 10^{7} $$ \n",
        "$$ \\sqrt[4]{n^4} \\le \\sqrt[4]{3.1536 \\times10^{15}}$$ \n",
        "$$ n \\le 13326 $$ \n",
        "\n",
        "$Mileniun$\n",
        "$$  n^4 \\times 10^{-7} \\ s\\le 3153600000000\\ s$$ \n",
        "$$  n^4 \\le 3153600000000 \\times 10^{7} $$ \n",
        "$$ \\sqrt[4]{n^4} \\le \\sqrt[4]{3.1536 \\times10^{18}}$$ \n",
        "$$ n \\le 74938 $$ \n",
        "\n",
        "  "
      ]
    },
    {
      "cell_type": "code",
      "metadata": {
        "colab": {
          "base_uri": "https://localhost:8080/"
        },
        "id": "Plb9iigt0NOd",
        "outputId": "fd779b14-567f-40ac-ad59-c79cd4bfd0bd"
      },
      "source": [
        "import math\n",
        "print(\"Second \",round(math.pow(10**7 ,1/4)))\n",
        "print(\"Minute  \",round(math.pow(60*10**7 ,1/4)))\n",
        "print(\"Hour \",round(math.pow(60*60*10**7 ,1/4)))\n",
        "print(\"Day \",round(math.pow(24*60*60*10**7 ,1/4)))\n",
        "print(\"Year \",round(math.pow(365*24*60*60*10**7 ,1/4)))\n",
        "print(\"Century \",round(math.pow(100*365*24*60*60*10**7 ,1/4)))\n",
        "print(\"Mileniun \",round(math.pow(1000*100*365*24*60*60*10**7 ,1/4)))"
      ],
      "execution_count": 29,
      "outputs": [
        {
          "output_type": "stream",
          "name": "stdout",
          "text": [
            "Second  56\n",
            "Minute   157\n",
            "Hour  436\n",
            "Day  964\n",
            "Year  4214\n",
            "Century  13326\n",
            "Mileniun  74938\n"
          ]
        }
      ]
    },
    {
      "cell_type": "markdown",
      "metadata": {
        "id": "CVU0Rf80UWZY"
      },
      "source": [
        "$\\bf{ Time\\ Complexity\\ 2^n }$\n",
        "\n",
        "$Second$\n",
        "$$  2^n  \\times 10^{-7} \\ s\\le 1\\ s$$ \n",
        "$$  2^n \\le  10^{7} $$ \n",
        "$$  \\lg(2^n) \\le  \\lg(10^{7} )$$ \n",
        "$$  n \\le  \\lg(10^{7} ) = 23 $$\n",
        "\n",
        "$Minute$\n",
        "$$  2^n  \\times 10^{-7} s \\le 60\\ s$$ \n",
        "$$  2^n \\le   60 \\times  10^{7} $$ \n",
        "$$  \\lg(2^n) \\le  \\lg(60 \\times  10^{7} )$$ \n",
        "$$  n \\le  \\lg(10^{60 \\times  10^{7} }) = 29 $$\n",
        "\n",
        "\n",
        "$Hour$\n",
        "$$  2^n  \\times 10^{-7} s \\le 3600\\ s$$ \n",
        "$$  2^n \\le   3600 \\times  10^{7} $$ \n",
        "$$  \\lg(2^n) \\le  \\lg(3.6 \\times  10^{9})$$ \n",
        "$$  n \\le  \\lg(10^{3.6 \\times  10^{9}}) = 35 $$\n",
        "\n",
        "$Day$\n",
        "$$  2^n  \\times 10^{-7} s \\le  84600\\ s$$ \n",
        "$$  2^n \\le    84600\\times  10^{7} $$ \n",
        "$$  \\lg(2^n) \\le  \\lg( 8.46 \\times  10^{10})$$ \n",
        "$$  n \\le  \\lg(10^{8.46 \\times  10^{10}}) = 39 $$\n",
        "\n",
        "$Year$\n",
        "$$  2^n  \\times 10^{-7} s \\le  31536000\\ s$$ \n",
        "$$  2^n \\le    31536000\\times  10^{7} $$ \n",
        "$$  \\lg(2^n) \\le  \\lg( 3.1536 \\times  10^{13})$$ \n",
        "$$  n \\le  \\lg(10^{3.1536 \\times  10^{13}}) = 48 $$\n",
        "\n",
        "$Century$\n",
        "$$  2^n  \\times 10^{-7} s \\le  3153600000\\ s$$ \n",
        "$$  2^n \\le    3153600000\\times  10^{7} $$ \n",
        "$$  \\lg(2^n) \\le  \\lg( 3.1536 \\times  10^{15})$$ \n",
        "$$  n \\le  \\lg(10^{3.1536 \\times  10^{15}}) = 54 $$\n",
        " \n",
        "\n",
        "$Mileniun$\n",
        "$$  2^n  \\times 10^{-7} s \\le  3153600000000\\ s$$ \n",
        "$$  2^n \\le    3153600000000\\times  10^{7} $$ \n",
        "$$  \\lg(2^n) \\le  \\lg( 3.1536 \\times  10^{18})$$ \n",
        "$$  n \\le  \\lg(10^{3.1536 \\times  10^{18}}) = 64 $$"
      ]
    },
    {
      "cell_type": "code",
      "metadata": {
        "colab": {
          "base_uri": "https://localhost:8080/"
        },
        "id": "A5cAq6LsYS3E",
        "outputId": "2c80221f-a0c8-4cbf-b636-92e3fe203e70"
      },
      "source": [
        "import math\n",
        "print(\"Second \",int(math.log2(10**7 )))\n",
        "print(\"Minute  \",int(math.log2(60*10**7 )))\n",
        "print(\"Hour \",int(math.log2(60*60*10**7 )))\n",
        "print(\"Day \",int(math.log2(24*60*60*10**7 )))\n",
        "print(\"Year \",int(math.log2(365*24*60*60*10**7 )))\n",
        "print(\"Century \",int(math.log2(100*365*24*60*60*10**7 )))\n",
        "print(\"Mileniun \",int(math.log2(1000*100*365*24*60*60*10**7 )))"
      ],
      "execution_count": 30,
      "outputs": [
        {
          "output_type": "stream",
          "name": "stdout",
          "text": [
            "Second  23\n",
            "Minute   29\n",
            "Hour  35\n",
            "Day  39\n",
            "Year  48\n",
            "Century  54\n",
            "Mileniun  64\n"
          ]
        }
      ]
    },
    {
      "cell_type": "code",
      "metadata": {
        "colab": {
          "base_uri": "https://localhost:8080/"
        },
        "id": "lwmS91_WR9hg",
        "outputId": "5e0ab3ea-51aa-469c-a57f-fd6750520677"
      },
      "source": [
        "import math\n",
        "def f(n):\n",
        "  return 2**n\n",
        "\n",
        "def find(f,v):\n",
        "  l = 1\n",
        "  r = 100\n",
        "  while True:\n",
        "    m = int((l+r)/2)\n",
        "    if ((f(m+1) > v) and (f(m) <= v) ) or (l == m)  or (r== m):\n",
        "      return int(m)\n",
        "    elif f(m) < v:\n",
        "      l = m\n",
        "    else: \n",
        "      r = m\n",
        "\n",
        "\n",
        "print(\"Second \", find(f,10**7 ))\n",
        "print(\"Minute  \",find(f,60*10**7 ))\n",
        "print(\"Hour \",find(f,60*60*10**7 ))\n",
        "print(\"Day \",find(f,24*60*60*10**7 ))\n",
        "print(\"Year \",find(f,365*24*60*60*10**7 ))\n",
        "print(\"Century \",find(f,100*365*24*60*60*10**7 ))\n",
        "print(\"Mileniun \",find(f,1000*100*365*24*60*60*10**7 ))"
      ],
      "execution_count": 34,
      "outputs": [
        {
          "output_type": "stream",
          "name": "stdout",
          "text": [
            "Second  23\n",
            "Minute   29\n",
            "Hour  35\n",
            "Day  39\n",
            "Year  48\n",
            "Century  54\n",
            "Mileniun  64\n"
          ]
        }
      ]
    },
    {
      "cell_type": "markdown",
      "metadata": {
        "id": "YIWTTFoFUaku"
      },
      "source": [
        "$\\bf{ Time\\ Complexity\\ n! }$\n",
        "\n",
        "$Second$\n",
        "$$  n!  \\times 10^{-7} \\ s\\le 1\\ s$$ \n",
        "$$  n! \\le  10^{7} $$ \n",
        "$$  n \\le  10 $$\n",
        "\n",
        "\n",
        "$Minute$\n",
        "$$  n! \\times 10^{-7} \\ s\\le 60\\ s$$ \n",
        "$$  n! \\le 60 \\times 10^{7} $$ \n",
        "$$  n \\le  12 $$\n",
        "\n",
        "$Hour$\n",
        "$$  n! \\times 10^{-7} \\ s\\le 3600\\ s$$ \n",
        "$$  n! \\le 3600 \\times 10^{7}  = 3.6 \\times 10^{10}$$ \n",
        "$$  n \\le 13 $$\n",
        "\n",
        "\n",
        "$Day$\n",
        "$$  n! \\times 10^{-7} \\ s\\le 84600\\ s$$ \n",
        "$$  n! \\le 84600 \\times 10^{7}  = 8.46 \\times 10^{11}$$ \n",
        "$$  n \\le 14 $$\n",
        "\n",
        "$Year$\n",
        "$$  n! \\times 10^{-7} \\ s\\le 31536000\\ s$$ \n",
        "$$  n! \\le 31536000 \\times 10^{7}   = 3.153 \\times 10^{14}$$ \n",
        "$$  n \\le 16 $$\n",
        "\n",
        "$Century$\n",
        "$$  n! \\times 10^{-7} \\ s\\le 3153600000\\ s$$ \n",
        "$$  n! \\le 3153600000 \\times 10^{7}  = 3.153 \\times 10^{16}$$ \n",
        "$$  n \\le 18 $$\n",
        "\n",
        "$Mileniun$\n",
        "$$  n! \\times 10^{-7} \\ s\\le 3153600000000\\ s$$ \n",
        "$$  n! \\le 3153600000000 \\times 10^{7}  = 3.153 \\times 10^{19}$$ \n",
        "$$  n \\le 20 $$"
      ]
    },
    {
      "cell_type": "code",
      "metadata": {
        "colab": {
          "base_uri": "https://localhost:8080/"
        },
        "id": "oR-gvhokdfOT",
        "outputId": "328f7396-282c-4f2c-d375-3147dd34a381"
      },
      "source": [
        "import math\n",
        "def f(n):\n",
        "  return math.factorial(n)\n",
        "\n",
        "def find(f,v):\n",
        "  l = 1\n",
        "  r = 100\n",
        "  while True:\n",
        "    m = int((l+r)/2)\n",
        "    if ((f(m+1) > v) and (f(m) <= v) ) or (l == m) or (r== m):\n",
        "      return int(m)\n",
        "    elif f(m) < v:\n",
        "      l = m\n",
        "    else: \n",
        "      r = m\n",
        "\n",
        "\n",
        "print(\"Second \", find(f,10**7 ))\n",
        "print(\"Minute  \",find(f,60*10**7 ))\n",
        "print(\"Hour \",find(f,60*60*10**7 ))\n",
        "print(\"Day \",find(f,24*60*60*10**7 ))\n",
        "print(\"Year \",find(f,365*24*60*60*10**7 ))\n",
        "print(\"Century \",find(f,100*365*24*60*60*10**7 ))\n",
        "print(\"Mileniun \",find(f,1000*100*365*24*60*60*10**7 ))"
      ],
      "execution_count": 36,
      "outputs": [
        {
          "output_type": "stream",
          "name": "stdout",
          "text": [
            "Second  10\n",
            "Minute   12\n",
            "Hour  13\n",
            "Day  14\n",
            "Year  16\n",
            "Century  18\n",
            "Mileniun  20\n"
          ]
        }
      ]
    },
    {
      "cell_type": "markdown",
      "metadata": {
        "id": "3LQFAKycUdLH"
      },
      "source": [
        "$\\bf{ Time\\ Complexity\\ n^n }$\n",
        "\n",
        "$Second$\n",
        "$$  n^n  \\times 10^{-7} \\ s\\le 1\\ s$$ \n",
        "$$  n^n \\le  10^{7} $$ \n",
        "$$  n \\le  7 $$ \n",
        "\n",
        "$Minute$\n",
        "$$  n^n \\times 10^{-7} \\ s\\le 60\\ s$$ \n",
        "$$  n^n \\le 60 \\times 10^{7} $$ \n",
        "$$  n \\le 9 $$\n",
        "\n",
        "$Hour$\n",
        "$$  n^n \\times 10^{-7} \\ s\\le 3600\\ s$$ \n",
        "$$  n^n \\le 3600 \\times 10^{7}  = 3.6 \\times 10^{9}$$ \n",
        "$$  n \\le 10 $$\n",
        "\n",
        "$Day$\n",
        "$$  n^n \\times 10^{-7} \\ s\\le 84600\\ s$$ \n",
        "$$  n^n \\le 84600 \\times 10^{7}  = 8.46 \\times 10^{10}$$ \n",
        "$$  n \\le 11 $$\n",
        "\n",
        "$Year$\n",
        "$$  n^n \\times 10^{-7} \\ s\\le 31536000\\ s$$ \n",
        "$$  n^n \\le 31536000 \\times 10^{7}   = 3.153 \\times 10^{13}$$ \n",
        "$$  n \\le 13 $$\n",
        "\n",
        "\n",
        "$Century$\n",
        "$$  n^n \\times 10^{-7} \\ s\\le 3153600000\\ s$$ \n",
        "$$  n^n \\le 3153600000 \\times 10^{7}  = 3.153 \\times 10^{15}$$ \n",
        "$$  n \\le 14 $$ \n",
        "\n",
        "$Mileniun$\n",
        "$$  n^n \\times 10^{-7} \\ s\\le 3153600000000\\ s$$ \n",
        "$$  n^n \\le 3153600000000 \\times 10^{7}  = 3.153 \\times 10^{18}$$ \n",
        "$$  n \\le 16 $$\n"
      ]
    },
    {
      "cell_type": "code",
      "metadata": {
        "colab": {
          "base_uri": "https://localhost:8080/"
        },
        "id": "ygq4qFeHdzts",
        "outputId": "faeb61b7-70d2-41b6-f797-16040ff249c6"
      },
      "source": [
        "import math\n",
        "def f(n):\n",
        "  return n**n\n",
        "\n",
        "def find(f,v):\n",
        "  l = 1\n",
        "  r = 100\n",
        "  while True:\n",
        "    m = int((l+r)/2)\n",
        "    if ((f(m+1) > v) and (f(m) <= v) ) or (l == m) or (r== m):\n",
        "      return int(m)\n",
        "    elif f(m) < v:\n",
        "      l = m\n",
        "    else: \n",
        "      r = m\n",
        "\n",
        "print(\"Second \", find(f,10**7 ))\n",
        "print(\"Minute  \",find(f,60*10**7 ))\n",
        "print(\"Hour \",find(f,60*60*10**7 ))\n",
        "print(\"Day \",find(f,24*60*60*10**7 ))\n",
        "print(\"Year \",find(f,365*24*60*60*10**7 ))\n",
        "print(\"Century \",find(f,100*365*24*60*60*10**7 ))\n",
        "print(\"Mileniun \",find(f,1000*100*365*24*60*60*10**7 ))"
      ],
      "execution_count": 37,
      "outputs": [
        {
          "output_type": "stream",
          "name": "stdout",
          "text": [
            "Second  7\n",
            "Minute   9\n",
            "Hour  10\n",
            "Day  11\n",
            "Year  13\n",
            "Century  14\n",
            "Mileniun  16\n"
          ]
        }
      ]
    }
  ]
}