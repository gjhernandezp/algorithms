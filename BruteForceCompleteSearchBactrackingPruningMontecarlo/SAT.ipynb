{
  "nbformat": 4,
  "nbformat_minor": 0,
  "metadata": {
    "colab": {
      "name": "SAT.ipynb",
      "provenance": [],
      "collapsed_sections": []
    },
    "kernelspec": {
      "name": "python3",
      "display_name": "Python 3"
    },
    "language_info": {
      "name": "python"
    }
  },
  "cells": [
    {
      "cell_type": "markdown",
      "metadata": {
        "id": "3NwIIBHp3To8"
      },
      "source": [
        "Modified from\n",
        "\n",
        "* https://davefernig.com/2018/05/07/solving-sat-in-python/\n"
      ]
    },
    {
      "cell_type": "code",
      "metadata": {
        "id": "KsVZUmvntoke"
      },
      "source": [
        "import itertools\n",
        "\n",
        "def brute_force(cnf):\n",
        "    literals = set()\n",
        "    for conj in cnf:\n",
        "        for disj in conj:\n",
        "            literals.add(disj[0])\n",
        " \n",
        "    literals = list(literals)\n",
        "    n = len(literals)\n",
        "    for seq in itertools.product([True,False], repeat=n):\n",
        "        a = set(zip(literals, seq))\n",
        "        if all([bool(disj.intersection(a)) for disj in cnf]):\n",
        "            return True, a\n",
        " \n",
        "    return False, None"
      ],
      "execution_count": null,
      "outputs": []
    },
    {
      "cell_type": "code",
      "metadata": {
        "colab": {
          "base_uri": "https://localhost:8080/"
        },
        "id": "fOKc8gKxt-8V",
        "outputId": "7406612d-857b-44d1-b5ba-6fad4aeb2456"
      },
      "source": [
        "cnf = [{(\"p\", True),(\"q\", False)}, {(\"p\", False),(\"q\", False)}]\n",
        "brute_force(cnf)"
      ],
      "execution_count": null,
      "outputs": [
        {
          "output_type": "execute_result",
          "data": {
            "text/plain": [
              "(True, {('p', True), ('q', False)})"
            ]
          },
          "metadata": {
            "tags": []
          },
          "execution_count": 26
        }
      ]
    },
    {
      "cell_type": "code",
      "metadata": {
        "colab": {
          "base_uri": "https://localhost:8080/"
        },
        "id": "pfylen4b6pZG",
        "outputId": "cd5790aa-cdfa-42f2-c1bc-3f5ac7ac8143"
      },
      "source": [
        "n=4\n",
        "print(list(itertools.product([True,False], repeat=n)))\n",
        "print(len(list(itertools.product([True,False], repeat=n))))"
      ],
      "execution_count": null,
      "outputs": [
        {
          "output_type": "stream",
          "text": [
            "[(True, True, True, True), (True, True, True, False), (True, True, False, True), (True, True, False, False), (True, False, True, True), (True, False, True, False), (True, False, False, True), (True, False, False, False), (False, True, True, True), (False, True, True, False), (False, True, False, True), (False, True, False, False), (False, False, True, True), (False, False, True, False), (False, False, False, True), (False, False, False, False)]\n",
            "16\n"
          ],
          "name": "stdout"
        }
      ]
    },
    {
      "cell_type": "code",
      "metadata": {
        "id": "1haXKvt_tv0t"
      },
      "source": [
        "def __select_literal(cnf):\n",
        "    for c in cnf:\n",
        "        for literal in c:\n",
        "            return literal[0]\n",
        " \n",
        "def dpll(cnf, assignments={}):\n",
        " \n",
        "    if len(cnf) == 0:\n",
        "        return True, assignments\n",
        " \n",
        "    if any([len(c)==0 for c in cnf]):\n",
        "        return False, None\n",
        " \n",
        "    l = __select_literal(cnf)\n",
        " \n",
        "    new_cnf = [c for c in cnf if (l, True) not in c]\n",
        "    new_cnf = [c.difference({(l, False)}) for c in new_cnf]\n",
        "    sat, vals = dpll(new_cnf, {**assignments, **{l: True}})\n",
        "    if sat:\n",
        "        return sat, vals\n",
        " \n",
        "    new_cnf = [c for c in cnf if (l, False) not in c]\n",
        "    new_cnf = [c.difference({(l, True)}) for c in new_cnf]\n",
        "    sat, vals = dpll(new_cnf, {**assignments, **{l: False}})\n",
        "    if sat:\n",
        "        return sat, vals\n",
        " \n",
        "    return False, None"
      ],
      "execution_count": null,
      "outputs": []
    },
    {
      "cell_type": "code",
      "metadata": {
        "id": "qiBxj_c3t6n1"
      },
      "source": [
        "def random_kcnf(n_literals, n_conjuncts, k=3):\n",
        "    result = []\n",
        "    for _ in range(n_conjuncts):\n",
        "        conj = set()\n",
        "        for _ in range(k):\n",
        "            index = random.randint(0, n_literals)\n",
        "            conj.add((\n",
        "                str(index).rjust(10, '0'),\n",
        "                bool(random.randint(0,2)),\n",
        "            ))\n",
        "        result.append(conj)\n",
        "    return result"
      ],
      "execution_count": null,
      "outputs": []
    }
  ]
}