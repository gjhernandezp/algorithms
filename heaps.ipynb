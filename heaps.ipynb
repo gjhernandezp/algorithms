{
  "nbformat": 4,
  "nbformat_minor": 0,
  "metadata": {
    "kernelspec": {
      "display_name": "Python 2",
      "language": "python",
      "name": "python2"
    },
    "language_info": {
      "codemirror_mode": {
        "name": "ipython",
        "version": 2
      },
      "file_extension": ".py",
      "mimetype": "text/x-python",
      "name": "python",
      "nbconvert_exporter": "python",
      "pygments_lexer": "ipython2",
      "version": "2.7.10"
    },
    "colab": {
      "name": "heaps.ipynb",
      "provenance": [],
      "collapsed_sections": [],
      "include_colab_link": true
    }
  },
  "cells": [
    {
      "cell_type": "markdown",
      "metadata": {
        "id": "view-in-github",
        "colab_type": "text"
      },
      "source": [
        "<a href=\"https://colab.research.google.com/github/gjhernandezp/algorithms/blob/master/heaps.ipynb\" target=\"_parent\"><img src=\"https://colab.research.google.com/assets/colab-badge.svg\" alt=\"Open In Colab\"/></a>"
      ]
    },
    {
      "cell_type": "markdown",
      "metadata": {
        "id": "M1u8JQ-0WZ7m"
      },
      "source": [
        "Montículos\n",
        "==========\n",
        "\n",
        "Un montículo es una estructura de datos que permite implementar una cola de prioridad, la cual resuelve eficientemente operaciones como obtener el máximo de un conjunto de elementos. \n",
        "\n",
        "Un mónticulo es básicamente un árbol binario 'casi' completo, es decir todos los niveles están llenos, excepto posiblemente el último. Un mónticulo se representa por un arreglo A[1..n]. El elemento A[1] corresponde a la raíz del árbol, los elementos A[2] y A[3] al primer nivel y así sucesivamente. La siguiente función imprime un arreglo conteniendo un móntículo de manera que se pueda observar la estructura del ábol.\n"
      ]
    },
    {
      "cell_type": "code",
      "metadata": {
        "id": "T48T9Ty8WZ7m",
        "outputId": "2af758c3-f351-4d10-fd04-9ac475eab276"
      },
      "source": [
        "from math import log\n",
        "\n",
        "def pretty_print_heap(A):\n",
        "    n = len(A) - 1 # the heap starts at position 1, so A[0] is ignored\n",
        "    for h in range(int(log(n,2))):\n",
        "        nspc = (2**(int(log(n,2)) - h + 1) - 2)\n",
        "        line = nspc * ' '\n",
        "        for i in range(2**h, 2**(h+1)):\n",
        "            line += repr(A[i]).ljust(2) + (2*nspc + 2)*' '\n",
        "        print line\n",
        "    line = ''\n",
        "    for i in range(2**(int(log(n,2))), n+1):\n",
        "        line += repr(A[i]).ljust(2) + '  '\n",
        "    print line\n",
        "\n",
        "pretty_print_heap(range(0,20))"
      ],
      "execution_count": null,
      "outputs": [
        {
          "output_type": "stream",
          "text": [
            "                              1                                                               \n",
            "              2                               3                               \n",
            "      4               5               6               7               \n",
            "  8       9       10      11      12      13      14      15      \n",
            "16  17  18  19  \n"
          ],
          "name": "stdout"
        }
      ]
    },
    {
      "cell_type": "markdown",
      "metadata": {
        "id": "M5tyzmigWZ7n"
      },
      "source": [
        "El padre de un node en la posición i es calculado por:"
      ]
    },
    {
      "cell_type": "code",
      "metadata": {
        "id": "OxKc0I_FWZ7n"
      },
      "source": [
        "def parent(i):\n",
        "    return int(i / 2)"
      ],
      "execution_count": null,
      "outputs": []
    },
    {
      "cell_type": "markdown",
      "metadata": {
        "id": "MnVGdVXCWZ7n"
      },
      "source": [
        "el hijo izquierdo es calculado por:"
      ]
    },
    {
      "cell_type": "code",
      "metadata": {
        "id": "QpskZVsdWZ7n"
      },
      "source": [
        "def left(i):\n",
        "    return 2 * i"
      ],
      "execution_count": null,
      "outputs": []
    },
    {
      "cell_type": "markdown",
      "metadata": {
        "id": "JVc-krQUWZ7n"
      },
      "source": [
        "y el hijo derecho por:"
      ]
    },
    {
      "cell_type": "code",
      "metadata": {
        "id": "x5XpnuSWWZ7n"
      },
      "source": [
        "def right(i):\n",
        "    return 2 * i + 1"
      ],
      "execution_count": null,
      "outputs": []
    },
    {
      "cell_type": "markdown",
      "metadata": {
        "id": "9zDrt32IWZ7n"
      },
      "source": [
        "La propiedad importante que todo montículo debe cumplir es que el padre debe ser mayor o igual a sus hijos (si es un max-heap):\n",
        "$$ \\forall 1 \\le i \\le n, A[parent(i)] \\ge A[i]$$"
      ]
    },
    {
      "cell_type": "markdown",
      "metadata": {
        "id": "-E_iulnaWZ7n"
      },
      "source": [
        "Por ejemplo, el siguiente arreglo no cumple con la propiedad:"
      ]
    },
    {
      "cell_type": "code",
      "metadata": {
        "id": "7rzBFYAVWZ7n",
        "outputId": "f4a4cc9d-280a-4e7f-c9d2-b81ad72e9bdd"
      },
      "source": [
        "A = [0, 16, 7, 10, 8, 14, 9, 3, 2, 4, 1]\n",
        "pretty_print_heap(A)"
      ],
      "execution_count": null,
      "outputs": [
        {
          "output_type": "stream",
          "text": [
            "              16                              \n",
            "      7               10              \n",
            "  8       14      9       3       \n",
            "2   4   1   \n"
          ],
          "name": "stdout"
        }
      ]
    },
    {
      "cell_type": "markdown",
      "metadata": {
        "id": "I4TTRLv3WZ7n"
      },
      "source": [
        "pues la posición A[2] es menor que su hijo derecho A[5] y que su hijo izquierdo A[4]. Mientras que este arreglo si tiene la propiedad:"
      ]
    },
    {
      "cell_type": "code",
      "metadata": {
        "id": "x79P04JCWZ7n",
        "outputId": "42826b17-4aa1-4b64-d3aa-b7ccba95bbee"
      },
      "source": [
        "A = [0, 16, 14, 10, 8, 7, 9, 3, 2, 4, 1]\n",
        "pretty_print_heap(A)"
      ],
      "execution_count": null,
      "outputs": [
        {
          "output_type": "stream",
          "text": [
            "              16                              \n",
            "      14              10              \n",
            "  8       7       9       3       \n",
            "2   4   1   \n"
          ],
          "name": "stdout"
        }
      ]
    },
    {
      "cell_type": "markdown",
      "metadata": {
        "id": "ZsVNf9XmWZ7o"
      },
      "source": [
        "Manteniendo la propiedad de montículo\n",
        "-----------\n",
        "\n",
        "Suponga que en el anterior arreglo, se modifica la primera posición por un número menor de 10, por ejemplo 6, en ese caso se pierde la propiedad de montículo, aunque el sub-árbol derecho e izquierdo todavía la conservan. La siguiente función restablece la propiedad mediante un procedimiento recursivo:"
      ]
    },
    {
      "cell_type": "code",
      "metadata": {
        "id": "jCKMcvGKWZ7o"
      },
      "source": [
        "def max_heapify(A, i, trace=True):\n",
        "    if trace: # este código solo se ejecuta si trace==True\n",
        "        print \"-----------------------\"\n",
        "        print \"i =\", i\n",
        "        print A\n",
        "        pretty_print_heap(A)\n",
        "    l = left(i)\n",
        "    r = right(i)\n",
        "    if l <= (len(A)- 1) and A[l] > A[i]:\n",
        "        largest = l \n",
        "    else: \n",
        "        largest = i\n",
        "    if r <= len(A)- 1 and A[r] > A[largest]:\n",
        "        largest = r\n",
        "    if largest <> i:\n",
        "        A[i], A[largest] = A[largest], A[i]\n",
        "        max_heapify(A, largest, trace)"
      ],
      "execution_count": null,
      "outputs": []
    },
    {
      "cell_type": "markdown",
      "metadata": {
        "id": "jZF1gQ7KWZ7o"
      },
      "source": [
        "Probemos la función max_heapify en el siguiente arreglo:"
      ]
    },
    {
      "cell_type": "code",
      "metadata": {
        "id": "DF2kRcYCWZ7o",
        "outputId": "c7555ff3-655a-4911-d17e-add0015ccfb9"
      },
      "source": [
        "A[1] = 3\n",
        "max_heapify(A, 1)"
      ],
      "execution_count": null,
      "outputs": [
        {
          "output_type": "stream",
          "text": [
            "-----------------------\n",
            "i = 1\n",
            "[0, 3, 14, 10, 8, 7, 9, 3, 2, 4, 1]\n",
            "              3                               \n",
            "      14              10              \n",
            "  8       7       9       3       \n",
            "2   4   1   \n",
            "-----------------------\n",
            "i = 2\n",
            "[0, 14, 3, 10, 8, 7, 9, 3, 2, 4, 1]\n",
            "              14                              \n",
            "      3               10              \n",
            "  8       7       9       3       \n",
            "2   4   1   \n",
            "-----------------------\n",
            "i = 4\n",
            "[0, 14, 8, 10, 3, 7, 9, 3, 2, 4, 1]\n",
            "              14                              \n",
            "      8               10              \n",
            "  3       7       9       3       \n",
            "2   4   1   \n",
            "-----------------------\n",
            "i = 9\n",
            "[0, 14, 8, 10, 4, 7, 9, 3, 2, 3, 1]\n",
            "              14                              \n",
            "      8               10              \n",
            "  4       7       9       3       \n",
            "2   3   1   \n"
          ],
          "name": "stdout"
        }
      ]
    },
    {
      "cell_type": "markdown",
      "metadata": {
        "id": "gF4fGFCFWZ7o"
      },
      "source": [
        "Construyendo un montículo\n",
        "------------\n",
        "\n",
        "El problema ahora es como partiendo de un arreglo en un orden arbitrario, modificarlo de manera que la propiedad de montículo se cumpla. La idea es usar la función max-heapify de la base del árbol hacia arriba, restableciendo la propiedad de montículo, nivel por nivel. Esta estrategia se implementa en la siguiente función:"
      ]
    },
    {
      "cell_type": "code",
      "metadata": {
        "id": "KO3iBnZMWZ7o"
      },
      "source": [
        "def build_max_heap(A, trace=False):\n",
        "    for i in range(int(len(A) / 2), 0, -1):\n",
        "        max_heapify(A, i, trace=False)\n",
        "        if trace:\n",
        "            # The next 4 lines of code just print the heap\n",
        "            print \"-----------------------\"\n",
        "            print \"i =\", i\n",
        "            print A\n",
        "            pretty_print_heap(A)\n"
      ],
      "execution_count": null,
      "outputs": []
    },
    {
      "cell_type": "markdown",
      "metadata": {
        "id": "MVx76ZhGWZ7o"
      },
      "source": [
        "Ahora aplicamos la función a un arreglo con los números del 1 al 10:"
      ]
    },
    {
      "cell_type": "code",
      "metadata": {
        "id": "FWedXukyWZ7o",
        "outputId": "99b28f80-62cb-4699-929f-3c7ade8a362c"
      },
      "source": [
        "A = range(11)\n",
        "build_max_heap(A, trace= True)\n"
      ],
      "execution_count": null,
      "outputs": [
        {
          "output_type": "stream",
          "text": [
            "-----------------------\n",
            "i = 5\n",
            "[0, 1, 2, 3, 4, 10, 6, 7, 8, 9, 5]\n",
            "              1                               \n",
            "      2               3               \n",
            "  4       10      6       7       \n",
            "8   9   5   \n",
            "-----------------------\n",
            "i = 4\n",
            "[0, 1, 2, 3, 9, 10, 6, 7, 8, 4, 5]\n",
            "              1                               \n",
            "      2               3               \n",
            "  9       10      6       7       \n",
            "8   4   5   \n",
            "-----------------------\n",
            "i = 3\n",
            "[0, 1, 2, 7, 9, 10, 6, 3, 8, 4, 5]\n",
            "              1                               \n",
            "      2               7               \n",
            "  9       10      6       3       \n",
            "8   4   5   \n",
            "-----------------------\n",
            "i = 2\n",
            "[0, 1, 10, 7, 9, 5, 6, 3, 8, 4, 2]\n",
            "              1                               \n",
            "      10              7               \n",
            "  9       5       6       3       \n",
            "8   4   2   \n",
            "-----------------------\n",
            "i = 1\n",
            "[0, 10, 9, 7, 8, 5, 6, 3, 1, 4, 2]\n",
            "              10                              \n",
            "      9               7               \n",
            "  8       5       6       3       \n",
            "1   4   2   \n"
          ],
          "name": "stdout"
        }
      ]
    },
    {
      "cell_type": "markdown",
      "metadata": {
        "id": "NLz7jUFfWZ7o"
      },
      "source": [
        "Heapsort\n",
        "--------\n",
        "\n",
        "La función puede ser usada para ordenar un arreglo. La idea es inicialmente construir un montículo y después iterativamente extraemos el elemento máximo y lo insertamos en un nuevo arreglo que al final del procedimiento estará ordenado."
      ]
    },
    {
      "cell_type": "code",
      "metadata": {
        "id": "7UfqLzhFWZ7o",
        "outputId": "e132ebec-f682-4632-863c-859f08c181e2"
      },
      "source": [
        "def heap_sort(A):\n",
        "    B = []\n",
        "    build_max_heap(A)\n",
        "    while len(A)>1:\n",
        "        maxim = A[1]\n",
        "        A[1] = A[-1]\n",
        "        del A[-1]\n",
        "        B.insert(0,maxim)\n",
        "        print B\n",
        "        max_heapify(A,1,trace=False)\n",
        "    return B\n",
        "        \n",
        "print heap_sort([0,4,6,7,2,5,9])"
      ],
      "execution_count": null,
      "outputs": [
        {
          "output_type": "stream",
          "text": [
            "[9]\n",
            "[7, 9]\n",
            "[6, 7, 9]\n",
            "[5, 6, 7, 9]\n",
            "[4, 5, 6, 7, 9]\n",
            "[2, 4, 5, 6, 7, 9]\n",
            "[2, 4, 5, 6, 7, 9]\n"
          ],
          "name": "stdout"
        }
      ]
    },
    {
      "cell_type": "markdown",
      "metadata": {
        "id": "BmrQM8JEWZ7o"
      },
      "source": [
        "Cola de prioridad\n",
        "----\n",
        "\n",
        "La estructura montículo puede ser usada para implementar una cola de prioridades. En esta se pretende mantener organizados un conjunto de ítems de acuerdo con un criterio (la prioridad), de manera que sea pueda obtener el elemento con prioridad máxima de manera eficiente. La cola de prioridad debe soportar las siguientes operaciones:\n",
        "\n",
        " * Extraer el máximo (extract_max_heap(A))\n",
        " * Incrementar la prioridad de un elemento (increase_key_heap(A,i,v))\n",
        " * Insertar un elemento con una prioridad dada (increase_key_heap(A,i,v))\n",
        "\n",
        "\n"
      ]
    },
    {
      "cell_type": "code",
      "metadata": {
        "id": "BA1qc_2IWZ7o",
        "outputId": "0e76f5b9-6f5a-4977-d779-72e3b6a35e8d"
      },
      "source": [
        "def extract_max_heap(A):\n",
        "    maxim = A[1]\n",
        "    A[1] = A[-1]\n",
        "    del A[-1]\n",
        "    max_heapify(A,1,trace=False)\n",
        "    return maxim\n",
        "    \n",
        "A = [0, 16, 7, 10, 8, 14, 9, 3, 2, 4, 1]\n",
        "\n",
        "build_max_heap(A)\n",
        "pretty_print_heap(A)\n",
        "\n",
        "\n",
        "while len(A)>2:\n",
        "    print \"-----------------------\"\n",
        "    print \"Extracted element:\", extract_max_heap(A)\n",
        "    pretty_print_heap(A)\n",
        "    \n",
        "    "
      ],
      "execution_count": null,
      "outputs": [
        {
          "output_type": "stream",
          "text": [
            "              16                              \n",
            "      14              10              \n",
            "  8       7       9       3       \n",
            "2   4   1   \n",
            "-----------------------\n",
            "Extracted element: 16\n",
            "              14                              \n",
            "      8               10              \n",
            "  4       7       9       3       \n",
            "2   1   \n",
            "-----------------------\n",
            "Extracted element: 14\n",
            "              10                              \n",
            "      8               9               \n",
            "  4       7       1       3       \n",
            "2   \n",
            "-----------------------\n",
            "Extracted element: 10\n",
            "      9               \n",
            "  8       3       \n",
            "4   7   1   2   \n",
            "-----------------------\n",
            "Extracted element: 9\n",
            "      8               \n",
            "  7       3       \n",
            "4   2   1   \n",
            "-----------------------\n",
            "Extracted element: 8\n",
            "      7               \n",
            "  4       3       \n",
            "1   2   \n",
            "-----------------------\n",
            "Extracted element: 7\n",
            "      4               \n",
            "  2       3       \n",
            "1   \n",
            "-----------------------\n",
            "Extracted element: 4\n",
            "  3       \n",
            "2   1   \n",
            "-----------------------\n",
            "Extracted element: 3\n",
            "  2       \n",
            "1   \n",
            "-----------------------\n",
            "Extracted element: 2\n",
            "1   \n"
          ],
          "name": "stdout"
        }
      ]
    },
    {
      "cell_type": "code",
      "metadata": {
        "id": "v_EX8JAFWZ7o",
        "outputId": "66e9ae0a-09c7-48af-f708-f772275107ee"
      },
      "source": [
        "def increase_key_heap(A,i,v):\n",
        "    if A[i]>v:\n",
        "        print \"Error\"\n",
        "    A[i] = v\n",
        "    print \"-----------------------\"\n",
        "    print \"Changed heap:\"\n",
        "    pretty_print_heap(A)\n",
        "    \n",
        "    while i>1 and A[i>>1] < A[i]:\n",
        "        A[i>>1], A[i] = A[i], A[i>>1]\n",
        "        # The next 4 lines of code just print the heap\n",
        "        print \"-----------------------\"\n",
        "        print A\n",
        "        pretty_print_heap(A)\n",
        "        print \"i =\", i\n",
        "        ##############################################\n",
        "        i = i>>1\n",
        "\n",
        "A = [0, 16, 7, 10, 8, 14, 9, 3, 2, 4, 1]\n",
        "\n",
        "build_max_heap(A)\n",
        "pretty_print_heap(A)\n",
        "\n",
        "increase_key_heap(A,7,17)\n",
        "\n",
        "\n",
        "    "
      ],
      "execution_count": null,
      "outputs": [
        {
          "output_type": "stream",
          "text": [
            "              16                              \n",
            "      14              10              \n",
            "  8       7       9       3       \n",
            "2   4   1   \n",
            "-----------------------\n",
            "Changed heap:\n",
            "              16                              \n",
            "      14              10              \n",
            "  8       7       9       17      \n",
            "2   4   1   \n",
            "-----------------------\n",
            "[0, 16, 14, 17, 8, 7, 9, 10, 2, 4, 1]\n",
            "              16                              \n",
            "      14              17              \n",
            "  8       7       9       10      \n",
            "2   4   1   \n",
            "i = 7\n",
            "-----------------------\n",
            "[0, 17, 14, 16, 8, 7, 9, 10, 2, 4, 1]\n",
            "              17                              \n",
            "      14              16              \n",
            "  8       7       9       10      \n",
            "2   4   1   \n",
            "i = 3\n"
          ],
          "name": "stdout"
        }
      ]
    },
    {
      "cell_type": "code",
      "metadata": {
        "id": "lGvIEr5HWZ7o",
        "outputId": "d8c9e862-bbb7-447f-f199-18cb19ced68e"
      },
      "source": [
        "def insert_heap(A,v):\n",
        "    A.append(v-1)\n",
        "    increase_key_heap(A,len(A)-1,v)\n",
        "    \n",
        "A = [0, 16, 7, 10, 8, 14, 9, 3, 2, 4, 1]\n",
        "\n",
        "build_max_heap(A)\n",
        "pretty_print_heap(A)\n",
        "\n",
        "insert_heap(A,18)\n"
      ],
      "execution_count": null,
      "outputs": [
        {
          "output_type": "stream",
          "text": [
            "              16                              \n",
            "      14              10              \n",
            "  8       7       9       3       \n",
            "2   4   1   \n",
            "-----------------------\n",
            "Changed heap:\n",
            "              16                              \n",
            "      14              10              \n",
            "  8       7       9       3       \n",
            "2   4   1   18  \n",
            "-----------------------\n",
            "[0, 16, 14, 10, 8, 18, 9, 3, 2, 4, 1, 7]\n",
            "              16                              \n",
            "      14              10              \n",
            "  8       18      9       3       \n",
            "2   4   1   7   \n",
            "i = 11\n",
            "-----------------------\n",
            "[0, 16, 18, 10, 8, 14, 9, 3, 2, 4, 1, 7]\n",
            "              16                              \n",
            "      18              10              \n",
            "  8       14      9       3       \n",
            "2   4   1   7   \n",
            "i = 5\n",
            "-----------------------\n",
            "[0, 18, 16, 10, 8, 14, 9, 3, 2, 4, 1, 7]\n",
            "              18                              \n",
            "      16              10              \n",
            "  8       14      9       3       \n",
            "2   4   1   7   \n",
            "i = 2\n"
          ],
          "name": "stdout"
        }
      ]
    },
    {
      "cell_type": "markdown",
      "source": [
        "# heapq - Minheaps\n",
        "\n",
        "https://docs.python.org/3/library/heapq.html\n",
        "\n",
        "This module provides an implementation of the heap queue algorithm, also known as the priority queue algorithm.\n",
        "\n",
        "Heaps are binary trees for which every parent node has a value less than or equal to any of its children. This implementation uses arrays for which heap[k] <= heap[2*k+1] and heap[k] <= heap[2*k+2] for all k, counting elements from zero. For the sake of comparison, non-existing elements are considered to be infinite. The interesting property of a heap is that its smallest element is always the root, heap[0].\n"
      ],
      "metadata": {
        "id": "wIIxzYNlU2_z"
      }
    },
    {
      "cell_type": "code",
      "source": [
        "# https://www.tutorialspoint.com/python_data_structure/python_heaps.htm\n",
        "\n",
        "import heapq\n",
        "\n",
        "H = [21,1,45,78,3,5]\n",
        "# Use heapify to rearrange the elements\n",
        "heapq.heapify(H)\n",
        "print(H)"
      ],
      "metadata": {
        "colab": {
          "base_uri": "https://localhost:8080/"
        },
        "id": "1oV_f0sbU6_s",
        "outputId": "cdced87a-103a-4553-de50-41954245d1a3"
      },
      "execution_count": 4,
      "outputs": [
        {
          "output_type": "stream",
          "name": "stdout",
          "text": [
            "[1, 3, 5, 78, 21, 45]\n"
          ]
        }
      ]
    },
    {
      "cell_type": "code",
      "metadata": {
        "id": "RyTgqXnwWZ7o",
        "colab": {
          "base_uri": "https://localhost:8080/"
        },
        "outputId": "78378d6d-3f04-41b4-ef31-f3b7d97ad4e6"
      },
      "source": [
        "#   https://docs.python.org/3/library/heapq.html\n",
        "\n",
        "from heapq import heappush, heappop\n",
        "def heapsort(iterable):\n",
        "        h = []\n",
        "        for value in iterable:\n",
        "              heappush(h, value)\n",
        "        return [heappop(h) for i in range(len(h))]\n",
        "        \n",
        "heapsort([1, 3, 5, 7, 9, 2, 4, 6, 8, 0])"
      ],
      "execution_count": 29,
      "outputs": [
        {
          "output_type": "execute_result",
          "data": {
            "text/plain": [
              "[0, 1, 2, 3, 4, 5, 6, 7, 8, 9]"
            ]
          },
          "metadata": {},
          "execution_count": 29
        }
      ]
    },
    {
      "cell_type": "code",
      "source": [
        "from heapq import heappush, heappop\n",
        "def heapsort(iterable):\n",
        "        h = []\n",
        "        for value in iterable:\n",
        "              heappush(h, value)\n",
        "        hs = []\n",
        "        for i in range(len(h)):\n",
        "              hs.append(heappop(h))\n",
        "              print(\"h :\",h,\" sorted:\",hs)\n",
        "        return hs"
      ],
      "metadata": {
        "id": "Tw1VLsxAVdjS"
      },
      "execution_count": 30,
      "outputs": []
    },
    {
      "cell_type": "code",
      "source": [
        "heapsort([1, 3, 5, 7, 9, 2, 4, 6, 8, 0])"
      ],
      "metadata": {
        "colab": {
          "base_uri": "https://localhost:8080/"
        },
        "id": "MOhXC4bNV14q",
        "outputId": "fe43f96d-d94c-4366-9ac2-19b22e5405f8"
      },
      "execution_count": 31,
      "outputs": [
        {
          "output_type": "stream",
          "name": "stdout",
          "text": [
            "h : [1, 3, 2, 6, 9, 5, 4, 7, 8]  sorted: [0]\n",
            "h : [2, 3, 4, 6, 9, 5, 8, 7]  sorted: [0, 1]\n",
            "h : [3, 6, 4, 7, 9, 5, 8]  sorted: [0, 1, 2]\n",
            "h : [4, 6, 5, 7, 9, 8]  sorted: [0, 1, 2, 3]\n",
            "h : [5, 6, 8, 7, 9]  sorted: [0, 1, 2, 3, 4]\n",
            "h : [6, 7, 8, 9]  sorted: [0, 1, 2, 3, 4, 5]\n",
            "h : [7, 9, 8]  sorted: [0, 1, 2, 3, 4, 5, 6]\n",
            "h : [8, 9]  sorted: [0, 1, 2, 3, 4, 5, 6, 7]\n",
            "h : [9]  sorted: [0, 1, 2, 3, 4, 5, 6, 7, 8]\n",
            "h : []  sorted: [0, 1, 2, 3, 4, 5, 6, 7, 8, 9]\n"
          ]
        },
        {
          "output_type": "execute_result",
          "data": {
            "text/plain": [
              "[0, 1, 2, 3, 4, 5, 6, 7, 8, 9]"
            ]
          },
          "metadata": {},
          "execution_count": 31
        }
      ]
    }
  ]
}