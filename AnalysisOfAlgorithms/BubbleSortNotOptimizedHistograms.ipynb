{
  "nbformat": 4,
  "nbformat_minor": 0,
  "metadata": {
    "colab": {
      "name": "BubbleSortNotOptimizedHistograms.ipynb",
      "provenance": [],
      "collapsed_sections": []
    },
    "kernelspec": {
      "name": "python3",
      "display_name": "Python 3"
    },
    "language_info": {
      "name": "python"
    }
  },
  "cells": [
    {
      "cell_type": "markdown",
      "metadata": {
        "id": "zQs0sILUmTR-"
      },
      "source": [
        "# Bubble sort not optimized time complexity histograms for permutations of $n$ different elements \n",
        "\n",
        "## Best case - increasingly orted array ($\\frac{n^2-n}{2}$ comparisons + $0$ swaps) - $T(n) = \\frac{n^2-n}{2} = \\Theta(n^2) $\n",
        "\n",
        "## Worst case - de creasingly sorted array ($\\frac{n^2-n}{2}$ comparisons + $\\frac{n^2-n}{2}$  swaps) - $T(n) = n^2-n = \\Theta(n^2) $\n",
        "\n",
        "## Average case - expected number of comparisons + swaps on random unifrom permutation of $n$ different elements $T(n) = \\frac{3}{4}(n^2-n)= \\Theta(n^2) $\n",
        "\n"
      ]
    },
    {
      "cell_type": "code",
      "metadata": {
        "colab": {
          "base_uri": "https://localhost:8080/"
        },
        "id": "Xzjjj7JGueNJ",
        "outputId": "555d471b-f252-457c-ef69-d07ed6ede096"
      },
      "source": [
        "from itertools import permutations\n",
        " \n",
        "n = 3\n",
        "perm = permutations(range(1,n+1))\n",
        "\n",
        "ls =  [] \n",
        "# Print the obtained permutations\n",
        "for i in list(perm):\n",
        "    print(i)"
      ],
      "execution_count": 1,
      "outputs": [
        {
          "output_type": "stream",
          "text": [
            "(1, 2, 3)\n",
            "(1, 3, 2)\n",
            "(2, 1, 3)\n",
            "(2, 3, 1)\n",
            "(3, 1, 2)\n",
            "(3, 2, 1)\n"
          ],
          "name": "stdout"
        }
      ]
    },
    {
      "cell_type": "code",
      "metadata": {
        "id": "Ngiw0SKuqxAr"
      },
      "source": [
        "def bubbleSort(arr):\n",
        "    steps = 0\n",
        "    n = len(arr)\n",
        " \n",
        "    # Traverse through all array elements\n",
        "    for i in range(n):\n",
        " \n",
        "        # Last i elements are already in place\n",
        "        for j in range(0, n-i-1):\n",
        " \n",
        "            # traverse the array from 0 to n-i-1\n",
        "            # Swap if the element found is greater\n",
        "            # than the next element\n",
        "            steps +=1\n",
        "            if arr[j] > arr[j+1] :\n",
        "                arr[j], arr[j+1] = arr[j+1], arr[j]\n",
        "                steps +=1\n",
        "    return(steps)\n",
        " \n"
      ],
      "execution_count": 2,
      "outputs": []
    },
    {
      "cell_type": "code",
      "metadata": {
        "colab": {
          "base_uri": "https://localhost:8080/",
          "height": 444
        },
        "id": "8k9qKleLT7Dm",
        "outputId": "b576523e-6ea2-48f3-e9d6-4065677d7748"
      },
      "source": [
        "from itertools import permutations\n",
        "import matplotlib.pyplot as plt\n",
        "import numpy as np \n",
        "import math\n",
        "\n",
        "n = 3\n",
        "perm = permutations(range(1,n+1))\n",
        "\n",
        "times =  [] \n",
        "# Print the obtained permutations\n",
        "for i in list(perm):\n",
        "    i = list(i)\n",
        "    times.append(bubbleSort(i))\n",
        "\n",
        "b = np.array(range(min(times)-1,max(times)+2) ) +0.5\n",
        "plt.hist(times,bins=b)\n",
        "plt.title(\"Bubble Sort\")\n",
        "plt.xlabel(\"Steps =comparisons + swaps \")\n",
        "plt.ylabel(\"Frequency\")\n",
        "plt.show()\n",
        "    \n",
        "print(\"n\",n)  \n",
        "print(\"number of permutations n! =\",math.factorial(n)) \n",
        "print(\"exp min =\",min(times))\n",
        "print(\"min formula (n-1)*n/2 =\",(n-1)*n/2)\n",
        "print(\"exp max =\",max(times))\n",
        "print(\"max formula (n-1)*n =\",(n-1)*n)\n",
        "print(\"exp mean =\",np.mean(times))\n",
        "print(\"mean formula 3/4*n**2+17/4*n-4 =\",(3/4)*(n**2-n))\n",
        "print(\"stdev\",np.std(times))\n"
      ],
      "execution_count": 3,
      "outputs": [
        {
          "output_type": "display_data",
          "data": {
            "image/png": "[encoded data removed]",
            "text/plain": [
              "<Figure size 432x288 with 1 Axes>"
            ]
          },
          "metadata": {
            "tags": [],
            "needs_background": "light"
          }
        },
        {
          "output_type": "stream",
          "text": [
            "n 3\n",
            "number of permutations n! = 6\n",
            "exp min = 3\n",
            "min formula (n-1)*n/2 = 3.0\n",
            "exp max = 6\n",
            "max formula (n-1)*n = 6\n",
            "exp mean = 4.5\n",
            "mean formula 3/4*n**2+17/4*n-4 = 4.5\n",
            "stdev 0.9574271077563381\n"
          ],
          "name": "stdout"
        }
      ]
    },
    {
      "cell_type": "code",
      "metadata": {
        "colab": {
          "base_uri": "https://localhost:8080/",
          "height": 444
        },
        "id": "nzJClsF9mOjt",
        "outputId": "11d21a0d-4fc8-4767-cb12-d8dcf81f44ad"
      },
      "source": [
        "from itertools import permutations\n",
        "import matplotlib.pyplot as plt\n",
        "import numpy as np \n",
        "import math\n",
        "\n",
        "n = 4\n",
        "perm = permutations(range(1,n+1))\n",
        "\n",
        "times =  [] \n",
        "# Print the obtained permutations\n",
        "for i in list(perm):\n",
        "    i = list(i)\n",
        "    times.append(bubbleSort(i))\n",
        "\n",
        "b = np.array(range(min(times)-1,max(times)+2) ) +0.5\n",
        "plt.hist(times,bins=b)\n",
        "plt.title(\"Bubble Sort\")\n",
        "plt.xlabel(\"Steps =comparisons + swaps \")\n",
        "plt.ylabel(\"Frequency\")\n",
        "plt.show()\n",
        "    \n",
        "print(\"n\",n)  \n",
        "print(\"number of permutations n! =\",math.factorial(n))\n",
        "print(\"exp min =\",min(times))\n",
        "print(\"min formula (n-1)*n/2 =\",(n-1)*n/2)\n",
        "print(\"exp max =\",max(times))\n",
        "print(\"max formula (n-1)*n =\",(n-1)*n)\n",
        "print(\"exp mean =\",np.mean(times))\n",
        "print(\"mean formula (3/4)*(n**2-n) =\",(3/4)*(n**2-n))\n",
        "print(\"stdev\",np.std(times))"
      ],
      "execution_count": 4,
      "outputs": [
        {
          "output_type": "display_data",
          "data": {
            "image/png": "[encoded data removed]",
            "text/plain": [
              "<Figure size 432x288 with 1 Axes>"
            ]
          },
          "metadata": {
            "tags": [],
            "needs_background": "light"
          }
        },
        {
          "output_type": "stream",
          "text": [
            "n 4\n",
            "number of permutations n! = 24\n",
            "exp min = 6\n",
            "min formula (n-1)*n/2 = 6.0\n",
            "exp max = 12\n",
            "max formula (n-1)*n = 12\n",
            "exp mean = 9.0\n",
            "mean formula (3/4)*(n**2-n) = 9.0\n",
            "stdev 1.4719601443879744\n"
          ],
          "name": "stdout"
        }
      ]
    },
    {
      "cell_type": "code",
      "metadata": {
        "colab": {
          "base_uri": "https://localhost:8080/",
          "height": 444
        },
        "id": "h3V0v7lOp82E",
        "outputId": "c1a125dd-897c-4084-be9b-b4375041c2b2"
      },
      "source": [
        "from itertools import permutations\n",
        "import matplotlib.pyplot as plt\n",
        "import numpy as np \n",
        "import math\n",
        "\n",
        "n = 5\n",
        "perm = permutations(range(1,n+1))\n",
        "\n",
        "times =  [] \n",
        "# Print the obtained permutations\n",
        "for i in list(perm):\n",
        "    i = list(i)\n",
        "    times.append(bubbleSort(i))\n",
        "\n",
        "b = np.array(range(min(times)-1,max(times)+2) ) +0.5\n",
        "plt.hist(times,bins=b)\n",
        "plt.title(\"Bubble Sort\")\n",
        "plt.xlabel(\"Steps =comparisons + swaps \")\n",
        "plt.ylabel(\"Frequency\")\n",
        "plt.show()\n",
        "    \n",
        "print(\"n\",n)  \n",
        "print(\"number of permutations n! =\",math.factorial(n))\n",
        "print(\"exp min =\",min(times))\n",
        "print(\"min formula (n-1)*n/2 =\",(n-1)*n/2)\n",
        "print(\"exp max =\",max(times))\n",
        "print(\"max formula (n-1)*n =\",(n-1)*n)\n",
        "print(\"exp mean =\",np.mean(times))\n",
        "print(\"mean formula (3/4)*(n**2-n) =\",(3/4)*(n**2-n))\n",
        "print(\"stdev\",np.std(times))"
      ],
      "execution_count": 5,
      "outputs": [
        {
          "output_type": "display_data",
          "data": {
            "image/png": "[encoded data removed]",
            "text/plain": [
              "<Figure size 432x288 with 1 Axes>"
            ]
          },
          "metadata": {
            "tags": [],
            "needs_background": "light"
          }
        },
        {
          "output_type": "stream",
          "text": [
            "n 5\n",
            "number of permutations n! = 120\n",
            "exp min = 10\n",
            "min formula (n-1)*n/2 = 10.0\n",
            "exp max = 20\n",
            "max formula (n-1)*n = 20\n",
            "exp mean = 15.0\n",
            "mean formula (3/4)*(n**2-n) = 15.0\n",
            "stdev 2.041241452319315\n"
          ],
          "name": "stdout"
        }
      ]
    },
    {
      "cell_type": "code",
      "metadata": {
        "colab": {
          "base_uri": "https://localhost:8080/",
          "height": 444
        },
        "id": "INXiZJWxqAWS",
        "outputId": "9989df12-67e1-495d-f8fb-072318dc581d"
      },
      "source": [
        "from itertools import permutations\n",
        "import matplotlib.pyplot as plt\n",
        "import numpy as np \n",
        "import math\n",
        "\n",
        "n = 6\n",
        "perm = permutations(range(1,n+1))\n",
        "\n",
        "times =  [] \n",
        "# Print the obtained permutations\n",
        "for i in list(perm):\n",
        "    i = list(i)\n",
        "    times.append(bubbleSort(i))\n",
        "\n",
        "b = np.array(range(min(times)-1,max(times)+2) ) +0.5\n",
        "plt.hist(times,bins=b)\n",
        "plt.title(\"Bubble Sort\")\n",
        "plt.xlabel(\"Steps =comparisons + swaps \")\n",
        "plt.ylabel(\"Frequency\")\n",
        "plt.show()\n",
        "    \n",
        "print(\"n\",n)  \n",
        "print(\"number of permutations n! =\",math.factorial(n))\n",
        "print(\"exp min =\",min(times))\n",
        "print(\"min formula (n-1)*n/2 =\",(n-1)*n/2)\n",
        "print(\"exp max =\",max(times))\n",
        "print(\"max formula (n-1)*n =\",(n-1)*n)\n",
        "print(\"exp mean =\",np.mean(times))\n",
        "print(\"mean formula (3/4)*(n**2-n) =\",(3/4)*(n**2-n))\n",
        "print(\"stdev\",np.std(times))"
      ],
      "execution_count": 6,
      "outputs": [
        {
          "output_type": "display_data",
          "data": {
            "image/png": "[encoded data removed]",
            "text/plain": [
              "<Figure size 432x288 with 1 Axes>"
            ]
          },
          "metadata": {
            "tags": [],
            "needs_background": "light"
          }
        },
        {
          "output_type": "stream",
          "text": [
            "n 6\n",
            "number of permutations n! = 720\n",
            "exp min = 15\n",
            "min formula (n-1)*n/2 = 15.0\n",
            "exp max = 30\n",
            "max formula (n-1)*n = 30\n",
            "exp mean = 22.5\n",
            "mean formula (3/4)*(n**2-n) = 22.5\n",
            "stdev 2.661453237111885\n"
          ],
          "name": "stdout"
        }
      ]
    },
    {
      "cell_type": "code",
      "metadata": {
        "colab": {
          "base_uri": "https://localhost:8080/",
          "height": 444
        },
        "id": "d6TvZ4IvT8OW",
        "outputId": "e0884f66-0d1d-4bb5-e25c-570499d380de"
      },
      "source": [
        "from itertools import permutations\n",
        "import matplotlib.pyplot as plt\n",
        "import numpy as np \n",
        "import math\n",
        " \n",
        "n = 7\n",
        "perm = permutations(range(1,n+1))\n",
        "\n",
        "times =  [] \n",
        "# Print the obtained permutations\n",
        "for i in list(perm):\n",
        "    i = list(i)\n",
        "    times.append(bubbleSort(i))\n",
        "\n",
        "b = np.array(range(min(times)-1,max(times)+2) ) +0.5\n",
        "plt.hist(times,bins=b)\n",
        "plt.title(\"Bubble Sort\")\n",
        "plt.xlabel(\"Steps =comparisons + swaps \")\n",
        "plt.ylabel(\"Frequency\")\n",
        "plt.show()\n",
        "    \n",
        "print(\"n\",n)  \n",
        "print(\"number of permutations n! =\",math.factorial(n))\n",
        "print(\"exp min =\",min(times))\n",
        "print(\"min formula (n-1)*n/2 =\",(n-1)*n/2)\n",
        "print(\"exp max =\",max(times))\n",
        "print(\"max formula (n-1)*n =\",(n-1)*n)\n",
        "print(\"exp mean =\",np.mean(times))\n",
        "print(\"mean formula (3/4)*(n**2-n) =\",(3/4)*(n**2-n))\n",
        "print(\"stdev\",np.std(times))"
      ],
      "execution_count": 7,
      "outputs": [
        {
          "output_type": "display_data",
          "data": {
            "image/png": "[encoded data removed]",
            "text/plain": [
              "<Figure size 432x288 with 1 Axes>"
            ]
          },
          "metadata": {
            "tags": [],
            "needs_background": "light"
          }
        },
        {
          "output_type": "stream",
          "text": [
            "n 7\n",
            "number of permutations n! = 5040\n",
            "exp min = 21\n",
            "min formula (n-1)*n/2 = 21.0\n",
            "exp max = 42\n",
            "max formula (n-1)*n = 42\n",
            "exp mean = 31.5\n",
            "mean formula (3/4)*(n**2-n) = 31.5\n",
            "stdev 3.3291640592396967\n"
          ],
          "name": "stdout"
        }
      ]
    },
    {
      "cell_type": "code",
      "metadata": {
        "colab": {
          "base_uri": "https://localhost:8080/",
          "height": 444
        },
        "id": "vA_h4ju0ybaN",
        "outputId": "4289c075-8c66-4617-bd0b-4d893e4d7e90"
      },
      "source": [
        "from itertools import permutations\n",
        "import matplotlib.pyplot as plt\n",
        "import numpy as np \n",
        "import math\n",
        "\n",
        "n = 8\n",
        "perm = permutations(range(1,n+1))\n",
        "\n",
        "times =  [] \n",
        "# Print the obtained permutations\n",
        "for i in list(perm):\n",
        "    i = list(i)\n",
        "    times.append(bubbleSort(i))\n",
        "\n",
        "b = np.array(range(min(times)-1,max(times)+2) ) +0.5\n",
        "plt.hist(times,bins=b)\n",
        "plt.title(\"Bubble Sort\")\n",
        "plt.xlabel(\"Steps =comparisons + swaps \")\n",
        "plt.ylabel(\"Frequency\")\n",
        "plt.show()\n",
        "    \n",
        "print(\"n\",n)  \n",
        "print(\"number of permutations n! =\",math.factorial(n))\n",
        "print(\"exp min =\",min(times))\n",
        "print(\"min formula (n-1)*n/2 =\",(n-1)*n/2)\n",
        "print(\"exp max =\",max(times))\n",
        "print(\"max formula (n-1)*n =\",(n-1)*n)\n",
        "print(\"exp mean =\",np.mean(times))\n",
        "print(\"mean formula (3/4)*(n**2-n) =\",(3/4)*(n**2-n))\n",
        "print(\"stdev\",np.std(times))"
      ],
      "execution_count": 8,
      "outputs": [
        {
          "output_type": "display_data",
          "data": {
            "image/png": "[encoded data removed]",
            "text/plain": [
              "<Figure size 432x288 with 1 Axes>"
            ]
          },
          "metadata": {
            "tags": [],
            "needs_background": "light"
          }
        },
        {
          "output_type": "stream",
          "text": [
            "n 8\n",
            "number of permutations n! = 40320\n",
            "exp min = 28\n",
            "min formula (n-1)*n/2 = 28.0\n",
            "exp max = 56\n",
            "max formula (n-1)*n = 56\n",
            "exp mean = 42.0\n",
            "mean formula (3/4)*(n**2-n) = 42.0\n",
            "stdev 4.041451884327381\n"
          ],
          "name": "stdout"
        }
      ]
    },
    {
      "cell_type": "code",
      "metadata": {
        "colab": {
          "base_uri": "https://localhost:8080/",
          "height": 444
        },
        "id": "EQ7PiKt8qc-0",
        "outputId": "9ecee86a-f85d-43a2-b331-0a9b27172159"
      },
      "source": [
        "from itertools import permutations\n",
        "import matplotlib.pyplot as plt\n",
        "import numpy as np \n",
        "import math\n",
        " \n",
        "n = 9\n",
        "perm = permutations(range(1,n+1))\n",
        "\n",
        "times =  [] \n",
        "# Print the obtained permutations\n",
        "for i in list(perm):\n",
        "    i = list(i)\n",
        "    times.append(bubbleSort(i))\n",
        "\n",
        "b = np.array(range(min(times)-1,max(times)+2) ) +0.5\n",
        "plt.hist(times,bins=b)\n",
        "plt.title(\"Bubble Sort\")\n",
        "plt.xlabel(\"Steps =comparisons + swaps \")\n",
        "plt.ylabel(\"Frequency\")\n",
        "plt.show()\n",
        "    \n",
        "print(\"n\",n)  \n",
        "print(\"number of permutations n! =\",math.factorial(n))\n",
        "print(\"exp min =\",min(times))\n",
        "print(\"min formula (n-1)*n/2 =\",(n-1)*n/2)\n",
        "print(\"exp max =\",max(times))\n",
        "print(\"max formula (n-1)*n =\",(n-1)*n)\n",
        "print(\"exp mean =\",np.mean(times))\n",
        "print(\"mean formula (3/4)*(n**2-n) =\",(3/4)*(n**2-n))\n",
        "print(\"stdev\",np.std(times))"
      ],
      "execution_count": 9,
      "outputs": [
        {
          "output_type": "display_data",
          "data": {
            "image/png": "[encoded data removed]",
            "text/plain": [
              "<Figure size 432x288 with 1 Axes>"
            ]
          },
          "metadata": {
            "tags": [],
            "needs_background": "light"
          }
        },
        {
          "output_type": "stream",
          "text": [
            "n 9\n",
            "number of permutations n! = 362880\n",
            "exp min = 36\n",
            "min formula (n-1)*n/2 = 36.0\n",
            "exp max = 72\n",
            "max formula (n-1)*n = 72\n",
            "exp mean = 54.0\n",
            "mean formula (3/4)*(n**2-n) = 54.0\n",
            "stdev 4.795831523312719\n"
          ],
          "name": "stdout"
        }
      ]
    },
    {
      "cell_type": "code",
      "metadata": {
        "colab": {
          "base_uri": "https://localhost:8080/",
          "height": 444
        },
        "id": "eiPO88yCyh0Z",
        "outputId": "4390719f-4cc4-4f30-bdc8-ce67092b2fd7"
      },
      "source": [
        "from itertools import permutations\n",
        "import matplotlib.pyplot as plt\n",
        "import numpy as np \n",
        "import math\n",
        " \n",
        "n = 10\n",
        "perm = permutations(range(1,n+1))\n",
        "\n",
        "times =  [] \n",
        "# Print the obtained permutations\n",
        "for i in list(perm):\n",
        "    i = list(i)\n",
        "    times.append(bubbleSort(i))\n",
        "\n",
        "b = np.array(range(min(times)-1,max(times)+2) ) +0.5\n",
        "plt.hist(times,bins=b)\n",
        "plt.title(\"Bubble Sort\")\n",
        "plt.xlabel(\"Steps =comparisons + swaps \")\n",
        "plt.ylabel(\"Frequency\")\n",
        "plt.show()\n",
        "    \n",
        "print(\"n\",n)  \n",
        "print(\"number of permutations n! =\",math.factorial(n))\n",
        "print(\"exp min =\",min(times))\n",
        "print(\"min formula (n-1)*n/2 =\",(n-1)*n/2)\n",
        "print(\"exp max =\",max(times))\n",
        "print(\"max formula (n-1)*n =\",(n-1)*n)\n",
        "print(\"exp mean =\",np.mean(times))\n",
        "print(\"mean formula (3/4)*(n**2-n) =\",(3/4)*(n**2-n))\n",
        "print(\"stdev\",np.std(times))"
      ],
      "execution_count": 10,
      "outputs": [
        {
          "output_type": "display_data",
          "data": {
            "image/png": "[encoded data removed]",
            "text/plain": [
              "<Figure size 432x288 with 1 Axes>"
            ]
          },
          "metadata": {
            "tags": [],
            "needs_background": "light"
          }
        },
        {
          "output_type": "stream",
          "text": [
            "n 10\n",
            "number of permutations n! = 3628800\n",
            "exp min = 45\n",
            "min formula (n-1)*n/2 = 45.0\n",
            "exp max = 90\n",
            "max formula (n-1)*n = 90\n",
            "exp mean = 67.5\n",
            "mean formula (3/4)*(n**2-n) = 67.5\n",
            "stdev 5.5901699437494745\n"
          ],
          "name": "stdout"
        }
      ]
    },
    {
      "cell_type": "code",
      "metadata": {
        "colab": {
          "base_uri": "https://localhost:8080/",
          "height": 444
        },
        "id": "b0K_6ksayklL",
        "outputId": "0f54b332-1213-41fa-9f02-227eff3b0026"
      },
      "source": [
        "from itertools import permutations\n",
        "import matplotlib.pyplot as plt\n",
        "import numpy as np \n",
        "import math\n",
        "\n",
        "n = 11\n",
        "perm = permutations(range(1,n+1))\n",
        "\n",
        "times =  [] \n",
        "# Print the obtained permutations\n",
        "for i in list(perm):\n",
        "    i = list(i)\n",
        "    times.append(bubbleSort(i))\n",
        "\n",
        "b = np.array(range(min(times)-1,max(times)+2) ) +0.5\n",
        "plt.hist(times,bins=b)\n",
        "plt.title(\"Bubble Sort\")\n",
        "plt.xlabel(\"Steps =comparisons + swaps \")\n",
        "plt.ylabel(\"Frequency\")\n",
        "plt.show()\n",
        "    \n",
        "print(\"n\",n)  \n",
        "print(\"number of permutations  n! =\",math.factorial(n))\n",
        "print(\"exp min =\",min(times))\n",
        "print(\"min formula (n-1)*n/2 =\",(n-1)*n/2)\n",
        "print(\"exp max =\",max(times))\n",
        "print(\"max formula (n-1)*n =\",(n-1)*n)\n",
        "print(\"exp mean =\",np.mean(times))\n",
        "print(\"mean formula (3/4)*(n**2-n) =\",(3/4)*(n**2-n))\n",
        "print(\"stdev\",np.std(times))"
      ],
      "execution_count": 11,
      "outputs": [
        {
          "output_type": "display_data",
          "data": {
            "image/png": "[encoded data removed]",
            "text/plain": [
              "<Figure size 432x288 with 1 Axes>"
            ]
          },
          "metadata": {
            "tags": [],
            "needs_background": "light"
          }
        },
        {
          "output_type": "stream",
          "text": [
            "n 11\n",
            "number of permutations  n! = 39916800\n",
            "exp min = 55\n",
            "min formula (n-1)*n/2 = 55.0\n",
            "exp max = 110\n",
            "max formula (n-1)*n = 110\n",
            "exp mean = 82.5\n",
            "mean formula (3/4)*(n**2-n) = 82.5\n",
            "stdev 6.422616289332565\n"
          ],
          "name": "stdout"
        }
      ]
    },
    {
      "cell_type": "markdown",
      "metadata": {
        "id": "NBooJnK0yJVQ"
      },
      "source": [
        "\n",
        "# Average case - expected number of comparisons + swaps on random unifrom permtation of $n$ diffrent elementns $T(n) = \\frac{3}{4}(n^2-n)= \\Theta(n^2) $"
      ]
    },
    {
      "cell_type": "code",
      "metadata": {
        "colab": {
          "base_uri": "https://localhost:8080/",
          "height": 171
        },
        "id": "zZYBG2KttQSj",
        "outputId": "fbd80670-a41b-4710-91aa-3ffa85b07aa0"
      },
      "source": [
        "# Average case on random unifrom permtation of  n 3/4 (**2 -n)\n",
        "import numpy as np \n",
        "import pandas as pd\n",
        "import scipy.linalg as la\n",
        "\n",
        "n = np.array([3.0,4.0,5.0,6.0])    # Number n of sorted elments \n",
        "t = np.array([4.5,9.0, 15.0,22.5]) # Average comparisons + swaps for the corresponding n \n",
        "\n",
        "data = pd.DataFrame({'n': n, 't': t})\n",
        "data\n",
        "\n"
      ],
      "execution_count": 12,
      "outputs": [
        {
          "output_type": "execute_result",
          "data": {
            "text/html": [
              "<div>\n",
              "<style scoped>\n",
              "    .dataframe tbody tr th:only-of-type {\n",
              "        vertical-align: middle;\n",
              "    }\n",
              "\n",
              "    .dataframe tbody tr th {\n",
              "        vertical-align: top;\n",
              "    }\n",
              "\n",
              "    .dataframe thead th {\n",
              "        text-align: right;\n",
              "    }\n",
              "</style>\n",
              "<table border=\"1\" class=\"dataframe\">\n",
              "  <thead>\n",
              "    <tr style=\"text-align: right;\">\n",
              "      <th></th>\n",
              "      <th>n</th>\n",
              "      <th>t</th>\n",
              "    </tr>\n",
              "  </thead>\n",
              "  <tbody>\n",
              "    <tr>\n",
              "      <th>0</th>\n",
              "      <td>3.0</td>\n",
              "      <td>4.5</td>\n",
              "    </tr>\n",
              "    <tr>\n",
              "      <th>1</th>\n",
              "      <td>4.0</td>\n",
              "      <td>9.0</td>\n",
              "    </tr>\n",
              "    <tr>\n",
              "      <th>2</th>\n",
              "      <td>5.0</td>\n",
              "      <td>15.0</td>\n",
              "    </tr>\n",
              "    <tr>\n",
              "      <th>3</th>\n",
              "      <td>6.0</td>\n",
              "      <td>22.5</td>\n",
              "    </tr>\n",
              "  </tbody>\n",
              "</table>\n",
              "</div>"
            ],
            "text/plain": [
              "     n     t\n",
              "0  3.0   4.5\n",
              "1  4.0   9.0\n",
              "2  5.0  15.0\n",
              "3  6.0  22.5"
            ]
          },
          "metadata": {
            "tags": []
          },
          "execution_count": 12
        }
      ]
    },
    {
      "cell_type": "code",
      "metadata": {
        "colab": {
          "base_uri": "https://localhost:8080/"
        },
        "id": "rv3pQPHfwr0Z",
        "outputId": "865867c0-3270-47e8-e8be-81ede4d78ad9"
      },
      "source": [
        "# Interpolating a polynomial of degree 3\n",
        "\n",
        "X = np.column_stack([n**0,n**1,n**2,n**3])\n",
        "a = la.solve(X,t)\n",
        "a"
      ],
      "execution_count": 13,
      "outputs": [
        {
          "output_type": "execute_result",
          "data": {
            "text/plain": [
              "array([ 0.  , -0.75,  0.75,  0.  ])"
            ]
          },
          "metadata": {
            "tags": []
          },
          "execution_count": 13
        }
      ]
    },
    {
      "cell_type": "markdown",
      "metadata": {
        "id": "4qXn8HA739_v"
      },
      "source": [
        "# Bubble sort not optimized time complexity histograms for permutations of $n$  elements with repetitions\n",
        "\n",
        "## Best case - increasingly orted array ($\\frac{n^2-n}{2}$ comparisons + $0$ swaps) - $T(n) = \\frac{n^2-n}{2} = \\Theta(n^2) $\n",
        "\n",
        "## Worst case - de creasingly sorted array ($\\frac{n^2-n}{2}$ comparisons + $\\frac{n^2-n}{2}$  swaps) - $T(n) = n^2-n = \\Theta(n^2) $\n",
        "\n",
        "## Average case - expected number of comparisons + swaps on random unifrom permutation of $n$ different elements $T(n) = \\frac{3}{4}n^2 - n +\\frac{1}{4}= \\Theta(n^2) $"
      ]
    },
    {
      "cell_type": "code",
      "metadata": {
        "colab": {
          "base_uri": "https://localhost:8080/"
        },
        "id": "aWZG5ajQ3wT7",
        "outputId": "9ae94197-b942-4670-9e8b-537f32614120"
      },
      "source": [
        "from itertools import product\n",
        "\n",
        "n=3 \n",
        "perm = product(range(1,n+1), repeat = n)\n",
        "\n",
        "c=0\n",
        "for i in perm:\n",
        "    print(i)\n",
        "    c+=1\n",
        "\n",
        "print(c)"
      ],
      "execution_count": 14,
      "outputs": [
        {
          "output_type": "stream",
          "text": [
            "(1, 1, 1)\n",
            "(1, 1, 2)\n",
            "(1, 1, 3)\n",
            "(1, 2, 1)\n",
            "(1, 2, 2)\n",
            "(1, 2, 3)\n",
            "(1, 3, 1)\n",
            "(1, 3, 2)\n",
            "(1, 3, 3)\n",
            "(2, 1, 1)\n",
            "(2, 1, 2)\n",
            "(2, 1, 3)\n",
            "(2, 2, 1)\n",
            "(2, 2, 2)\n",
            "(2, 2, 3)\n",
            "(2, 3, 1)\n",
            "(2, 3, 2)\n",
            "(2, 3, 3)\n",
            "(3, 1, 1)\n",
            "(3, 1, 2)\n",
            "(3, 1, 3)\n",
            "(3, 2, 1)\n",
            "(3, 2, 2)\n",
            "(3, 2, 3)\n",
            "(3, 3, 1)\n",
            "(3, 3, 2)\n",
            "(3, 3, 3)\n",
            "27\n"
          ],
          "name": "stdout"
        }
      ]
    },
    {
      "cell_type": "code",
      "metadata": {
        "colab": {
          "base_uri": "https://localhost:8080/",
          "height": 444
        },
        "id": "zKMWnXF5gjid",
        "outputId": "6966dbf1-0f77-481b-b2a4-ec3800f6d3c6"
      },
      "source": [
        "from itertools import product\n",
        "import matplotlib.pyplot as plt\n",
        "import numpy as np \n",
        "\n",
        "n = 3\n",
        "perm = product(range(1,n+1), repeat = n)\n",
        "\n",
        "times =  [] \n",
        "# Print the obtained permutations\n",
        "for i in list(perm):\n",
        "    i = list(i)\n",
        "    times.append(bubbleSort(i))\n",
        "\n",
        "b = np.array(range(min(times)-1,max(times)+2) ) +0.5\n",
        "plt.hist(times,bins=b)\n",
        "plt.title(\"Bubble Sort\")\n",
        "plt.xlabel(\"Steps = comparisons + swaps \")\n",
        "plt.ylabel(\"Frequency\")\n",
        "plt.show()\n",
        "    \n",
        "print(\"n\",n)  \n",
        "print(\"number of permutations ,n**n = \",n**n)\n",
        "print(\"exp min =\",min(times))\n",
        "print(\"min formula (n-1)*n/2 =\",(n-1)*n/2)\n",
        "print(\"exp max =\",max(times))\n",
        "print(\"max formula (n-1)*n =\",(n-1)*n)\n",
        "print(\"exp mean =\",np.mean(times))\n",
        "print(\"mean formula (3/4)*(n**2)-n+(1/4) =\",(3/4)*(n**2)-n+(1/4))\n",
        "print(\"stdev\",np.std(times))"
      ],
      "execution_count": 15,
      "outputs": [
        {
          "output_type": "display_data",
          "data": {
            "image/png": "[encoded data removed]",
            "text/plain": [
              "<Figure size 432x288 with 1 Axes>"
            ]
          },
          "metadata": {
            "tags": [],
            "needs_background": "light"
          }
        },
        {
          "output_type": "stream",
          "text": [
            "n 3\n",
            "number of permutations ,n**n =  27\n",
            "exp min = 3\n",
            "min formula (n-1)*n/2 = 3.0\n",
            "exp max = 6\n",
            "max formula (n-1)*n = 6\n",
            "exp mean = 4.0\n",
            "mean formula (3/4)*(n**2)-n+(1/4) = 4.0\n",
            "stdev 0.90267093384844\n"
          ],
          "name": "stdout"
        }
      ]
    },
    {
      "cell_type": "code",
      "metadata": {
        "colab": {
          "base_uri": "https://localhost:8080/",
          "height": 444
        },
        "id": "lwBDi5ihhIPh",
        "outputId": "68f389ba-c39f-46f1-a0da-dec9b184b463"
      },
      "source": [
        "from itertools import product\n",
        "import matplotlib.pyplot as plt\n",
        "import numpy as np \n",
        "\n",
        "n = 4\n",
        "perm = product(range(1,n+1), repeat = n)\n",
        "\n",
        "times =  [] \n",
        "# Print the obtained permutations\n",
        "for i in list(perm):\n",
        "    i = list(i)\n",
        "    times.append(bubbleSort(i))\n",
        "\n",
        "b = np.array(range(min(times)-1,max(times)+2) ) +0.5\n",
        "plt.hist(times,bins=b)\n",
        "plt.title(\"Bubble Sort\")\n",
        "plt.xlabel(\"Steps = comparisons + swaps \")\n",
        "plt.ylabel(\"Frequency\")\n",
        "plt.show()\n",
        "    \n",
        "print(\"n\",n)  \n",
        "print(\"number of permutations ,n**n = \",n**n)\n",
        "print(\"exp min =\",min(times))\n",
        "print(\"min formula (n-1)*n/2 =\",(n-1)*n/2)\n",
        "print(\"exp max =\",max(times))\n",
        "print(\"max formula (n-1)*n =\",(n-1)*n)\n",
        "print(\"exp mean =\",np.mean(times))\n",
        "print(\"mean formula (3/4)*(n**2)-n+(1/4) =\",(3/4)*(n**2)-n+(1/4))\n",
        "print(\"stdev\",np.std(times))"
      ],
      "execution_count": 16,
      "outputs": [
        {
          "output_type": "display_data",
          "data": {
            "image/png": "[encoded data removed]",
            "text/plain": [
              "<Figure size 432x288 with 1 Axes>"
            ]
          },
          "metadata": {
            "tags": [],
            "needs_background": "light"
          }
        },
        {
          "output_type": "stream",
          "text": [
            "n 4\n",
            "number of permutations ,n**n =  256\n",
            "exp min = 6\n",
            "min formula (n-1)*n/2 = 6.0\n",
            "exp max = 12\n",
            "max formula (n-1)*n = 12\n",
            "exp mean = 8.25\n",
            "mean formula (3/4)*(n**2)-n+(1/4) = 8.25\n",
            "stdev 1.4252192813739224\n"
          ],
          "name": "stdout"
        }
      ]
    },
    {
      "cell_type": "code",
      "metadata": {
        "colab": {
          "base_uri": "https://localhost:8080/",
          "height": 444
        },
        "id": "EUuT2cfvhJ7M",
        "outputId": "d2c2ee23-fd59-4164-af15-8626682e3f2d"
      },
      "source": [
        "from itertools import product\n",
        "import matplotlib.pyplot as plt\n",
        "import numpy as np \n",
        "\n",
        "n = 5\n",
        "perm = product(range(1,n+1), repeat = n)\n",
        "\n",
        "times =  [] \n",
        "# Print the obtained permutations\n",
        "for i in list(perm):\n",
        "    i = list(i)\n",
        "    times.append(bubbleSort(i))\n",
        "\n",
        "b = np.array(range(min(times)-1,max(times)+2) ) +0.5\n",
        "plt.hist(times,bins=b)\n",
        "plt.title(\"Bubble Sort\")\n",
        "plt.xlabel(\"Steps = comparisons + swaps \")\n",
        "plt.ylabel(\"Frequency\")\n",
        "plt.show()\n",
        "    \n",
        "print(\"n\",n)  \n",
        "print(\"number of permutations ,n**n = \",n**n)\n",
        "print(\"exp min =\",min(times))\n",
        "print(\"min formula (n-1)*n/2 =\",(n-1)*n/2)\n",
        "print(\"exp max =\",max(times))\n",
        "print(\"max formula (n-1)*n =\",(n-1)*n)\n",
        "print(\"exp mean =\",np.mean(times))\n",
        "print(\"mean formula (3/4)*(n**2)-n+(1/4) =\",(3/4)*(n**2)-n+(1/4))\n",
        "print(\"stdev\",np.std(times))"
      ],
      "execution_count": 17,
      "outputs": [
        {
          "output_type": "display_data",
          "data": {
            "image/png": "[encoded data removed]",
            "text/plain": [
              "<Figure size 432x288 with 1 Axes>"
            ]
          },
          "metadata": {
            "tags": [],
            "needs_background": "light"
          }
        },
        {
          "output_type": "stream",
          "text": [
            "n 5\n",
            "number of permutations ,n**n =  3125\n",
            "exp min = 10\n",
            "min formula (n-1)*n/2 = 10.0\n",
            "exp max = 20\n",
            "max formula (n-1)*n = 20\n",
            "exp mean = 14.0\n",
            "mean formula (3/4)*(n**2)-n+(1/4) = 14.0\n",
            "stdev 2.0\n"
          ],
          "name": "stdout"
        }
      ]
    },
    {
      "cell_type": "code",
      "metadata": {
        "colab": {
          "base_uri": "https://localhost:8080/",
          "height": 444
        },
        "id": "itnM63uIhNFz",
        "outputId": "a3101c99-20a8-439e-cad2-d80876b31f95"
      },
      "source": [
        "from itertools import product\n",
        "import matplotlib.pyplot as plt\n",
        "import numpy as np \n",
        "\n",
        "n = 6\n",
        "perm = product(range(1,n+1), repeat = n)\n",
        "\n",
        "times =  [] \n",
        "# Print the obtained permutations\n",
        "for i in list(perm):\n",
        "    i = list(i)\n",
        "    times.append(bubbleSort(i))\n",
        "\n",
        "b = np.array(range(min(times)-1,max(times)+2) ) +0.5\n",
        "plt.hist(times,bins=b)\n",
        "plt.title(\"Bubble Sort\")\n",
        "plt.xlabel(\"Steps = comparisons + swaps \")\n",
        "plt.ylabel(\"Frequency\")\n",
        "plt.show()\n",
        "    \n",
        "print(\"n\",n)  \n",
        "print(\"number of permutations ,n**n = \",n**n)\n",
        "print(\"exp min =\",min(times))\n",
        "print(\"min formula (n-1)*n/2 =\",(n-1)*n/2)\n",
        "print(\"exp max =\",max(times))\n",
        "print(\"max formula (n-1)*n =\",(n-1)*n)\n",
        "print(\"exp mean =\",np.mean(times))\n",
        "print(\"mean formula (3/4)*(n**2)-n+(1/4) =\",(3/4)*(n**2)-n+(1/4))\n",
        "print(\"stdev\",np.std(times))"
      ],
      "execution_count": 18,
      "outputs": [
        {
          "output_type": "display_data",
          "data": {
            "image/png": "[encoded data removed]",
            "text/plain": [
              "<Figure size 432x288 with 1 Axes>"
            ]
          },
          "metadata": {
            "tags": [],
            "needs_background": "light"
          }
        },
        {
          "output_type": "stream",
          "text": [
            "n 6\n",
            "number of permutations ,n**n =  46656\n",
            "exp min = 15\n",
            "min formula (n-1)*n/2 = 15.0\n",
            "exp max = 30\n",
            "max formula (n-1)*n = 30\n",
            "exp mean = 21.25\n",
            "mean formula (3/4)*(n**2)-n+(1/4) = 21.25\n",
            "stdev 2.624228281623776\n"
          ],
          "name": "stdout"
        }
      ]
    },
    {
      "cell_type": "code",
      "metadata": {
        "colab": {
          "base_uri": "https://localhost:8080/",
          "height": 444
        },
        "id": "uyhyR7xzhQX0",
        "outputId": "95f6ef5c-6448-4b41-a8c5-79018f19165b"
      },
      "source": [
        "from itertools import product\n",
        "import matplotlib.pyplot as plt\n",
        "import numpy as np \n",
        "\n",
        "n = 7 \n",
        "perm = product(range(1,n+1), repeat = n)\n",
        "\n",
        "times =  [] \n",
        "# Print the obtained permutations\n",
        "for i in list(perm):\n",
        "    i = list(i)\n",
        "    times.append(bubbleSort(i))\n",
        "\n",
        "b = np.array(range(min(times)-1,max(times)+2) ) +0.5\n",
        "plt.hist(times,bins=b)\n",
        "plt.title(\"Bubble Sort\")\n",
        "plt.xlabel(\"Steps = comparisons + swaps \")\n",
        "plt.ylabel(\"Frequency\")\n",
        "plt.show()\n",
        "    \n",
        "print(\"n\",n)  \n",
        "print(\"number of permutations ,n**n = \",n**n)\n",
        "print(\"exp min =\",min(times))\n",
        "print(\"min formula (n-1)*n/2 =\",(n-1)*n/2)\n",
        "print(\"exp max =\",max(times))\n",
        "print(\"max formula (n-1)*n =\",(n-1)*n)\n",
        "print(\"exp mean =\",np.mean(times))\n",
        "print(\"mean formula (3/4)*(n**2)-n+(1/4) =\",(3/4)*(n**2)-n+(1/4))\n",
        "print(\"stdev\",np.std(times))"
      ],
      "execution_count": 19,
      "outputs": [
        {
          "output_type": "display_data",
          "data": {
            "image/png": "[encoded data removed]",
            "text/plain": [
              "<Figure size 432x288 with 1 Axes>"
            ]
          },
          "metadata": {
            "tags": [],
            "needs_background": "light"
          }
        },
        {
          "output_type": "stream",
          "text": [
            "n 7\n",
            "number of permutations ,n**n =  823543\n",
            "exp min = 21\n",
            "min formula (n-1)*n/2 = 21.0\n",
            "exp max = 42\n",
            "max formula (n-1)*n = 42\n",
            "exp mean = 30.0\n",
            "mean formula (3/4)*(n**2)-n+(1/4) = 30.0\n",
            "stdev 3.295017884191656\n"
          ],
          "name": "stdout"
        }
      ]
    },
    {
      "cell_type": "code",
      "metadata": {
        "colab": {
          "base_uri": "https://localhost:8080/",
          "height": 444
        },
        "id": "h-U0mOcXhSyc",
        "outputId": "21a0363d-b719-4b0b-9edf-7f92d3eb9390"
      },
      "source": [
        "from itertools import product\n",
        "import matplotlib.pyplot as plt\n",
        "import numpy as np \n",
        "\n",
        "n = 8\n",
        "perm = product(range(1,n+1), repeat = n)\n",
        "\n",
        "times =  [] \n",
        "# Print the obtained permutations\n",
        "for i in list(perm):\n",
        "    i = list(i)\n",
        "    times.append(bubbleSort(i))\n",
        "\n",
        "b = np.array(range(min(times)-1,max(times)+2) ) +0.5\n",
        "plt.hist(times,bins=b)\n",
        "plt.title(\"Bubble Sort\")\n",
        "plt.xlabel(\"Steps = comparisons + swaps \")\n",
        "plt.ylabel(\"Frequency\")\n",
        "plt.show()\n",
        "    \n",
        "print(\"n\",n)  \n",
        "print(\"number of permutations ,n**n = \",n**n)\n",
        "print(\"exp min =\",min(times))\n",
        "print(\"min formula (n-1)*n/2 =\",(n-1)*n/2)\n",
        "print(\"exp max =\",max(times))\n",
        "print(\"max formula (n-1)*n =\",(n-1)*n)\n",
        "print(\"exp mean =\",np.mean(times))\n",
        "print(\"mean formula (3/4)*(n**2)-n+(1/4) =\",(3/4)*(n**2)-n+(1/4))\n",
        "print(\"stdev\",np.std(times))"
      ],
      "execution_count": 20,
      "outputs": [
        {
          "output_type": "display_data",
          "data": {
            "image/png": "[encoded data removed]",
            "text/plain": [
              "<Figure size 432x288 with 1 Axes>"
            ]
          },
          "metadata": {
            "tags": [],
            "needs_background": "light"
          }
        },
        {
          "output_type": "stream",
          "text": [
            "n 8\n",
            "number of permutations ,n**n =  16777216\n",
            "exp min = 28\n",
            "min formula (n-1)*n/2 = 28.0\n",
            "exp max = 56\n",
            "max formula (n-1)*n = 56\n",
            "exp mean = 40.25\n",
            "mean formula (3/4)*(n**2)-n+(1/4) = 40.25\n",
            "stdev 4.00975373308636\n"
          ],
          "name": "stdout"
        }
      ]
    },
    {
      "cell_type": "markdown",
      "metadata": {
        "id": "SYU6m43l5QPx"
      },
      "source": [
        "# Average case - expected number of comparisons + swaps on random unifrom permtation of $n$   elements with repetitions $T(n) = \\frac{3}{4}n^2 - n +\\frac{1}{4}= \\Theta(n^2) $"
      ]
    },
    {
      "cell_type": "code",
      "metadata": {
        "colab": {
          "base_uri": "https://localhost:8080/",
          "height": 171
        },
        "id": "foPLijZz5aGX",
        "outputId": "f62d4ce8-37f1-4521-cf66-8778971a1365"
      },
      "source": [
        "# Average case on random unifrom permtation of  n 3/4 (**2 -n)\n",
        "import numpy as np \n",
        "import pandas as pd\n",
        "import scipy.linalg as la\n",
        "\n",
        "n = np.array([3.0,4.0,5.0,6.0])    # Number n of sorted elments \n",
        "t = np.array([4.0 ,8.25,14.0,21.25]) # Average comparisons + swaps for the corresponding n \n",
        "\n",
        "data = pd.DataFrame({'n': n, 't': t})\n",
        "data\n"
      ],
      "execution_count": 21,
      "outputs": [
        {
          "output_type": "execute_result",
          "data": {
            "text/html": [
              "<div>\n",
              "<style scoped>\n",
              "    .dataframe tbody tr th:only-of-type {\n",
              "        vertical-align: middle;\n",
              "    }\n",
              "\n",
              "    .dataframe tbody tr th {\n",
              "        vertical-align: top;\n",
              "    }\n",
              "\n",
              "    .dataframe thead th {\n",
              "        text-align: right;\n",
              "    }\n",
              "</style>\n",
              "<table border=\"1\" class=\"dataframe\">\n",
              "  <thead>\n",
              "    <tr style=\"text-align: right;\">\n",
              "      <th></th>\n",
              "      <th>n</th>\n",
              "      <th>t</th>\n",
              "    </tr>\n",
              "  </thead>\n",
              "  <tbody>\n",
              "    <tr>\n",
              "      <th>0</th>\n",
              "      <td>3.0</td>\n",
              "      <td>4.00</td>\n",
              "    </tr>\n",
              "    <tr>\n",
              "      <th>1</th>\n",
              "      <td>4.0</td>\n",
              "      <td>8.25</td>\n",
              "    </tr>\n",
              "    <tr>\n",
              "      <th>2</th>\n",
              "      <td>5.0</td>\n",
              "      <td>14.00</td>\n",
              "    </tr>\n",
              "    <tr>\n",
              "      <th>3</th>\n",
              "      <td>6.0</td>\n",
              "      <td>21.25</td>\n",
              "    </tr>\n",
              "  </tbody>\n",
              "</table>\n",
              "</div>"
            ],
            "text/plain": [
              "     n      t\n",
              "0  3.0   4.00\n",
              "1  4.0   8.25\n",
              "2  5.0  14.00\n",
              "3  6.0  21.25"
            ]
          },
          "metadata": {
            "tags": []
          },
          "execution_count": 21
        }
      ]
    },
    {
      "cell_type": "code",
      "metadata": {
        "colab": {
          "base_uri": "https://localhost:8080/"
        },
        "id": "-1Z8g4WV6JOO",
        "outputId": "d411800f-2703-4cad-8564-d34af391318f"
      },
      "source": [
        "# Interpolating a polynomial of degree 3\n",
        "\n",
        "X = np.column_stack([n**0,n**1,n**2,n**3])\n",
        "a = la.solve(X,t)\n",
        "a"
      ],
      "execution_count": 22,
      "outputs": [
        {
          "output_type": "execute_result",
          "data": {
            "text/plain": [
              "array([ 0.25, -1.  ,  0.75,  0.  ])"
            ]
          },
          "metadata": {
            "tags": []
          },
          "execution_count": 22
        }
      ]
    }
  ]
}