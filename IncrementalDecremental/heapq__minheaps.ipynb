{
  "nbformat": 4,
  "nbformat_minor": 0,
  "metadata": {
    "colab": {
      "name": "heapq _minheaps.ipynb",
      "provenance": [],
      "collapsed_sections": [],
      "authorship_tag": "ABX9TyNb7Q2C+gi21J3vN9++ZSAq"
    },
    "kernelspec": {
      "name": "python3",
      "display_name": "Python 3"
    },
    "language_info": {
      "name": "python"
    }
  },
  "cells": [
    {
      "cell_type": "markdown",
      "source": [
        "# heapq - minheaps\n",
        "https://docs.python.org/3/library/heapq.html\n",
        "\n",
        "This module provides an implementation of the heap queue algorithm, also known as the priority queue algorithm.\n",
        "\n",
        "Heaps are binary trees for which every parent node has a value less than or equal to any of its children. This implementation uses arrays for which heap[k] <= heap[2k+1] and heap[k] <= heap[2k+2] for all k, counting elements from zero. For the sake of comparison, non-existing elements are considered to be infinite. The interesting property of a heap is that its smallest element is always the root, heap[0].\n"
      ],
      "metadata": {
        "id": "2SlxoDVZrF35"
      }
    },
    {
      "cell_type": "code",
      "execution_count": 7,
      "metadata": {
        "colab": {
          "base_uri": "https://localhost:8080/"
        },
        "id": "apLDTm1qq_v-",
        "outputId": "4240f739-c7e7-4795-af35-ee0869328348"
      },
      "outputs": [
        {
          "output_type": "stream",
          "name": "stdout",
          "text": [
            "[1, 3, 5, 78, 21, 45]\n"
          ]
        }
      ],
      "source": [
        "# https://www.tutorialspoint.com/python_data_structure/python_heaps.htm\n",
        "\n",
        "import heapq\n",
        "\n",
        "H = [21,1,45,78,3,5]\n",
        "# Use heapify to rearrange the elements\n",
        "heapq.heapify(H)\n",
        "print(H)"
      ]
    },
    {
      "cell_type": "code",
      "source": [
        "#   https://docs.python.org/3/library/heapq.html\n",
        "\n",
        "from heapq import heappush, heappop\n",
        "\n",
        "def heapsort(iterable):\n",
        "        h = []\n",
        "        for value in iterable:\n",
        "              heappush(h, value)\n",
        "        return [heappop(h) for i in range(len(h))]\n",
        "        \n",
        "heapsort([1, 3, 5, 7, 9, 2, 4, 6, 8, 0])"
      ],
      "metadata": {
        "colab": {
          "base_uri": "https://localhost:8080/"
        },
        "id": "BWP3NeBKrTJQ",
        "outputId": "d4ecdebf-a29b-4b7e-8e38-504e83dbf80c"
      },
      "execution_count": 8,
      "outputs": [
        {
          "output_type": "execute_result",
          "data": {
            "text/plain": [
              "[0, 1, 2, 3, 4, 5, 6, 7, 8, 9]"
            ]
          },
          "metadata": {},
          "execution_count": 8
        }
      ]
    },
    {
      "cell_type": "code",
      "source": [
        "from heapq import heappush, heappop\n",
        "\n",
        "def heapsort(iterable):\n",
        "        h = []\n",
        "        for value in iterable:\n",
        "              heappush(h, value)\n",
        "        hs = []\n",
        "        for i in range(len(h)):\n",
        "              hs.append(heappop(h))\n",
        "              print(\"h :\",h,\" sorted:\",hs)\n",
        "        return hs\n",
        "\n",
        "heapsort([1, 3, 5, 7, 9, 2, 4, 6, 8, 0])"
      ],
      "metadata": {
        "colab": {
          "base_uri": "https://localhost:8080/"
        },
        "id": "6YbuplTvrXyf",
        "outputId": "a1042af4-93b1-450e-9f39-68423f204131"
      },
      "execution_count": 9,
      "outputs": [
        {
          "output_type": "stream",
          "name": "stdout",
          "text": [
            "h : [1, 3, 2, 6, 9, 5, 4, 7, 8]  sorted: [0]\n",
            "h : [2, 3, 4, 6, 9, 5, 8, 7]  sorted: [0, 1]\n",
            "h : [3, 6, 4, 7, 9, 5, 8]  sorted: [0, 1, 2]\n",
            "h : [4, 6, 5, 7, 9, 8]  sorted: [0, 1, 2, 3]\n",
            "h : [5, 6, 8, 7, 9]  sorted: [0, 1, 2, 3, 4]\n",
            "h : [6, 7, 8, 9]  sorted: [0, 1, 2, 3, 4, 5]\n",
            "h : [7, 9, 8]  sorted: [0, 1, 2, 3, 4, 5, 6]\n",
            "h : [8, 9]  sorted: [0, 1, 2, 3, 4, 5, 6, 7]\n",
            "h : [9]  sorted: [0, 1, 2, 3, 4, 5, 6, 7, 8]\n",
            "h : []  sorted: [0, 1, 2, 3, 4, 5, 6, 7, 8, 9]\n"
          ]
        },
        {
          "output_type": "execute_result",
          "data": {
            "text/plain": [
              "[0, 1, 2, 3, 4, 5, 6, 7, 8, 9]"
            ]
          },
          "metadata": {},
          "execution_count": 9
        }
      ]
    }
  ]
}