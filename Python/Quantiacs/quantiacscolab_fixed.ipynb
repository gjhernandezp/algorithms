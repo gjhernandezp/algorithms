{
  "nbformat": 4,
  "nbformat_minor": 0,
  "metadata": {
    "colab": {
      "provenance": [],
      "collapsed_sections": [],
      "include_colab_link": true
    },
    "kernelspec": {
      "display_name": "Python 3",
      "name": "python3"
    },
    "language_info": {
      "name": "python"
    }
  },
  "cells": [
    {
      "cell_type": "markdown",
      "metadata": {
        "id": "view-in-github",
        "colab_type": "text"
      },
      "source": [
        "<a href=\"https://colab.research.google.com/github/gjhernandezp/algorithms/blob/master/Python/Quantiacs/quantiacscolab_fixed.ipynb\" target=\"_parent\"><img src=\"https://colab.research.google.com/assets/colab-badge.svg\" alt=\"Open In Colab\"/></a>"
      ]
    },
    {
      "cell_type": "markdown",
      "source": [
        "https://quantiacs.com/documentation/en/user_guide/local_development.html#google-colab-support"
      ],
      "metadata": {
        "id": "PNyf5BTPucgk"
      }
    },
    {
      "cell_type": "markdown",
      "metadata": {
        "id": "7uxq1sTVp5Rg"
      },
      "source": [
        "# The environment\n",
        "\n",
        "The next three code cells contains commands that will configure your Coogle Colab environment. \n",
        "\n",
        "When you transfer the strategy to Quantiacs, remove these cells.\n",
        "\n",
        "They are not relevant for the Quantiacs platform."
      ]
    },
    {
      "cell_type": "code",
      "source": [
        "!pip uninstall xarray -y\n",
        "!pip install xarray==0.19.0"
      ],
      "metadata": {
        "colab": {
          "base_uri": "https://localhost:8080/"
        },
        "id": "Yw1KbeWuvHB4",
        "outputId": "daf28daa-f8ee-4a31-c4f3-8400258fb56d"
      },
      "execution_count": 1,
      "outputs": [
        {
          "output_type": "stream",
          "name": "stdout",
          "text": [
            "Found existing installation: xarray 0.20.2\n",
            "Uninstalling xarray-0.20.2:\n",
            "  Successfully uninstalled xarray-0.20.2\n",
            "Looking in indexes: https://pypi.org/simple, https://us-python.pkg.dev/colab-wheels/public/simple/\n",
            "Collecting xarray==0.19.0\n",
            "  Downloading xarray-0.19.0-py3-none-any.whl (827 kB)\n",
            "\u001b[K     |████████████████████████████████| 827 kB 5.5 MB/s \n",
            "\u001b[?25hRequirement already satisfied: setuptools>=40.4 in /usr/local/lib/python3.7/dist-packages (from xarray==0.19.0) (57.4.0)\n",
            "Requirement already satisfied: pandas>=1.0 in /usr/local/lib/python3.7/dist-packages (from xarray==0.19.0) (1.3.5)\n",
            "Requirement already satisfied: numpy>=1.17 in /usr/local/lib/python3.7/dist-packages (from xarray==0.19.0) (1.21.6)\n",
            "Requirement already satisfied: python-dateutil>=2.7.3 in /usr/local/lib/python3.7/dist-packages (from pandas>=1.0->xarray==0.19.0) (2.8.2)\n",
            "Requirement already satisfied: pytz>=2017.3 in /usr/local/lib/python3.7/dist-packages (from pandas>=1.0->xarray==0.19.0) (2022.4)\n",
            "Requirement already satisfied: six>=1.5 in /usr/local/lib/python3.7/dist-packages (from python-dateutil>=2.7.3->pandas>=1.0->xarray==0.19.0) (1.15.0)\n",
            "Installing collected packages: xarray\n",
            "\u001b[31mERROR: pip's dependency resolver does not currently take into account all the packages that are installed. This behaviour is the source of the following dependency conflicts.\n",
            "xarray-einstats 0.2.2 requires xarray>=0.20, but you have xarray 0.19.0 which is incompatible.\u001b[0m\n",
            "Successfully installed xarray-0.19.0\n"
          ]
        }
      ]
    },
    {
      "cell_type": "markdown",
      "metadata": {
        "id": "2UbbLYWhvB3N"
      },
      "source": [
        "At first, setup the toolbox from github using pip:"
      ]
    },
    {
      "cell_type": "code",
      "metadata": {
        "id": "zzmgqy8bp0cJ",
        "colab": {
          "base_uri": "https://localhost:8080/"
        },
        "outputId": "3e38676b-73d0-455f-fe04-20685f69c3f4"
      },
      "source": [
        "###DEBUG###\n",
        "\n",
        "! pip install git+https://github.com/quantiacs/toolbox.git\n",
        "\n",
        "# decrease height\n",
        "from IPython.display import Javascript\n",
        "display(Javascript('google.colab.output.setIframeHeight(0, true, {maxHeight: 100})'))"
      ],
      "execution_count": null,
      "outputs": [
        {
          "output_type": "stream",
          "name": "stdout",
          "text": [
            "Looking in indexes: https://pypi.org/simple, https://us-python.pkg.dev/colab-wheels/public/simple/\n",
            "Collecting git+https://github.com/quantiacs/toolbox.git\n",
            "  Cloning https://github.com/quantiacs/toolbox.git to /tmp/pip-req-build-eacv8538\n",
            "  Running command git clone -q https://github.com/quantiacs/toolbox.git /tmp/pip-req-build-eacv8538\n",
            "Requirement already satisfied: scipy>=1.4.1 in /usr/local/lib/python3.7/dist-packages (from qnt==0.0.272) (1.7.3)\n",
            "Collecting pandas==1.2.5\n",
            "  Downloading pandas-1.2.5-cp37-cp37m-manylinux_2_5_x86_64.manylinux1_x86_64.whl (9.9 MB)\n",
            "\u001b[K     |████████████████████████████████| 9.9 MB 4.3 MB/s \n",
            "\u001b[?25hRequirement already satisfied: xarray>=0.16.0 in /usr/local/lib/python3.7/dist-packages (from qnt==0.0.272) (0.19.0)\n",
            "Requirement already satisfied: numpy>=1.18 in /usr/local/lib/python3.7/dist-packages (from qnt==0.0.272) (1.21.6)\n",
            "Requirement already satisfied: tabulate>=0.8.3 in /usr/local/lib/python3.7/dist-packages (from qnt==0.0.272) (0.8.10)\n",
            "Collecting bottleneck>=1.3.1\n",
            "  Downloading Bottleneck-1.3.5-cp37-cp37m-manylinux_2_5_x86_64.manylinux1_x86_64.manylinux_2_17_x86_64.manylinux2014_x86_64.whl (355 kB)\n",
            "\u001b[K     |████████████████████████████████| 355 kB 61.1 MB/s \n",
            "\u001b[?25hCollecting numba==0.53\n",
            "  Downloading numba-0.53.0-cp37-cp37m-manylinux2014_x86_64.whl (3.4 MB)\n",
            "\u001b[K     |████████████████████████████████| 3.4 MB 45.4 MB/s \n",
            "\u001b[?25hRequirement already satisfied: progressbar2<4,>=3.37 in /usr/local/lib/python3.7/dist-packages (from qnt==0.0.272) (3.38.0)\n",
            "Collecting llvmlite<0.37,>=0.36.0rc1\n",
            "  Downloading llvmlite-0.36.0-cp37-cp37m-manylinux2010_x86_64.whl (25.3 MB)\n",
            "\u001b[K     |████████████████████████████████| 25.3 MB 1.8 MB/s \n",
            "\u001b[?25hRequirement already satisfied: setuptools in /usr/local/lib/python3.7/dist-packages (from numba==0.53->qnt==0.0.272) (57.4.0)\n",
            "Requirement already satisfied: pytz>=2017.3 in /usr/local/lib/python3.7/dist-packages (from pandas==1.2.5->qnt==0.0.272) (2022.4)\n",
            "Requirement already satisfied: python-dateutil>=2.7.3 in /usr/local/lib/python3.7/dist-packages (from pandas==1.2.5->qnt==0.0.272) (2.8.2)\n",
            "Requirement already satisfied: six in /usr/local/lib/python3.7/dist-packages (from progressbar2<4,>=3.37->qnt==0.0.272) (1.15.0)\n",
            "Requirement already satisfied: python-utils>=2.3.0 in /usr/local/lib/python3.7/dist-packages (from progressbar2<4,>=3.37->qnt==0.0.272) (3.3.3)\n",
            "Building wheels for collected packages: qnt\n",
            "  Building wheel for qnt (setup.py) ... \u001b[?25l\u001b[?25hdone\n",
            "  Created wheel for qnt: filename=qnt-0.0.272-py3-none-any.whl size=114264 sha256=1c47e49733c14a072d5af8fcf3b0810a0ee5d9152286cbba03ebb462801bee55\n",
            "  Stored in directory: /tmp/pip-ephem-wheel-cache-_37vi8dt/wheels/eb/4b/a6/2941ec3b0a208a66ffa127c74cbcddbff9453f5ed798ee9be2\n",
            "Successfully built qnt\n",
            "Installing collected packages: pandas, llvmlite, numba, bottleneck, qnt\n",
            "  Attempting uninstall: pandas\n",
            "    Found existing installation: pandas 1.3.5\n",
            "    Uninstalling pandas-1.3.5:\n"
          ]
        }
      ]
    },
    {
      "cell_type": "markdown",
      "metadata": {
        "id": "vo4g_P6gvMK3"
      },
      "source": [
        "Then install TA-Lib (indicators library) if you need it.\n",
        "\n",
        "Instead of TA-Lib you can use qnt.ta or another library. In this case, skip the next cell.\n",
        "\n",
        "Note that the installation can take several minutes."
      ]
    },
    {
      "cell_type": "code",
      "metadata": {
        "id": "nB66AYKqrpha"
      },
      "source": [
        "###DEBUG###\n",
        "!wget http://prdownloads.sourceforge.net/ta-lib/ta-lib-0.4.0-src.tar.gz\n",
        "!tar -xzvf ta-lib-0.4.0-src.tar.gz\n",
        "%cd ta-lib\n",
        "!./configure --prefix=/usr\n",
        "! make\n",
        "!make install\n",
        "!pip install Ta-Lib\n",
        "\n",
        "# test import\n",
        "import talib\n",
        "\n",
        "# decrease height\n",
        "from IPython.display import Javascript\n",
        "display(Javascript('google.colab.output.setIframeHeight(0, true, {maxHeight: 100})'))"
      ],
      "execution_count": null,
      "outputs": []
    },
    {
      "cell_type": "markdown",
      "metadata": {
        "id": "eXxNGBsqwB0-"
      },
      "source": [
        "Finally specify the api key and disable interactive charts.\n",
        "\n",
        "You can find the api key in [your profile](https://quantiacs.com/personalpage/homepage).\n",
        "\n",
        "We disable interactive charts in the library because interact+plotly do not work correctly in Google Colab."
      ]
    },
    {
      "cell_type": "code",
      "metadata": {
        "id": "UoIR0WnlrxR7"
      },
      "source": [
        "###DEBUG###\n",
        "import os\n",
        "\n",
        "os.environ['API_KEY'] = \"\" \n",
        "os.environ['NONINTERACT'] = 'True' "
      ],
      "execution_count": null,
      "outputs": []
    },
    {
      "cell_type": "markdown",
      "metadata": {
        "id": "INWstsHLs5pO"
      },
      "source": [
        "# The strategy\n",
        "\n",
        "The next cell contains the strategy code itself."
      ]
    },
    {
      "cell_type": "code",
      "metadata": {
        "id": "H8cKyVQVHKni"
      },
      "source": [
        "\n",
        "import xarray as xr\n",
        "\n",
        "import qnt.stats as qnstats\n",
        "import qnt.data as qndata\n",
        "import qnt.output as qnout\n",
        "import qnt.ta as qnta\n",
        "import qnt.backtester as qnbt\n",
        "import qnt.graph as qngraph\n",
        "\n",
        "\n",
        "def load_data(period):\n",
        "    return qndata.stocks.load_ndx_data(tail=period)\n",
        "\n",
        "\n",
        "\n",
        "def strategy(data):\n",
        "    close     = data.sel(field=\"close\")\n",
        "    is_liquid = data.sel(field=\"is_liquid\")\n",
        "    sma_slow  = qnta.sma(close, 200).isel(time=-1)\n",
        "    sma_fast  = qnta.sma(close, 20).isel(time=-1)\n",
        "    weights   = xr.where(sma_slow < sma_fast, 1, -1)\n",
        "    weights   = weights * is_liquid\n",
        "    return weights\n",
        "\n",
        "\n",
        "\n",
        "weights = qnbt.backtest(\n",
        "    competition_type = \"stocks_nasdaq100\",\n",
        "    load_data        = load_data,\n",
        "    lookback_period  = 365*4,\n",
        "    start_date       = \"2020-10-10\",\n",
        "    strategy         = strategy,\n",
        "    analyze          = True,\n",
        "    build_plots      = True\n",
        ")"
      ],
      "execution_count": null,
      "outputs": []
    },
    {
      "cell_type": "markdown",
      "metadata": {
        "id": "kjb_RTwVw0Jr"
      },
      "source": [
        "#Submit your strategy\n",
        "\n",
        "Finally, you can transfer this notebook to Quantiacs.\n",
        "\n",
        "Just create a new strategy notebook in [your area](https://quantiacs.com/personalpage/strategies) and upload this notebook to this new environment (replace `strategy.ipynb`).\n",
        "\n",
        "Don't forget to **remove code cells from \"The environment\"** section.\n",
        "\n",
        "If you have any special external dependency which is absent in Quantiacs jupyter environment, add their installation code to `init.ipynb`.\n",
        "\n",
        "Then test and submit your strategy."
      ]
    }
  ]
}