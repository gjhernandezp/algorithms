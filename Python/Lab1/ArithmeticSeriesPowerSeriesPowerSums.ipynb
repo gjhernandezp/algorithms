{
  "nbformat": 4,
  "nbformat_minor": 0,
  "metadata": {
    "colab": {
      "name": "ArithmeticSeriesPowerSeriesPowerSums.ipynb",
      "provenance": [],
      "collapsed_sections": []
    },
    "kernelspec": {
      "name": "python3",
      "display_name": "Python 3"
    }
  },
  "cells": [
    {
      "cell_type": "markdown",
      "metadata": {
        "id": "r4rXWI4gCN5B"
      },
      "source": [
        "# Arithmetic Series\r\n",
        "\r\n",
        "## Modified from Arithmetic Series -  [Wolfram MathWorld](https://mathworld.wolfram.com/ArithmeticSeries.html)\r\n",
        "\r\n",
        "\r\n",
        "An arithmetic series is the sum of a sequence $\\{a_k\\}$ for $k=1, 2, ..., $ in which each term is computed from the previous one by adding (or subtracting) a constant $d$. \r\n",
        "\r\n",
        "\\begin{align*}\r\n",
        "a_1 & \\\\\r\n",
        "a_2 &\\ \\ =\\ \\ a_1 + d  \\\\\r\n",
        "a_3 &\\ \\ =\\ \\ a_2 + d \\ \\ =\\ \\ a_1 + 2d   \\\\\r\n",
        "a_4 &\\ \\ =\\ \\ a_3 + d \\ \\ =\\ \\ a_2 + 2d \\ \\ =\\ \\ a_1 + 3d  \\\\\r\n",
        "\\vdots\\\\\r\n",
        "a_k &\\ \\ =\\ \\ a_{(k-1)}+d \\ =\\  a_{(k-2)}+2d \\ =\\  \\ldots \\ =\\  \\ a_1+(k-1)d\r\n",
        "\\end{align*}\r\n",
        "\r\n",
        "Therefore, for $k>=1$,\r\n",
        "\r\n",
        "$$ a_k = a_1 + (k-1)d$$\r\n",
        "\r\n",
        "With $a_1$ and $d$ given.\r\n",
        "\r\n",
        "<br /> \r\n",
        "\r\n",
        "If  $a_1= 1$ and $d=1$ we have, the simplest arithmnetic seuqnece,  the natural numbers sequence $\\{a_k = k \\}$ for  $k=1, 2, ..., $  i.e. the seuqnece\r\n",
        "$$1, 2, ...,$$\r\n",
        "The sum of the first $n$ terms of the sequence \r\n",
        "$$  S_n = 1 + 2+ \\ldots + (n-1)+ n = \\sum_{k=1}^n k$$\r\n",
        "can be calculated as a function of $n$.\r\n",
        "\r\n",
        "Assume that we allign one $S_{n-1}$ with a second  $S_{n-1}$ that have the terms adden reversse order and you add term to term, we have\r\n",
        "\\begin{array}{llclclclclc}\r\n",
        "  S_{n-1} &=& 1 &+& 2 &+& \\ldots &+& (n-2) &+& (n-1) \\\\\r\n",
        "  S_{n-1} &=& (n-1)  &+& (n-2)  &+& \\ldots   &+& 2   &+& 1 \\\\\r\n",
        "   \\hline \\\\\r\n",
        "   2S_{n-1} &=& n  &+& n  &+& \\ldots   &+& n   &+& n \\\\\r\n",
        "\\end{array}\r\n",
        "so\r\n",
        "$$  2S_{n-1} = (n-1)n $$\r\n",
        "then\r\n",
        "$$  S_{n-1} = \\frac{1}{2} (n-1)n$$\r\n",
        "therefore \r\n",
        "$$  S_{n} = \\frac{1}{2} n(n+1)$$\r\n",
        "\r\n",
        "\r\n",
        "\r\n",
        "The sum of the first $n$ terms  of  the arithemnetic sequence (called an arithmetic serie)  is then given by\r\n",
        "\\begin{align*}\r\n",
        "S_n &= \\sum_{k=1}^n a_k\t\\\\\r\n",
        "    &= \\sum_{k=1}^n[a_1+(k-1)d]\t\t\\\\\r\n",
        "    &= na_1 + d \\sum_{k=1}^n(k-1)\t\\\\\r\n",
        "    &= na_1 + d \\sum_{k=0}^{n-1} k\t\\\\\r\n",
        "    &= na_1 + d \\sum_{k=1}^{n-1} k\t\\\\\r\n",
        "    &= na_1 +  \\frac{1}{2} d(n-1)n\\\\\r\n",
        "\\end{align*}\r\n",
        "so \r\n",
        "$$ S_n =  \\frac{1}{2} n[2 a_1 +d(n-1)].$$\r\n",
        "\r\n",
        "Note, however, that\r\n",
        "$$a_1+a_n=a_1+[a_1+d(n-1)]=2a_1+d(n-1),$$ \t\r\n",
        "so\r\n",
        "$$S_n=1/2n(a_1+a_n),$$\r\n",
        "\r\n",
        "\r\n",
        "or $n$ times the arithmetic mean of the first and last terms! This is the trick Gauss used as a schoolboy to solve the problem of summing the integers from $1$ to $100$ given as busy-work by his teacher. While his classmates toiled away doing the addition longhand, Gauss wrote a single number, the correct answer\r\n",
        "\r\n",
        "$$\\frac{1}{2}(100)(1+100)=50·101=5050$$ \t\r\n",
        "on his slate (Burton 1989, pp. 80-81; Hoffman 1998, p. 207). When the answers were examined, Gauss's proved to be the only correct one.\r\n",
        "\r\n",
        "<br /> \r\n",
        "\r\n",
        "If  the sequence starts at index $0$, $\\{a_k\\}$ for $ k=0, 1, 2, ..., $ we have\r\n",
        "\r\n",
        "\\begin{align*}\r\n",
        "a_0 & \\\\\r\n",
        "a_1 &\\ \\ =\\ \\ a_0 + d  \\\\\r\n",
        "a_2 &\\ \\ =\\ \\ a_1 + d \\ \\ =\\ \\ a_0 + 2d   \\\\\r\n",
        "a_3 &\\ \\ =\\ \\ a_2 + d \\ \\ =\\ \\ a_1 + 2d \\ \\ =\\ \\ a_0 + 3d  \\\\\r\n",
        "\\vdots\\\\\r\n",
        "a_k &\\ \\ =\\ \\ a_{(k-1)}+d \\ =\\  a_{(k-2)}+2d \\ =\\  \\ldots \\ = \\  \\ a_1+(k-1)d \\ \\ =\\ \\ a_0+kd\r\n",
        "\\end{align*}\r\n",
        "\r\n",
        "<br /> \r\n",
        "for given   $a_0$ and $d$.\r\n",
        "\r\n",
        "In this case the sum of the first $n$ terms  of  the arithemnetic sequence  is then given by\r\n",
        "\\begin{align*}\r\n",
        "S_n &= \\sum_{k=0}^{n-1} a_k\t\\\\\r\n",
        "    &= \\sum_{k=0}^{n-1}[a_0+kd]\t\t\\\\\r\n",
        "    &= n a_0 + d \\sum_{k=0}^{n-1} k\t\\\\\r\n",
        "    &= n a_0 + d \\sum_{k=1}^{n-1} k\t\\\\\r\n",
        "    &= n a_0+  \\frac{1}{2} d(n-1)n \\\\\r\n",
        "\\end{align*}\r\n",
        "so \r\n",
        "$$ S_n =  \\frac{1}{2} n[2 a_0 + d(n-1)].$$\r\n",
        "<br /> \r\n",
        "\r\n"
      ]
    },
    {
      "cell_type": "markdown",
      "metadata": {
        "id": "GfBh-QHRcods"
      },
      "source": [
        "# Code\r\n",
        "##  The simplest arithmetic sequence and series\r\n",
        "\r\n",
        "The simplest arithmnetic sequence is \r\n",
        "\r\n",
        "\r\n",
        "$$  1 + 2+ \\ldots + (n-1)+ n = \\sum_{k=1}^n k$$"
      ]
    },
    {
      "cell_type": "code",
      "metadata": {
        "id": "Wm0Hq8YDidr2"
      },
      "source": [
        ""
      ],
      "execution_count": null,
      "outputs": []
    },
    {
      "cell_type": "markdown",
      "metadata": {
        "id": "n36eWqEXiktl"
      },
      "source": [
        "The following code plots the first $n$ terms of the simplest arithmnetic \r\n",
        "$$1, 2, ...,$$\r\n",
        "and is"
      ]
    },
    {
      "cell_type": "code",
      "metadata": {
        "id": "TFVP-bwCZiL2"
      },
      "source": [
        "# using a python list\r\n",
        "\r\n",
        "import matplotlib.pyplot as plt\r\n"
      ],
      "execution_count": 1,
      "outputs": []
    },
    {
      "cell_type": "code",
      "metadata": {
        "colab": {
          "base_uri": "https://localhost:8080/"
        },
        "id": "99xYHDQycnol",
        "outputId": "f5c1399a-1428-4f9e-8a63-02254447ee60"
      },
      "source": [
        "n = 10000000\r\n",
        "S_n = 0\r\n",
        "for i in range(1,n+1):  # range(n+19 goes form 1 to n\r\n",
        "  S_n = S_n + i \r\n",
        "print(S_n)"
      ],
      "execution_count": 2,
      "outputs": [
        {
          "output_type": "stream",
          "text": [
            "50000005000000\n"
          ],
          "name": "stdout"
        }
      ]
    },
    {
      "cell_type": "code",
      "metadata": {
        "colab": {
          "base_uri": "https://localhost:8080/"
        },
        "id": "RGCSuDGHeFwH",
        "outputId": "a813baea-83ca-44c5-dea0-619f19bb435a"
      },
      "source": [
        "n*(n+1)/2"
      ],
      "execution_count": 3,
      "outputs": [
        {
          "output_type": "execute_result",
          "data": {
            "text/plain": [
              "50000005000000.0"
            ]
          },
          "metadata": {
            "tags": []
          },
          "execution_count": 3
        }
      ]
    },
    {
      "cell_type": "markdown",
      "metadata": {
        "id": "bg8zxAhcecpk"
      },
      "source": [
        "The following code computes the $n$ term of the airthmetic series \r\n",
        "$$ S_n  = \\sum_{k=1}^n a_k$$\r\n",
        "\r\n",
        "<br /> \r\n",
        "for the airthmetic sequence $a_k = 10 + 3 (k-1) $ for $k=1,2,\\ldots$\r\n",
        "\r\n",
        "<br /> \r\n",
        "$$ 10,13,16,19,21,\\ldots$$\r\n"
      ]
    },
    {
      "cell_type": "code",
      "metadata": {
        "colab": {
          "base_uri": "https://localhost:8080/"
        },
        "id": "w8FP1XqSgnie",
        "outputId": "deebe6b5-bb5c-42ff-cd1e-66552bf8ee4e"
      },
      "source": [
        "n = 10000000\r\n",
        "a = 10\r\n",
        "d = 3\r\n",
        "S_n = 0\r\n",
        "for i in range(1,n+1):  # range(n+19 goes form 1 to n\r\n",
        "  S_n = S_n + a + d * (i-1) \r\n",
        "print(S_n)"
      ],
      "execution_count": 4,
      "outputs": [
        {
          "output_type": "stream",
          "text": [
            "150000085000000\n"
          ],
          "name": "stdout"
        }
      ]
    },
    {
      "cell_type": "code",
      "metadata": {
        "colab": {
          "base_uri": "https://localhost:8080/"
        },
        "id": "g_38RfB_hgg2",
        "outputId": "d84efd2f-5271-4bb6-e6a3-9292c4f29a3e"
      },
      "source": [
        "n*(2*a +d*(n-1))/2"
      ],
      "execution_count": 5,
      "outputs": [
        {
          "output_type": "execute_result",
          "data": {
            "text/plain": [
              "150000085000000.0"
            ]
          },
          "metadata": {
            "tags": []
          },
          "execution_count": 5
        }
      ]
    }
  ]
}