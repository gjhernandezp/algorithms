{
  "nbformat": 4,
  "nbformat_minor": 0,
  "metadata": {
    "colab": {
      "name": "SubSetSum.ipynb",
      "provenance": [],
      "collapsed_sections": []
    },
    "kernelspec": {
      "name": "python3",
      "display_name": "Python 3"
    }
  },
  "cells": [
    {
      "cell_type": "markdown",
      "metadata": {
        "id": "bHdBgLTuPEc4"
      },
      "source": [
        "Modified from\n",
        "\n",
        "* https://github.com/saltycrane/subset-sum/blob/master/subsetsum/bruteforce.py"
      ]
    },
    {
      "cell_type": "code",
      "metadata": {
        "id": "eCWEIb1dPD86"
      },
      "source": [
        "import itertools\n",
        "import numpy as np\n",
        "\n",
        "def bruteforce(x_list, target):\n",
        "    possiblities = []\n",
        "    for x in powerset(x_list):\n",
        "        possiblities.append((x, np.sum(x)))\n",
        "\n",
        "    x_list, actual_value = closest(possiblities, target)\n",
        "    #print(possiblities)\n",
        "\n",
        "    return (actual_value, x_list)\n",
        "\n",
        "\n",
        "def powerset(iterable):\n",
        "    '''powerset([1,2,3]) --> () (1,) (2,) (3,) (1,2) (1,3) (2,3) (1,2,3)\n",
        "    http://docs.python.org/library/itertools.html#recipes\n",
        "    '''\n",
        "    s = list(iterable)\n",
        "    return itertools.chain.from_iterable(itertools.combinations(s, r) for r in range(len(s) + 1))\n",
        "\n",
        "\n",
        "def closest(possiblities, target):\n",
        "    '''Modified from http://stackoverflow.com/questions/445782/finding-closest-match-in-collection-of-numbers/445824#445824'''\n",
        "    return min((abs(target - total), (o_list, total))\n",
        "               for o_list, total in possiblities)[1]"
      ],
      "execution_count": null,
      "outputs": []
    },
    {
      "cell_type": "code",
      "metadata": {
        "colab": {
          "base_uri": "https://localhost:8080/"
        },
        "id": "1DPcanS0mPGH",
        "outputId": "07f66ef0-f0b9-4633-bb0a-9e01670ef571"
      },
      "source": [
        "from time import time\n",
        "arr = [1, 2, 3] \n",
        "sum = 5\n",
        "\n",
        "time0 = time()\n",
        "bf = bruteforce(arr, sum)\n",
        "time1 = time()\n",
        "print('Brute force:', bf, time1 - time0)"
      ],
      "execution_count": null,
      "outputs": [
        {
          "output_type": "stream",
          "text": [
            "Brute force: (5, (2, 3)) 0.00037789344787597656\n"
          ],
          "name": "stdout"
        }
      ]
    },
    {
      "cell_type": "code",
      "metadata": {
        "colab": {
          "base_uri": "https://localhost:8080/"
        },
        "id": "eOOgj_3X1Ja1",
        "outputId": "f5649dde-4697-47d2-c18f-29c2ff9dffc7"
      },
      "source": [
        "from time import time\n",
        "arr = [1, 2, 3, 4] \n",
        "sum = 5\n",
        "\n",
        "time0 = time()\n",
        "bf = bruteforce(arr, sum)\n",
        "time1 = time()\n",
        "print('Brute force:', bf, time1 - time0)"
      ],
      "execution_count": null,
      "outputs": [
        {
          "output_type": "stream",
          "text": [
            "Brute force: (5, (1, 4)) 0.0005068778991699219\n"
          ],
          "name": "stdout"
        }
      ]
    },
    {
      "cell_type": "code",
      "metadata": {
        "colab": {
          "base_uri": "https://localhost:8080/"
        },
        "id": "mPHGpfBP1MfV",
        "outputId": "644890ec-2d61-4bb7-d725-710dd6ef306d"
      },
      "source": [
        "from time import time\n",
        "arr = [1, 2, 3, 4, 5] \n",
        "sum = 5\n",
        "\n",
        "time0 = time()\n",
        "bf = bruteforce(arr, sum)\n",
        "time1 = time()\n",
        "print('Brute force:', bf, time1 - time0)"
      ],
      "execution_count": null,
      "outputs": [
        {
          "output_type": "stream",
          "text": [
            "Brute force: (5, (2, 3)) 0.0006732940673828125\n"
          ],
          "name": "stdout"
        }
      ]
    },
    {
      "cell_type": "code",
      "metadata": {
        "colab": {
          "base_uri": "https://localhost:8080/"
        },
        "id": "4rI8w2Es1nhd",
        "outputId": "1ad5d2a6-97ce-4071-87bc-35c491aa91e0"
      },
      "source": [
        "from time import time\n",
        "arr = [1, 2, 3, 4, 5, 6] \n",
        "sum = 5\n",
        "\n",
        "time0 = time()\n",
        "bf = bruteforce(arr, sum)\n",
        "time1 = time()\n",
        "print('Brute force:', bf, time1 - time0)"
      ],
      "execution_count": null,
      "outputs": [
        {
          "output_type": "stream",
          "text": [
            "Brute force: (5, (1, 4)) 0.0010690689086914062\n"
          ],
          "name": "stdout"
        }
      ]
    },
    {
      "cell_type": "code",
      "metadata": {
        "colab": {
          "base_uri": "https://localhost:8080/"
        },
        "id": "pUotlkM_PaUf",
        "outputId": "aad5dfa6-0d2b-4cab-eeff-f9bc0473ccfe"
      },
      "source": [
        "from time import time\n",
        "x_list = [1150, 495, 995, 995, 995, 995, 100, 750, 3305, 75, 510, 3265, 2145, 1935, 140, 140, 15, 1330, 2800, 1250, 350, 850, 110]\n",
        "target = 8270\n",
        "\n",
        "time0 = time()\n",
        "bf = bruteforce(x_list, target)\n",
        "time1 = time()\n",
        "print('Brute force:', bf, time1 - time0)\n",
        "print(np.sum(bf[1]))"
      ],
      "execution_count": null,
      "outputs": [
        {
          "output_type": "stream",
          "text": [
            "Brute force: (8270, (75, 3265, 2145, 1935, 850)) 79.70525455474854\n",
            "8270\n"
          ],
          "name": "stdout"
        }
      ]
    },
    {
      "cell_type": "markdown",
      "metadata": {
        "id": "e9nHLCNFHoq3"
      },
      "source": [
        "Modified from \n",
        "\n",
        "* https://github.com/saltycrane/subset-sum/blob/master/subsetsum/bruteforce.py\n",
        "\n",
        "\n",
        " * https://github.com/saltycrane/subset-sum/blob/master/subsetsum/decorators.py\n",
        " \n",
        "\n",
        " * https://realpython.com/primer-on-python-decorators/"
      ]
    },
    {
      "cell_type": "markdown",
      "metadata": {
        "id": "0tFCnX-0Hxxv"
      },
      "source": [
        "From https://realpython.com/primer-on-python-decorators/"
      ]
    },
    {
      "cell_type": "code",
      "metadata": {
        "colab": {
          "base_uri": "https://localhost:8080/"
        },
        "id": "ShS8QmhgHjBb",
        "outputId": "7cb716b5-77d2-4d22-a213-2a294db6bc80"
      },
      "source": [
        "def do_twice(func):\n",
        "    def wrapper_do_twice():\n",
        "        func()\n",
        "        func()\n",
        "    return wrapper_do_twice\n",
        "\n",
        "@do_twice\n",
        "def say_whee():\n",
        "    print(\"Whee!\")\n",
        "\n",
        "say_whee() "
      ],
      "execution_count": null,
      "outputs": [
        {
          "output_type": "stream",
          "text": [
            "Whee!\n",
            "Whee!\n"
          ],
          "name": "stdout"
        }
      ]
    },
    {
      "cell_type": "code",
      "metadata": {
        "colab": {
          "base_uri": "https://localhost:8080/",
          "height": 201
        },
        "id": "DabQE_JwJm8p",
        "outputId": "46c5e853-b80e-421f-999d-ba7285d0a535"
      },
      "source": [
        "def do_twice(func):\n",
        "    def wrapper_do_twice():\n",
        "        func()\n",
        "        func()\n",
        "    return wrapper_do_twice\n",
        "\n",
        "@do_twice\n",
        "def greet(name):\n",
        "    print(f\"Hello {name}\") \n",
        "\n",
        "greet(\"World\")  "
      ],
      "execution_count": null,
      "outputs": [
        {
          "output_type": "error",
          "ename": "TypeError",
          "evalue": "ignored",
          "traceback": [
            "\u001b[0;31m---------------------------------------------------------------------------\u001b[0m",
            "\u001b[0;31mTypeError\u001b[0m                                 Traceback (most recent call last)",
            "\u001b[0;32m<ipython-input-12-81b9f0836103>\u001b[0m in \u001b[0;36m<module>\u001b[0;34m()\u001b[0m\n\u001b[1;32m      9\u001b[0m     \u001b[0mprint\u001b[0m\u001b[0;34m(\u001b[0m\u001b[0;34mf\"Hello {name}\"\u001b[0m\u001b[0;34m)\u001b[0m\u001b[0;34m\u001b[0m\u001b[0;34m\u001b[0m\u001b[0m\n\u001b[1;32m     10\u001b[0m \u001b[0;34m\u001b[0m\u001b[0m\n\u001b[0;32m---> 11\u001b[0;31m \u001b[0mgreet\u001b[0m\u001b[0;34m(\u001b[0m\u001b[0;34m\"World\"\u001b[0m\u001b[0;34m)\u001b[0m\u001b[0;34m\u001b[0m\u001b[0;34m\u001b[0m\u001b[0m\n\u001b[0m",
            "\u001b[0;31mTypeError\u001b[0m: wrapper_do_twice() takes 0 positional arguments but 1 was given"
          ]
        }
      ]
    },
    {
      "cell_type": "code",
      "metadata": {
        "colab": {
          "base_uri": "https://localhost:8080/"
        },
        "id": "c62MzWluIuWX",
        "outputId": "42b6509e-4368-4181-cb0a-4729235625e8"
      },
      "source": [
        "def do_twice(func):\n",
        "    def wrapper_do_twice(*args, **kwargs):\n",
        "        func(*args, **kwargs)\n",
        "        func(*args, **kwargs)\n",
        "    return wrapper_do_twice\n",
        "\n",
        "@do_twice\n",
        "def greet(name):\n",
        "    print(f\"Hello {name}\") \n",
        "\n",
        "greet(\"World\")    "
      ],
      "execution_count": null,
      "outputs": [
        {
          "output_type": "stream",
          "text": [
            "Hello World\n",
            "Hello World\n"
          ],
          "name": "stdout"
        }
      ]
    },
    {
      "cell_type": "code",
      "metadata": {
        "colab": {
          "base_uri": "https://localhost:8080/"
        },
        "id": "1ZaS3slLIBAE",
        "outputId": "43238084-c55a-45e6-a6b1-ea4e6ff3fde0"
      },
      "source": [
        "import functools\n",
        "\n",
        "def do_twice(func):\n",
        "    @functools.wraps(func)\n",
        "    def wrapper_do_twice(*args, **kwargs):\n",
        "        func(*args, **kwargs)\n",
        "        return func(*args, **kwargs)\n",
        "    return wrapper_do_twice\n",
        "\n",
        "say_whee() "
      ],
      "execution_count": null,
      "outputs": [
        {
          "output_type": "stream",
          "text": [
            "Whee!\n",
            "Whee!\n"
          ],
          "name": "stdout"
        }
      ]
    },
    {
      "cell_type": "markdown",
      "metadata": {
        "id": "8OXWx8ftZM7g"
      },
      "source": [
        "https://pymotw.com/2/signal/"
      ]
    },
    {
      "cell_type": "code",
      "metadata": {
        "colab": {
          "base_uri": "https://localhost:8080/",
          "height": 288
        },
        "id": "kb-hFkDoN3Xg",
        "outputId": "34651bd4-361b-477a-fc52-c2ffd0650dae"
      },
      "source": [
        "import signal\n",
        "import os\n",
        "import time\n",
        "\n",
        "def receive_signal(signum, stack):\n",
        "    print('Received:', signum)\n",
        "\n",
        "signal.signal(signal.SIGUSR1, receive_signal)\n",
        "signal.signal(signal.SIGUSR2, receive_signal)\n",
        "\n",
        "print('My PID is:', os.getpid())\n",
        "\n",
        "while True:\n",
        "    print('Waiting...')\n",
        "    time.sleep(3)"
      ],
      "execution_count": null,
      "outputs": [
        {
          "output_type": "stream",
          "text": [
            "My PID is: 55\n",
            "Waiting...\n",
            "Waiting...\n",
            "Waiting...\n",
            "Waiting...\n"
          ],
          "name": "stdout"
        },
        {
          "output_type": "error",
          "ename": "KeyboardInterrupt",
          "evalue": "ignored",
          "traceback": [
            "\u001b[0;31m---------------------------------------------------------------------------\u001b[0m",
            "\u001b[0;31mKeyboardInterrupt\u001b[0m                         Traceback (most recent call last)",
            "\u001b[0;32m<ipython-input-26-1e29fffa7a75>\u001b[0m in \u001b[0;36m<module>\u001b[0;34m()\u001b[0m\n\u001b[1;32m     13\u001b[0m \u001b[0;32mwhile\u001b[0m \u001b[0;32mTrue\u001b[0m\u001b[0;34m:\u001b[0m\u001b[0;34m\u001b[0m\u001b[0;34m\u001b[0m\u001b[0m\n\u001b[1;32m     14\u001b[0m     \u001b[0mprint\u001b[0m\u001b[0;34m(\u001b[0m\u001b[0;34m'Waiting...'\u001b[0m\u001b[0;34m)\u001b[0m\u001b[0;34m\u001b[0m\u001b[0;34m\u001b[0m\u001b[0m\n\u001b[0;32m---> 15\u001b[0;31m     \u001b[0mtime\u001b[0m\u001b[0;34m.\u001b[0m\u001b[0msleep\u001b[0m\u001b[0;34m(\u001b[0m\u001b[0;36m3\u001b[0m\u001b[0;34m)\u001b[0m\u001b[0;34m\u001b[0m\u001b[0;34m\u001b[0m\u001b[0m\n\u001b[0m",
            "\u001b[0;31mKeyboardInterrupt\u001b[0m: "
          ]
        }
      ]
    },
    {
      "cell_type": "markdown",
      "metadata": {
        "id": "2DBOOq2GIRFY"
      },
      "source": [
        ""
      ]
    },
    {
      "cell_type": "code",
      "metadata": {
        "id": "2lV7w7xtIQYY"
      },
      "source": [
        "import signal\n",
        "\n",
        "\n",
        "class TimeoutError(Exception):\n",
        "    def __init__(self, value=\"Timed Out\"):\n",
        "        self.value = value\n",
        "\n",
        "    def __str__(self):\n",
        "        return repr(self.value)\n",
        "\n",
        "\n",
        "def timeout(f):\n",
        "    def decorate(f):\n",
        "        def handler(signum, frame):\n",
        "            raise TimeoutError()\n",
        "\n",
        "        def new_f(*args, **kwargs):\n",
        "            old = signal.signal(signal.SIGALRM, handler)\n",
        "            print(args[1])\n",
        "            signal.alarm(args[1])\n",
        "            try:\n",
        "                result = f(*args, **kwargs)\n",
        "            finally:\n",
        "                signal.signal(signal.SIGALRM, old)\n",
        "            signal.alarm(0)\n",
        "            return result\n",
        "\n",
        "        return new_f\n",
        "\n",
        "    return decorate"
      ],
      "execution_count": null,
      "outputs": []
    },
    {
      "cell_type": "code",
      "metadata": {
        "id": "XrJauII4LIb4"
      },
      "source": [
        "import itertools\n",
        "import numpy as np\n",
        "\n",
        "\n",
        "# from decorators import timeout\n",
        "\n",
        "@timeout(1)\n",
        "def bruteforce(x_list, target):\n",
        "    possiblities = []\n",
        "    for x in powerset(x_list):\n",
        "        possiblities.append((x, np.sum(x)))\n",
        "\n",
        "    x_list, actual_value = closest(possiblities, target)\n",
        "\n",
        "    return (actual_value, x_list)\n",
        "\n",
        "\n",
        "def powerset(iterable):\n",
        "    '''powerset([1,2,3]) --> () (1,) (2,) (3,) (1,2) (1,3) (2,3) (1,2,3)\n",
        "    http://docs.python.org/library/itertools.html#recipes\n",
        "    '''\n",
        "    s = list(iterable)\n",
        "    return itertools.chain.from_iterable(itertools.combinations(s, r) for r in range(len(s) + 1))\n",
        "\n",
        "\n",
        "def closest(possiblities, target):\n",
        "    '''Modified from http://stackoverflow.com/questions/445782/finding-closest-match-in-collection-of-numbers/445824#445824'''\n",
        "    return min((abs(target - total), (o_list, total))\n",
        "               for o_list, total in possiblities)[1]\n"
      ],
      "execution_count": null,
      "outputs": []
    },
    {
      "cell_type": "code",
      "metadata": {
        "colab": {
          "base_uri": "https://localhost:8080/"
        },
        "id": "Ssn7sNxKLKl4",
        "outputId": "dfb70c60-91c6-4e47-fbd6-a21ce9a18f41"
      },
      "source": [
        "from time import time\n",
        "arr = [1, 2, 3] \n",
        "sum = 5\n",
        "\n",
        "time0 = time()\n",
        "bf = bruteforce(arr, sum)\n",
        "time1 = time()\n",
        "print('Brute force:', bf, time1 - time0)"
      ],
      "execution_count": null,
      "outputs": [
        {
          "output_type": "stream",
          "text": [
            "Brute force: (5, (2, 3)) 0.00036716461181640625\n"
          ],
          "name": "stdout"
        }
      ]
    },
    {
      "cell_type": "code",
      "metadata": {
        "colab": {
          "base_uri": "https://localhost:8080/"
        },
        "id": "n2hQuBS2LMr4",
        "outputId": "5034c37a-beb3-4f2b-e783-cddf299aea04"
      },
      "source": [
        "from time import time\n",
        "x_list = [1150, 495, 995, 995, 995, 995, 100, 750, 3305, 75, 510, 3265, 2145, 1935, 140, 140, 15, 1330, 2800, 1250, 350, 850, 110]\n",
        "target = 8270\n",
        "\n",
        "time0 = time()\n",
        "bf = bruteforce(x_list, target)\n",
        "time1 = time()\n",
        "print('Brute force:', bf, time1 - time0)\n",
        "print(np.sum(bf))"
      ],
      "execution_count": null,
      "outputs": [
        {
          "output_type": "stream",
          "text": [
            "8270\n",
            "Brute force: (8270, (75, 3265, 2145, 1935, 850)) 69.24561405181885\n",
            "[ 8345 11535 10415 10205  9120]\n"
          ],
          "name": "stdout"
        }
      ]
    }
  ]
}