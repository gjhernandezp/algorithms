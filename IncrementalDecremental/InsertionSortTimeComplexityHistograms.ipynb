{
  "nbformat": 4,
  "nbformat_minor": 0,
  "metadata": {
    "colab": {
      "name": "InsertionSortTimeComplexityHistograms.ipynb",
      "provenance": [],
      "collapsed_sections": []
    },
    "kernelspec": {
      "display_name": "Python 3",
      "name": "python3"
    }
  },
  "cells": [
    {
      "cell_type": "markdown",
      "metadata": {
        "id": "dah2-3PcT3Ct"
      },
      "source": [
        "# Insertion sort time complexity CLRS"
      ]
    },
    {
      "cell_type": "markdown",
      "metadata": {
        "id": "S7YAnjfqT9bf"
      },
      "source": [
        "$$t (n) = c_1 n +(c_2+c_4+c_8) (n-1) + c_5 \\sum_{j=2,..,n} t_j\n",
        " + (c6+c7) \\sum_{j=2,..,n}(t_j\n",
        "-1)$$\n",
        "\n",
        "If $c_i = 1$\n",
        "\n",
        "$$t (n) =  n +3 (n-1) +  \\sum_{j=2,..,n} t_j\n",
        " + 2 \\sum_{j=2,..,n}(t_j\n",
        "-1)$$\n",
        "\n",
        "$$t (n) =  4n -3 (n-1) +  \\sum_{j=2,..,n} t_j\n",
        " + 2 \\sum_{j=2,..,n}(t_j\n",
        "-1)$$\n",
        "\n",
        "$$t (n) =  4n -3  +  \\sum_{j=2,..,n} t_j\n",
        " + 2 \\sum_{j=2,..,n}t_j -\n",
        " 2 \\sum_{j=2,..,n} 1$$\n",
        "\n",
        "$$t (n) =  4n -3  +  \\sum_{j=2,..,n} t_j\n",
        " + 2 \\sum_{j=2,..,n} t_j - 2n + 2 $$\n",
        "\n",
        " $$t (n) =  2n -1  +  3\\sum_{j=2,..,n} t_j  $$"
      ]
    },
    {
      "cell_type": "markdown",
      "metadata": {
        "id": "HzddimL_UC8V"
      },
      "source": [
        "Best case time  decresingly sorted array\n",
        "\n",
        "$$ t_j = 1$$\n",
        "\n",
        "$$t_b(n) =  2n -1  +  3\\sum_{j=2,..,n} 1  $$\n",
        "\n",
        "$$t_b(n) =  2n -1  +  3(n-1) $$\n",
        "\n",
        "$$t_b(n) =  5n - 4 $$"
      ]
    },
    {
      "cell_type": "markdown",
      "metadata": {
        "id": "ryrkqOdzUJYd"
      },
      "source": [
        "Worst case time  incresingly sorted array \n",
        "$$ t_j = j$$\n",
        "$$t_w(n) = 2n-1 + 3  \\sum_{j=2,..,n} j$$\n",
        "\n",
        "Since\n",
        "\n",
        "$$\\sum_{j=2,..,n} j = \\frac{n(n+1)}{2} -1 $$\n",
        "\n",
        "$$t_w(n) = 2n-1 + 3  \\frac{n(n+1)}{2} -3$$\n",
        "$$t_w(n) = 2n-4 +  \\frac{3}{2} n^2 + \\frac{3}{2}n $$\n",
        "$$t_w(n) = \\frac{3}{2} n^2 + \\frac{7}{2} n  - 4  $$"
      ]
    },
    {
      "cell_type": "markdown",
      "metadata": {
        "id": "f2KY-FnDUNt7"
      },
      "source": [
        "Average case time over permutations of n diferent numbers\n",
        "$$ t_j = (j+1)/2$$\n",
        "\n",
        "$$t_a(n) = 2n-1 + 3  \\sum_{j=2,..,n} \\frac{j+1}{2}$$\n",
        "$$t_a(n) = 2n-1 + 3  \\sum_{j=2,..,n} \\frac{j}{2} + 3 \\sum_{j=2,..,n} \\frac{1}{2}$$\n",
        "$$t_a(n) = 2n-1 + \\frac{3}{2}  \\frac{n(n+1)}{2} -  \\frac{3}{2} + 3  \\frac{n-1}{2}$$\n",
        "$$t_a(n) = 2n-1 + \\frac{3}{2}  \\frac{n(n+1)}{2} -3$$\n",
        "$$t_a(n) = 2n-4 +  \\frac{3}{4} n^2 + \\frac{3}{4} n +\\frac{6}{4}n $$\n",
        "$$t_a(n) = \\frac{3}{4} n^2 + \\frac{17}{4} n  - 4  $$"
      ]
    },
    {
      "cell_type": "markdown",
      "metadata": {
        "id": "fhN5fOn8GtzR"
      },
      "source": [
        "# Experimental analysis of the Insertion Sort execution time "
      ]
    },
    {
      "cell_type": "code",
      "metadata": {
        "id": "AAevsTILZJK1"
      },
      "source": [
        "def insertion_sort(A):\n",
        "    j = 1\n",
        "    while j < len(A):\n",
        "        key = A[j]\n",
        "        i = j - 1\n",
        "        while (i >= 0) and (A[i] > key):\n",
        "            A[i + 1] = A[i]\n",
        "            i = i -1\n",
        "        A[i + 1] = key\n",
        "        j = j + 1"
      ],
      "execution_count": 1,
      "outputs": []
    },
    {
      "cell_type": "code",
      "metadata": {
        "colab": {
          "base_uri": "https://localhost:8080/",
          "height": 295
        },
        "id": "3W4AVrGyXa_c",
        "outputId": "f618cd55-f04c-4cd0-bb55-23a8c58eef07"
      },
      "source": [
        "import numpy as np\n",
        "import matplotlib.pyplot as plt\n",
        "import time \n",
        "\n",
        "sizes = np.arange(1,200,1)\n",
        "results_insertion = []\n",
        "for i in sizes:\n",
        "    list1 = list(range(i))\n",
        "    tic = time.time() \n",
        "    insertion_sort(list1)\n",
        "    toc = time.time() \n",
        "    timesum = toc - tic\n",
        "    results_insertion.append(timesum) \n",
        "plt.plot(sizes, results_insertion, 'bx', label = 'Insertion sort')\n",
        "plt.xlabel('Array size')\n",
        "plt.ylabel('Seconds')\n",
        "plt.legend(loc = 'upper left')"
      ],
      "execution_count": 2,
      "outputs": [
        {
          "output_type": "execute_result",
          "data": {
            "text/plain": [
              "<matplotlib.legend.Legend at 0x7efbdc3b1250>"
            ]
          },
          "metadata": {
            "tags": []
          },
          "execution_count": 2
        },
        {
          "output_type": "display_data",
          "data": {
            "image/png": "[encoded data removed]",
            "text/plain": [
              "<Figure size 432x288 with 1 Axes>"
            ]
          },
          "metadata": {
            "tags": [],
            "needs_background": "light"
          }
        }
      ]
    },
    {
      "cell_type": "code",
      "metadata": {
        "colab": {
          "base_uri": "https://localhost:8080/",
          "height": 295
        },
        "id": "MAEtgnhgZkAk",
        "outputId": "d6134097-a11e-4026-e089-26af228b4be6"
      },
      "source": [
        "import numpy as np\n",
        "import matplotlib.pyplot as plt\n",
        "import time \n",
        "\n",
        "sizes = np.arange(1,200,1)\n",
        "results_insertion = []\n",
        "for i in sizes:\n",
        "    list1 = list(range(i,1,-1))\n",
        "    tic = time.time() \n",
        "    insertion_sort(list1)\n",
        "    toc = time.time() \n",
        "    timesum = toc - tic\n",
        "    results_insertion.append(timesum) \n",
        "plt.plot(sizes, results_insertion, 'bx', label = 'Insertion sort')\n",
        "plt.xlabel('Array size')\n",
        "plt.ylabel('Seconds')\n",
        "plt.legend(loc = 'upper left')"
      ],
      "execution_count": 3,
      "outputs": [
        {
          "output_type": "execute_result",
          "data": {
            "text/plain": [
              "<matplotlib.legend.Legend at 0x7efbdfe15c50>"
            ]
          },
          "metadata": {
            "tags": []
          },
          "execution_count": 3
        },
        {
          "output_type": "display_data",
          "data": {
            "image/png": "[encoded data removed]",
            "text/plain": [
              "<Figure size 432x288 with 1 Axes>"
            ]
          },
          "metadata": {
            "tags": [],
            "needs_background": "light"
          }
        }
      ]
    },
    {
      "cell_type": "code",
      "metadata": {
        "colab": {
          "base_uri": "https://localhost:8080/",
          "height": 295
        },
        "id": "rxXIV4TbZzHU",
        "outputId": "be668a77-ba39-4c9a-fdee-8f81fb56221e"
      },
      "source": [
        "import numpy as np\n",
        "import matplotlib.pyplot as plt\n",
        "import time \n",
        "import random as rnd\n",
        "\n",
        "sizes = np.arange(1,200,1)\n",
        "results_insertion = []\n",
        "sizes_insertion = []\n",
        "for i in sizes:\n",
        "  for j in range(20):\n",
        "    list1 = list(range(i))\n",
        "    rnd.shuffle(list1)\n",
        "    tic = time.time() \n",
        "    insertion_sort(list1)\n",
        "    toc = time.time() \n",
        "    timesum = toc - tic\n",
        "    results_insertion.append(timesum) \n",
        "    sizes_insertion.append(i) \n",
        "plt.plot(sizes_insertion, results_insertion, 'bx', label = 'Insertion sort')\n",
        "plt.xlabel('Array size')\n",
        "plt.ylabel('Seconds')\n",
        "plt.legend(loc = 'upper left')"
      ],
      "execution_count": 4,
      "outputs": [
        {
          "output_type": "execute_result",
          "data": {
            "text/plain": [
              "<matplotlib.legend.Legend at 0x7efbe035cb50>"
            ]
          },
          "metadata": {
            "tags": []
          },
          "execution_count": 4
        },
        {
          "output_type": "display_data",
          "data": {
            "image/png": "[encoded data removed]",
            "text/plain": [
              "<Figure size 432x288 with 1 Axes>"
            ]
          },
          "metadata": {
            "tags": [],
            "needs_background": "light"
          }
        }
      ]
    },
    {
      "cell_type": "code",
      "metadata": {
        "colab": {
          "base_uri": "https://localhost:8080/",
          "height": 306
        },
        "id": "-YDLqtvn9F-n",
        "outputId": "7e33d10a-c9ad-45ab-d26e-c5ad4fb1d005"
      },
      "source": [
        "import numpy as np\n",
        "import matplotlib.pyplot as plt\n",
        "import time \n",
        "import random as rnd\n",
        "\n",
        "sizes = np.arange(1,21,1)\n",
        "results_insertion = []\n",
        "sizes_insertion = []\n",
        "for i in sizes:\n",
        "\n",
        "  list1 = list(range(i))\n",
        "  tic = time.time() \n",
        "  insertion_sort(list1)\n",
        "  toc = time.time() \n",
        "  timesum = toc - tic\n",
        "  results_insertion.append(timesum) \n",
        "  sizes_insertion.append(i) \n",
        "  \n",
        "  list1 = list(range(i,1,-1))\n",
        "  tic = time.time() \n",
        "  insertion_sort(list1)\n",
        "  toc = time.time() \n",
        "  timesum = toc - tic\n",
        "  results_insertion.append(timesum) \n",
        "  sizes_insertion.append(i) \n",
        "  \n",
        "  for j in range(23):\n",
        "    list1 = list(range(i))\n",
        "    rnd.shuffle(list1)\n",
        "    tic = time.time() \n",
        "    insertion_sort(list1)\n",
        "    toc = time.time() \n",
        "    timesum = toc - tic\n",
        "    results_insertion.append(timesum) \n",
        "    sizes_insertion.append(i) \n",
        "\n",
        "plt.plot(sizes_insertion, results_insertion, 'bx', label = 'Insertion sort')\n",
        "plt.xlabel('Array size')\n",
        "plt.ylabel('Seconds')\n",
        "plt.legend(loc = 'upper left')"
      ],
      "execution_count": 5,
      "outputs": [
        {
          "output_type": "execute_result",
          "data": {
            "text/plain": [
              "<matplotlib.legend.Legend at 0x7efbdbe64c90>"
            ]
          },
          "metadata": {
            "tags": []
          },
          "execution_count": 5
        },
        {
          "output_type": "display_data",
          "data": {
            "image/png": "[encoded data removed]",
            "text/plain": [
              "<Figure size 432x288 with 1 Axes>"
            ]
          },
          "metadata": {
            "tags": [],
            "needs_background": "light"
          }
        }
      ]
    },
    {
      "cell_type": "code",
      "metadata": {
        "colab": {
          "base_uri": "https://localhost:8080/",
          "height": 295
        },
        "id": "3CMJ1Uh0brT0",
        "outputId": "ba1f7ff2-3595-43ef-d169-7516000084b0"
      },
      "source": [
        "import numpy as np\n",
        "import matplotlib.pyplot as plt\n",
        "import time \n",
        "import random as rnd\n",
        "\n",
        "sizes = np.arange(1,200,1)\n",
        "results_insertion = []\n",
        "sizes_insertion = []\n",
        "for i in sizes:\n",
        "\n",
        "  list1 = list(range(i))\n",
        "  tic = time.time() \n",
        "  insertion_sort(list1)\n",
        "  toc = time.time() \n",
        "  timesum = toc - tic\n",
        "  results_insertion.append(timesum) \n",
        "  sizes_insertion.append(i) \n",
        "  \n",
        "  list1 = list(range(i,1,-1))\n",
        "  tic = time.time() \n",
        "  insertion_sort(list1)\n",
        "  toc = time.time() \n",
        "  timesum = toc - tic\n",
        "  results_insertion.append(timesum) \n",
        "  sizes_insertion.append(i) \n",
        "  \n",
        "  for j in range(23):\n",
        "    list1 = list(range(i))\n",
        "    rnd.shuffle(list1)\n",
        "    tic = time.time() \n",
        "    insertion_sort(list1)\n",
        "    toc = time.time() \n",
        "    timesum = toc - tic\n",
        "    results_insertion.append(timesum) \n",
        "    sizes_insertion.append(i) \n",
        "\n",
        "plt.plot(sizes_insertion, results_insertion, 'bx', label = 'Insertion sort')\n",
        "plt.xlabel('Array size')\n",
        "plt.ylabel('Seconds')\n",
        "plt.legend(loc = 'upper left')"
      ],
      "execution_count": 6,
      "outputs": [
        {
          "output_type": "execute_result",
          "data": {
            "text/plain": [
              "<matplotlib.legend.Legend at 0x7efbdbd89e90>"
            ]
          },
          "metadata": {
            "tags": []
          },
          "execution_count": 6
        },
        {
          "output_type": "display_data",
          "data": {
            "image/png": "[encoded data removed]",
            "text/plain": [
              "<Figure size 432x288 with 1 Axes>"
            ]
          },
          "metadata": {
            "tags": [],
            "needs_background": "light"
          }
        }
      ]
    },
    {
      "cell_type": "markdown",
      "metadata": {
        "id": "s7kd3azNICNE"
      },
      "source": [
        "# Insertion Sort counting steps like CLRS I.2.1\n",
        "\n"
      ]
    },
    {
      "cell_type": "markdown",
      "metadata": {
        "id": "kHJtTJfY2mAI"
      },
      "source": [
        "$$t_b(n) =  5n - 4 $$\n",
        "\n",
        "$$t_a(n) = \\frac{3}{4} n^2 + \\frac{17}{4} n  - 4  $$\n",
        "\n",
        "$$t_w(n) = \\frac{3}{2} n^2 + \\frac{7}{2} n  - 4  $$"
      ]
    },
    {
      "cell_type": "code",
      "metadata": {
        "colab": {
          "base_uri": "https://localhost:8080/",
          "height": 295
        },
        "id": "scmCThyk2myO",
        "outputId": "78017628-6338-4f47-c603-15d276fe8777"
      },
      "source": [
        "import matplotlib.pyplot as plt\n",
        "import numpy as np\n",
        "\n",
        "n = np.arange(1,21,1)\n",
        "\n",
        "plt.plot(n, 5*n-4,  label = 'Insertion sort best time $5n-4$')\n",
        "plt.plot(n, 3/4*n**2+17/4*n-4, label = 'Insertion average time $3/4 n*^2+17/4 n - 4$')\n",
        "plt.plot(n, 3/2*n**2+7/2*n-4, label = 'Insertion average time $3/2 n*^2+7/2 n - 4$')\n",
        "plt.xlabel('Array size')\n",
        "plt.ylabel('Steps')\n",
        "plt.legend(loc = 'upper left')"
      ],
      "execution_count": 7,
      "outputs": [
        {
          "output_type": "execute_result",
          "data": {
            "text/plain": [
              "<matplotlib.legend.Legend at 0x7efbdbc60e10>"
            ]
          },
          "metadata": {
            "tags": []
          },
          "execution_count": 7
        },
        {
          "output_type": "display_data",
          "data": {
            "image/png": "[encoded data removed]",
            "text/plain": [
              "<Figure size 432x288 with 1 Axes>"
            ]
          },
          "metadata": {
            "tags": [],
            "needs_background": "light"
          }
        }
      ]
    },
    {
      "cell_type": "markdown",
      "metadata": {
        "id": "kfliWyLC2fcG"
      },
      "source": [
        "$$t (n) =  4n -3 (n-1) +  \\sum_{j=2,..,n} t_j\n",
        " + 2 \\sum_{j=2,..,n}(t_j\n",
        "-1)$$"
      ]
    },
    {
      "cell_type": "code",
      "metadata": {
        "id": "9jtIbWEuICvE"
      },
      "source": [
        "def insertion_sort_steps(A):\n",
        "    steps = 0\n",
        "    j = 1\n",
        "    while j < len(A):\n",
        "        key = A[j]\n",
        "        i = j - 1\n",
        "        while (i >= 0) and (A[i] > key):\n",
        "            A[i + 1] = A[i]\n",
        "            i = i -1\n",
        "            steps=steps+3;\n",
        "        steps=steps+1;    \n",
        "        A[i + 1] = key\n",
        "        j = j + 1\n",
        "    steps=steps+(4*len(A))-3\n",
        "    return steps"
      ],
      "execution_count": 8,
      "outputs": []
    },
    {
      "cell_type": "markdown",
      "metadata": {
        "id": "MfVzfDUnIJMT"
      },
      "source": [
        "Generate all permutations without repetitions of size *n* (for small *n*), plot the \"exact\" time  distribution (number of steps), and print the media and the standar deviation"
      ]
    },
    {
      "cell_type": "code",
      "metadata": {
        "colab": {
          "base_uri": "https://localhost:8080/",
          "height": 444
        },
        "id": "6OlufEV-IJoK",
        "outputId": "800660ed-bebd-4f2b-b78a-348a3c0bbaa2"
      },
      "source": [
        "from itertools import permutations\n",
        "import matplotlib.pyplot as plt\n",
        "import numpy as np\n",
        "import math\n",
        "\n",
        "n=3\n",
        "X = range(n)\n",
        "times = []\n",
        "\n",
        "for P in permutations(X):\n",
        "  t = insertion_sort_steps(list(P)) \n",
        "  times.append(t)  \n",
        "b = np.array(range(min(times)-1, max(times)+1))+0.5\n",
        "plt.hist(times, bins = b )\n",
        "plt.title(\"Insetion Sort\")\n",
        "plt.xlabel(\"Steps\")\n",
        "plt.ylabel(\"Frequency\")\n",
        "plt.show()\n",
        "    \n",
        "print(\"n\",n)\n",
        "print(\"number of permutations n! =\",math.factorial(n)) \n",
        "print(\"exp min =\",min(times))\n",
        "print(\"min formula 5*n-4 =\",5*n-4)\n",
        "print(\"exp max =\",max(times))\n",
        "print(\"max formula 3/2*n**2+7/2*n-4 =\",3/2*n**2+7/2*n-4)\n",
        "print(\"exp mean =\",np.mean(times))\n",
        "print(\"mean formula 3/4*n**2+17/4*n-4 =\",3/4*n**2+17/4*n-4)\n",
        "print(\"stdev\",np.std(times))"
      ],
      "execution_count": 9,
      "outputs": [
        {
          "output_type": "display_data",
          "data": {
            "image/png": "[encoded data removed]",
            "text/plain": [
              "<Figure size 432x288 with 1 Axes>"
            ]
          },
          "metadata": {
            "tags": [],
            "needs_background": "light"
          }
        },
        {
          "output_type": "stream",
          "text": [
            "n 3\n",
            "number of permutations n! = 6\n",
            "exp min = 11\n",
            "min formula 5*n-4 = 11\n",
            "exp max = 20\n",
            "max formula 3/2*n**2+7/2*n-4 = 20.0\n",
            "exp mean = 15.5\n",
            "mean formula 3/4*n**2+17/4*n-4 = 15.5\n",
            "stdev 2.8722813232690143\n"
          ],
          "name": "stdout"
        }
      ]
    },
    {
      "cell_type": "code",
      "metadata": {
        "colab": {
          "base_uri": "https://localhost:8080/",
          "height": 444
        },
        "id": "syZeILJdwNFD",
        "outputId": "2e3a25fb-f9ec-4144-e3f9-450aff8841af"
      },
      "source": [
        "from itertools import permutations\n",
        "import matplotlib.pyplot as plt\n",
        "import numpy as np\n",
        "import math\n",
        "\n",
        "n=4\n",
        "X = range(n)\n",
        "times = []\n",
        "\n",
        "for P in permutations(X):\n",
        "  t = insertion_sort_steps(list(P)) \n",
        "  times.append(t)  \n",
        "\n",
        "b = np.array(range(min(times)-1, max(times)+1))+0.5\n",
        "plt.hist(times, bins = b )\n",
        "plt.title(\"Insetion Sort\")\n",
        "plt.xlabel(\"Steps\")\n",
        "plt.ylabel(\"Frequency\")\n",
        "plt.show()\n",
        "    \n",
        "print(\"n\",n)\n",
        "print(\"number of permutations n! =\",math.factorial(n)) \n",
        "print(\"exp min =\",min(times))\n",
        "print(\"min formula 5*n-4 =\",5*n-4)\n",
        "print(\"exp max =\",max(times))\n",
        "print(\"max formula 3/2*n**2+7/2*n-4 =\",3/2*n**2+7/2*n-4)\n",
        "print(\"exp mean =\",np.mean(times))\n",
        "print(\"mean formula 3/4*n**2+17/4*n-4 =\",3/4*n**2+17/4*n-4)\n",
        "print(\"stdev\",np.std(times))"
      ],
      "execution_count": 10,
      "outputs": [
        {
          "output_type": "display_data",
          "data": {
            "image/png": "[encoded data removed]",
            "text/plain": [
              "<Figure size 432x288 with 1 Axes>"
            ]
          },
          "metadata": {
            "tags": [],
            "needs_background": "light"
          }
        },
        {
          "output_type": "stream",
          "text": [
            "n 4\n",
            "number of permutations n! = 24\n",
            "exp min = 16\n",
            "min formula 5*n-4 = 16\n",
            "exp max = 34\n",
            "max formula 3/2*n**2+7/2*n-4 = 34.0\n",
            "exp mean = 25.0\n",
            "mean formula 3/4*n**2+17/4*n-4 = 25.0\n",
            "stdev 4.415880433163924\n"
          ],
          "name": "stdout"
        }
      ]
    },
    {
      "cell_type": "code",
      "metadata": {
        "colab": {
          "base_uri": "https://localhost:8080/",
          "height": 444
        },
        "id": "I-5RT7J6wQ54",
        "outputId": "f0b7f9d9-f67c-404c-85cb-e2636173e9d0"
      },
      "source": [
        "from itertools import permutations\n",
        "import matplotlib.pyplot as plt\n",
        "import numpy as np\n",
        "import math\n",
        "\n",
        "n=5\n",
        "X = range(n)\n",
        "times = []\n",
        "\n",
        "for P in permutations(X):\n",
        "  t = insertion_sort_steps(list(P)) \n",
        "  times.append(t)  \n",
        "\n",
        "b = np.array(range(min(times)-1, max(times)+1))+0.5\n",
        "plt.hist(times, bins = b )\n",
        "plt.title(\"Insetion Sort\")\n",
        "plt.xlabel(\"Steps\")\n",
        "plt.ylabel(\"Frequency\")\n",
        "plt.show()\n",
        "    \n",
        "print(\"n\",n)\n",
        "print(\"number of permutations n! =\",math.factorial(n)) \n",
        "print(\"exp min =\",min(times))\n",
        "print(\"min formula 5*n-4 =\",5*n-4)\n",
        "print(\"exp max =\",max(times))\n",
        "print(\"max formula 3/2*n**2+7/2*n-4 =\",3/2*n**2+7/2*n-4)\n",
        "print(\"exp mean =\",np.mean(times))\n",
        "print(\"mean formula 3/4*n**2+17/4*n-4 =\",3/4*n**2+17/4*n-4)\n",
        "print(\"stdev\",np.std(times))"
      ],
      "execution_count": 11,
      "outputs": [
        {
          "output_type": "display_data",
          "data": {
            "image/png": "[encoded data removed]",
            "text/plain": [
              "<Figure size 432x288 with 1 Axes>"
            ]
          },
          "metadata": {
            "tags": [],
            "needs_background": "light"
          }
        },
        {
          "output_type": "stream",
          "text": [
            "n 5\n",
            "number of permutations n! = 120\n",
            "exp min = 21\n",
            "min formula 5*n-4 = 21\n",
            "exp max = 51\n",
            "max formula 3/2*n**2+7/2*n-4 = 51.0\n",
            "exp mean = 36.0\n",
            "mean formula 3/4*n**2+17/4*n-4 = 36.0\n",
            "stdev 6.123724356957945\n"
          ],
          "name": "stdout"
        }
      ]
    },
    {
      "cell_type": "code",
      "metadata": {
        "colab": {
          "base_uri": "https://localhost:8080/",
          "height": 444
        },
        "id": "yXlJ8bscwT3_",
        "outputId": "74ba5298-7b09-4579-eecd-5862dafc0e72"
      },
      "source": [
        "from itertools import permutations\n",
        "import matplotlib.pyplot as plt\n",
        "import numpy as np\n",
        "import math\n",
        "\n",
        "n=6\n",
        "X = range(n)\n",
        "times = []\n",
        "\n",
        "for P in permutations(X):\n",
        "  t = insertion_sort_steps(list(P)) \n",
        "  times.append(t)  \n",
        "\n",
        "b = np.array(range(min(times)-1, max(times)+1))+0.5\n",
        "plt.hist(times, bins = b )\n",
        "plt.title(\"Insetion Sort\")\n",
        "plt.xlabel(\"Steps\")\n",
        "plt.ylabel(\"Frequency\")\n",
        "plt.show()\n",
        "    \n",
        "print(\"n\",n)\n",
        "print(\"number of permutations n! =\",math.factorial(n)) \n",
        "print(\"exp min =\",min(times))\n",
        "print(\"min formula 5*n-4 =\",5*n-4)\n",
        "print(\"exp max =\",max(times))\n",
        "print(\"max formula 3/2*n**2+7/2*n-4 =\",3/2*n**2+7/2*n-4)\n",
        "print(\"exp mean =\",np.mean(times))\n",
        "print(\"mean formula 3/4*n**2+17/4*n-4 =\",3/4*n**2+17/4*n-4)\n",
        "print(\"stdev\",np.std(times))"
      ],
      "execution_count": 12,
      "outputs": [
        {
          "output_type": "display_data",
          "data": {
            "image/png": "[encoded data removed]",
            "text/plain": [
              "<Figure size 432x288 with 1 Axes>"
            ]
          },
          "metadata": {
            "tags": [],
            "needs_background": "light"
          }
        },
        {
          "output_type": "stream",
          "text": [
            "n 6\n",
            "number of permutations n! = 720\n",
            "exp min = 26\n",
            "min formula 5*n-4 = 26\n",
            "exp max = 71\n",
            "max formula 3/2*n**2+7/2*n-4 = 71.0\n",
            "exp mean = 48.5\n",
            "mean formula 3/4*n**2+17/4*n-4 = 48.5\n",
            "stdev 7.984359711335656\n"
          ],
          "name": "stdout"
        }
      ]
    },
    {
      "cell_type": "code",
      "metadata": {
        "colab": {
          "base_uri": "https://localhost:8080/",
          "height": 444
        },
        "id": "IZzSy0ArmQg7",
        "outputId": "1cab780f-90b0-4da6-dda5-5a516068f562"
      },
      "source": [
        "from itertools import permutations\n",
        "import matplotlib.pyplot as plt\n",
        "import numpy as np\n",
        "import math\n",
        "\n",
        "n=7\n",
        "X = range(n)\n",
        "times = []\n",
        "\n",
        "for P in permutations(X):\n",
        "  t = insertion_sort_steps(list(P)) \n",
        "  times.append(t)  \n",
        "\n",
        "b = np.array(range(min(times)-1, max(times)+1))+0.5\n",
        "plt.hist(times, bins = b )\n",
        "plt.title(\"Insetion Sort\")\n",
        "plt.xlabel(\"Steps\")\n",
        "plt.ylabel(\"Frequency\")\n",
        "plt.show()\n",
        "    \n",
        "print(\"n\",n)\n",
        "print(\"number of permutations n! =\",math.factorial(n)) \n",
        "print(\"exp min =\",min(times))\n",
        "print(\"min formula 5*n-4 =\",5*n-4)\n",
        "print(\"exp max =\",max(times))\n",
        "print(\"max formula 3/2*n**2+7/2*n-4 =\",3/2*n**2+7/2*n-4)\n",
        "print(\"exp mean =\",np.mean(times))\n",
        "print(\"mean formula 3/4*n**2+17/4*n-4 =\",3/4*n**2+17/4*n-4)\n",
        "print(\"stdev\",np.std(times))"
      ],
      "execution_count": 13,
      "outputs": [
        {
          "output_type": "display_data",
          "data": {
            "image/png": "[encoded data removed]",
            "text/plain": [
              "<Figure size 432x288 with 1 Axes>"
            ]
          },
          "metadata": {
            "tags": [],
            "needs_background": "light"
          }
        },
        {
          "output_type": "stream",
          "text": [
            "n 7\n",
            "number of permutations n! = 5040\n",
            "exp min = 31\n",
            "min formula 5*n-4 = 31\n",
            "exp max = 94\n",
            "max formula 3/2*n**2+7/2*n-4 = 94.0\n",
            "exp mean = 62.5\n",
            "mean formula 3/4*n**2+17/4*n-4 = 62.5\n",
            "stdev 9.987492177719089\n"
          ],
          "name": "stdout"
        }
      ]
    },
    {
      "cell_type": "code",
      "metadata": {
        "colab": {
          "base_uri": "https://localhost:8080/",
          "height": 444
        },
        "id": "IXzjXmURmSbU",
        "outputId": "a602688c-12f2-4610-abcf-a1fedf5f2e13"
      },
      "source": [
        "from itertools import permutations\n",
        "import matplotlib.pyplot as plt\n",
        "import numpy as np\n",
        "import math\n",
        "\n",
        "n=8\n",
        "X = range(n)\n",
        "times = []\n",
        "\n",
        "for P in permutations(X):\n",
        "  t = insertion_sort_steps(list(P)) \n",
        "  times.append(t)  \n",
        "\n",
        "b = np.array(range(min(times)-1, max(times)+1))+0.5\n",
        "plt.hist(times, bins = b )\n",
        "plt.title(\"Insetion Sort\")\n",
        "plt.xlabel(\"Steps\")\n",
        "plt.ylabel(\"Frequency\")\n",
        "plt.show()\n",
        "    \n",
        "print(\"n\",n)\n",
        "print(\"number of permutations n! =\",math.factorial(n)) \n",
        "print(\"exp min =\",min(times))\n",
        "print(\"min formula 5*n-4 =\",5*n-4)\n",
        "print(\"exp max =\",max(times))\n",
        "print(\"max formula 3/2*n**2+7/2*n-4 =\",3/2*n**2+7/2*n-4)\n",
        "print(\"exp mean =\",np.mean(times))\n",
        "print(\"mean formula 3/4*n**2+17/4*n-4 =\",3/4*n**2+17/4*n-4)\n",
        "print(\"stdev\",np.std(times))"
      ],
      "execution_count": 14,
      "outputs": [
        {
          "output_type": "display_data",
          "data": {
            "image/png": "[encoded data removed]",
            "text/plain": [
              "<Figure size 432x288 with 1 Axes>"
            ]
          },
          "metadata": {
            "tags": [],
            "needs_background": "light"
          }
        },
        {
          "output_type": "stream",
          "text": [
            "n 8\n",
            "number of permutations n! = 40320\n",
            "exp min = 36\n",
            "min formula 5*n-4 = 36\n",
            "exp max = 120\n",
            "max formula 3/2*n**2+7/2*n-4 = 120.0\n",
            "exp mean = 78.0\n",
            "mean formula 3/4*n**2+17/4*n-4 = 78.0\n",
            "stdev 12.12435565298214\n"
          ],
          "name": "stdout"
        }
      ]
    },
    {
      "cell_type": "code",
      "metadata": {
        "colab": {
          "base_uri": "https://localhost:8080/",
          "height": 444
        },
        "id": "xXBBldkSmUSK",
        "outputId": "5d1d1b4e-5ef3-4bc1-f44f-83e47303750f"
      },
      "source": [
        "from itertools import permutations\n",
        "import matplotlib.pyplot as plt\n",
        "import numpy as np\n",
        "import math\n",
        "\n",
        "n=9\n",
        "X = range(n)\n",
        "times = []\n",
        "\n",
        "for P in permutations(X):\n",
        "  t = insertion_sort_steps(list(P)) \n",
        "  times.append(t)  \n",
        "\n",
        "b = np.array(range(min(times)-1, max(times)))+0.5\n",
        "plt.hist(times, bins = b )\n",
        "plt.title(\"Insetion Sort\")\n",
        "plt.xlabel(\"Steps\")\n",
        "plt.ylabel(\"Frequency\")\n",
        "plt.show()\n",
        "    \n",
        "print(\"n\",n)\n",
        "print(\"number of permutations n! =\",math.factorial(n)) \n",
        "print(\"exp min =\",min(times))\n",
        "print(\"min formula 5*n-4 =\",5*n-4)\n",
        "print(\"exp max =\",max(times))\n",
        "print(\"max formula 3/2*n**2+7/2*n-4 =\",3/2*n**2+7/2*n-4)\n",
        "print(\"exp mean =\",np.mean(times))\n",
        "print(\"mean formula 3/4*n**2+17/4*n-4 =\",3/4*n**2+17/4*n-4)\n",
        "print(\"stdev\",np.std(times))"
      ],
      "execution_count": 15,
      "outputs": [
        {
          "output_type": "display_data",
          "data": {
            "image/png": "[encoded data removed]",
            "text/plain": [
              "<Figure size 432x288 with 1 Axes>"
            ]
          },
          "metadata": {
            "tags": [],
            "needs_background": "light"
          }
        },
        {
          "output_type": "stream",
          "text": [
            "n 9\n",
            "number of permutations n! = 362880\n",
            "exp min = 41\n",
            "min formula 5*n-4 = 41\n",
            "exp max = 149\n",
            "max formula 3/2*n**2+7/2*n-4 = 149.0\n",
            "exp mean = 95.0\n",
            "mean formula 3/4*n**2+17/4*n-4 = 95.0\n",
            "stdev 14.38749456993816\n"
          ],
          "name": "stdout"
        }
      ]
    },
    {
      "cell_type": "code",
      "metadata": {
        "colab": {
          "base_uri": "https://localhost:8080/",
          "height": 444
        },
        "id": "RaMDOzJ_mVtb",
        "outputId": "f8d852ca-812e-4b81-e362-cc9af60f08ba"
      },
      "source": [
        "from itertools import permutations\n",
        "import matplotlib.pyplot as plt\n",
        "import numpy as np\n",
        "import math\n",
        "\n",
        "n=10\n",
        "X = range(n)\n",
        "times = []\n",
        "\n",
        "for P in permutations(X):\n",
        "  t = insertion_sort_steps(list(P)) \n",
        "  times.append(t) \n",
        "\n",
        "b = np.array(range(min(times)-1, max(times)+1))+0.5\n",
        "plt.hist(times, bins = b )\n",
        "plt.title(\"Insetion Sort\")\n",
        "plt.xlabel(\"Steps\")\n",
        "plt.ylabel(\"Frequency\")\n",
        "plt.show()\n",
        "    \n",
        "print(\"n\",n)\n",
        "print(\"number of permutations n! =\",math.factorial(n)) \n",
        "print(\"exp min =\",min(times))\n",
        "print(\"min formula 5*n-4 =\",5*n-4)\n",
        "print(\"exp max =\",max(times))\n",
        "print(\"max formula 3/2*n**2+7/2*n-4 =\",3/2*n**2+7/2*n-4)\n",
        "print(\"exp mean =\",np.mean(times))\n",
        "print(\"mean formula 3/4*n**2+17/4*n-4 =\",3/4*n**2+17/4*n-4)\n",
        "print(\"stdev\",np.std(times))"
      ],
      "execution_count": 16,
      "outputs": [
        {
          "output_type": "display_data",
          "data": {
            "image/png": "[encoded data removed]",
            "text/plain": [
              "<Figure size 432x288 with 1 Axes>"
            ]
          },
          "metadata": {
            "tags": [],
            "needs_background": "light"
          }
        },
        {
          "output_type": "stream",
          "text": [
            "n 10\n",
            "number of permutations n! = 3628800\n",
            "exp min = 46\n",
            "min formula 5*n-4 = 46\n",
            "exp max = 181\n",
            "max formula 3/2*n**2+7/2*n-4 = 181.0\n",
            "exp mean = 113.5\n",
            "mean formula 3/4*n**2+17/4*n-4 = 113.5\n",
            "stdev 16.77050983124842\n"
          ],
          "name": "stdout"
        }
      ]
    },
    {
      "cell_type": "code",
      "metadata": {
        "colab": {
          "base_uri": "https://localhost:8080/",
          "height": 444
        },
        "id": "a_k-rk43mdOb",
        "outputId": "4ce67ce5-9178-4c77-941d-7faa44f6b66b"
      },
      "source": [
        "from itertools import permutations\n",
        "import matplotlib.pyplot as plt\n",
        "import numpy as np\n",
        "import math\n",
        "\n",
        "n=11\n",
        "X = range(n)\n",
        "times = []\n",
        "\n",
        "for P in permutations(X):\n",
        "  t = insertion_sort_steps(list(P)) \n",
        "  times.append(t)  \n",
        "\n",
        "b = np.array(range(min(times)-1, max(times)+1))+0.5\n",
        "plt.hist(times, bins = b )\n",
        "plt.title(\"Insetion Sort\")\n",
        "plt.xlabel(\"Steps\")\n",
        "plt.ylabel(\"Frequency\")\n",
        "plt.show()\n",
        "    \n",
        "print(\"n\",n)\n",
        "print(\"number of permutations n! =\",math.factorial(n)) \n",
        "print(\"exp min =\",min(times))\n",
        "print(\"min formula 5*n-4 =\",5*n-4)\n",
        "print(\"exp max =\",max(times))\n",
        "print(\"max formula 3/2*n**2+7/2*n-4 =\",3/2*n**2+7/2*n-4)\n",
        "print(\"exp mean =\",np.mean(times))\n",
        "print(\"mean formula 3/4*n**2+17/4*n-4 =\",3/4*n**2+17/4*n-4)\n",
        "print(\"stdev\",np.std(times))"
      ],
      "execution_count": 17,
      "outputs": [
        {
          "output_type": "display_data",
          "data": {
            "image/png": "[encoded data removed]",
            "text/plain": [
              "<Figure size 432x288 with 1 Axes>"
            ]
          },
          "metadata": {
            "tags": [],
            "needs_background": "light"
          }
        },
        {
          "output_type": "stream",
          "text": [
            "n 11\n",
            "number of permutations n! = 39916800\n",
            "exp min = 51\n",
            "min formula 5*n-4 = 51\n",
            "exp max = 216\n",
            "max formula 3/2*n**2+7/2*n-4 = 216.0\n",
            "exp mean = 133.5\n",
            "mean formula 3/4*n**2+17/4*n-4 = 133.5\n",
            "stdev 19.267848867997692\n"
          ],
          "name": "stdout"
        }
      ]
    },
    {
      "cell_type": "markdown",
      "metadata": {
        "id": "j-so_gwTISPr"
      },
      "source": [
        "Generate a sample of *runs=1000* random permutations of size *n=1024* (for large *n*), plot the \"approximated o estimated\" time  distribution (number of steps), and print the media and the standar deviation."
      ]
    },
    {
      "cell_type": "code",
      "metadata": {
        "colab": {
          "base_uri": "https://localhost:8080/",
          "height": 444
        },
        "id": "qnVa_8aLIVMD",
        "outputId": "a360fbc4-41d2-4d0c-dc06-4e857d2e0d60"
      },
      "source": [
        "import matplotlib.pyplot as plt\n",
        "import numpy as np\n",
        "\n",
        "n=3\n",
        "runs=1000\n",
        "times = []\n",
        "for r in range(1,runs+1): \n",
        "  P= np.random.permutation(n)\n",
        "  t = insertion_sort_steps(P) \n",
        "  times.append(t)  \n",
        "\n",
        "b = np.array(range(min(times)-1, max(times)+1))+0.5\n",
        "plt.hist(times, bins = b )  \n",
        "plt.title(\"Insetion Sort\")\n",
        "plt.xlabel(\"Steps\")\n",
        "plt.ylabel(\"Frequency\")\n",
        "plt.show()\n",
        "    \n",
        "print(\"n\",n)\n",
        "print(\"runs\",runs)\n",
        "print(\"min\",min(times))\n",
        "print(\"min formula ,5*n-4 =\",5*n-4)\n",
        "print(\"max\",max(times))\n",
        "print(\"max formula 3/2*n**2+7/2*n-4 =\",3/2*n**2+7/2*n-4)\n",
        "print(\"mean\",np.mean(times))\n",
        "print(\"mean formula 3/4*n**2+17/4*n-4 = \",3/4*n**2+17/4*n-4)\n",
        "print(\"stdev\",np.std(times))"
      ],
      "execution_count": 18,
      "outputs": [
        {
          "output_type": "display_data",
          "data": {
            "image/png": "[encoded data removed]",
            "text/plain": [
              "<Figure size 432x288 with 1 Axes>"
            ]
          },
          "metadata": {
            "tags": [],
            "needs_background": "light"
          }
        },
        {
          "output_type": "stream",
          "text": [
            "n 3\n",
            "runs 1000\n",
            "min 11\n",
            "min formula ,5*n-4 = 11\n",
            "max 20\n",
            "max formula 3/2*n**2+7/2*n-4 = 20.0\n",
            "mean 15.509\n",
            "mean formula 3/4*n**2+17/4*n-4 =  15.5\n",
            "stdev 2.9879623491603775\n"
          ],
          "name": "stdout"
        }
      ]
    },
    {
      "cell_type": "code",
      "metadata": {
        "colab": {
          "base_uri": "https://localhost:8080/",
          "height": 444
        },
        "id": "TGXIVcQTxgh6",
        "outputId": "f35057f5-efe9-479f-d918-b9bc88234bfa"
      },
      "source": [
        "import matplotlib.pyplot as plt\n",
        "import numpy as np\n",
        "\n",
        "n=4\n",
        "runs=10000\n",
        "times = []\n",
        "for r in range(1,runs+1): \n",
        "  P= np.random.permutation(n)\n",
        "  t = insertion_sort_steps(P) \n",
        "  times.append(t)  \n",
        "\n",
        "b = np.array(range(min(times)-1, max(times)+1))+0.5\n",
        "plt.hist(times, bins = b )  \n",
        "plt.title(\"Insetion Sort\")\n",
        "plt.xlabel(\"Steps\")\n",
        "plt.ylabel(\"Frequency\")\n",
        "plt.show()\n",
        "    \n",
        "print(\"n\",n)\n",
        "print(\"runs\",runs)\n",
        "print(\"min\",min(times))\n",
        "print(\"min formula ,5*n-4 =\",5*n-4)\n",
        "print(\"max\",max(times))\n",
        "print(\"max formula 3/2*n**2+7/2*n-4 =\",3/2*n**2+7/2*n-4)\n",
        "print(\"mean\",np.mean(times))\n",
        "print(\"mean formula 3/4*n**2+17/4*n-4 = \",3/4*n**2+17/4*n-4)\n",
        "print(\"stdev\",np.std(times))"
      ],
      "execution_count": 19,
      "outputs": [
        {
          "output_type": "display_data",
          "data": {
            "image/png": "[encoded data removed]",
            "text/plain": [
              "<Figure size 432x288 with 1 Axes>"
            ]
          },
          "metadata": {
            "tags": [],
            "needs_background": "light"
          }
        },
        {
          "output_type": "stream",
          "text": [
            "n 4\n",
            "runs 10000\n",
            "min 16\n",
            "min formula ,5*n-4 = 16\n",
            "max 34\n",
            "max formula 3/2*n**2+7/2*n-4 = 34.0\n",
            "mean 24.9343\n",
            "mean formula 3/4*n**2+17/4*n-4 =  25.0\n",
            "stdev 4.385975776266896\n"
          ],
          "name": "stdout"
        }
      ]
    },
    {
      "cell_type": "code",
      "metadata": {
        "colab": {
          "base_uri": "https://localhost:8080/",
          "height": 444
        },
        "id": "gJ2_5RdTxpfE",
        "outputId": "dd7e8dc6-1c2f-4f16-cac0-dcd45906166b"
      },
      "source": [
        "import matplotlib.pyplot as plt\n",
        "import numpy as np\n",
        "\n",
        "n=30\n",
        "runs=10000\n",
        "times = []\n",
        "for r in range(1,runs+1): \n",
        "  P= np.random.permutation(n)\n",
        "  t = insertion_sort_steps(P) \n",
        "  times.append(t)  \n",
        "\n",
        "b = np.array(range(min(times)-1, max(times)+1))+0.5\n",
        "plt.hist(times, bins = b )  \n",
        "plt.title(\"Insetion Sort\")\n",
        "plt.xlabel(\"Steps\")\n",
        "plt.ylabel(\"Frequency\")\n",
        "plt.show()\n",
        "    \n",
        "print(\"n\",n)\n",
        "print(\"runs\",runs)\n",
        "print(\"min\",min(times))\n",
        "print(\"min formula ,5*n-4 =\",5*n-4)\n",
        "print(\"max\",max(times))\n",
        "print(\"max formula 3/2*n**2+7/2*n-4 =\",3/2*n**2+7/2*n-4)\n",
        "print(\"mean\",np.mean(times))\n",
        "print(\"mean formula 3/4*n**2+17/4*n-4 = \",3/4*n**2+17/4*n-4)\n",
        "print(\"stdev\",np.std(times))"
      ],
      "execution_count": 23,
      "outputs": [
        {
          "output_type": "display_data",
          "data": {
            "image/png": "[encoded data removed]",
            "text/plain": [
              "<Figure size 432x288 with 1 Axes>"
            ]
          },
          "metadata": {
            "tags": [],
            "needs_background": "light"
          }
        },
        {
          "output_type": "stream",
          "text": [
            "n 30\n",
            "runs 10000\n",
            "min 500\n",
            "min formula ,5*n-4 = 146\n",
            "max 1163\n",
            "max formula 3/2*n**2+7/2*n-4 = 1451.0\n",
            "mean 798.2909\n",
            "mean formula 3/4*n**2+17/4*n-4 =  798.5\n",
            "stdev 84.46450542796069\n"
          ],
          "name": "stdout"
        }
      ]
    },
    {
      "cell_type": "code",
      "metadata": {
        "colab": {
          "base_uri": "https://localhost:8080/",
          "height": 444
        },
        "id": "DaKKHOES1LDB",
        "outputId": "b05d55bb-9fbc-464f-bf2a-26dde7b4475a"
      },
      "source": [
        "import matplotlib.pyplot as plt\n",
        "import numpy as np\n",
        "\n",
        "n=100\n",
        "runs=100000\n",
        "times = []\n",
        "for r in range(1,runs+1): \n",
        "  P= np.random.permutation(n)\n",
        "  t = insertion_sort_steps(P) \n",
        "  times.append(t)  \n",
        "\n",
        "b = np.array(range(min(times)-1, max(times)+1))+0.5\n",
        "plt.hist(times, bins = b )  \n",
        "plt.title(\"Insetion Sort\")\n",
        "plt.xlabel(\"Steps\")\n",
        "plt.ylabel(\"Frequency\")\n",
        "plt.show()\n",
        "    \n",
        "print(\"n\",n)\n",
        "print(\"runs\",runs)\n",
        "print(\"min\",min(times))\n",
        "print(\"min formula ,5*n-4 =\",5*n-4)\n",
        "print(\"max\",max(times))\n",
        "print(\"max formula 3/2*n**2+7/2*n-4 =\",3/2*n**2+7/2*n-4)\n",
        "print(\"mean\",np.mean(times))\n",
        "print(\"mean formula 3/4*n**2+17/4*n-4 = \",3/4*n**2+17/4*n-4)\n",
        "print(\"stdev\",np.std(times))"
      ],
      "execution_count": 24,
      "outputs": [
        {
          "output_type": "display_data",
          "data": {
            "image/png": "[encoded data removed]",
            "text/plain": [
              "<Figure size 432x288 with 1 Axes>"
            ]
          },
          "metadata": {
            "tags": [],
            "needs_background": "light"
          }
        },
        {
          "output_type": "stream",
          "text": [
            "n 100\n",
            "runs 100000\n",
            "min 5560\n",
            "min formula ,5*n-4 = 496\n",
            "max 10057\n",
            "max formula 3/2*n**2+7/2*n-4 = 15346.0\n",
            "mean 7920.01951\n",
            "mean formula 3/4*n**2+17/4*n-4 =  7921.0\n",
            "stdev 502.2301009988946\n"
          ],
          "name": "stdout"
        }
      ]
    }
  ]
}