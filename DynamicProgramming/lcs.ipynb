{
  "nbformat": 4,
  "nbformat_minor": 0,
  "metadata": {
    "colab": {
      "name": "lcs.ipynb",
      "provenance": [],
      "collapsed_sections": []
    },
    "kernelspec": {
      "name": "python3",
      "display_name": "Python 3"
    },
    "language_info": {
      "name": "python"
    }
  },
  "cells": [
    {
      "cell_type": "markdown",
      "metadata": {
        "id": "j-aXFIi9UmYq"
      },
      "source": [
        "Modified from http://rosettacode.org/wiki/Longest_common_subsequence#Python"
      ]
    },
    {
      "cell_type": "code",
      "metadata": {
        "id": "emADBzdFUeRD"
      },
      "source": [
        "# O(2^(m+n))\n",
        "def lcsRF(xstr, ystr):\n",
        "    if not xstr or not ystr:\n",
        "        return \"\"\n",
        "    x, xs, y, ys = xstr[0], xstr[1:], ystr[0], ystr[1:]\n",
        "    if x == y:\n",
        "        return x + lcsRF(xs, ys)\n",
        "    else:\n",
        "        return max(lcsRF(xstr, ys), lcsRF(xs, ystr), key=len)"
      ],
      "execution_count": 1,
      "outputs": []
    },
    {
      "cell_type": "code",
      "metadata": {
        "colab": {
          "base_uri": "https://localhost:8080/",
          "height": 35
        },
        "id": "gOWeexbYUpHA",
        "outputId": "442c563b-4f29-45a4-d179-620e60938e6f"
      },
      "source": [
        "lcsRF('ABCBDAB', 'BDCADA')"
      ],
      "execution_count": 3,
      "outputs": [
        {
          "output_type": "execute_result",
          "data": {
            "application/vnd.google.colaboratory.intrinsic+json": {
              "type": "string"
            },
            "text/plain": [
              "'BCDA'"
            ]
          },
          "metadata": {
            "tags": []
          },
          "execution_count": 3
        }
      ]
    },
    {
      "cell_type": "code",
      "metadata": {
        "id": "Q0ljgS75U5Ov"
      },
      "source": [
        "# O(2^(m+n))\n",
        "def lcsRB(xstr, ystr):\n",
        "    if not xstr or not ystr:\n",
        "        return \"\"\n",
        "    x, xs, y, ys = xstr[len(xstr)-1], xstr[:len(xstr)-1], ystr[len(ystr)-1], ystr[:len(ystr)-1]\n",
        "    if x == y:\n",
        "        return lcsRB(xs, ys) +  x \n",
        "    else:\n",
        "        return max(lcsRB(xstr, ys), lcsRB(xs, ystr), key=len)"
      ],
      "execution_count": 4,
      "outputs": []
    },
    {
      "cell_type": "code",
      "metadata": {
        "colab": {
          "base_uri": "https://localhost:8080/",
          "height": 35
        },
        "id": "qEz0cE3NU6Xn",
        "outputId": "4c00765c-80db-445f-b7d7-2e0712d5a70f"
      },
      "source": [
        "lcsRB('ABCBDAB', 'BDCADA')"
      ],
      "execution_count": 5,
      "outputs": [
        {
          "output_type": "execute_result",
          "data": {
            "application/vnd.google.colaboratory.intrinsic+json": {
              "type": "string"
            },
            "text/plain": [
              "'BCDA'"
            ]
          },
          "metadata": {
            "tags": []
          },
          "execution_count": 5
        }
      ]
    },
    {
      "cell_type": "code",
      "metadata": {
        "id": "_WeAHzWPU8kX"
      },
      "source": [
        "# O(mn)\n",
        "def lcsDP(a, b):\n",
        "    lengths = [[0 for j in range(len(b)+1)] for i in range(len(a)+1)]\n",
        "    # row 0 and column 0 are initialized to 0 already\n",
        "    for i, x in enumerate(a):\n",
        "        for j, y in enumerate(b):\n",
        "            if x == y:\n",
        "                lengths[i+1][j+1] = lengths[i][j] + 1\n",
        "            else:\n",
        "                lengths[i+1][j+1] = \\\n",
        "                    max(lengths[i+1][j], lengths[i][j+1])\n",
        "    # read one the substring out from the matrix\n",
        "    result = \"\"\n",
        "    x, y = len(a), len(b)\n",
        "    while x != 0 and y != 0:\n",
        "        if lengths[x][y] == lengths[x-1][y]:\n",
        "            x -= 1\n",
        "        elif lengths[x][y] == lengths[x][y-1]:\n",
        "            y -= 1\n",
        "        else:\n",
        "            assert a[x-1] == b[y-1]\n",
        "            result = a[x-1] + result\n",
        "            x -= 1\n",
        "            y -= 1\n",
        "    return result"
      ],
      "execution_count": null,
      "outputs": []
    },
    {
      "cell_type": "code",
      "metadata": {
        "colab": {
          "base_uri": "https://localhost:8080/",
          "height": 35
        },
        "id": "pYuiPMRMVDMn",
        "outputId": "ae5b482e-9c35-4340-88d5-45154f3ee797"
      },
      "source": [
        "lcsRB('ABCBDAB', 'BDCADA')"
      ],
      "execution_count": 6,
      "outputs": [
        {
          "output_type": "execute_result",
          "data": {
            "application/vnd.google.colaboratory.intrinsic+json": {
              "type": "string"
            },
            "text/plain": [
              "'BCDA'"
            ]
          },
          "metadata": {
            "tags": []
          },
          "execution_count": 6
        }
      ]
    }
  ]
}