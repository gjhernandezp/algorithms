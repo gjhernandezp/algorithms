{
  "nbformat": 4,
  "nbformat_minor": 0,
  "metadata": {
    "colab": {
      "name": "MarkdownCC++FortranJSGoogleColabTMP.ipynb",
      "provenance": [],
      "collapsed_sections": []
    },
    "kernelspec": {
      "name": "python3",
      "display_name": "Python 3"
    }
  },
  "cells": [
    {
      "cell_type": "code",
      "metadata": {
        "colab": {
          "base_uri": "https://localhost:8080/"
        },
        "id": "1MQDG8JHwPYJ",
        "outputId": "9a1a2957-88a6-47e1-da83-ed8a26b930e1"
      },
      "source": [
        "2+2"
      ],
      "execution_count": 1,
      "outputs": [
        {
          "output_type": "execute_result",
          "data": {
            "text/plain": [
              "4"
            ]
          },
          "metadata": {
            "tags": []
          },
          "execution_count": 1
        }
      ]
    },
    {
      "cell_type": "markdown",
      "metadata": {
        "id": "1xrJlWfiwlYu"
      },
      "source": [
        "# H1\r\n",
        "## H2\r\n",
        "### H3\r\n",
        "#### H4\r\n",
        "##### H5\r\n",
        "###### H6"
      ]
    },
    {
      "cell_type": "markdown",
      "metadata": {
        "id": "JKjer8zCwnOW"
      },
      "source": [
        "# ALG 2021 I\r\n",
        "## Example\r\n",
        "\r\n",
        "Hello everybody\r\n",
        "\r\n",
        "Strong emphasis, aka bold, with **asterisks** or __underscores__.\r\n",
        "\r\n",
        "Emphasis, aka italics, with *asterisks* or _underscores_.\r\n",
        "\r\n",
        "1. First ordered list item\r\n",
        "2. Another item\r\n",
        "\r\n",
        "* Unordered list can use asterisks\r\n",
        "- Or minuses\r\n",
        "+ Or pluses\r\n",
        "\r\n",
        "[I'm an inline-style link with title](https://www.google.com \"Google's Homepage\")\r\n",
        "\r\n",
        "Inline-style: \r\n",
        "![alt text](https://github.com/adam-p/markdown-here/raw/master/src/common/images/icon48.png \"Logo Title Text 1\")\r\n",
        "\r\n",
        "\r\n",
        "```javascript\r\n",
        "var s = \"JavaScript syntax highlighting\";\r\n",
        "alert(s);\r\n",
        "```\r\n",
        " \r\n",
        "```python\r\n",
        "s = \"Python syntax highlighting\"\r\n",
        "print s\r\n",
        "```\r\n",
        " \r\n",
        "```\r\n",
        "No language indicated, so no syntax highlighting. \r\n",
        "But let's throw in a <b>tag</b>.\r\n",
        "```\r\n",
        "\r\n",
        "<dl>\r\n",
        "  <dt>Definition list</dt>\r\n",
        "  <dd>Is something people use sometimes.</dd>\r\n",
        "\r\n",
        "  <dt>Markdown in HTML</dt>\r\n",
        "  <dd>Does *not* work **very** well. Use HTML <em>tags</em>.</dd>\r\n",
        "</dl>\r\n",
        "\r\n",
        "<a href=\"https://www.youtube.com/watch?v=ZyjCqQEUa8o&feature=emb_imp_woyt&v=YOUTUBE_VIDEO_ID_HERE\r\n",
        "\" target=\"_blank\"><img src=\"https://cdn.searchenginejournal.com/wp-content/uploads/2019/07/shutterstock_1457601002-760x400.png\" \r\n",
        "alt=\"Video link\" width=\"240\" height=\"180\" border=\"10\" /></a>\r\n",
        "\r\n",
        "$$ \\sum \\limits _{i=1} ^{10} \\int \\limits _0 ^{\\infty} e^{\\nu _i x } dx  =\\left( \\begin{array}{cc} 1 & 2 \\\\ 3 & 4 \\end{array}\\right) \r\n",
        "\\left( \\begin{array}{c} 5 \\\\ 6 \\end{array} \\right) = \r\n",
        "\\mathbf{\\underline{V}}$$"
      ]
    },
    {
      "cell_type": "code",
      "metadata": {
        "colab": {
          "base_uri": "https://localhost:8080/"
        },
        "id": "NAT-JUrdwmUn",
        "outputId": "99e3ff98-ca2b-40aa-c45d-116a42e27d0c"
      },
      "source": [
        "!cat /proc/cpuinfo"
      ],
      "execution_count": 2,
      "outputs": [
        {
          "output_type": "stream",
          "text": [
            "processor\t: 0\n",
            "vendor_id\t: GenuineIntel\n",
            "cpu family\t: 6\n",
            "model\t\t: 63\n",
            "model name\t: Intel(R) Xeon(R) CPU @ 2.30GHz\n",
            "stepping\t: 0\n",
            "microcode\t: 0x1\n",
            "cpu MHz\t\t: 2299.998\n",
            "cache size\t: 46080 KB\n",
            "physical id\t: 0\n",
            "siblings\t: 2\n",
            "core id\t\t: 0\n",
            "cpu cores\t: 1\n",
            "apicid\t\t: 0\n",
            "initial apicid\t: 0\n",
            "fpu\t\t: yes\n",
            "fpu_exception\t: yes\n",
            "cpuid level\t: 13\n",
            "wp\t\t: yes\n",
            "flags\t\t: fpu vme de pse tsc msr pae mce cx8 apic sep mtrr pge mca cmov pat pse36 clflush mmx fxsr sse sse2 ss ht syscall nx pdpe1gb rdtscp lm constant_tsc rep_good nopl xtopology nonstop_tsc cpuid tsc_known_freq pni pclmulqdq ssse3 fma cx16 pcid sse4_1 sse4_2 x2apic movbe popcnt aes xsave avx f16c rdrand hypervisor lahf_lm abm invpcid_single ssbd ibrs ibpb stibp fsgsbase tsc_adjust bmi1 avx2 smep bmi2 erms invpcid xsaveopt arat md_clear arch_capabilities\n",
            "bugs\t\t: cpu_meltdown spectre_v1 spectre_v2 spec_store_bypass l1tf mds swapgs\n",
            "bogomips\t: 4599.99\n",
            "clflush size\t: 64\n",
            "cache_alignment\t: 64\n",
            "address sizes\t: 46 bits physical, 48 bits virtual\n",
            "power management:\n",
            "\n",
            "processor\t: 1\n",
            "vendor_id\t: GenuineIntel\n",
            "cpu family\t: 6\n",
            "model\t\t: 63\n",
            "model name\t: Intel(R) Xeon(R) CPU @ 2.30GHz\n",
            "stepping\t: 0\n",
            "microcode\t: 0x1\n",
            "cpu MHz\t\t: 2299.998\n",
            "cache size\t: 46080 KB\n",
            "physical id\t: 0\n",
            "siblings\t: 2\n",
            "core id\t\t: 0\n",
            "cpu cores\t: 1\n",
            "apicid\t\t: 1\n",
            "initial apicid\t: 1\n",
            "fpu\t\t: yes\n",
            "fpu_exception\t: yes\n",
            "cpuid level\t: 13\n",
            "wp\t\t: yes\n",
            "flags\t\t: fpu vme de pse tsc msr pae mce cx8 apic sep mtrr pge mca cmov pat pse36 clflush mmx fxsr sse sse2 ss ht syscall nx pdpe1gb rdtscp lm constant_tsc rep_good nopl xtopology nonstop_tsc cpuid tsc_known_freq pni pclmulqdq ssse3 fma cx16 pcid sse4_1 sse4_2 x2apic movbe popcnt aes xsave avx f16c rdrand hypervisor lahf_lm abm invpcid_single ssbd ibrs ibpb stibp fsgsbase tsc_adjust bmi1 avx2 smep bmi2 erms invpcid xsaveopt arat md_clear arch_capabilities\n",
            "bugs\t\t: cpu_meltdown spectre_v1 spectre_v2 spec_store_bypass l1tf mds swapgs\n",
            "bogomips\t: 4599.99\n",
            "clflush size\t: 64\n",
            "cache_alignment\t: 64\n",
            "address sizes\t: 46 bits physical, 48 bits virtual\n",
            "power management:\n",
            "\n"
          ],
          "name": "stdout"
        }
      ]
    },
    {
      "cell_type": "code",
      "metadata": {
        "colab": {
          "base_uri": "https://localhost:8080/"
        },
        "id": "D-LyeYMNyH-3",
        "outputId": "5a90fe93-cd24-4f83-daa6-4fea6ea487b0"
      },
      "source": [
        "!pwd"
      ],
      "execution_count": 3,
      "outputs": [
        {
          "output_type": "stream",
          "text": [
            "/content\n"
          ],
          "name": "stdout"
        }
      ]
    },
    {
      "cell_type": "code",
      "metadata": {
        "colab": {
          "base_uri": "https://localhost:8080/"
        },
        "id": "nP7gPVus1pJH",
        "outputId": "20bb5878-ae4a-4671-b97e-cbcac48218c2"
      },
      "source": [
        "%%writefile tmpc.c\r\n",
        "\r\n",
        "#include <stdio.h>\r\n",
        "\r\n",
        "int main(void) {\r\n",
        "\tprintf(\"Code C executed !!! \\n \");\r\n",
        "\treturn 0;\r\n",
        "}"
      ],
      "execution_count": 4,
      "outputs": [
        {
          "output_type": "stream",
          "text": [
            "Overwriting tmpc.c\n"
          ],
          "name": "stdout"
        }
      ]
    },
    {
      "cell_type": "code",
      "metadata": {
        "colab": {
          "base_uri": "https://localhost:8080/"
        },
        "id": "zvnSw40x26Wv",
        "outputId": "bc05cfa2-2b2f-49ab-f5e8-d277cf9637ab"
      },
      "source": [
        "!gcc tmpc.c -o tmpc\r\n",
        "!./tmpc"
      ],
      "execution_count": 5,
      "outputs": [
        {
          "output_type": "stream",
          "text": [
            "Code C executed !!! \n",
            " "
          ],
          "name": "stdout"
        }
      ]
    },
    {
      "cell_type": "code",
      "metadata": {
        "colab": {
          "base_uri": "https://localhost:8080/"
        },
        "id": "QGH-ccWL3Cee",
        "outputId": "5216c029-c84f-4fe2-fec1-fc67c72ebd2b"
      },
      "source": [
        "%%writefile tmpcc.cc\r\n",
        "#include <iostream>\r\n",
        "using namespace std;\r\n",
        "\r\n",
        "int main() {\r\n",
        "  cout << \"Code C++ executed !!! \"  << endl;  \r\n",
        "\treturn 0;\r\n",
        "}"
      ],
      "execution_count": 6,
      "outputs": [
        {
          "output_type": "stream",
          "text": [
            "Overwriting tmpcc.cc\n"
          ],
          "name": "stdout"
        }
      ]
    },
    {
      "cell_type": "code",
      "metadata": {
        "colab": {
          "base_uri": "https://localhost:8080/"
        },
        "id": "VGpf0YA83IAf",
        "outputId": "41535db3-5ebe-4a25-aa18-72161c9c8cba"
      },
      "source": [
        "!g++ tmpcc.cc -o tmpcc\r\n",
        "!./tmpcc"
      ],
      "execution_count": 7,
      "outputs": [
        {
          "output_type": "stream",
          "text": [
            "Code C++ executed !!! \n"
          ],
          "name": "stdout"
        }
      ]
    },
    {
      "cell_type": "code",
      "metadata": {
        "colab": {
          "base_uri": "https://localhost:8080/"
        },
        "id": "DNHeDqFrBcyn",
        "outputId": "248ee41c-f971-48e0-f831-bc0ce889ca58"
      },
      "source": [
        "%%writefile tmpc.c\r\n",
        "\r\n",
        "#include <stdio.h>\r\n",
        "\r\n",
        "int main(void) {\r\n",
        "\tprintf(\"ingrese un string !!!  \");\r\n",
        "  char string[80];\r\n",
        "  scanf(\"  %s\", string);\r\n",
        "  printf(\"Salida: %s\" , string);\r\n",
        "\treturn 0;\r\n",
        "}"
      ],
      "execution_count": 8,
      "outputs": [
        {
          "output_type": "stream",
          "text": [
            "Overwriting tmpc.c\n"
          ],
          "name": "stdout"
        }
      ]
    },
    {
      "cell_type": "code",
      "metadata": {
        "colab": {
          "base_uri": "https://localhost:8080/"
        },
        "id": "YR_MjMDgBe32",
        "outputId": "74e4d689-d306-487d-d9e5-fa4c80115f85"
      },
      "source": [
        "!gcc tmpc.c -o tmpc\r\n",
        "!./tmpc"
      ],
      "execution_count": 9,
      "outputs": [
        {
          "output_type": "stream",
          "text": [
            "ingrese un string !!!  Hola\n",
            "Salida: Hola"
          ],
          "name": "stdout"
        }
      ]
    },
    {
      "cell_type": "code",
      "metadata": {
        "colab": {
          "base_uri": "https://localhost:8080/"
        },
        "id": "uPMGlHmV3bGW",
        "outputId": "f5b89eb7-fb0f-4535-81db-68729e41b435"
      },
      "source": [
        "%%writefile tmpcc1.cc\r\n",
        "#include <iostream>\r\n",
        "using namespace std;\r\n",
        "\r\n",
        "int main() {\r\n",
        "  int x;\r\n",
        "  cout << \"Introduce and integer \"  << endl; \r\n",
        "  cin >> x;\r\n",
        "  cout << \"Code C++ executed !!! \"   << x << endl;  \r\n",
        "\treturn 0;\r\n",
        "}"
      ],
      "execution_count": 10,
      "outputs": [
        {
          "output_type": "stream",
          "text": [
            "Overwriting tmpcc1.cc\n"
          ],
          "name": "stdout"
        }
      ]
    },
    {
      "cell_type": "markdown",
      "metadata": {
        "id": "EIWzr9PQ5dqA"
      },
      "source": [
        "If you read value,  you have to click in the cell and introduce the value\r\n"
      ]
    },
    {
      "cell_type": "code",
      "metadata": {
        "colab": {
          "base_uri": "https://localhost:8080/"
        },
        "id": "Nk67qXVj5ALH",
        "outputId": "8ff131c3-aa66-4166-adce-7472dfc24b7c"
      },
      "source": [
        "!g++ tmpcc1.cc -o tmpcc1\r\n",
        "!./tmpcc1"
      ],
      "execution_count": 11,
      "outputs": [
        {
          "output_type": "stream",
          "text": [
            "Introduce and integer \n",
            "68\n",
            "Code C++ executed !!! 68\n"
          ],
          "name": "stdout"
        }
      ]
    },
    {
      "cell_type": "markdown",
      "metadata": {
        "id": "-bO1MQmw5noQ"
      },
      "source": [
        "Also you can create file with inputs and redirect the input with in unix command <"
      ]
    },
    {
      "cell_type": "code",
      "metadata": {
        "colab": {
          "base_uri": "https://localhost:8080/"
        },
        "id": "JkvYmI0P40SH",
        "outputId": "e9b0ed55-5715-4a29-dc04-87f8f26ad4fe"
      },
      "source": [
        "!./tmpcc1 < input.txt "
      ],
      "execution_count": 12,
      "outputs": [
        {
          "output_type": "stream",
          "text": [
            "Introduce and integer \n",
            "Code C++ executed !!! 3\n"
          ],
          "name": "stdout"
        }
      ]
    },
    {
      "cell_type": "markdown",
      "metadata": {
        "id": "JDVcMNoY6AK3"
      },
      "source": [
        "Also redirect the to a file with the unix command >"
      ]
    },
    {
      "cell_type": "code",
      "metadata": {
        "id": "OAAs6h484UQf"
      },
      "source": [
        "!g++ tmpcc.cc -o tmpcc\r\n",
        "!./tmpcc < input.txt > output.txt"
      ],
      "execution_count": 13,
      "outputs": []
    },
    {
      "cell_type": "code",
      "metadata": {
        "colab": {
          "base_uri": "https://localhost:8080/"
        },
        "id": "We7SkXDt6S_m",
        "outputId": "50bd7302-6163-4cc4-f727-d4e9418939ea"
      },
      "source": [
        "%%writefile tmpf.f\r\n",
        "      program TEST\r\n",
        "\t      ! your code goes here\r\n",
        "        PRINT *,\"Code Fortran executed !!!\"\r\n",
        "\t      stop\r\n",
        "      end"
      ],
      "execution_count": 14,
      "outputs": [
        {
          "output_type": "stream",
          "text": [
            "Overwriting tmpf.f\n"
          ],
          "name": "stdout"
        }
      ]
    },
    {
      "cell_type": "code",
      "metadata": {
        "colab": {
          "base_uri": "https://localhost:8080/"
        },
        "id": "FGkEh2h16T-X",
        "outputId": "d270252e-fd7d-4f75-81c5-bf366b2962f4"
      },
      "source": [
        "!gfortran tmpf.f -o tmpf\r\n",
        "!./tmpf"
      ],
      "execution_count": 15,
      "outputs": [
        {
          "output_type": "stream",
          "text": [
            " Code Fortran executed !!!\n"
          ],
          "name": "stdout"
        }
      ]
    },
    {
      "cell_type": "code",
      "metadata": {
        "colab": {
          "base_uri": "https://localhost:8080/"
        },
        "id": "5IHUKp47BzTu",
        "outputId": "00215e2d-0f36-4a4f-ae2a-ff32d93f3213"
      },
      "source": [
        "%%writefile tmpf.f\r\n",
        "      program TEST\r\n",
        "\t      ! your code goes here\r\n",
        "        WRITE(*,*) 'DAME 3 NUMEROS REALES'\r\n",
        "        READ (*,*) x,y,z \r\n",
        "        WRITE(*,*) x,y,z \r\n",
        "\t      stop\r\n",
        "      end"
      ],
      "execution_count": 16,
      "outputs": [
        {
          "output_type": "stream",
          "text": [
            "Overwriting tmpf.f\n"
          ],
          "name": "stdout"
        }
      ]
    },
    {
      "cell_type": "code",
      "metadata": {
        "colab": {
          "base_uri": "https://localhost:8080/"
        },
        "id": "sE6EADm2B0E-",
        "outputId": "3e29fc85-2b09-4bf0-f44c-0ac2b47075c7"
      },
      "source": [
        "!gfortran tmpf.f -o tmpf\r\n",
        "!./tmpf"
      ],
      "execution_count": 17,
      "outputs": [
        {
          "output_type": "stream",
          "text": [
            " DAME 3 NUMEROS REALES\n",
            "5 6 7\n",
            "   5.00000000       6.00000000       7.00000000    \n"
          ],
          "name": "stdout"
        }
      ]
    },
    {
      "cell_type": "code",
      "metadata": {
        "colab": {
          "base_uri": "https://localhost:8080/"
        },
        "id": "0XHGgQ-Y6WTw",
        "outputId": "427ea129-20ad-4664-fd82-b6abe30cd819"
      },
      "source": [
        "%%writefile tmp.js\r\n",
        "console.log('Code JavaScript executed !!!');"
      ],
      "execution_count": 18,
      "outputs": [
        {
          "output_type": "stream",
          "text": [
            "Overwriting tmp.js\n"
          ],
          "name": "stdout"
        }
      ]
    },
    {
      "cell_type": "code",
      "metadata": {
        "colab": {
          "base_uri": "https://localhost:8080/"
        },
        "id": "1XKwnXf4AZDB",
        "outputId": "d6d8be30-6c48-43ff-b6b2-16d2819cf711"
      },
      "source": [
        "# Magic comand '%reset' deletes all the avriables form the execution enviroment\r\n",
        "\r\n",
        "%reset"
      ],
      "execution_count": 19,
      "outputs": [
        {
          "output_type": "stream",
          "text": [
            "Once deleted, variables cannot be recovered. Proceed (y/[n])? y\n"
          ],
          "name": "stdout"
        }
      ]
    }
  ]
}