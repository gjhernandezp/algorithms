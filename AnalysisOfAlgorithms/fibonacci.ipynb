{
 "cells": [
  {
   "cell_type": "code",
   "execution_count": 1,
   "metadata": {
    "collapsed": true
   },
   "outputs": [],
   "source": [
    "def fibR(n):\n",
    "    if n==0 :\n",
    "        return 0\n",
    "    if n==1 :\n",
    "        return 1\n",
    "    return fibR(n-1)+fibR(n-2)"
   ]
  },
  {
   "cell_type": "code",
   "execution_count": 2,
   "metadata": {
    "collapsed": false
   },
   "outputs": [
    {
     "name": "stdout",
     "output_type": "stream",
     "text": [
      "n= 40 fib( 40 )= 102334155 time 75.07236979099784 seconds process time\n"
     ]
    }
   ],
   "source": [
    "import time\n",
    "n=40\n",
    "t0 = time.clock()\n",
    "k = fibR(n)\n",
    "tf =time.clock()\n",
    "print(\"n=\",n,\"fib(\",n,\")=\",k,\"time\",tf - t0, \"seconds process time\")"
   ]
  },
  {
   "cell_type": "code",
   "execution_count": 3,
   "metadata": {
    "collapsed": false
   },
   "outputs": [],
   "source": [
    "def fibM(n):\n",
    "    memo = {}\n",
    "    def fib(n):\n",
    "        if n==0 :\n",
    "            return 0\n",
    "        if n==1 :\n",
    "            return 1\n",
    "        if (n-2) not in memo:\n",
    "            memo[n-2] = fib(n-2)\n",
    "        if (n-1) not in memo:\n",
    "            memo[n-1] = fib(n-1)\n",
    "        return memo[n-1] + memo[n-2]\n",
    "    return fib(n)"
   ]
  },
  {
   "cell_type": "code",
   "execution_count": 4,
   "metadata": {
    "collapsed": false,
    "scrolled": true
   },
   "outputs": [
    {
     "name": "stdout",
     "output_type": "stream",
     "text": [
      "n= 40 fib( 40 )= 102334155 time 0.0002979253882529065 seconds process time\n"
     ]
    }
   ],
   "source": [
    "import time\n",
    "n=40\n",
    "t0 = time.clock()\n",
    "k = fibM(n)\n",
    "tf =time.clock()\n",
    "print(\"n=\",n,\"fib(\",n,\")=\",k,\"time\",tf - t0, \"seconds process time\")"
   ]
  },
  {
   "cell_type": "code",
   "execution_count": 5,
   "metadata": {
    "collapsed": false
   },
   "outputs": [],
   "source": [
    "def fib(n):\n",
    "    if n==0 :\n",
    "        return 0\n",
    "    a, b = 0, 1\n",
    "    for i in range(1, n):\n",
    "        a, b = b, a+b\n",
    "    return b"
   ]
  },
  {
   "cell_type": "code",
   "execution_count": 6,
   "metadata": {
    "collapsed": false,
    "scrolled": true
   },
   "outputs": [
    {
     "name": "stdout",
     "output_type": "stream",
     "text": [
      "n= 40 fib( 40 )= 102334155 time 0.00046506390182798896 seconds process time\n"
     ]
    }
   ],
   "source": [
    "import time\n",
    "n=40\n",
    "t0 = time.clock()\n",
    "k = fib(n)\n",
    "tf =time.clock()\n",
    "print(\"n=\",n,\"fib(\",n,\")=\",k,\"time\",tf - t0, \"seconds process time\")\n"
   ]
  }
 ],
 "metadata": {
  "kernelspec": {
   "display_name": "Python 3",
   "language": "python",
   "name": "python3"
  },
  "language_info": {
   "codemirror_mode": {
    "name": "ipython",
    "version": 3
   },
   "file_extension": ".py",
   "mimetype": "text/x-python",
   "name": "python",
   "nbconvert_exporter": "python",
   "pygments_lexer": "ipython3",
   "version": "3.4.3"
  }
 },
 "nbformat": 4,
 "nbformat_minor": 0
}