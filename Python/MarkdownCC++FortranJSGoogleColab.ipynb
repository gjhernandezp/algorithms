{
  "nbformat": 4,
  "nbformat_minor": 0,
  "metadata": {
    "colab": {
      "name": "MarkdownCC++FortranJSGoogleColab.ipynb",
      "provenance": [],
      "collapsed_sections": [],
      "toc_visible": true,
      "authorship_tag": "ABX9TyM6TJZuR/FSZ4TRi+0CG2lG"
    },
    "kernelspec": {
      "name": "python3",
      "display_name": "Python 3"
    }
  },
  "cells": [
    {
      "cell_type": "code",
      "metadata": {
        "colab": {
          "base_uri": "https://localhost:8080/"
        },
        "id": "1MQDG8JHwPYJ",
        "outputId": "9a1a2957-88a6-47e1-da83-ed8a26b930e1"
      },
      "source": [
        "2+2"
      ],
      "execution_count": null,
      "outputs": [
        {
          "output_type": "execute_result",
          "data": {
            "text/plain": [
              "4"
            ]
          },
          "metadata": {
            "tags": []
          },
          "execution_count": 1
        }
      ]
    },
    {
      "cell_type": "markdown",
      "metadata": {
        "id": "1xrJlWfiwlYu"
      },
      "source": [
        "# H1\n",
        "## H2\n",
        "### H3\n",
        "#### H4\n",
        "##### H5\n",
        "###### H6"
      ]
    },
    {
      "cell_type": "markdown",
      "metadata": {
        "id": "JKjer8zCwnOW"
      },
      "source": [
        "# ALG 2021 I\n",
        "## Example\n",
        "\n",
        "Hello everybody\n",
        "\n",
        "Strong emphasis, aka bold, with **asterisks** or __underscores__.\n",
        "\n",
        "Emphasis, aka italics, with *asterisks* or _underscores_.\n",
        "\n",
        "1. First ordered list item\n",
        "2. Another item\n",
        "\n",
        "* Unordered list can use asterisks\n",
        "- Or minuses\n",
        "+ Or pluses\n",
        "\n",
        "[I'm an inline-style link with title](https://www.google.com \"Google's Homepage\")\n",
        "\n",
        "Inline-style: \n",
        "![alt text](https://github.com/adam-p/markdown-here/raw/master/src/common/images/icon48.png \"Logo Title Text 1\")\n",
        "\n",
        "\n",
        "```javascript\n",
        "var s = \"JavaScript syntax highlighting\";\n",
        "alert(s);\n",
        "```\n",
        " \n",
        "```python\n",
        "s = \"Python syntax highlighting\"\n",
        "print s\n",
        "```\n",
        " \n",
        "```\n",
        "No language indicated, so no syntax highlighting. \n",
        "But let's throw in a <b>tag</b>.\n",
        "```\n",
        "\n",
        "<dl>\n",
        "  <dt>Definition list</dt>\n",
        "  <dd>Is something people use sometimes.</dd>\n",
        "\n",
        "  <dt>Markdown in HTML</dt>\n",
        "  <dd>Does *not* work **very** well. Use HTML <em>tags</em>.</dd>\n",
        "</dl>\n",
        "\n",
        "<a href=\"https://www.youtube.com/watch?v=ZyjCqQEUa8o&feature=emb_imp_woyt&v=YOUTUBE_VIDEO_ID_HERE\n",
        "\" target=\"_blank\"><img src=\"https://cdn.searchenginejournal.com/wp-content/uploads/2019/07/shutterstock_1457601002-760x400.png\" \n",
        "alt=\"Video link\" width=\"240\" height=\"180\" border=\"10\" /></a>\n",
        "\n",
        "$$ \\sum \\limits _{i=1} ^{10} \\int \\limits _0 ^{\\infty} e^{\\nu _i x } dx  =\\left( \\begin{array}{cc} 1 & 2 \\\\ 3 & 4 \\end{array}\\right) \n",
        "\\left( \\begin{array}{c} 5 \\\\ 6 \\end{array} \\right) = \n",
        "\\mathbf{\\underline{V}}$$"
      ]
    },
    {
      "cell_type": "markdown",
      "source": [
        "<div align=\"center\">\n",
        "<img style=\"display: block; margin: auto;\" alt=\"photo\" src=\"https://upload.wikimedia.org/wikipedia/en/d/de/Quantopian_logo_2017.png\">"
      ],
      "metadata": {
        "id": "ETnqXKxzkCFT"
      }
    },
    {
      "cell_type": "code",
      "source": [
        "!ls"
      ],
      "metadata": {
        "colab": {
          "base_uri": "https://localhost:8080/"
        },
        "id": "efeiUrDTjyyz",
        "outputId": "c138aec0-a06b-4529-bcf5-814b8261483f"
      },
      "execution_count": 1,
      "outputs": [
        {
          "output_type": "stream",
          "name": "stdout",
          "text": [
            "sample_data\n"
          ]
        }
      ]
    },
    {
      "cell_type": "code",
      "metadata": {
        "colab": {
          "base_uri": "https://localhost:8080/"
        },
        "id": "NAT-JUrdwmUn",
        "outputId": "99e3ff98-ca2b-40aa-c45d-116a42e27d0c"
      },
      "source": [
        "!cat /proc/cpuinfo"
      ],
      "execution_count": null,
      "outputs": [
        {
          "output_type": "stream",
          "text": [
            "processor\t: 0\n",
            "vendor_id\t: GenuineIntel\n",
            "cpu family\t: 6\n",
            "model\t\t: 63\n",
            "model name\t: Intel(R) Xeon(R) CPU @ 2.30GHz\n",
            "stepping\t: 0\n",
            "microcode\t: 0x1\n",
            "cpu MHz\t\t: 2299.998\n",
            "cache size\t: 46080 KB\n",
            "physical id\t: 0\n",
            "siblings\t: 2\n",
            "core id\t\t: 0\n",
            "cpu cores\t: 1\n",
            "apicid\t\t: 0\n",
            "initial apicid\t: 0\n",
            "fpu\t\t: yes\n",
            "fpu_exception\t: yes\n",
            "cpuid level\t: 13\n",
            "wp\t\t: yes\n",
            "flags\t\t: fpu vme de pse tsc msr pae mce cx8 apic sep mtrr pge mca cmov pat pse36 clflush mmx fxsr sse sse2 ss ht syscall nx pdpe1gb rdtscp lm constant_tsc rep_good nopl xtopology nonstop_tsc cpuid tsc_known_freq pni pclmulqdq ssse3 fma cx16 pcid sse4_1 sse4_2 x2apic movbe popcnt aes xsave avx f16c rdrand hypervisor lahf_lm abm invpcid_single ssbd ibrs ibpb stibp fsgsbase tsc_adjust bmi1 avx2 smep bmi2 erms invpcid xsaveopt arat md_clear arch_capabilities\n",
            "bugs\t\t: cpu_meltdown spectre_v1 spectre_v2 spec_store_bypass l1tf mds swapgs\n",
            "bogomips\t: 4599.99\n",
            "clflush size\t: 64\n",
            "cache_alignment\t: 64\n",
            "address sizes\t: 46 bits physical, 48 bits virtual\n",
            "power management:\n",
            "\n",
            "processor\t: 1\n",
            "vendor_id\t: GenuineIntel\n",
            "cpu family\t: 6\n",
            "model\t\t: 63\n",
            "model name\t: Intel(R) Xeon(R) CPU @ 2.30GHz\n",
            "stepping\t: 0\n",
            "microcode\t: 0x1\n",
            "cpu MHz\t\t: 2299.998\n",
            "cache size\t: 46080 KB\n",
            "physical id\t: 0\n",
            "siblings\t: 2\n",
            "core id\t\t: 0\n",
            "cpu cores\t: 1\n",
            "apicid\t\t: 1\n",
            "initial apicid\t: 1\n",
            "fpu\t\t: yes\n",
            "fpu_exception\t: yes\n",
            "cpuid level\t: 13\n",
            "wp\t\t: yes\n",
            "flags\t\t: fpu vme de pse tsc msr pae mce cx8 apic sep mtrr pge mca cmov pat pse36 clflush mmx fxsr sse sse2 ss ht syscall nx pdpe1gb rdtscp lm constant_tsc rep_good nopl xtopology nonstop_tsc cpuid tsc_known_freq pni pclmulqdq ssse3 fma cx16 pcid sse4_1 sse4_2 x2apic movbe popcnt aes xsave avx f16c rdrand hypervisor lahf_lm abm invpcid_single ssbd ibrs ibpb stibp fsgsbase tsc_adjust bmi1 avx2 smep bmi2 erms invpcid xsaveopt arat md_clear arch_capabilities\n",
            "bugs\t\t: cpu_meltdown spectre_v1 spectre_v2 spec_store_bypass l1tf mds swapgs\n",
            "bogomips\t: 4599.99\n",
            "clflush size\t: 64\n",
            "cache_alignment\t: 64\n",
            "address sizes\t: 46 bits physical, 48 bits virtual\n",
            "power management:\n",
            "\n"
          ],
          "name": "stdout"
        }
      ]
    },
    {
      "cell_type": "code",
      "metadata": {
        "colab": {
          "base_uri": "https://localhost:8080/"
        },
        "id": "D-LyeYMNyH-3",
        "outputId": "5a90fe93-cd24-4f83-daa6-4fea6ea487b0"
      },
      "source": [
        "!pwd"
      ],
      "execution_count": null,
      "outputs": [
        {
          "output_type": "stream",
          "text": [
            "/content\n"
          ],
          "name": "stdout"
        }
      ]
    },
    {
      "cell_type": "code",
      "metadata": {
        "colab": {
          "base_uri": "https://localhost:8080/"
        },
        "id": "nP7gPVus1pJH",
        "outputId": "0dc72149-1e37-4bb6-a67d-fe7aa9c31f78"
      },
      "source": [
        "%%writefile tmpc.c\n",
        "\n",
        "#include <stdio.h>\n",
        "\n",
        "int main(void) {\n",
        "\tprintf(\"Code C executed !!! \\n \");\n",
        "\treturn 0;\n",
        "}"
      ],
      "execution_count": null,
      "outputs": [
        {
          "output_type": "stream",
          "text": [
            "Writing tmpc.c\n"
          ],
          "name": "stdout"
        }
      ]
    },
    {
      "cell_type": "code",
      "metadata": {
        "colab": {
          "base_uri": "https://localhost:8080/"
        },
        "id": "zvnSw40x26Wv",
        "outputId": "bc05cfa2-2b2f-49ab-f5e8-d277cf9637ab"
      },
      "source": [
        "!gcc tmpc.c -o tmpc\n",
        "!./tmpc"
      ],
      "execution_count": null,
      "outputs": [
        {
          "output_type": "stream",
          "text": [
            "Code C executed !!! \n",
            " "
          ],
          "name": "stdout"
        }
      ]
    },
    {
      "cell_type": "code",
      "metadata": {
        "colab": {
          "base_uri": "https://localhost:8080/"
        },
        "id": "QGH-ccWL3Cee",
        "outputId": "5216c029-c84f-4fe2-fec1-fc67c72ebd2b"
      },
      "source": [
        "%%writefile tmpcc.cc\n",
        "#include <iostream>\n",
        "using namespace std;\n",
        "\n",
        "int main() {\n",
        "  cout << \"Code C++ executed !!! \"  << endl;  \n",
        "\treturn 0;\n",
        "}"
      ],
      "execution_count": null,
      "outputs": [
        {
          "output_type": "stream",
          "text": [
            "Overwriting tmpcc.cc\n"
          ],
          "name": "stdout"
        }
      ]
    },
    {
      "cell_type": "code",
      "metadata": {
        "colab": {
          "base_uri": "https://localhost:8080/"
        },
        "id": "VGpf0YA83IAf",
        "outputId": "41535db3-5ebe-4a25-aa18-72161c9c8cba"
      },
      "source": [
        "!g++ tmpcc.cc -o tmpcc\n",
        "!./tmpcc"
      ],
      "execution_count": null,
      "outputs": [
        {
          "output_type": "stream",
          "text": [
            "Code C++ executed !!! \n"
          ],
          "name": "stdout"
        }
      ]
    },
    {
      "cell_type": "code",
      "metadata": {
        "colab": {
          "base_uri": "https://localhost:8080/"
        },
        "id": "DNHeDqFrBcyn",
        "outputId": "248ee41c-f971-48e0-f831-bc0ce889ca58"
      },
      "source": [
        "%%writefile tmpc.c\n",
        "\n",
        "#include <stdio.h>\n",
        "\n",
        "int main(void) {\n",
        "\tprintf(\"ingrese un string !!!  \");\n",
        "  char string[80];\n",
        "  scanf(\"  %s\", string);\n",
        "  printf(\"Salida: %s\" , string);\n",
        "\treturn 0;\n",
        "}"
      ],
      "execution_count": null,
      "outputs": [
        {
          "output_type": "stream",
          "text": [
            "Overwriting tmpc.c\n"
          ],
          "name": "stdout"
        }
      ]
    },
    {
      "cell_type": "code",
      "metadata": {
        "colab": {
          "base_uri": "https://localhost:8080/"
        },
        "id": "YR_MjMDgBe32",
        "outputId": "74e4d689-d306-487d-d9e5-fa4c80115f85"
      },
      "source": [
        "!gcc tmpc.c -o tmpc\n",
        "!./tmpc"
      ],
      "execution_count": null,
      "outputs": [
        {
          "output_type": "stream",
          "text": [
            "ingrese un string !!!  Hola\n",
            "Salida: Hola"
          ],
          "name": "stdout"
        }
      ]
    },
    {
      "cell_type": "code",
      "metadata": {
        "colab": {
          "base_uri": "https://localhost:8080/"
        },
        "id": "uPMGlHmV3bGW",
        "outputId": "f5b89eb7-fb0f-4535-81db-68729e41b435"
      },
      "source": [
        "%%writefile tmpcc1.cc\n",
        "#include <iostream>\n",
        "using namespace std;\n",
        "\n",
        "int main() {\n",
        "  int x;\n",
        "  cout << \"Introduce and integer \"  << endl; \n",
        "  cin >> x;\n",
        "  cout << \"Code C++ executed !!! \"   << x << endl;  \n",
        "\treturn 0;\n",
        "}"
      ],
      "execution_count": null,
      "outputs": [
        {
          "output_type": "stream",
          "text": [
            "Overwriting tmpcc1.cc\n"
          ],
          "name": "stdout"
        }
      ]
    },
    {
      "cell_type": "markdown",
      "metadata": {
        "id": "EIWzr9PQ5dqA"
      },
      "source": [
        "If you read value,  you have to click in the cell and introduce the value\n"
      ]
    },
    {
      "cell_type": "code",
      "metadata": {
        "colab": {
          "base_uri": "https://localhost:8080/"
        },
        "id": "Nk67qXVj5ALH",
        "outputId": "8ff131c3-aa66-4166-adce-7472dfc24b7c"
      },
      "source": [
        "!g++ tmpcc1.cc -o tmpcc1\n",
        "!./tmpcc1"
      ],
      "execution_count": null,
      "outputs": [
        {
          "output_type": "stream",
          "text": [
            "Introduce and integer \n",
            "68\n",
            "Code C++ executed !!! 68\n"
          ],
          "name": "stdout"
        }
      ]
    },
    {
      "cell_type": "markdown",
      "metadata": {
        "id": "-bO1MQmw5noQ"
      },
      "source": [
        "Also you can create file with inputs and redirect the input with in unix command <"
      ]
    },
    {
      "cell_type": "code",
      "metadata": {
        "colab": {
          "base_uri": "https://localhost:8080/"
        },
        "id": "JkvYmI0P40SH",
        "outputId": "e9b0ed55-5715-4a29-dc04-87f8f26ad4fe"
      },
      "source": [
        "!./tmpcc1 < input.txt "
      ],
      "execution_count": null,
      "outputs": [
        {
          "output_type": "stream",
          "text": [
            "Introduce and integer \n",
            "Code C++ executed !!! 3\n"
          ],
          "name": "stdout"
        }
      ]
    },
    {
      "cell_type": "markdown",
      "metadata": {
        "id": "JDVcMNoY6AK3"
      },
      "source": [
        "Also redirect the to a file with the unix command >"
      ]
    },
    {
      "cell_type": "code",
      "metadata": {
        "id": "OAAs6h484UQf"
      },
      "source": [
        "!g++ tmpcc.cc -o tmpcc\n",
        "!./tmpcc < input.txt > output.txt"
      ],
      "execution_count": null,
      "outputs": []
    },
    {
      "cell_type": "code",
      "metadata": {
        "colab": {
          "base_uri": "https://localhost:8080/"
        },
        "id": "We7SkXDt6S_m",
        "outputId": "50bd7302-6163-4cc4-f727-d4e9418939ea"
      },
      "source": [
        "%%writefile tmpf.f\n",
        "      program TEST\n",
        "\t      ! your code goes here\n",
        "        PRINT *,\"Code Fortran executed !!!\"\n",
        "\t      stop\n",
        "      end"
      ],
      "execution_count": null,
      "outputs": [
        {
          "output_type": "stream",
          "text": [
            "Overwriting tmpf.f\n"
          ],
          "name": "stdout"
        }
      ]
    },
    {
      "cell_type": "code",
      "metadata": {
        "colab": {
          "base_uri": "https://localhost:8080/"
        },
        "id": "FGkEh2h16T-X",
        "outputId": "d270252e-fd7d-4f75-81c5-bf366b2962f4"
      },
      "source": [
        "!gfortran tmpf.f -o tmpf\n",
        "!./tmpf"
      ],
      "execution_count": null,
      "outputs": [
        {
          "output_type": "stream",
          "text": [
            " Code Fortran executed !!!\n"
          ],
          "name": "stdout"
        }
      ]
    },
    {
      "cell_type": "code",
      "metadata": {
        "colab": {
          "base_uri": "https://localhost:8080/"
        },
        "id": "5IHUKp47BzTu",
        "outputId": "00215e2d-0f36-4a4f-ae2a-ff32d93f3213"
      },
      "source": [
        "%%writefile tmpf.f\n",
        "      program TEST\n",
        "\t      ! your code goes here\n",
        "        WRITE(*,*) 'DAME 3 NUMEROS REALES'\n",
        "        READ (*,*) x,y,z \n",
        "        WRITE(*,*) x,y,z \n",
        "\t      stop\n",
        "      end"
      ],
      "execution_count": null,
      "outputs": [
        {
          "output_type": "stream",
          "text": [
            "Overwriting tmpf.f\n"
          ],
          "name": "stdout"
        }
      ]
    },
    {
      "cell_type": "code",
      "metadata": {
        "colab": {
          "base_uri": "https://localhost:8080/"
        },
        "id": "sE6EADm2B0E-",
        "outputId": "3e29fc85-2b09-4bf0-f44c-0ac2b47075c7"
      },
      "source": [
        "!gfortran tmpf.f -o tmpf\n",
        "!./tmpf"
      ],
      "execution_count": null,
      "outputs": [
        {
          "output_type": "stream",
          "text": [
            " DAME 3 NUMEROS REALES\n",
            "5 6 7\n",
            "   5.00000000       6.00000000       7.00000000    \n"
          ],
          "name": "stdout"
        }
      ]
    },
    {
      "cell_type": "code",
      "metadata": {
        "colab": {
          "base_uri": "https://localhost:8080/"
        },
        "id": "0XHGgQ-Y6WTw",
        "outputId": "2c8f011b-5ba3-4528-f331-7fdcdcc31560"
      },
      "source": [
        "%%writefile tmp.js\n",
        "console.log('Code JavaScript executed !!!');"
      ],
      "execution_count": null,
      "outputs": [
        {
          "output_type": "stream",
          "text": [
            "Writing tmp.js\n"
          ],
          "name": "stdout"
        }
      ]
    },
    {
      "cell_type": "code",
      "metadata": {
        "id": "WQ8VBLeYte-X",
        "colab": {
          "base_uri": "https://localhost:8080/"
        },
        "outputId": "64c6ba37-085c-49bf-dccb-810499758649"
      },
      "source": [
        "!node tmp.js"
      ],
      "execution_count": null,
      "outputs": [
        {
          "output_type": "stream",
          "text": [
            "Code JavaScript executed !!!\n"
          ],
          "name": "stdout"
        }
      ]
    },
    {
      "cell_type": "code",
      "metadata": {
        "colab": {
          "base_uri": "https://localhost:8080/"
        },
        "id": "1XKwnXf4AZDB",
        "outputId": "d6d8be30-6c48-43ff-b6b2-16d2819cf711"
      },
      "source": [
        "# Magic comand '%reset' deletes all the avriables form the execution enviroment\n",
        "\n",
        "%reset"
      ],
      "execution_count": null,
      "outputs": [
        {
          "output_type": "stream",
          "text": [
            "Once deleted, variables cannot be recovered. Proceed (y/[n])? y\n"
          ],
          "name": "stdout"
        }
      ]
    }
  ]
}