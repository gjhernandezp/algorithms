{
  "nbformat": 4,
  "nbformat_minor": 0,
  "metadata": {
    "colab": {
      "name": "TSP.ipynb",
      "provenance": [],
      "collapsed_sections": []
    },
    "kernelspec": {
      "name": "python3",
      "display_name": "Python 3"
    },
    "language_info": {
      "name": "python"
    }
  },
  "cells": [
    {
      "cell_type": "markdown",
      "metadata": {
        "id": "aRZ12BbUOb0y"
      },
      "source": [
        "https://www.geeksforgeeks.org/travelling-salesman-problem-set-1/"
      ]
    },
    {
      "cell_type": "code",
      "metadata": {
        "id": "evc2OEV4nwoi"
      },
      "source": [
        "# Python3 program to implement traveling salesman\n",
        "# problem using naive approach.\n",
        "from sys import maxsize\n",
        "from itertools import permutations\n",
        "\n",
        " \n",
        "# implementation of traveling Salesman Problem\n",
        "def travellingSalesmanProblemNoSource(graph):\n",
        " \n",
        "    # store all vertex apart from source vertex\n",
        "    vertex = []\n",
        "    for i in range(V):\n",
        "            vertex.append(i)\n",
        "    \n",
        "    # store minimum weight Hamiltonian Cycle\n",
        "    min_path = maxsize\n",
        "    tours = permutations(vertex)\n",
        "    for i in tours:\n",
        " \n",
        "        # store current Path weight(cost)\n",
        "        current_pathweight = 0\n",
        " \n",
        "        # compute current path weight\n",
        "        k = i[0]\n",
        "        #print(list(i), current_pathweight)\n",
        "        for j in i:\n",
        "            current_pathweight += graph[k][j]\n",
        "            #print(list(i),j, current_pathweight)\n",
        "            k = j   \n",
        "        current_pathweight += graph[k][i[0]]\n",
        "\n",
        "        print(list(i), current_pathweight)\n",
        " \n",
        "        # update minimum\n",
        "        min_path = min(min_path, current_pathweight)\n",
        "         \n",
        "    return min_path\n",
        " "
      ],
      "execution_count": 5,
      "outputs": []
    },
    {
      "cell_type": "code",
      "metadata": {
        "colab": {
          "base_uri": "https://localhost:8080/",
          "height": 699
        },
        "id": "XyfSpliDoFQw",
        "outputId": "35824242-5560-4152-e479-394ebf3d4498"
      },
      "source": [
        "import matplotlib.pyplot as plt\n",
        "import networkx as nx\n",
        "import numpy as np\n",
        "import math\n",
        "\n",
        "# vertex number\n",
        "n = 4\n",
        "\n",
        "# adjacency_matrix (distance) representation of graph\n",
        "A =  np.array([\n",
        "            [0, 10, 15, 20], \n",
        "             [10, 0, 35, 25],\n",
        "             [15, 35, 0, 30], \n",
        "             [20, 25, 30, 0]])\n",
        "\n",
        "print(\"tours- permutations n!= \",math.factorial(n))\n",
        "print(travellingSalesmanProblemNoSource(A))\n",
        "\n",
        "G = nx.Graph()\n",
        "\n",
        "for i in range(n): \n",
        "  for j in range(i+1,n): \n",
        "    G.add_edge(i,j)\n",
        "\n",
        "edge_labels=dict([((i,j),A[i,j]) for i,j in G.edges()])\n",
        "\n",
        "colors = []\n",
        "for node in G.nodes():\n",
        "  if node == s : \n",
        "    colors.append(\"red\")\n",
        "  else:\n",
        "    colors.append(\"green\")\n",
        "\n",
        "pos = nx.spiral_layout(G)\n",
        "nx.draw_networkx_nodes(G, pos, node_color=colors)\n",
        "nx.draw_networkx_labels(G, pos)\n",
        "nx.draw_networkx_edge_labels(G,pos,edge_labels=edge_labels)\n",
        "nx.draw_networkx_edges(G, pos)\n",
        "plt.show() "
      ],
      "execution_count": 6,
      "outputs": [
        {
          "output_type": "stream",
          "text": [
            "tours- permutations n!=  24\n",
            "[0, 1, 2, 3] 95\n",
            "[0, 1, 3, 2] 80\n",
            "[0, 2, 1, 3] 95\n",
            "[0, 2, 3, 1] 80\n",
            "[0, 3, 1, 2] 95\n",
            "[0, 3, 2, 1] 95\n",
            "[1, 0, 2, 3] 80\n",
            "[1, 0, 3, 2] 95\n",
            "[1, 2, 0, 3] 95\n",
            "[1, 2, 3, 0] 95\n",
            "[1, 3, 0, 2] 95\n",
            "[1, 3, 2, 0] 80\n",
            "[2, 0, 1, 3] 80\n",
            "[2, 0, 3, 1] 95\n",
            "[2, 1, 0, 3] 95\n",
            "[2, 1, 3, 0] 95\n",
            "[2, 3, 0, 1] 95\n",
            "[2, 3, 1, 0] 80\n",
            "[3, 0, 1, 2] 95\n",
            "[3, 0, 2, 1] 95\n",
            "[3, 1, 0, 2] 80\n",
            "[3, 1, 2, 0] 95\n",
            "[3, 2, 0, 1] 80\n",
            "[3, 2, 1, 0] 95\n",
            "80\n"
          ],
          "name": "stdout"
        },
        {
          "output_type": "display_data",
          "data": {
            "image/png": "[encoded data removed]",
            "text/plain": [
              "<Figure size 432x288 with 1 Axes>"
            ]
          },
          "metadata": {
            "tags": []
          }
        }
      ]
    },
    {
      "cell_type": "code",
      "metadata": {
        "id": "Cgh7dRqNOncx"
      },
      "source": [
        "# Python3 program to implement traveling salesman\n",
        "# problem using naive approach.\n",
        "from sys import maxsize\n",
        "from itertools import permutations\n",
        "\n",
        " \n",
        "# implementation of traveling Salesman Problem\n",
        "def travellingSalesmanProblem(graph, s):\n",
        " \n",
        "    # store all vertex apart from source vertex\n",
        "    vertex = []\n",
        "    for i in range(V):\n",
        "        if i != s:\n",
        "            vertex.append(i)\n",
        "    \n",
        "    # store minimum weight Hamiltonian Cycle\n",
        "    min_path = maxsize\n",
        "    tours = permutations(vertex)\n",
        "    for i in tours:\n",
        " \n",
        "        # store current Path weight(cost)\n",
        "        current_pathweight = 0\n",
        " \n",
        "        # compute current path weight\n",
        "        k = s\n",
        "        for j in i:\n",
        "            current_pathweight += graph[k][j]\n",
        "            k = j\n",
        "        current_pathweight += graph[k][s]\n",
        "\n",
        "        print([s]+list(i), current_pathweight)\n",
        " \n",
        "        # update minimum\n",
        "        min_path = min(min_path, current_pathweight)\n",
        "         \n",
        "    return min_path\n",
        " "
      ],
      "execution_count": 7,
      "outputs": []
    },
    {
      "cell_type": "code",
      "metadata": {
        "colab": {
          "base_uri": "https://localhost:8080/",
          "height": 387
        },
        "id": "1w9Awg7MSHfY",
        "outputId": "6b2d91a6-2234-40e2-8aef-121c1c4926ee"
      },
      "source": [
        "import matplotlib.pyplot as plt\n",
        "import networkx as nx\n",
        "import numpy as np\n",
        "import math\n",
        "\n",
        "# vertex number\n",
        "V = 4\n",
        "\n",
        "# adjacency_matrix (distance) representation of graph\n",
        "A =  np.array([\n",
        "            [0, 10, 15, 20], \n",
        "             [10, 0, 35, 25],\n",
        "             [15, 35, 0, 30], \n",
        "             [20, 25, 30, 0]])\n",
        "\n",
        "# source vertex \n",
        "s = 0\n",
        "\n",
        "print(\"tours- permutations (n-1)!\", math.factorial(n-1))\n",
        "print(travellingSalesmanProblem(A, s))\n",
        "\n",
        "G = nx.Graph()\n",
        "\n",
        "for i in range(V): \n",
        "  for j in range(i+1,V): \n",
        "    G.add_edge(i,j)\n",
        "\n",
        "edge_labels=dict([((i,j),A[i,j]) for i,j in G.edges()])\n",
        "\n",
        "colors = []\n",
        "for node in G.nodes():\n",
        "  if node == s : \n",
        "    colors.append(\"red\")\n",
        "  else:\n",
        "    colors.append(\"green\")\n",
        "\n",
        "pos = nx.spiral_layout(G)\n",
        "nx.draw_networkx_nodes(G, pos, node_color=colors)\n",
        "nx.draw_networkx_labels(G, pos)\n",
        "nx.draw_networkx_edge_labels(G,pos,edge_labels=edge_labels)\n",
        "nx.draw_networkx_edges(G, pos)\n",
        "plt.show()  "
      ],
      "execution_count": 10,
      "outputs": [
        {
          "output_type": "stream",
          "text": [
            "tours- permutations (n-1)! 6\n",
            "[0, 1, 2, 3] 95\n",
            "[0, 1, 3, 2] 80\n",
            "[0, 2, 1, 3] 95\n",
            "[0, 2, 3, 1] 80\n",
            "[0, 3, 1, 2] 95\n",
            "[0, 3, 2, 1] 95\n",
            "80\n"
          ],
          "name": "stdout"
        },
        {
          "output_type": "display_data",
          "data": {
            "image/png": "[encoded data removed]",
            "text/plain": [
              "<Figure size 432x288 with 1 Axes>"
            ]
          },
          "metadata": {
            "tags": []
          }
        }
      ]
    }
  ]
}