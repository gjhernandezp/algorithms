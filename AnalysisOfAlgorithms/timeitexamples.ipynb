{
 "cells": [
  {
   "cell_type": "markdown",
   "metadata": {},
   "source": [
    "Extended from http://www.dreamincode.net/forums/topic/288071-timeit-module/"
   ]
  },
  {
   "cell_type": "code",
   "execution_count": 1,
   "metadata": {
    "collapsed": false
   },
   "outputs": [
    {
     "name": "stdout",
     "output_type": "stream",
     "text": [
      "------------------------------------\n",
      "total_time = timer1.timeit(number=1)\n",
      "I will be timed\n",
      "8.297581294564926e-06\n",
      "------------------------------------\n",
      "total_time = timer1.timeit(number=10)\n",
      "I will be timed\n",
      "I will be timed\n",
      "I will be timed\n",
      "I will be timed\n",
      "I will be timed\n",
      "I will be timed\n",
      "I will be timed\n",
      "I will be timed\n",
      "I will be timed\n",
      "I will be timed\n",
      "5.136597944254475e-05\n",
      "------------------------------------\n",
      "times =timer2.repeat(repeat = 2, number = 1)\n",
      "I am the setup code\n",
      "I will be timed\n",
      "I am the setup code\n",
      "I will be timed\n",
      "[5.13659794425448e-06, 4.741475025465632e-06]\n",
      "------------------------------------\n",
      "times =timer2.repeat(repeat = 3, number = 2)\n",
      "I am the setup code\n",
      "I will be timed\n",
      "I will be timed\n",
      "I am the setup code\n",
      "I will be timed\n",
      "I will be timed\n",
      "I am the setup code\n",
      "I will be timed\n",
      "I will be timed\n",
      "[9.878072969720167e-06, 9.878072969720058e-06, 9.482950050931373e-06]\n",
      "------------------------------------\n",
      "times =timeit.repeat(stmt='print... ',number=3)  ... not setup and  repeat default is 3\n",
      "I will be timed\n",
      "I will be timed\n",
      "I will be timed\n",
      "I will be timed\n",
      "I will be timed\n",
      "I will be timed\n",
      "I will be timed\n",
      "I will be timed\n",
      "I will be timed\n",
      "[1.936102302065165e-05, 2.3312252208539585e-05, 1.580491675155218e-05]\n",
      "------------------------------------\n",
      "times =timeit.repeat(stmt='pri,setup='print... ',repeat = 4, number = 2)\n",
      "I am the setup code\n",
      "I will be timed\n",
      "I will be timed\n",
      "I am the setup code\n",
      "I will be timed\n",
      "I will be timed\n",
      "I am the setup code\n",
      "I will be timed\n",
      "I will be timed\n",
      "I am the setup code\n",
      "I will be timed\n",
      "I will be timed\n",
      "[9.878072969720167e-06, 9.482950050931482e-06, 9.482950050931482e-06, 9.482950050931265e-06]\n"
     ]
    }
   ],
   "source": [
    "import timeit\n",
    "timer1 = timeit.Timer(stmt='print(\"I will be timed\")')\n",
    "timer2 = timeit.Timer(stmt='print(\"I will be timed\")',setup='print(\"I am the setup code\")')\n",
    "\n",
    "print(\"------------------------------------\")\n",
    "print(\"total_time = timer1.timeit(number=1)\")\n",
    "total_time = timer1.timeit(number=1)\n",
    "print(total_time)\n",
    "\n",
    "\n",
    "print(\"------------------------------------\")\n",
    "print(\"total_time = timer1.timeit(number=10)\")\n",
    "total_time = timer1.timeit(number=10)\n",
    "print(total_time)\n",
    "\n",
    "print(\"------------------------------------\")\n",
    "print(\"times =timer2.repeat(repeat = 2, number = 1)\")\n",
    "times = timer2.repeat(repeat = 2, number = 1)\n",
    "print(times)\n",
    "\n",
    "\n",
    "print(\"------------------------------------\")\n",
    "print(\"times =timer2.repeat(repeat = 3, number = 2)\")\n",
    "times = timer2.repeat(repeat = 3, number = 2)\n",
    "print(times)\n",
    "\n",
    "print(\"------------------------------------\")\n",
    "print(\"times =timeit.repeat(stmt='print... ',number=3)  ... not setup and  repeat default is 3\")\n",
    "times =timeit.repeat(stmt='print(\"I will be timed\")',number=3) \n",
    "print(times)\n",
    "                     \n",
    "print(\"------------------------------------\")\n",
    "print(\"times =timeit.repeat(stmt='pri,setup='print... ',repeat = 4, number = 2)\")\n",
    "times =timeit.repeat(stmt='print(\"I will be timed\")',setup='print(\"I am the setup code\")',repeat = 4, number = 2)\n",
    "print(times)"
   ]
  }
 ],
 "metadata": {
  "kernelspec": {
   "display_name": "Python 3",
   "language": "python",
   "name": "python3"
  },
  "language_info": {
   "codemirror_mode": {
    "name": "ipython",
    "version": 3
   },
   "file_extension": ".py",
   "mimetype": "text/x-python",
   "name": "python",
   "nbconvert_exporter": "python",
   "pygments_lexer": "ipython3",
   "version": "3.4.3"
  }
 },
 "nbformat": 4,
 "nbformat_minor": 0
}
