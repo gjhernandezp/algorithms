{
  "nbformat": 4,
  "nbformat_minor": 0,
  "metadata": {
    "colab": {
      "name": "CormenSizeTimeComplexity.ipynb",
      "provenance": [],
      "collapsed_sections": [],
      "authorship_tag": "ABX9TyOstR9B56EvVKY7F0S5sRpw"
    },
    "kernelspec": {
      "name": "python3",
      "display_name": "Python 3"
    },
    "language_info": {
      "name": "python"
    }
  },
  "cells": [
    {
      "cell_type": "markdown",
      "metadata": {
        "id": "I5UAAxG2_CqQ"
      },
      "source": [
        "# 0.(1 microsecond by instruction)\n",
        "Asuuming that you can execute a million instructions $10^6$ every second, i.e. each instruction takes one microsecond $1\\mu s=10^{-6}$ seconds. If you have algorithms take $\\bf{ Time\\ Complexity}$ steps to solve a problem of size $n$ as specified in column one. What is the size of the largest problem that you can solve in the time specified in row one?\n",
        "\n",
        "$$\n",
        "\\begin{array}{|c|c|c|c|c|c|c|c|} \n",
        " \\hline\n",
        " \\bf{ Time\\ Complexity} & Second  & Minute  & Hour & Day & Year & Century & Mileniun  \\\\ \n",
        "  \\hline\\\\ \n",
        "\\lg(n) &     &  &  &  &  &  &  \\\\ \n",
        "   \\hline\\\\ \n",
        "\\lg^2(n) &    &   &  &  &  &  &  \\\\ \n",
        "   \\hline\\\\ \n",
        "\\sqrt{n} &    &   &  &  &  &  &  \\\\ \n",
        " \\hline\n",
        " n &    &   &  &  &  &  &  \\\\ \n",
        " \\hline\n",
        " n\\lg(n) &    &   &  &  &  &  &  \\\\ \n",
        " \\hline\n",
        " n^2 &    &  &  &  &  &  &  \\\\ \n",
        " \\hline\n",
        "  n^3 &    &   &  &  &  &  &  \\\\ \n",
        " \\hline\n",
        "  n^4 &    &   &  &  &  &  &  \\\\ \n",
        " \\hline\n",
        "  2^n &    &   &  &  &  &  &  \\\\ \n",
        " \\hline\n",
        " n! &    &   &  &  &  &  &  \\\\ \n",
        " \\hline\n",
        " n^n &    &   &  &  &  &  &  \\\\ \n",
        " \\hline\n",
        "\\end{array}\n",
        "$$"
      ]
    },
    {
      "cell_type": "markdown",
      "metadata": {
        "id": "yCCsCOW2OQbQ"
      },
      "source": [
        "# 1.(10  nanoseconds by instruction)\n",
        "\n",
        "Asuuming that you can execute a 100 million instructions $100 \\times 10^6$ every second, i.e. each instrcution takes 10 nanoseconds, 10 $\\eta s  = 10^{-8} s $. If you have algorithms take $\\bf{ Time\\ Complexity}$ steps to solve a poblem of size $n$ as specified in column one. What is the size of the largest porblem that you can solve in the time specified in row one?\n",
        "$$\n",
        "\\begin{array}{|c|c|c|c|c|c|c|c|} \n",
        " \\hline\n",
        " \\bf{ Time\\ Complexity} & Second  & Minute  & Hour & Day & Year & Century & Mileniun  \\\\ \n",
        "  \\hline\\\\ \n",
        "\\lg(n) &    &   &  &  &  &  &  \\\\ \n",
        "   \\hline\\\\ \n",
        "\\lg^2(n) &    &   &  &  &  &  &  \\\\ \n",
        "   \\hline\\\\ \n",
        "\\sqrt{n} &    &   &  &  &  &  &  \\\\ \n",
        " \\hline\n",
        " n &    &   &  &  &  &  &  \\\\ \n",
        " \\hline\n",
        " n\\lg(n) &    &   &  &  &  &  &  \\\\ \n",
        " \\hline\n",
        " n^2 &    &   &  &  &  &  &  \\\\ \n",
        " \\hline\n",
        "  n^3 &    &   &  &  &  &  &  \\\\ \n",
        " \\hline\n",
        "  n^4 &    &   &  &  &  &  &  \\\\ \n",
        " \\hline\n",
        "  2^n &    &   &  &  &  &  &  \\\\ \n",
        " \\hline\n",
        " n! &    &   &  &  &  &  &  \\\\ \n",
        " \\hline\n",
        " n^n &    &   &  &  &  &  &  \\\\ \n",
        " \\hline\n",
        "\\end{array}\n",
        "$$"
      ]
    },
    {
      "cell_type": "markdown",
      "metadata": {
        "id": "9fIs_70_DJWM"
      },
      "source": [
        "# 2.(2.5  nanoseconds by instruction)\n",
        "\n",
        "Asuuming that you can execute a 400 million instructions $400 \\times 10^6$ every second, i.e. each instrcution takes 2.5  nanoseconds, 2.5 $\\eta s  = 2.5 \\times 10^{-9} s$. If you have algorithms take $\\bf{ Time\\ Complexity}$ steps to solve a problem of size $n$ as specified in column one. What is the size of the largest problem that you can solve in the time specified in row one?\n",
        "$$\n",
        "\\begin{array}{|c|c|c|c|c|c|c|c|} \n",
        " \\hline\n",
        " \\bf{ Time\\ Complexity} & Second  & Minute  & Hour & Day & Year & Century & Mileniun  \\\\ \n",
        "  \\hline\\\\ \n",
        "\\lg(n) &    &   &  &  &  &  &  \\\\ \n",
        "   \\hline\\\\ \n",
        "\\lg^2(n) &    &   &  &  &  &  &  \\\\ \n",
        "   \\hline\\\\ \n",
        "\\sqrt{n} &    &   &  &  &  &  &  \\\\ \n",
        " \\hline\n",
        " n &    &   &  &  &  &  &  \\\\ \n",
        " \\hline\n",
        " n\\lg(n) &    &   &  &  &  &  &  \\\\ \n",
        " \\hline\n",
        " n^2 &    &   &  &  &  &  &  \\\\ \n",
        " \\hline\n",
        "  n^3 &    &   &  &  &  &  &  \\\\ \n",
        " \\hline\n",
        "  n^4 &    &   &  &  &  &  &  \\\\ \n",
        " \\hline\n",
        "  2^n &    &   &  &  &  &  &  \\\\ \n",
        " \\hline\n",
        " n! &    &   &  &  &  &  &  \\\\ \n",
        " \\hline\n",
        " n^n &    &   &  &  &  &  &  \\\\ \n",
        " \\hline\n",
        "\\end{array}\n",
        "$$"
      ]
    },
    {
      "cell_type": "markdown",
      "metadata": {
        "id": "kwpTH36ZIyQJ"
      },
      "source": [
        "# 3. (1 noneosecond by instruction)\n",
        "\n",
        "Asuuming that you can execute a 1000 million instructions $10^9$ every second, i.e. each instrcution takes 1  nanosecond, 1 $\\eta s  = 10^{-9} s$. If you have algorithms take $\\bf{ Time\\ Complexity}$ steps to solve a problem of size $n$ as specified in column one. What is the size of the largest problem that you can solve in the time specified in row one?\n",
        "$$\n",
        "\\begin{array}{|c|c|c|c|c|c|c|c|} \n",
        " \\hline\n",
        " \\bf{ Time\\ Complexity} & Second  & Minute  & Hour & Day & Year & Century & Mileniun  \\\\ \n",
        "  \\hline\\\\ \n",
        "\\lg(n) &    &   &  &  &  &  &  \\\\ \n",
        "   \\hline\\\\ \n",
        "\\lg^2(n) &    &   &  &  &  &  &  \\\\ \n",
        "   \\hline\\\\ \n",
        "\\sqrt{n} &    &   &  &  &  &  &  \\\\ \n",
        " \\hline\n",
        " n &    &   &  &  &  &  &  \\\\ \n",
        " \\hline\n",
        " n\\lg(n) &    &   &  &  &  &  &  \\\\ \n",
        " \\hline\n",
        " n^2 &    &   &  &  &  &  &  \\\\ \n",
        " \\hline\n",
        "  n^3 &    &   &  &  &  &  &  \\\\ \n",
        " \\hline\n",
        "  n^4 &    &   &  &  &  &  &  \\\\ \n",
        " \\hline\n",
        "  2^n &    &   &  &  &  &  &  \\\\ \n",
        " \\hline\n",
        " n! &    &   &  &  &  &  &  \\\\ \n",
        " \\hline\n",
        " n^n &    &   &  &  &  &  &  \\\\ \n",
        " \\hline\n",
        "\\end{array}\n",
        "$$"
      ]
    }
  ]
}