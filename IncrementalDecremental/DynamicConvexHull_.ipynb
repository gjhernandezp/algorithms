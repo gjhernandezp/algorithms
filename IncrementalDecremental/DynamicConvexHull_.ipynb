{
  "nbformat": 4,
  "nbformat_minor": 0,
  "metadata": {
    "colab": {
      "name": "DynamicConvexHull .ipynb",
      "provenance": [],
      "collapsed_sections": [],
      "authorship_tag": "ABX9TyPDu0DAdqJ0EAxB0l0yZ1Fe"
    },
    "kernelspec": {
      "name": "python3",
      "display_name": "Python 3"
    },
    "language_info": {
      "name": "python"
    }
  },
  "cells": [
    {
      "cell_type": "markdown",
      "source": [
        "# Dynamic Convex hull | Adding Points to an Existing Convex Hull\n",
        "\n",
        "https://www.geeksforgeeks.org/dynamic-convex-hull-adding-points-existing-convex-hull/"
      ],
      "metadata": {
        "id": "NQpHOQgSf2IV"
      }
    },
    {
      "cell_type": "markdown",
      "source": [
        "# How to draw polygons with Python?\n",
        "\n",
        "https://stackoverflow.com/questions/43971259/how-to-draw-polygons-with-python"
      ],
      "metadata": {
        "id": "LVZQU3h_jdVH"
      }
    },
    {
      "cell_type": "code",
      "source": [
        "import matplotlib.pyplot as plt\n",
        "\n",
        "coord = [[0, 0], [3, -1], [4, 5], [-1, 4]]\n",
        "coord.append(coord[0]) #repeat the first point to create a 'closed loop'\n",
        "\n",
        "xs, ys = zip(*coord) #create lists of x and y values\n",
        "\n",
        "plt.figure()\n",
        "plt.plot(xs, ys, color='red', marker='o', linestyle='solid',linewidth=2, markersize=12)\n",
        "plt.plot([6],[6],'bo',markersize=12) \n",
        "plt.show() "
      ],
      "metadata": {
        "colab": {
          "base_uri": "https://localhost:8080/",
          "height": 265
        },
        "id": "8ruLAjWDjPhm",
        "outputId": "bf56659c-39b7-400a-e66e-e873d9f6c060"
      },
      "execution_count": 48,
      "outputs": [
        {
          "output_type": "display_data",
          "data": {
            "image/png": "[encoded data removed]",
            "text/plain": [
              "<Figure size 432x288 with 1 Axes>"
            ]
          },
          "metadata": {
            "needs_background": "light"
          }
        }
      ]
    },
    {
      "cell_type": "code",
      "execution_count": 49,
      "metadata": {
        "colab": {
          "base_uri": "https://localhost:8080/"
        },
        "id": "U1oKHv6sfqNm",
        "outputId": "cea363ca-2c4c-484b-dd9d-033f75b74f05"
      },
      "outputs": [
        {
          "output_type": "stream",
          "name": "stdout",
          "text": [
            "( -1 ,  4 )  ( 0 ,  0 )  ( 3 ,  -1 )  ( 6 ,  6 )  "
          ]
        }
      ],
      "source": [
        "# Python 3 program to add given a point p to a given\n",
        "# convext hull. The program assumes that the\n",
        "# point of given convext hull are in anti-clockwise\n",
        "# order.\n",
        "import copy\n",
        " \n",
        "# checks whether the point crosses the convex hull\n",
        "# or not\n",
        "def orientation(a, b, c):\n",
        " \n",
        "    res = ((b[1] - a[1]) * (c[0] - b[0]) -\n",
        "              (c[1] - b[1]) * (b[0] - a[0]))\n",
        " \n",
        "    if (res == 0):\n",
        "        return 0;\n",
        "    if (res > 0):\n",
        "        return 1;\n",
        "    return -1;\n",
        " \n",
        "# Returns the square of distance between two input points\n",
        "def sqDist(p1, p2):\n",
        " \n",
        "    return ((p1[0] - p2[0]) * (p1[0] - p2[0]) +\n",
        "           (p1[1] - p2[1]) * (p1[1] - p2[1]));\n",
        " \n",
        "# Checks whether the point is inside the convex hull or not\n",
        "def inside( a, p ):\n",
        " \n",
        "    # Initialize the centroid of the convex hull\n",
        "    mid = [0, 0]\n",
        " \n",
        "    n = len(a)\n",
        " \n",
        "    # Multiplying with n to avoid floating point\n",
        "    # arithmetic.\n",
        "    p[0] *= n;\n",
        "    p[1] *= n;\n",
        "    for i in range(n):\n",
        "       \n",
        "        mid[0] += a[i][0];\n",
        "        mid[1] += a[i][1];\n",
        "        a[i][0] *= n;\n",
        "        a[i][1] *= n;\n",
        "     \n",
        "    # if the mid and the given point lies always\n",
        "    # on the same side w.r.t every edge of the\n",
        "    # convex hull, then the point lies inside\n",
        "    # the convex hull\n",
        "    for i in range( n ):\n",
        "     \n",
        "        j = (i + 1) % n;\n",
        "        x1 = a[i][0]\n",
        "        x2 = a[j][0]\n",
        "        y1 = a[i][1]\n",
        "        y2 = a[j][1]\n",
        "        a1 = y1 - y2;\n",
        "        b1 = x2 - x1;\n",
        "        c1 = x1 * y2 - y1 * x2;\n",
        "        for_mid = a1 * mid[0] + b1 * mid[1] + c1;\n",
        "        for_p = a1 * p[0] + b1*p[1]+c1;\n",
        "        if (for_mid*for_p < 0):\n",
        "            return False;\n",
        "    \n",
        "    return True;\n",
        " \n",
        "# Adds a point p to given convex hull a[]\n",
        "def addPoint( a, p):\n",
        " \n",
        "    # If point is inside p\n",
        "    arr= copy.deepcopy(a)\n",
        "    prr =p.copy()\n",
        "     \n",
        "    if (inside(arr, prr)):\n",
        "        return;\n",
        "   \n",
        "    # point having minimum distance from the point p\n",
        "    ind = 0;\n",
        "    n = len(a)\n",
        "    for i in range(1, n):\n",
        "        if (sqDist(p, a[i]) < sqDist(p, a[ind])):\n",
        "            ind = i\n",
        " \n",
        "    # Find the upper tangent\n",
        "    up = ind;\n",
        "    while (orientation(p, a[up], a[(up + 1) % n]) >= 0):\n",
        "        up = (up + 1) % n;\n",
        " \n",
        "    # Find the lower tangent\n",
        "    low = ind;\n",
        "    while (orientation(p, a[low], a[(n + low - 1) % n]) <= 0):\n",
        "        low = (n + low - 1) % n\n",
        " \n",
        "    # Initialize result\n",
        "    ret = []\n",
        " \n",
        "    # making the final hull by traversing points\n",
        "    # from up to low of given convex hull.\n",
        "    curr = up;\n",
        "    ret.append(a[curr]);\n",
        "    while (curr != low):\n",
        "        curr = (curr + 1) % n;\n",
        "        ret.append(a[curr]);\n",
        " \n",
        "    # Modify the original vector\n",
        "    ret.append(p);\n",
        "    a.clear();\n",
        "    for i in range(len(ret)):\n",
        "        a.append(ret[i]);\n",
        " \n",
        "# Driver code\n",
        "if __name__ == \"__main__\":\n",
        "   \n",
        "    # the set of points in the convex hull\n",
        "    a = []\n",
        "    a.append([0, 0]);\n",
        "    a.append([3, -1]);\n",
        "    a.append([4, 5]);\n",
        "    a.append([-1, 4]);\n",
        "    n = len(a)\n",
        " \n",
        "    p = [6, 6]\n",
        "    addPoint(a, p);\n",
        " \n",
        "    # Print the modified Convex Hull\n",
        "    for e in a :\n",
        "        print(\"(\" , e[0], \", \",\n",
        "              e[1] , \") \",end=\" \")\n",
        "    \n",
        " \n",
        "# This code is contributed by chitranayal\n"
      ]
    },
    {
      "cell_type": "code",
      "source": [
        "import matplotlib.pyplot as plt\n",
        "\n",
        "coord = [[0, 0], [3, -1], [4, 5], [-1, 4]]\n",
        "coord.append(coord[0]) #repeat the first point to create a 'closed loop'\n",
        "\n",
        "a.append(a[0]) #repeat the first point to create a 'closed loop'\n",
        "\n",
        "xsc, ysc = zip(*coord) #create lists of x and y values\n",
        "xsa, ysa = zip(*a) #create lists of x and y values\n",
        "\n",
        "plt.figure()\n",
        "plt.plot(xsc, ysc, color='red', marker='o', linestyle='solid',linewidth=0, markersize=12)\n",
        "plt.plot(xsa, ysa, color='blue', marker='o', linestyle='solid',linewidth=2, markersize=6)\n",
        "plt.show() "
      ],
      "metadata": {
        "colab": {
          "base_uri": "https://localhost:8080/",
          "height": 265
        },
        "id": "_0mN453H1g0R",
        "outputId": "e9b7bee6-f47f-4867-b08e-ac039edd92ec"
      },
      "execution_count": 50,
      "outputs": [
        {
          "output_type": "display_data",
          "data": {
            "image/png": "[encoded data removed]",
            "text/plain": [
              "<Figure size 432x288 with 1 Axes>"
            ]
          },
          "metadata": {
            "needs_background": "light"
          }
        }
      ]
    },
    {
      "cell_type": "code",
      "source": [
        "import matplotlib.pyplot as plt\n",
        "\n",
        "def plot_polygon(a):\n",
        "    a.append(a[0])\n",
        "    xs, ys = zip(*a) #create lists of x and y value\n",
        "    plt.plot(xs, ys, color='red', marker='o', linestyle='solid',linewidth=2, markersize=12)\n",
        "    plt.show()\n",
        "    del a[-1]\n"
      ],
      "metadata": {
        "id": "whApkiL02W0l"
      },
      "execution_count": 51,
      "outputs": []
    },
    {
      "cell_type": "code",
      "source": [
        "# Python 3 program to add given a point p to a given\n",
        "# convext hull. The program assumes that the\n",
        "# point of given convext hull are in anti-clockwise\n",
        "# order.\n",
        "import copy\n",
        " \n",
        "# checks whether the point crosses the convex hull\n",
        "# or not\n",
        "def orientation(a, b, c):\n",
        " \n",
        "    res = ((b[1] - a[1]) * (c[0] - b[0]) -\n",
        "              (c[1] - b[1]) * (b[0] - a[0]))\n",
        " \n",
        "    if (res == 0):\n",
        "        return 0;\n",
        "    if (res > 0):\n",
        "        return 1;\n",
        "    return -1;\n",
        " \n",
        "# Returns the square of distance between two input points\n",
        "def sqDist(p1, p2):\n",
        " \n",
        "    return ((p1[0] - p2[0]) * (p1[0] - p2[0]) +\n",
        "           (p1[1] - p2[1]) * (p1[1] - p2[1]));\n",
        " \n",
        "# Checks whether the point is inside the convex hull or not\n",
        "def inside( a, p ):\n",
        " \n",
        "    # Initialize the centroid of the convex hull\n",
        "    mid = [0, 0]\n",
        " \n",
        "    n = len(a)\n",
        " \n",
        "    # Multiplying with n to avoid floating point\n",
        "    # arithmetic.\n",
        "    p[0] *= n;\n",
        "    p[1] *= n;\n",
        "    for i in range(n):\n",
        "       \n",
        "        mid[0] += a[i][0];\n",
        "        mid[1] += a[i][1];\n",
        "        a[i][0] *= n;\n",
        "        a[i][1] *= n;\n",
        "     \n",
        "    # if the mid and the given point lies always\n",
        "    # on the same side w.r.t every edge of the\n",
        "    # convex hull, then the point lies inside\n",
        "    # the convex hull\n",
        "    for i in range( n ):\n",
        "     \n",
        "        j = (i + 1) % n;\n",
        "        x1 = a[i][0]\n",
        "        x2 = a[j][0]\n",
        "        y1 = a[i][1]\n",
        "        y2 = a[j][1]\n",
        "        a1 = y1 - y2;\n",
        "        b1 = x2 - x1;\n",
        "        c1 = x1 * y2 - y1 * x2;\n",
        "        for_mid = a1 * mid[0] + b1 * mid[1] + c1;\n",
        "        for_p = a1 * p[0] + b1*p[1]+c1;\n",
        "        if (for_mid*for_p < 0):\n",
        "            return False;\n",
        "    \n",
        "    return True;\n",
        " \n",
        "# Adds a point p to given convex hull a[]\n",
        "def addPoint( a, p):\n",
        " \n",
        "    if len(a) < 3:\n",
        "        a.append(p); \n",
        "\n",
        "    # If point is inside p\n",
        "    arr= copy.deepcopy(a)\n",
        "    prr =p.copy()\n",
        "     \n",
        "    if (inside(arr, prr)):\n",
        "        return;\n",
        "   \n",
        "    # point having minimum distance from the point p\n",
        "    ind = 0;\n",
        "    n = len(a)\n",
        "    for i in range(1, n):\n",
        "        if (sqDist(p, a[i]) < sqDist(p, a[ind])):\n",
        "            ind = i\n",
        " \n",
        "    # Find the upper tangent\n",
        "    up = ind;\n",
        "    while (orientation(p, a[up], a[(up + 1) % n]) >= 0):\n",
        "        up = (up + 1) % n;\n",
        " \n",
        "    # Find the lower tangent\n",
        "    low = ind;\n",
        "    while (orientation(p, a[low], a[(n + low - 1) % n]) <= 0):\n",
        "        low = (n + low - 1) % n\n",
        " \n",
        "    # Initialize result\n",
        "    ret = []\n",
        " \n",
        "    # making the final hull by traversing points\n",
        "    # from up to low of given convex hull.\n",
        "    curr = up;\n",
        "    ret.append(a[curr]);\n",
        "    while (curr != low):\n",
        "        curr = (curr + 1) % n;\n",
        "        ret.append(a[curr]);\n",
        " \n",
        "    # Modify the original vector\n",
        "    ret.append(p);\n",
        "    a.clear();\n",
        "    for i in range(len(ret)):\n",
        "        a.append(ret[i]);\n",
        " \n",
        "# Driver code\n",
        "if __name__ == \"__main__\":\n",
        "   \n",
        "    # the set of points in the convex hull\n",
        "    a = []\n",
        "\n",
        "    addPoint(a, [0, 0])\n",
        "    print(a,len(a))\n",
        "    plot_polygon(a)\n",
        "\n",
        "    addPoint(a,[3, -1])\n",
        "    print(a,len(a))\n",
        "    plot_polygon(a)\n",
        "\n",
        "    addPoint(a,[4, 5])\n",
        "    print(a,len(a))\n",
        "    plot_polygon(a)\n",
        "\n",
        "    addPoint(a,[-1, 4])\n",
        "    print(a,len(a))\n",
        "    plot_polygon(a)\n",
        "\n",
        "    addPoint(a,[6, 6])\n",
        "    print(a,len(a))\n",
        "    plot_polygon(a)"
      ],
      "metadata": {
        "colab": {
          "base_uri": "https://localhost:8080/",
          "height": 1000
        },
        "id": "BKuJVky4YOmE",
        "outputId": "2747b84e-aa8e-4c29-ca32-4ee84aca63c1"
      },
      "execution_count": 52,
      "outputs": [
        {
          "output_type": "stream",
          "name": "stdout",
          "text": [
            "[[0, 0]] 1\n"
          ]
        },
        {
          "output_type": "display_data",
          "data": {
            "image/png": "[encoded data removed]",
            "text/plain": [
              "<Figure size 432x288 with 1 Axes>"
            ]
          },
          "metadata": {
            "needs_background": "light"
          }
        },
        {
          "output_type": "stream",
          "name": "stdout",
          "text": [
            "[[0, 0], [3, -1]] 2\n"
          ]
        },
        {
          "output_type": "display_data",
          "data": {
            "image/png": "[encoded data removed]",
            "text/plain": [
              "<Figure size 432x288 with 1 Axes>"
            ]
          },
          "metadata": {
            "needs_background": "light"
          }
        },
        {
          "output_type": "stream",
          "name": "stdout",
          "text": [
            "[[0, 0], [3, -1], [4, 5]] 3\n"
          ]
        },
        {
          "output_type": "display_data",
          "data": {
            "image/png": "[encoded data removed]",
            "text/plain": [
              "<Figure size 432x288 with 1 Axes>"
            ]
          },
          "metadata": {
            "needs_background": "light"
          }
        },
        {
          "output_type": "stream",
          "name": "stdout",
          "text": [
            "[[0, 0], [3, -1], [4, 5], [-1, 4]] 4\n"
          ]
        },
        {
          "output_type": "display_data",
          "data": {
            "image/png": "[encoded data removed]",
            "text/plain": [
              "<Figure size 432x288 with 1 Axes>"
            ]
          },
          "metadata": {
            "needs_background": "light"
          }
        },
        {
          "output_type": "stream",
          "name": "stdout",
          "text": [
            "[[-1, 4], [0, 0], [3, -1], [6, 6]] 4\n"
          ]
        },
        {
          "output_type": "display_data",
          "data": {
            "image/png": "[encoded data removed]",
            "text/plain": [
              "<Figure size 432x288 with 1 Axes>"
            ]
          },
          "metadata": {
            "needs_background": "light"
          }
        }
      ]
    },
    {
      "cell_type": "code",
      "source": [
        "import matplotlib.pyplot as plt\n",
        "\n",
        "coord = [[0, 0], [3, -1], [4, 5], [-1, 4]]\n",
        "coord.append(coord[0]) #repeat the first point to create a 'closed loop'\n",
        "\n",
        "a.append(a[0]) #repeat the first point to create a 'closed loop'\n",
        "\n",
        "xsc, ysc = zip(*coord) #create lists of x and y values\n",
        "xsa, ysa = zip(*a) #create lists of x and y values\n",
        "\n",
        "plt.figure()\n",
        "plt.plot(xsc, ysc, color='red', marker='o', linestyle='solid',linewidth=0, markersize=12)\n",
        "plt.plot(xsa, ysa, color='blue', marker='o', linestyle='solid',linewidth=2, markersize=6)\n",
        "plt.show() "
      ],
      "metadata": {
        "colab": {
          "base_uri": "https://localhost:8080/",
          "height": 265
        },
        "id": "Gh64eg2l6RKh",
        "outputId": "f97eedd4-049b-4f9b-8b61-ff2939338334"
      },
      "execution_count": 53,
      "outputs": [
        {
          "output_type": "display_data",
          "data": {
            "image/png": "[encoded data removed]",
            "text/plain": [
              "<Figure size 432x288 with 1 Axes>"
            ]
          },
          "metadata": {
            "needs_background": "light"
          }
        }
      ]
    },
    {
      "cell_type": "markdown",
      "source": [
        "# ;"
      ],
      "metadata": {
        "id": "40TWDvX954Oz"
      }
    },
    {
      "cell_type": "code",
      "source": [
        "print(\"Hy\") \n",
        "print(\"Python\")\n",
        "print(\"Pool\")\n",
        " "
      ],
      "metadata": {
        "colab": {
          "base_uri": "https://localhost:8080/"
        },
        "id": "z-6RYOQVZMJi",
        "outputId": "b735a8b6-5461-41ce-f64e-7ca58e919471"
      },
      "execution_count": 3,
      "outputs": [
        {
          "output_type": "stream",
          "name": "stdout",
          "text": [
            "Hy\n",
            "Python\n",
            "Pool\n"
          ]
        }
      ]
    },
    {
      "cell_type": "code",
      "source": [
        ""
      ],
      "metadata": {
        "id": "7YeudngW6OBz"
      },
      "execution_count": null,
      "outputs": []
    },
    {
      "cell_type": "code",
      "source": [
        "print(\"Hy\") print(\"Python\") print(\"Pool\")"
      ],
      "metadata": {
        "colab": {
          "base_uri": "https://localhost:8080/",
          "height": 131
        },
        "id": "8NRtN3j4ZOWK",
        "outputId": "c660884a-5669-427a-d3e0-fe7818bf9587"
      },
      "execution_count": 4,
      "outputs": [
        {
          "output_type": "error",
          "ename": "SyntaxError",
          "evalue": "ignored",
          "traceback": [
            "\u001b[0;36m  File \u001b[0;32m\"<ipython-input-4-a0567b3bed6d>\"\u001b[0;36m, line \u001b[0;32m1\u001b[0m\n\u001b[0;31m    print(\"Hy\") print(\"Python\") print(\"Pool\")\u001b[0m\n\u001b[0m                    ^\u001b[0m\n\u001b[0;31mSyntaxError\u001b[0m\u001b[0;31m:\u001b[0m invalid syntax\n"
          ]
        }
      ]
    },
    {
      "cell_type": "code",
      "source": [
        "print(\"Hy\"); print(\"Python\"); print(\"Pool\")"
      ],
      "metadata": {
        "colab": {
          "base_uri": "https://localhost:8080/"
        },
        "id": "j784twwLZF1z",
        "outputId": "47cd6385-2182-4469-9136-16eabb372b2c"
      },
      "execution_count": 5,
      "outputs": [
        {
          "output_type": "stream",
          "name": "stdout",
          "text": [
            "Hy\n",
            "Python\n",
            "Pool\n"
          ]
        }
      ]
    }
  ]
}