{
  "nbformat": 4,
  "nbformat_minor": 0,
  "metadata": {
    "colab": {
      "name": "RunningTutortial5PandasResamplingDataFrame.ipynb",
      "provenance": [],
      "collapsed_sections": []
    },
    "kernelspec": {
      "name": "python3",
      "display_name": "Python 3"
    },
    "language_info": {
      "name": "python"
    }
  },
  "cells": [
    {
      "cell_type": "markdown",
      "metadata": {
        "id": "i82uzBaEMujV"
      },
      "source": [
        "#Quanconnect"
      ]
    },
    {
      "cell_type": "markdown",
      "metadata": {
        "id": "b0Gi16OjMs7N"
      },
      "source": [
        ""
      ]
    },
    {
      "cell_type": "markdown",
      "metadata": {
        "id": "J-JCNkC-39nK"
      },
      "source": [
        "Replace \n",
        "\n",
        "\n",
        "```python\n",
        "\n",
        "import quandl\n",
        "quandl.ApiConfig.api_key = 'dRQxJ15_2nrLznxr1Nn4'\n",
        "We will create a Series named \"aapl\" whose values are Apple's daily closing \n",
        "aapl_table = quandl.get('WIKI/AAPL')\n",
        "aapl = aapl_table['Adj. Close']['2017']\n",
        "print aapl\n",
        "```\n",
        "\n",
        "for \n",
        "\n"
      ]
    },
    {
      "cell_type": "code",
      "metadata": {
        "id": "VM4XSvl85NVR"
      },
      "source": [
        "# QuantBook Analysis Tool \n",
        "# For more information see [https://www.quantconnect.com/docs/research/overview]\n",
        "qb = QuantBook()\n",
        "aapl = qb.AddEquity(\"AAPL\")\n",
        "start_time = datetime(2016, 1, 1) # start datetime for history call\n",
        "end_time = datetime(2017, 12, 31) # end datetime for history call\n",
        "# Returns daily historical data between January 1st 2016 and December 31st 2017\n",
        "aapl_history = qb.History(aapl.Symbol, start_time, end_time, Resolution.Daily)\n",
        "print(aapl_history.index)\n",
        "print(aapl_history.columns)\n",
        "aapl_history "
      ],
      "execution_count": null,
      "outputs": []
    },
    {
      "cell_type": "code",
      "metadata": {
        "id": "mdM4N5Mc5NZw"
      },
      "source": [
        "#Drop de 'AAPL R735QTJ8XC9X' from the Multindex\n",
        "aapl_table = aapl_history.loc['AAPL R735QTJ8XC9X',:]\n",
        "aapl_table"
      ],
      "execution_count": null,
      "outputs": []
    },
    {
      "cell_type": "code",
      "metadata": {
        "id": "qWTER9G45U6Y"
      },
      "source": [
        "aapl = aapl_table['close']['2017']\n",
        "aapl"
      ],
      "execution_count": null,
      "outputs": []
    },
    {
      "cell_type": "markdown",
      "metadata": {
        "id": "VP1FGwjB5d0w"
      },
      "source": [
        "Replace \n",
        "*print ...* for *print(...)*\n",
        "\n",
        "and \n",
        "\n",
        "*Open, High, Low, Close* for  *open, high, low, close*, etc.\n"
      ]
    },
    {
      "cell_type": "markdown",
      "metadata": {
        "id": "vygfq9E-KReF"
      },
      "source": [
        "Replace"
      ]
    },
    {
      "cell_type": "code",
      "metadata": {
        "id": "QH2tNHxm5dBg"
      },
      "source": [
        "monthly_return = aapl.resample('M').agg(lambda x: x[-1]/x[1] - 1))"
      ],
      "execution_count": null,
      "outputs": []
    },
    {
      "cell_type": "markdown",
      "metadata": {
        "id": "CoKrzDsJKNY1"
      },
      "source": [
        "for"
      ]
    },
    {
      "cell_type": "code",
      "metadata": {
        "id": "oB-o-zZ9KOqO"
      },
      "source": [
        "monthly_return = aapl.resample('M').agg(lambda x: x[-1]/x[0] - 1)"
      ],
      "execution_count": null,
      "outputs": []
    },
    {
      "cell_type": "code",
      "metadata": {
        "id": "4O0ZE3x5KZE1"
      },
      "source": [
        "Replace"
      ],
      "execution_count": null,
      "outputs": []
    },
    {
      "cell_type": "code",
      "metadata": {
        "id": "YzH3fBz6Kdp8"
      },
      "source": [
        "df = aapl_table\n",
        "print df.Close.tail(5)\n",
        "print df['Adj. Volume'].tail(5)"
      ],
      "execution_count": null,
      "outputs": []
    },
    {
      "cell_type": "markdown",
      "metadata": {
        "id": "2vSp4Ka3KeXk"
      },
      "source": [
        "for"
      ]
    },
    {
      "cell_type": "code",
      "metadata": {
        "id": "THtZtaMTKfGc"
      },
      "source": [
        "df = aapl_table\n",
        "print(df.close.tail(5))\n",
        "print(df['volume'].tail(5))"
      ],
      "execution_count": null,
      "outputs": []
    },
    {
      "cell_type": "markdown",
      "metadata": {
        "id": "J6UipQQlKlEM"
      },
      "source": [
        "etc."
      ]
    },
    {
      "cell_type": "markdown",
      "metadata": {
        "id": "l4CisAhGMzXb"
      },
      "source": [
        "# Google Colab\n",
        "\n",
        "Download the Apple (AAPL) data from Yahoo Finance  -> AAPL -> Historical Data -> Dates -> Apply -> Dowload and use pd.read_csv."
      ]
    },
    {
      "cell_type": "markdown",
      "metadata": {
        "id": "w9FTUt2UOp_h"
      },
      "source": [
        "Upload the AAPL.csv in /content and read with pd.read_csv('AAPL.csv') the file depsapaer with the virtual server when the Colab Notebook is closed \n",
        "\n"
      ]
    },
    {
      "cell_type": "code",
      "metadata": {
        "id": "W4zzfY0rM75R"
      },
      "source": [
        "import pandas as pd\n",
        "aapl_table = pd.read_csv('AAPL.csv')  "
      ],
      "execution_count": 1,
      "outputs": []
    },
    {
      "cell_type": "code",
      "metadata": {
        "colab": {
          "base_uri": "https://localhost:8080/",
          "height": 423
        },
        "id": "QNi3rQ5tNVDz",
        "outputId": "a550f5c7-e470-410a-c23c-0f8974501037"
      },
      "source": [
        "aapl_table"
      ],
      "execution_count": 2,
      "outputs": [
        {
          "output_type": "execute_result",
          "data": {
            "text/html": [
              "<div>\n",
              "<style scoped>\n",
              "    .dataframe tbody tr th:only-of-type {\n",
              "        vertical-align: middle;\n",
              "    }\n",
              "\n",
              "    .dataframe tbody tr th {\n",
              "        vertical-align: top;\n",
              "    }\n",
              "\n",
              "    .dataframe thead th {\n",
              "        text-align: right;\n",
              "    }\n",
              "</style>\n",
              "<table border=\"1\" class=\"dataframe\">\n",
              "  <thead>\n",
              "    <tr style=\"text-align: right;\">\n",
              "      <th></th>\n",
              "      <th>Date</th>\n",
              "      <th>Open</th>\n",
              "      <th>High</th>\n",
              "      <th>Low</th>\n",
              "      <th>Close</th>\n",
              "      <th>Adj Close</th>\n",
              "      <th>Volume</th>\n",
              "    </tr>\n",
              "  </thead>\n",
              "  <tbody>\n",
              "    <tr>\n",
              "      <th>0</th>\n",
              "      <td>2016-01-04</td>\n",
              "      <td>25.652500</td>\n",
              "      <td>26.342501</td>\n",
              "      <td>25.500000</td>\n",
              "      <td>26.337500</td>\n",
              "      <td>24.286829</td>\n",
              "      <td>270597600</td>\n",
              "    </tr>\n",
              "    <tr>\n",
              "      <th>1</th>\n",
              "      <td>2016-01-05</td>\n",
              "      <td>26.437500</td>\n",
              "      <td>26.462500</td>\n",
              "      <td>25.602501</td>\n",
              "      <td>25.677500</td>\n",
              "      <td>23.678217</td>\n",
              "      <td>223164000</td>\n",
              "    </tr>\n",
              "    <tr>\n",
              "      <th>2</th>\n",
              "      <td>2016-01-06</td>\n",
              "      <td>25.139999</td>\n",
              "      <td>25.592501</td>\n",
              "      <td>24.967501</td>\n",
              "      <td>25.174999</td>\n",
              "      <td>23.214844</td>\n",
              "      <td>273829600</td>\n",
              "    </tr>\n",
              "    <tr>\n",
              "      <th>3</th>\n",
              "      <td>2016-01-07</td>\n",
              "      <td>24.670000</td>\n",
              "      <td>25.032499</td>\n",
              "      <td>24.107500</td>\n",
              "      <td>24.112499</td>\n",
              "      <td>22.235067</td>\n",
              "      <td>324377600</td>\n",
              "    </tr>\n",
              "    <tr>\n",
              "      <th>4</th>\n",
              "      <td>2016-01-08</td>\n",
              "      <td>24.637501</td>\n",
              "      <td>24.777500</td>\n",
              "      <td>24.190001</td>\n",
              "      <td>24.240000</td>\n",
              "      <td>22.352650</td>\n",
              "      <td>283192000</td>\n",
              "    </tr>\n",
              "    <tr>\n",
              "      <th>...</th>\n",
              "      <td>...</td>\n",
              "      <td>...</td>\n",
              "      <td>...</td>\n",
              "      <td>...</td>\n",
              "      <td>...</td>\n",
              "      <td>...</td>\n",
              "      <td>...</td>\n",
              "    </tr>\n",
              "    <tr>\n",
              "      <th>498</th>\n",
              "      <td>2017-12-22</td>\n",
              "      <td>43.669998</td>\n",
              "      <td>43.855000</td>\n",
              "      <td>43.625000</td>\n",
              "      <td>43.752499</td>\n",
              "      <td>41.906780</td>\n",
              "      <td>65397600</td>\n",
              "    </tr>\n",
              "    <tr>\n",
              "      <th>499</th>\n",
              "      <td>2017-12-26</td>\n",
              "      <td>42.700001</td>\n",
              "      <td>42.867500</td>\n",
              "      <td>42.419998</td>\n",
              "      <td>42.642502</td>\n",
              "      <td>40.843597</td>\n",
              "      <td>132742000</td>\n",
              "    </tr>\n",
              "    <tr>\n",
              "      <th>500</th>\n",
              "      <td>2017-12-27</td>\n",
              "      <td>42.525002</td>\n",
              "      <td>42.695000</td>\n",
              "      <td>42.427502</td>\n",
              "      <td>42.650002</td>\n",
              "      <td>40.850788</td>\n",
              "      <td>85992800</td>\n",
              "    </tr>\n",
              "    <tr>\n",
              "      <th>501</th>\n",
              "      <td>2017-12-28</td>\n",
              "      <td>42.750000</td>\n",
              "      <td>42.962502</td>\n",
              "      <td>42.619999</td>\n",
              "      <td>42.770000</td>\n",
              "      <td>40.965725</td>\n",
              "      <td>65920800</td>\n",
              "    </tr>\n",
              "    <tr>\n",
              "      <th>502</th>\n",
              "      <td>2017-12-29</td>\n",
              "      <td>42.630001</td>\n",
              "      <td>42.647499</td>\n",
              "      <td>42.305000</td>\n",
              "      <td>42.307499</td>\n",
              "      <td>40.522724</td>\n",
              "      <td>103999600</td>\n",
              "    </tr>\n",
              "  </tbody>\n",
              "</table>\n",
              "<p>503 rows × 7 columns</p>\n",
              "</div>"
            ],
            "text/plain": [
              "           Date       Open       High  ...      Close  Adj Close     Volume\n",
              "0    2016-01-04  25.652500  26.342501  ...  26.337500  24.286829  270597600\n",
              "1    2016-01-05  26.437500  26.462500  ...  25.677500  23.678217  223164000\n",
              "2    2016-01-06  25.139999  25.592501  ...  25.174999  23.214844  273829600\n",
              "3    2016-01-07  24.670000  25.032499  ...  24.112499  22.235067  324377600\n",
              "4    2016-01-08  24.637501  24.777500  ...  24.240000  22.352650  283192000\n",
              "..          ...        ...        ...  ...        ...        ...        ...\n",
              "498  2017-12-22  43.669998  43.855000  ...  43.752499  41.906780   65397600\n",
              "499  2017-12-26  42.700001  42.867500  ...  42.642502  40.843597  132742000\n",
              "500  2017-12-27  42.525002  42.695000  ...  42.650002  40.850788   85992800\n",
              "501  2017-12-28  42.750000  42.962502  ...  42.770000  40.965725   65920800\n",
              "502  2017-12-29  42.630001  42.647499  ...  42.307499  40.522724  103999600\n",
              "\n",
              "[503 rows x 7 columns]"
            ]
          },
          "metadata": {},
          "execution_count": 2
        }
      ]
    },
    {
      "cell_type": "markdown",
      "metadata": {
        "id": "QL5_3aYOPJeS"
      },
      "source": [
        "aapl_table = pd.read_csv('AAPL.csv') "
      ]
    },
    {
      "cell_type": "code",
      "metadata": {
        "id": "lnkTmPnMPJSC"
      },
      "source": [
        "aapl_table = pd.read_csv('https://raw.githubusercontent.com/gjhernandezp/algorithms/master/QuanConnect/AAPL.csv') "
      ],
      "execution_count": 3,
      "outputs": []
    },
    {
      "cell_type": "code",
      "metadata": {
        "colab": {
          "base_uri": "https://localhost:8080/",
          "height": 423
        },
        "id": "UPbhPzI8PIAq",
        "outputId": "18efa781-aa17-40c8-d240-52c3c28a2bc9"
      },
      "source": [
        "aapl_table"
      ],
      "execution_count": 4,
      "outputs": [
        {
          "output_type": "execute_result",
          "data": {
            "text/html": [
              "<div>\n",
              "<style scoped>\n",
              "    .dataframe tbody tr th:only-of-type {\n",
              "        vertical-align: middle;\n",
              "    }\n",
              "\n",
              "    .dataframe tbody tr th {\n",
              "        vertical-align: top;\n",
              "    }\n",
              "\n",
              "    .dataframe thead th {\n",
              "        text-align: right;\n",
              "    }\n",
              "</style>\n",
              "<table border=\"1\" class=\"dataframe\">\n",
              "  <thead>\n",
              "    <tr style=\"text-align: right;\">\n",
              "      <th></th>\n",
              "      <th>Date</th>\n",
              "      <th>Open</th>\n",
              "      <th>High</th>\n",
              "      <th>Low</th>\n",
              "      <th>Close</th>\n",
              "      <th>Adj Close</th>\n",
              "      <th>Volume</th>\n",
              "    </tr>\n",
              "  </thead>\n",
              "  <tbody>\n",
              "    <tr>\n",
              "      <th>0</th>\n",
              "      <td>2016-01-04</td>\n",
              "      <td>25.652500</td>\n",
              "      <td>26.342501</td>\n",
              "      <td>25.500000</td>\n",
              "      <td>26.337500</td>\n",
              "      <td>24.286829</td>\n",
              "      <td>270597600</td>\n",
              "    </tr>\n",
              "    <tr>\n",
              "      <th>1</th>\n",
              "      <td>2016-01-05</td>\n",
              "      <td>26.437500</td>\n",
              "      <td>26.462500</td>\n",
              "      <td>25.602501</td>\n",
              "      <td>25.677500</td>\n",
              "      <td>23.678217</td>\n",
              "      <td>223164000</td>\n",
              "    </tr>\n",
              "    <tr>\n",
              "      <th>2</th>\n",
              "      <td>2016-01-06</td>\n",
              "      <td>25.139999</td>\n",
              "      <td>25.592501</td>\n",
              "      <td>24.967501</td>\n",
              "      <td>25.174999</td>\n",
              "      <td>23.214844</td>\n",
              "      <td>273829600</td>\n",
              "    </tr>\n",
              "    <tr>\n",
              "      <th>3</th>\n",
              "      <td>2016-01-07</td>\n",
              "      <td>24.670000</td>\n",
              "      <td>25.032499</td>\n",
              "      <td>24.107500</td>\n",
              "      <td>24.112499</td>\n",
              "      <td>22.235067</td>\n",
              "      <td>324377600</td>\n",
              "    </tr>\n",
              "    <tr>\n",
              "      <th>4</th>\n",
              "      <td>2016-01-08</td>\n",
              "      <td>24.637501</td>\n",
              "      <td>24.777500</td>\n",
              "      <td>24.190001</td>\n",
              "      <td>24.240000</td>\n",
              "      <td>22.352650</td>\n",
              "      <td>283192000</td>\n",
              "    </tr>\n",
              "    <tr>\n",
              "      <th>...</th>\n",
              "      <td>...</td>\n",
              "      <td>...</td>\n",
              "      <td>...</td>\n",
              "      <td>...</td>\n",
              "      <td>...</td>\n",
              "      <td>...</td>\n",
              "      <td>...</td>\n",
              "    </tr>\n",
              "    <tr>\n",
              "      <th>498</th>\n",
              "      <td>2017-12-22</td>\n",
              "      <td>43.669998</td>\n",
              "      <td>43.855000</td>\n",
              "      <td>43.625000</td>\n",
              "      <td>43.752499</td>\n",
              "      <td>41.906780</td>\n",
              "      <td>65397600</td>\n",
              "    </tr>\n",
              "    <tr>\n",
              "      <th>499</th>\n",
              "      <td>2017-12-26</td>\n",
              "      <td>42.700001</td>\n",
              "      <td>42.867500</td>\n",
              "      <td>42.419998</td>\n",
              "      <td>42.642502</td>\n",
              "      <td>40.843597</td>\n",
              "      <td>132742000</td>\n",
              "    </tr>\n",
              "    <tr>\n",
              "      <th>500</th>\n",
              "      <td>2017-12-27</td>\n",
              "      <td>42.525002</td>\n",
              "      <td>42.695000</td>\n",
              "      <td>42.427502</td>\n",
              "      <td>42.650002</td>\n",
              "      <td>40.850788</td>\n",
              "      <td>85992800</td>\n",
              "    </tr>\n",
              "    <tr>\n",
              "      <th>501</th>\n",
              "      <td>2017-12-28</td>\n",
              "      <td>42.750000</td>\n",
              "      <td>42.962502</td>\n",
              "      <td>42.619999</td>\n",
              "      <td>42.770000</td>\n",
              "      <td>40.965725</td>\n",
              "      <td>65920800</td>\n",
              "    </tr>\n",
              "    <tr>\n",
              "      <th>502</th>\n",
              "      <td>2017-12-29</td>\n",
              "      <td>42.630001</td>\n",
              "      <td>42.647499</td>\n",
              "      <td>42.305000</td>\n",
              "      <td>42.307499</td>\n",
              "      <td>40.522724</td>\n",
              "      <td>103999600</td>\n",
              "    </tr>\n",
              "  </tbody>\n",
              "</table>\n",
              "<p>503 rows × 7 columns</p>\n",
              "</div>"
            ],
            "text/plain": [
              "           Date       Open       High  ...      Close  Adj Close     Volume\n",
              "0    2016-01-04  25.652500  26.342501  ...  26.337500  24.286829  270597600\n",
              "1    2016-01-05  26.437500  26.462500  ...  25.677500  23.678217  223164000\n",
              "2    2016-01-06  25.139999  25.592501  ...  25.174999  23.214844  273829600\n",
              "3    2016-01-07  24.670000  25.032499  ...  24.112499  22.235067  324377600\n",
              "4    2016-01-08  24.637501  24.777500  ...  24.240000  22.352650  283192000\n",
              "..          ...        ...        ...  ...        ...        ...        ...\n",
              "498  2017-12-22  43.669998  43.855000  ...  43.752499  41.906780   65397600\n",
              "499  2017-12-26  42.700001  42.867500  ...  42.642502  40.843597  132742000\n",
              "500  2017-12-27  42.525002  42.695000  ...  42.650002  40.850788   85992800\n",
              "501  2017-12-28  42.750000  42.962502  ...  42.770000  40.965725   65920800\n",
              "502  2017-12-29  42.630001  42.647499  ...  42.307499  40.522724  103999600\n",
              "\n",
              "[503 rows x 7 columns]"
            ]
          },
          "metadata": {},
          "execution_count": 4
        }
      ]
    },
    {
      "cell_type": "markdown",
      "metadata": {
        "id": "p4m7R7TAPHND"
      },
      "source": [
        "With the data from Yahho Finance you have to use *Date,Open,High,Low,Close,Adj Close and Volume*"
      ]
    }
  ]
}