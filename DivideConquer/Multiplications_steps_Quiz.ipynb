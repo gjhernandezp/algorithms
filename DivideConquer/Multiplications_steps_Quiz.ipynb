{
  "nbformat": 4,
  "nbformat_minor": 0,
  "metadata": {
    "colab": {
      "name": "Multiplications_steps_Quiz.ipynb",
      "provenance": [],
      "collapsed_sections": []
    },
    "kernelspec": {
      "name": "python3",
      "display_name": "Python 3"
    },
    "language_info": {
      "name": "python"
    }
  },
  "cells": [
    {
      "cell_type": "markdown",
      "metadata": {
        "id": "3vUhQTJdGE-8"
      },
      "source": [
        "# **Forms of Multiplication (UN Code practice)**\n",
        "\n",
        "\n",
        "On this task you're asked to implement the naive and russian pesant's multiplication algorithms and also the number of steps needed in each one of them for given operations.\n"
      ]
    },
    {
      "cell_type": "markdown",
      "metadata": {
        "id": "34i9KL_haItv"
      },
      "source": [
        "# **1. Naive**"
      ]
    },
    {
      "cell_type": "markdown",
      "metadata": {
        "id": "PjiZC1byHqJu"
      },
      "source": [
        "---\n",
        "\n",
        "**Input:** $a,b$ real numbers\n",
        "\n",
        "**Output:** $z$ calculated value for a given multiplication. $n$ number of cycles or iterations done by the algorithm\n",
        "\n",
        "---"
      ]
    },
    {
      "cell_type": "markdown",
      "metadata": {
        "id": "8K204X8vFJyi"
      },
      "source": [
        "---\n",
        "\n",
        "**Sample testcase**\n",
        "\n",
        "```python\n",
        "#run this sample testcase on a cell to help you validate your solution\n",
        "naive(9,7)\n",
        "#  --> Expected output: (63, 9)\n",
        "```\n",
        "\n",
        "---"
      ]
    },
    {
      "cell_type": "markdown",
      "metadata": {
        "id": "DJ_bHorAF-Ip"
      },
      "source": [
        "**Solution**"
      ]
    },
    {
      "cell_type": "code",
      "metadata": {
        "id": "z5XnTHML__l6"
      },
      "source": [
        "#Do not change this function's name, parameters or output format. It will be used in automatic grading.\n",
        "\n",
        "def naive(a,b):\n",
        "  \n",
        "  #Your code goes here\n",
        "\n",
        "  n = 0\n",
        "  z = 0\n",
        "\n",
        "  return z, n"
      ],
      "execution_count": null,
      "outputs": []
    },
    {
      "cell_type": "markdown",
      "metadata": {
        "id": "KmiCsSHlaXnt"
      },
      "source": [
        "# **2. Russian peasant's**"
      ]
    },
    {
      "cell_type": "markdown",
      "metadata": {
        "id": "Uj9q6yHnaGjt"
      },
      "source": [
        "---\n",
        "\n",
        "**Input:** $a,b$ real numbers\n",
        "\n",
        "**Output:** $z$ calculated value for a given multiplication. $n$ number of cycles or iterations done by the algorithm\n",
        "\n",
        "---"
      ]
    },
    {
      "cell_type": "markdown",
      "metadata": {
        "id": "ykHxebp2Y3PR"
      },
      "source": [
        "---\n",
        "\n",
        "**Sample testcase**\n",
        "\n",
        "```python\n",
        "#run this sample testcase on a cell to help you validate your solution\n",
        "russian(9,7)\n",
        "#  --> Expected output: (63, 4)\n",
        "```\n",
        "\n",
        "---"
      ]
    },
    {
      "cell_type": "code",
      "metadata": {
        "id": "55EJoD00VnvG"
      },
      "source": [
        "#Do not change this function's name, parameters or output format. It will be used in automatic grading.\n",
        "\n",
        "def russian(a,b):\n",
        "  \n",
        "  #Your code goes here\n",
        "\n",
        "  z = 0\n",
        "  n = 0\n",
        "\n",
        "  return z, n"
      ],
      "execution_count": null,
      "outputs": []
    },
    {
      "cell_type": "code",
      "metadata": {
        "id": "kBKPakfSYLqP"
      },
      "source": [
        ""
      ],
      "execution_count": null,
      "outputs": []
    }
  ]
}