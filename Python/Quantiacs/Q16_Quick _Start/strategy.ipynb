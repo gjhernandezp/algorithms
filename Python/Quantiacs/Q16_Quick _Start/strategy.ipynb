{
  "nbformat": 4,
  "nbformat_minor": 0,
  "metadata": {
    "kernelspec": {
      "display_name": "Python 3",
      "language": "python",
      "name": "python3"
    },
    "language_info": {
      "codemirror_mode": {
        "name": "ipython",
        "version": 3
      },
      "file_extension": ".py",
      "mimetype": "text/x-python",
      "name": "python",
      "nbconvert_exporter": "python",
      "pygments_lexer": "ipython3",
      "version": "3.7.10"
    },
    "colab": {
      "name": "strategy.ipynb",
      "provenance": []
    }
  },
  "cells": [
    {
      "cell_type": "markdown",
      "metadata": {
        "id": "c6it4KEXuZzf"
      },
      "source": [
        "# Q16 Quick Start One\n",
        "\n",
        "This template shows you the basic steps for taking part to the **Q16 crypto Top-10 Long-only contest**. Your trading algorithm can trade only cryptocurrencies and cannot take short positions.\n",
        "\n",
        "At each point in time your algorithm can trade all or a subset of the 10 cryptocurrencies which at that point of time had the largest market capitalization. Note that the composition of this set changes in time, and Quantiacs provides you with an appropriate filter function for selecting them.\n",
        "\n",
        "More details on the rules can be found [here](https://quantiacs.com/contest).\n",
        "\n",
        "**Need help?** Check the [**Documentation**](https://quantiacs.com/documentation/en/) and find solutions/report problems in the [**Forum**](https://quantiacs.com/community/categories) section.\n",
        "\n",
        "**More help with Jupyter?** Check the official [**Jupyter**](https://jupyter.org/) page.\n",
        "\n",
        "Once you are done, click on **Submit to the contest** and take part to our competitions.\n",
        "\n",
        "API reference:\n",
        "\n",
        "* **data**: check how to work with [data](https://quantiacs.com/documentation/en/reference/data_load_functions.html);\n",
        "\n",
        "* **backtesting**: read how to run the [simulation](https://quantiacs.com/documentation/en/reference/evaluation.html) and check the results.\n",
        "\n",
        "Need to use the optimizer function to automate tedious tasks?\n",
        "\n",
        "* **optimization**: read more on our [article](https://quantiacs.com/community/topic/29/optimizing-and-monitoring-a-trading-system-with-quantiacs)."
      ]
    },
    {
      "cell_type": "code",
      "metadata": {
        "id": "eI7AFvuAuZzj"
      },
      "source": [
        "%%javascript\n",
        "IPython.OutputArea.prototype._should_scroll = function(lines) { return false; }\n",
        "// disable widget scrolling"
      ],
      "execution_count": null,
      "outputs": []
    },
    {
      "cell_type": "code",
      "metadata": {
        "id": "0D5S-am1uZzk"
      },
      "source": [
        "import xarray as xr\n",
        "\n",
        "import qnt.ta as qnta\n",
        "import qnt.backtester as qnbt\n",
        "import qnt.data as qndata\n",
        "\n",
        "\n",
        "\n",
        "def load_data(period):\n",
        "    return qndata.cryptodaily_load_data(tail=period)\n",
        "\n",
        "\n",
        "\n",
        "def strategy(data):\n",
        "    close = data.sel(field=\"close\")\n",
        "    is_liquid = data.sel(field=\"is_liquid\") # this field tags cryptocurrencies which, at a given point in time,\n",
        "                                            # are among the 10 ones with the largest market capitalization\n",
        "    sma_slow = qnta.sma(close, 200).isel(time=-1)\n",
        "    sma_fast = qnta.sma(close, 20).isel(time=-1)\n",
        "    weights  = xr.where(sma_slow < sma_fast, 1, 0)\n",
        "    weights  = weights * is_liquid  # trade only cryptocurrencies which were among the top 10 in terms\n",
        "                                   # of market capitalization at each point in time\n",
        "    weights = weights / 10.0\n",
        "    return weights\n",
        "\n",
        "\n",
        "\n",
        "weights = qnbt.backtest(\n",
        "    competition_type= \"crypto_daily_long\",\n",
        "    load_data= load_data,\n",
        "    lookback_period= 365*4,\n",
        "    start_date= \"2014-01-01\",\n",
        "    strategy= strategy,\n",
        "    analyze= True,\n",
        "    build_plots= True\n",
        ")"
      ],
      "execution_count": null,
      "outputs": []
    },
    {
      "cell_type": "markdown",
      "metadata": {
        "id": "NW-FYMKhuZzl"
      },
      "source": [
        "# Description\n",
        "\n",
        "## 1. Data\n",
        "\n",
        "The variable **qndata.cryptodaily_load_data(tail=period)** is an xarray.DataArray  structure that contains historical market data for the last (tail=period) days whose coordinates are:\n",
        "\n",
        "* **time**: a date in format yyyy-mm-dd;\n",
        "* **field**: an attribute, for example the opening daily price;\n",
        "* **asset**: the identifying symbol for the asset, for example **BTC** for bitcoin.\n",
        "\n",
        "More details on xarray can be found at https://xarray.pydata.org/en/stable/.\n",
        "\n",
        "## 2. Strategy. Weights allocation\n",
        "\n",
        "For each date, the algorithm calculates the portfolio weights which should be used at the opening of the next day's trading.\n",
        "\n",
        "Quantiacs uses an exposure-based backtester. The trading algorithm should define the fractions of capital which will be distributed to the assets (allocation weights). A **positive** weight means a long position (**buy**), a **negative** value means a short position (**sell**).\n",
        "\n",
        "> Note that algorithm decisions can use all data available at the close of the session, and will be applied at the opening of the next day's session. The chosen allocation weights are translated to positions (number of contracts to be bought/sold) immediately after the close of the session and transactions are executed at the open of the next day.\n",
        "\n",
        "## 3. Performance estimation\n",
        "\n",
        "After we have built the algorithm, we can evaluate its performance calculating statistics.\n",
        "\n",
        "We can display the values of statistical indicators on a cumulative basis, assuming that we have 1M USD at the starting point.\n",
        "\n",
        "The call will produce:\n",
        "\n",
        "* **equity**: the cumulative value of profits and losses since inception (1M USD);\n",
        "* **relative_return**: the relative daily variation of **equity**;\n",
        "* **volatility**: the volatility of the investment since inception (i.e. the annualized standard deviation of the daily returns);\n",
        "* **underwater**: the time evolution of drawdowns;\n",
        "* **max_drawdown**: the absolute minimum of the underwater chart;\n",
        "* **sharpe_ratio**: the annualized Sharpe ratio since inception; the value must be larger than 1 for taking part to contests;\n",
        "* **mean_return**: the annualized mean return of the investment since inception;\n",
        "* **bias**: the daily asymmetry between long and short exposure: 1 for a long-only system, -1 for a short-only one;\n",
        "* **instruments**: the number of instruments which get allocations on a given day;\n",
        "* **avg_turnover**: the average turnover;\n",
        "* **avg_holding_time**: the average holding time in days.\n",
        "\n",
        "A detailed explanation can be found inspecting the source code for the library in your directory at **/qnt/stats.py**\n",
        "\n",
        "Moreover we can produce a chart which shows the cumulative profits and losses."
      ]
    },
    {
      "cell_type": "markdown",
      "metadata": {
        "id": "yE_P3JDauZzm"
      },
      "source": [
        "# How can I write a quick prototype?\n",
        "\n",
        "A quick prototpye can be written using a single-pass implementation where all the time series are processed at once. Beware that unintentional forward looking can take place!\n",
        "\n",
        "```python\n",
        "import xarray as xr\n",
        "\n",
        "import qnt.ta as qnta\n",
        "import qnt.data as qndata\n",
        "import qnt.output as qnout\n",
        "import qnt.stats as qns\n",
        "\n",
        "data = qndata.cryptodaily_load_data(min_date=\"2013-05-01\")\n",
        "\n",
        "close = data.sel(field=\"close\")\n",
        "is_liquid = data.sel(field=\"is_liquid\")\n",
        "sma_slow = qnta.sma(close, 200)\n",
        "sma_fast = qnta.sma(close, 20)\n",
        "weights = xr.where(sma_slow < sma_fast, 1, 0)\n",
        "weights = weights * is_liquid \n",
        "weights = weights / 10.0\n",
        "\n",
        "weights = qnout.clean(weights, data, \"crypto_daily_long\")\n",
        "\n",
        "qnout.check(weights, data, \"crypto_daily_long\")\n",
        "\n",
        "qnout.write(weights)\n",
        "\n",
        "# calc stats\n",
        "stats = qns.calc_stat(data, weights.sel(time=slice(\"2014-01-01\",None)))\n",
        "stats.to_pandas().tail()\n",
        "```"
      ]
    },
    {
      "cell_type": "markdown",
      "metadata": {
        "id": "rE1bGHYAuZzm"
      },
      "source": [
        "# What libraries are available?\n",
        "\n",
        "Our library makes extensive use of xarray: \n",
        "\n",
        "[xarray](http://xarray.pydata.org/en/stable/)\n",
        "\n",
        "pandas:\n",
        "\n",
        "[pandas](https://pandas.pydata.org/)\n",
        "\n",
        "and numpy:\n",
        "\n",
        "[numpy](https://numpy.org/)\n",
        "\n",
        "Function definitions can be found in the qnt folder in your private root directory.\n",
        "\n",
        "```python\n",
        "# Import basic libraries.\n",
        "import xarray as xr\n",
        "import pandas as pd\n",
        "import numpy as np\n",
        "\n",
        "# Import quantnet libraries.\n",
        "import qnt.data    as qndata  # load and manipulate data\n",
        "import qnt.output as output   # manage output\n",
        "import qnt.backtester as qnbt # backtester\n",
        "import qnt.stats   as qnstats # statistical functions for analysis\n",
        "import qnt.graph   as qngraph # graphical tools\n",
        "import qnt.ta      as qnta    # indicators library\n",
        "```"
      ]
    },
    {
      "cell_type": "markdown",
      "metadata": {
        "id": "UOjEsVXFuZzn"
      },
      "source": [
        "# May I import libraries?\n",
        "\n",
        "Yes, please refer to the file **init.ipynb** in your home directory. You can for example use:\n",
        "\n",
        "! conda install -y scikit-learn"
      ]
    },
    {
      "cell_type": "markdown",
      "metadata": {
        "id": "KBwb7I_ouZzn"
      },
      "source": [
        "# How to load data?\n",
        "\n",
        "Cryptocurrency data on a daily resolution used for the Q16 contest:\n",
        "```python\n",
        "data = qndata.cryptodaily_load_data(tail = 15*365, dims = (\"time\", \"field\", \"asset\"))\n",
        "```\n",
        "\n",
        "Futures data for the Q15 contest:\n",
        "```python\n",
        "data= qndata.futures.load_data(tail = 15*365, dims = (\"time\", \"field\", \"asset\"))\n",
        "```\n",
        "\n",
        "BTC Futures data for the Q15 contest:\n",
        "```python\n",
        "data= qndata.cryptofutures.load_data(tail = 15*365, dims = (\"time\", \"field\", \"asset\"))\n",
        "```"
      ]
    },
    {
      "cell_type": "markdown",
      "metadata": {
        "id": "wCx3duPCuZzo"
      },
      "source": [
        "# How to view a list of all tickers?\n",
        "\n",
        "```python\n",
        "data.asset.to_pandas().to_list()\n",
        "```"
      ]
    },
    {
      "cell_type": "markdown",
      "metadata": {
        "id": "Ga3LXA_juZzp"
      },
      "source": [
        "# How to see which fields are available?\n",
        "\n",
        "```python\n",
        "data.field.to_pandas().to_list()\n",
        "```"
      ]
    },
    {
      "cell_type": "markdown",
      "metadata": {
        "id": "VHO_VG88uZzp"
      },
      "source": [
        "# How to load specific tickers?\n",
        "\n",
        "```python\n",
        "data = qndata.cryptodaily_load_data(tail=15 * 365, assets=[\"DOGE\", \"LTC\"])\n",
        "```"
      ]
    },
    {
      "cell_type": "markdown",
      "metadata": {
        "id": "rPKva8KBuZzp"
      },
      "source": [
        "# How to select specific tickers after loading all data?\n",
        "\n",
        "```python\n",
        "def get_data_filter(data, assets):\n",
        "    filler= data.sel(asset=assets)\n",
        "    return filler\n",
        "\n",
        "get_data_filter(data, [\"DOGE\", \"LTC\"])\n",
        "```"
      ]
    },
    {
      "cell_type": "markdown",
      "metadata": {
        "id": "Pc-F8jnnuZzp"
      },
      "source": [
        "# How to get the prices for the previous day?\n",
        "\n",
        "```python\n",
        "qnta.shift(data.sel(field=\"open\"), periods=1)\n",
        "```\n",
        "\n",
        "or:\n",
        "\n",
        "```python\n",
        "data.sel(field=\"open\").shift(time=1)\n",
        "```"
      ]
    },
    {
      "cell_type": "markdown",
      "metadata": {
        "id": "PHZ8BLcPuZzq"
      },
      "source": [
        "# How to get the sharpe ratio?\n",
        "\n",
        "```python\n",
        "import qnt.stats as qnstats\n",
        "\n",
        "def get_sharpe(market_data, weights):\n",
        "    rr = qnstats.calc_relative_return(market_data, weights)\n",
        "    sharpe = qnstats.calc_sharpe_ratio_annualized(rr).values[-1]\n",
        "    return sharpe\n",
        "\n",
        "sharpe = get_sharpe(data, weights) # weights.sel(time=slice(\"2014-01-01\",None))\n",
        "```"
      ]
    },
    {
      "cell_type": "markdown",
      "metadata": {
        "id": "GTUKXEiauZzq"
      },
      "source": [
        "# How do I get a list of the top 3 assets ranked by Sharpe ratio?\n",
        "\n",
        "```python\n",
        "import qnt.stats as qnstats\n",
        "\n",
        "data = qndata.cryptodaily_load_data(tail = 15*365, dims = (\"time\", \"field\", \"asset\"))\n",
        "\n",
        "def get_best_instruments(data, weights, top_size):\n",
        "    # compute statistics:\n",
        "    stats_per_asset= qnstats.calc_stat(data, weights, per_asset=True)\n",
        "    # calculate ranks of assets by \"sharpe_ratio\":\n",
        "    ranks= (-stats_per_asset.sel(field=\"sharpe_ratio\")).rank(\"asset\")\n",
        "    # select top assets by rank \"top_period\" days ago:\n",
        "    top_period= 1\n",
        "    rank= ranks.isel(time=-top_period)\n",
        "    top= rank.where(rank <= top_size).dropna(\"asset\").asset\n",
        "\n",
        "    # select top stats:\n",
        "    top_stats= stats_per_asset.sel(asset=top.values)\n",
        "\n",
        "    # print results:\n",
        "    print(\"SR tail of the top assets:\")\n",
        "    display(top_stats.sel(field=\"sharpe_ratio\").to_pandas().tail())\n",
        "\n",
        "    print(\"avg SR = \", top_stats[-top_period:].sel(field=\"sharpe_ratio\").mean(\"asset\")[-1].item())\n",
        "    display(top_stats)\n",
        "    return top_stats.coords[\"asset\"].values\n",
        "\n",
        "get_best_instruments(data, weights, 3)\n",
        "```"
      ]
    },
    {
      "cell_type": "markdown",
      "metadata": {
        "id": "HxQug_kFuZzq"
      },
      "source": [
        "# How can I check the results for only the top 3 assets ranked by Sharpe ratio?\n",
        "\n",
        "Select the top assets and then load their data:\n",
        "\n",
        "```python\n",
        "best_assets= get_best_instruments(data, weights, 3)\n",
        "\n",
        "data= qndata.cryptodaily_load_data(tail = 15*365, assets=best_assets)\n",
        "```"
      ]
    },
    {
      "cell_type": "markdown",
      "metadata": {
        "id": "RHbZ5WpbuZzr"
      },
      "source": [
        "# How can prices be processed?\n",
        "\n",
        "Simply import standard libraries, for example **numpy**:\n",
        "\n",
        "```python\n",
        "import numpy as np\n",
        "\n",
        "high= np.log(data.sel(field=\"high\"))\n",
        "```"
      ]
    },
    {
      "cell_type": "markdown",
      "metadata": {
        "id": "UgF0dTtIuZzr"
      },
      "source": [
        "# How can you reduce slippage impace when trading?\n",
        "\n",
        "Just apply some technique to reduce turnover:\n",
        "\n",
        "```python\n",
        "def get_lower_slippage(weights, rolling_time=6):\n",
        "    return weights.rolling({\"time\": rolling_time}).max()\n",
        "\n",
        "improved_weights = get_lower_slippage(weights, rolling_time=6)\n",
        "```"
      ]
    },
    {
      "cell_type": "markdown",
      "metadata": {
        "id": "Z9yCOu6quZzr"
      },
      "source": [
        "# How to use technical analysis indicators?\n",
        "\n",
        "For available indicators see the source code of the library: /qnt/ta\n",
        "\n",
        "## ATR\n",
        "\n",
        "```python\n",
        "def get_atr(data, days=14):\n",
        "    high = data.sel(field=\"high\") * 1.0 \n",
        "    low  = data.sel(field=\"low\") * 1.0 \n",
        "    close= data.sel(field=\"close\") * 1.0\n",
        "\n",
        "    return qnta.atr(high, low, close, days)\n",
        "\n",
        "atr= get_atr(data, days=14)\n",
        "```\n",
        "\n",
        "## EMA\n",
        "\n",
        "```python\n",
        "prices= data.sel(field=\"high\")\n",
        "prices_ema= qnta.ema(prices, 15)\n",
        "```\n",
        "\n",
        "## TRIX\n",
        "\n",
        "```python\n",
        "prices= data.sel(field=\"high\")\n",
        "prices_trix= qnta.trix(prices, 15)\n",
        "```\n",
        "\n",
        "## ADL and EMA\n",
        "\n",
        "```python\n",
        "adl= qnta.ad_line(data.sel(field=\"close\")) * 1.0 \n",
        "adl_ema= qnta.ema(adl, 18)\n",
        "```"
      ]
    },
    {
      "cell_type": "markdown",
      "metadata": {
        "id": "p4ye2PBiuZzr"
      },
      "source": [
        "# How can you check the quality of your strategy?\n",
        "\n",
        "```python\n",
        "import qnt.output as qnout\n",
        "qnout.check(weights, data, \"crypto_daily_long\")\n",
        "```\n",
        "\n",
        "or\n",
        "\n",
        "```python\n",
        "stat= qnstats.calc_stat(data, weights)\n",
        "display(stat.to_pandas().tail())\n",
        "```\n",
        "\n",
        "or\n",
        "\n",
        "```python\n",
        "import qnt.graph   as qngraph\n",
        "statistics= qnstats.calc_stat(data, weights)\n",
        "display(statistics.to_pandas().tail())\n",
        "\n",
        "performance= statistics.to_pandas()[\"equity\"]\n",
        "qngraph.make_plot_filled(performance.index, performance, name=\"PnL (Equity)\", type=\"log\")\n",
        "\n",
        "display(statistics[-1:].sel(field = [\"sharpe_ratio\"]).transpose().to_pandas())\n",
        "qnstats.print_correlation(weights, data)\n",
        "\n",
        "```"
      ]
    },
    {
      "cell_type": "markdown",
      "metadata": {
        "id": "YQT9T11FuZzs"
      },
      "source": [
        "# An example using pandas\n",
        "\n",
        "One can work with pandas DataFrames at intermediate steps and at the end convert them to xarray data structures:\n",
        "\n",
        "```python\n",
        "def get_price_pct_change(prices):\n",
        "    prices_pandas= prices.to_pandas()\n",
        "    assets= data.coords[\"asset\"].values\n",
        "    for asset in assets:\n",
        "        prices_pandas[asset]= prices_pandas[asset].pct_change()\n",
        "    return prices_pandas\n",
        "\n",
        "\n",
        "prices= data.sel(field=\"close\") * 1.0\n",
        "prices_pct_change= get_price_pct_change(prices).unstack().to_xarray()\n",
        "\n",
        "```"
      ]
    },
    {
      "cell_type": "markdown",
      "metadata": {
        "id": "7cgxvHtcuZzs"
      },
      "source": [
        "# How can I combine datasets?\n",
        "\n",
        "Let us suppose that we want to use some Futures data as external indicators for taking positions on Cryptocurrencies. This can easily be achieved as follows:\n",
        "\n",
        "```python\n",
        "import xarray as xr\n",
        "import numpy as np\n",
        "\n",
        "import qnt.backtester as qnbt\n",
        "import qnt.data as qndata\n",
        "import qnt.ta as qnta\n",
        "\n",
        "\n",
        "\n",
        "def load_data(period):\n",
        "    futures= qndata.futures.load_data(tail=period, assets=[\"F_DX\"]).isel(asset=0)\n",
        "    crypto=  qndata.cryptodaily_load_data(tail=period)\n",
        "    return {\"futures\": futures, \"crypto\": crypto}, futures.time.values\n",
        "\n",
        "\n",
        "\n",
        "def window(data, max_date: np.datetime64, lookback_period: int):\n",
        "    min_date= max_date - np.timedelta64(lookback_period, \"D\")\n",
        "    return {\n",
        "        \"futures\": data[\"futures\"].sel(time=slice(min_date, max_date)),\n",
        "        \"crypto\":  data[\"crypto\"].sel(time=slice(min_date, max_date)),\n",
        "    }\n",
        "\n",
        "\n",
        "\n",
        "def strategy(data):\n",
        "    close_futures= data[\"futures\"].sel(field=\"close\")\n",
        "    close_crypto=  data[\"crypto\"].sel(field=\"close\")\n",
        "    sma20 = qnta.sma(close_futures, 20).isel(time=-1)\n",
        "    sma20_crypto = qnta.sma(close_crypto, 20).isel(time=-1)\n",
        "    is_liquid = data[\"crypto\"].sel(field=\"is_liquid\").isel(time=-1)\n",
        "    weights = xr.where(sma20 < sma20_crypto, 1, 0)\n",
        "    weights = weights * is_liquid \n",
        "    weights = weights / 10\n",
        "    return weights\n",
        "\n",
        "\n",
        "\n",
        "qnbt.backtest(\n",
        "    competition_type= \"crypto_daily_long\",\n",
        "    load_data= load_data,\n",
        "    lookback_period= 365,\n",
        "    start_date= \"2014-01-01\",\n",
        "    strategy= strategy,\n",
        "    window= window\n",
        ")\n",
        "\n",
        "```"
      ]
    },
    {
      "cell_type": "markdown",
      "metadata": {
        "id": "vQCetK15uZzs"
      },
      "source": [
        "# How to submit a strategy to the competition?\n",
        "\n",
        "Check that weights are fine:\n",
        "\n",
        "```python\n",
        "import qnt.output as qnout\n",
        "qnout.check(weights, data, \"crypto_daily_long\")\n",
        "```\n",
        "\n",
        "If everything is ok, write the weights to file:\n",
        "\n",
        "```python\n",
        "qnout.write(weights)\n",
        "```\n",
        "\n",
        "In your **personal account**:\n",
        "\n",
        "* **choose** a strategy;\n",
        "* click on the **Submit** button;\n",
        "* select the type of competition.\n",
        "\n",
        "At the beginning you will find the strategy under the **Checking** area (**Sent strategies** > **Checking**). If technical checks are successful, the strategy will go under the **Candidates** area (**Sent strategies** > **Candidates**). Otherwise it will be **Filtered** (**Sent strategies** > **Filtered**) and you should inspect error and warning messages. Note that a strategy under the **Candidates** are should have a Sharpe ratio larger than 1 for being eligible for a prize, please check warning messages in your **Candidates** area!"
      ]
    }
  ]
}