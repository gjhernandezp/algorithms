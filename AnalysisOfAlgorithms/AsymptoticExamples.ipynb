{
  "nbformat": 4,
  "nbformat_minor": 0,
  "metadata": {
    "colab": {
      "name": "AsymptoticExamples.ipynb",
      "provenance": [],
      "collapsed_sections": []
    },
    "kernelspec": {
      "name": "python3",
      "display_name": "Python 3"
    },
    "language_info": {
      "name": "python"
    }
  },
  "cells": [
    {
      "cell_type": "markdown",
      "metadata": {
        "id": "CnKcC98mTMB-"
      },
      "source": [
        "# 1. example $2n^2 = O(n^3)$\n",
        "\n",
        "$$\n",
        "2n^2 = O(n^3)\n",
        "$$\n",
        "We check using the limit \n",
        "$$\n",
        "\\underset{n \\rightarrow \\infty}{lim} \\frac{2n^2}{n^3} = \\underset{n \\rightarrow \\infty}{lim} \\frac{2}{n}  = 0 \n",
        "$$\n",
        "Since the limit is $0$\n",
        "$$\n",
        "2n^2 = o(n^3)\n",
        "$$\n",
        "that implies that $\\forall c \\in \\mathbb{R}^+$\n",
        "$$\n",
        "\\underset{n \\rightarrow \\infty}{lim} \\frac{2n^2}{n^3}  < c\n",
        "$$\n",
        "So since this holds particular $c > 0$ \n",
        "$$\n",
        "2n^2 = O(n^3)\n",
        "$$\n"
      ]
    },
    {
      "cell_type": "markdown",
      "metadata": {
        "id": "cc-8x9l76kyi"
      },
      "source": [
        "# 2. example $\\sqrt{n} = \\Omega\\left(lg(n)\\right)$\n",
        "\n",
        "$$\n",
        "\\sqrt{n} = \\Omega\\left(lg(n)\\right)\n",
        "$$\n",
        "We check using the limit \n",
        "$$\n",
        "\\underset{n \\rightarrow \\infty}{lim} \\frac{\\sqrt{n}}{lg(n)} = \\frac{\\infty}{\\infty}\n",
        "$$\n",
        "To able to use L´Hopital we change to continous fucntions (sequences do not have derivatives) \n",
        "$$\n",
        "\\underset{\\underset{n \\in \\mathbb{N}}{n \\rightarrow \\infty}}{lim} \\frac{\\sqrt{n}}{lg(n)}= \\underset{\\underset{x \\in \\mathbb{R}}{x \\rightarrow \\infty}}{lim} \\frac{\\sqrt{x}}{lg(x)}\n",
        "$$\n",
        "Now apply L´Hopital to the indeterminate forms $\\frac{\\infty}{\\infty}$\n",
        "$$\n",
        "\\underset{x \\rightarrow \\infty}{lim} \\frac{\\sqrt{x}}{lg(x)}  = \n",
        "\\underset{x \\rightarrow \\infty}{lim} \\frac{\\partial \\{\\sqrt{x}\\}/\\partial x}{\\partial \\{lg(x)\\} /\\partial x} =\n",
        "\\underset{x \\rightarrow \\infty}{lim} \\frac{\\frac{1}{2\\sqrt{x}}}{\\frac{1}{x}} =\n",
        "\\underset{x \\rightarrow \\infty}{lim} \\frac{x}{2\\sqrt{x}} = \n",
        "\\underset{x \\rightarrow \\infty}{lim} \\frac{\\sqrt{x}}{2} = \\infty\n",
        "$$\n",
        "for any constant $c>0$ and we have \n",
        "$$\n",
        "c <= \\underset{x \\rightarrow \\infty}{lim} \\frac{\\sqrt{x}}{lg(x)} =\n",
        "\\underset{n \\rightarrow \\infty}{lim} \\frac{\\sqrt{n}}{lg(n)}\n",
        "$$\n",
        "then\n",
        "$$\n",
        "c <= \\underset{\\underset{n \\in \\mathbb{N}}{n \\rightarrow \\infty}}{lim} \\frac{\\sqrt{n}}{lg(n)}, \\forall c \\in \\mathbb{R}^+ \n",
        "$$\n",
        "so \n",
        "$$\n",
        "\\sqrt{n} = \\omega\\left(lg(n)\\right)\n",
        "$$\n",
        "that implies that $\\forall c \\in \\mathbb{R}^+$\n",
        "$$\n",
        "c  < \\underset{n \\rightarrow \\infty}{lim} \\frac{\\sqrt{n}}{lg(n)}  \n",
        "$$\n",
        "So since this holds particular $c > 0$ that implies\n",
        "$$\n",
        "\\sqrt{n} = \\Omega\\left(lg(n)\\right).\n",
        "$$\n"
      ]
    },
    {
      "cell_type": "markdown",
      "metadata": {
        "id": "lx1UWIHFhGKM"
      },
      "source": [
        "# 3. example $\\frac{1}{2}n^2 -n  = \\Theta\\left(n^2)\\right)$\n",
        "\n",
        "\n",
        "We check using the limit \n",
        "$$\n",
        "\\underset{n \\rightarrow \\infty}{lim} \\frac{\\frac{1}{2}n^2 -n}{n^2} = \\underset{n \\rightarrow \\infty}{lim} \\left( \\frac{1}{2} - \\frac{1}{n} \\right) =  \\frac{1}{2} \n",
        "$$\n",
        "son we can use any $0 < c_1 < \\frac{1}{2}$  and $\\frac{1}{2} < c_2$ and  \n",
        "$$\n",
        "c_1 <  \\underset{n \\rightarrow \\infty}{lim} \\frac{\\frac{1}{2}n^2 -n}{n^2}  < c_2\n",
        "$$\n"
      ]
    },
    {
      "cell_type": "markdown",
      "metadata": {
        "id": "RgNS0gVtjA7D"
      },
      "source": [
        "# 4. example $\\sqrt{n} = \\omega\\left(lg(n)\\right)$\n",
        "\n",
        "We check using the limit \n",
        "$$\n",
        "\\underset{n \\rightarrow \\infty}{lim} \\frac{\\sqrt{n}}{lg(n)} = \\frac{\\infty}{\\infty}\n",
        "$$\n",
        "To able to use L´Hopital we change to continous fucntions (sequences do not have derivatives) \n",
        "$$\n",
        "\\underset{\\underset{n \\in \\mathbb{N}}{n \\rightarrow \\infty}}{lim} \\frac{\\sqrt{n}}{lg(n)}= \\underset{\\underset{x \\in \\mathbb{R}}{x \\rightarrow \\infty}}{lim} \\frac{\\sqrt{x}}{lg(x)}\n",
        "$$\n",
        "Now apply L´Hopital to the indeterminate forms $\\frac{\\infty}{\\infty}$\n",
        "$$\n",
        "\\underset{x \\rightarrow \\infty}{lim} \\frac{\\sqrt{x}}{lg(x)}  = \n",
        "\\underset{x \\rightarrow \\infty}{lim} \\frac{\\partial \\{\\sqrt{x}\\}/\\partial x}{\\partial \\{lg(x)\\} /\\partial x} =\n",
        "\\underset{x \\rightarrow \\infty}{lim} \\frac{\\frac{1}{2\\sqrt{x}}}{\\frac{1}{x}} =\n",
        "\\underset{x \\rightarrow \\infty}{lim} \\frac{x}{2\\sqrt{x}} = \n",
        "\\underset{x \\rightarrow \\infty}{lim} \\frac{\\sqrt{x}}{2} = \\infty\n",
        "$$"
      ]
    },
    {
      "cell_type": "markdown",
      "metadata": {
        "id": "zioY7XKYFjkr"
      },
      "source": [
        "# 5. example $ lg(n) = o\\left(\\sqrt{n}\\right)$\n",
        "Uisng porperties in 1. we porved\n",
        "\n",
        "\n",
        "$$\n",
        "lg(n)= o\\left(\\sqrt{n}\\right)\n",
        "$$\n",
        "We check using the limit \n",
        "$$\n",
        "\\underset{n \\rightarrow \\infty}{lim} \\frac{lg(n)}{\\sqrt(n)} = \\frac{\\infty}{\\infty}\n",
        "$$\n",
        "To able to use L´Hopital we change to continous fucntions (sequences do not have derivatives) \n",
        "$$\n",
        "\\underset{\\underset{n \\in \\mathbb{N}}{n \\rightarrow \\infty}}{lim} \\frac{lg(n)}{\\sqrt{n}}= \\underset{\\underset{x \\in \\mathbb{R}}{x \\rightarrow \\infty}}{lim} \\frac{lg(x)}{\\sqrt{x}}\n",
        "$$\n",
        "Now apply L´Hopital to the indeterminate forms $\\frac{\\infty}{\\infty}$\n",
        "$$\n",
        "\\underset{x \\rightarrow \\infty}{lim} \\frac{lg(x)}{\\sqrt{x}}  = \n",
        "\\underset{x \\rightarrow \\infty}{lim} \\frac{\\partial \\{lg(x)\\}/\\partial x}{\\partial \\{\\sqrt{x}\\} /\\partial x} =\n",
        "\\underset{x \\rightarrow \\infty}{lim} \\frac{\\frac{1}{x}} {\\frac{1}{2\\sqrt{x}}}=\n",
        "\\underset{x \\rightarrow \\infty}{lim} \\frac{2\\sqrt{x}}{x} = \n",
        "\\underset{x \\rightarrow \\infty}{lim} \\frac{2}{\\sqrt{x}} = 0\n",
        "$$"
      ]
    },
    {
      "cell_type": "markdown",
      "metadata": {
        "id": "OeRPMpmrNDHE"
      },
      "source": [
        "# 6. example $2^n n^2 = O\\left((2.1)^n)\\right))$"
      ]
    },
    {
      "cell_type": "markdown",
      "metadata": {
        "id": "BEnbPA8sJpax"
      },
      "source": [
        "$$2^n n^2 = o\\left((2.1)^n)\\right)$$\n",
        "\n",
        "We check using the limit \n",
        "\n",
        "$$\n",
        "\\underset{n \\rightarrow \\infty}{lim} \\frac{2^n n^2}{(2.1)^n} = \\frac{\\infty}{\\infty}\n",
        "$$\n",
        "\n",
        "To able to use L´Hopital we change to continous fucntions (sequences do not have derivatives) \n",
        "$$\n",
        "\\underset{\\underset{n \\in \\mathbb{N}}{n \\rightarrow \\infty}}{lim} \\frac{2^n n^2}{(2.1)^n}= \\underset{\\underset{x \\in \\mathbb{R}}{x \\rightarrow \\infty}}{lim} \\frac{2^x x^2}{(2.1)^x}\n",
        "$$\n",
        "Now apply L´Hopital to the indeterminate forms $\\frac{\\infty}{\\infty}$\n",
        "$$\n",
        "\\underset{x \\rightarrow \\infty}{lim} \\frac{2^x x^2}{(2.1)^x}  = \n",
        "\\underset{x \\rightarrow \\infty}{lim} \\frac{\\partial \\{2^x x^2\\}/\\partial x}{\\partial \\{(2.1)^x\\} /\\partial x} =\n",
        "\\underset{x \\rightarrow \\infty}{lim} \\frac{2^x ln(2) x^2+ 2 x 2^x }{(2.1)^x ln (2.1)} = \\cdots\n",
        "$$\n",
        "The indeterminate form remains\n",
        "\n",
        "[Solution porposed by Ricardo Andres Marino Rojas]\n",
        "\n",
        "We use the theorem: \n",
        "\n",
        "If $ \\underset{n \\rightarrow \\infty}{lim}\\frac{x_{n+1}}{x_n}=L<1 $ \n",
        "then it converges to $0$. \n",
        "\n",
        "(https://math.stackexchange.com/questions/2508842/prove-that-if-lim-fracx-n1x-n-l1-then-it-converges-to-0)\n",
        "\n",
        "This is applied to\n",
        "$$\n",
        "x_n = \\frac{2^n n^2}{(2.1)^n}\n",
        "$$\n",
        "so\n",
        "$$\n",
        "\\underset{n \\rightarrow \\infty}{lim} \\frac{x_{n+1}}{x_n} = \\underset{n \\rightarrow \\infty}{lim} \\frac{\\frac{2^{n+1} (n+1)^2}{(2.1)^{n+1}}}{\\frac{2^n n^2}{(2.1)^n}} =\\underset{n \\rightarrow \\infty}{lim} \\frac{(2.1)^n 2^{n+1} (n+1)^2}{(2.1)^{n+1}2^n n^2} = \\underset{n \\rightarrow \\infty}{lim} \\frac{ 2 (n+1)^2}{(2.1)  n^2} =\\frac{2}{2.1} \\underset{n \\rightarrow \\infty}{lim} \\frac{(n+1)^2}{n^2} = \\frac{2}{2.1} < 1\n",
        "$$\n",
        "then\n",
        "$$\n",
        "\\underset{n \\rightarrow \\infty}{lim} \\frac{2^n n^2}{(2.1)^n} = 0 \n",
        " $$\n",
        "so \n",
        "$$\n",
        "2^n n^2 = o\\left((2.1)^n\\right)\n",
        "$$\n",
        "that implies that $\\forall c \\in \\mathbb{R}^+$\n",
        "$$\n",
        "c  <  \\underset{n \\rightarrow \\infty}{lim} \\frac{2^n n^2}{(2.1)^n}  \n",
        "$$\n",
        "So since this holds particular $c > 0$ that implies\n",
        "$$\n",
        "2^n n^2 = O\\left((2.1)^n\\right).\n",
        "$$\n"
      ]
    }
  ]
}