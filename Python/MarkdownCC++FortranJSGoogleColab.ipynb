{
  "nbformat": 4,
  "nbformat_minor": 0,
  "metadata": {
    "colab": {
      "name": " MarkdownCC++FortranJSGoogleColab.ipynb",
      "provenance": [],
      "collapsed_sections": []
    },
    "kernelspec": {
      "name": "python3",
      "display_name": "Python 3"
    }
  },
  "cells": [
    {
      "cell_type": "code",
      "metadata": {
        "colab": {
          "base_uri": "https://localhost:8080/"
        },
        "id": "nbaz8-X71lWE",
        "outputId": "333a544d-4b6d-4846-83d9-2ad54384aa5f"
      },
      "source": [
        "2+2"
      ],
      "execution_count": 1,
      "outputs": [
        {
          "output_type": "execute_result",
          "data": {
            "text/plain": [
              "4"
            ]
          },
          "metadata": {
            "tags": []
          },
          "execution_count": 1
        }
      ]
    },
    {
      "cell_type": "markdown",
      "metadata": {
        "id": "woqp1KjN18v0"
      },
      "source": [
        "# H1\r\n",
        "## H2\r\n",
        "### H3\r\n",
        "#### H4\r\n",
        "##### H5\r\n",
        "###### H6"
      ]
    },
    {
      "cell_type": "markdown",
      "metadata": {
        "id": "qggcIaG92G6A"
      },
      "source": [
        "# ALG 2021 I\r\n",
        "## Example\r\n",
        "\r\n",
        "Hello everybody\r\n",
        "\r\n",
        "Strong emphasis, aka bold, with **asterisks** or __underscores__.\r\n",
        "\r\n",
        "Emphasis, aka italics, with *asterisks* or _underscores_.\r\n",
        "\r\n",
        "1. First ordered list item\r\n",
        "2. Another item\r\n",
        "\r\n",
        "* Unordered list can use asterisks\r\n",
        "- Or minuses\r\n",
        "+ Or pluses\r\n",
        "\r\n",
        "[I'm an inline-style link with title](https://www.google.com \"Google's Homepage\")\r\n",
        "\r\n",
        "Inline-style: \r\n",
        "![alt text](https://github.com/adam-p/markdown-here/raw/master/src/common/images/icon48.png \"Logo Title Text 1\")\r\n",
        "\r\n",
        "\r\n",
        "```javascript\r\n",
        "var s = \"JavaScript syntax highlighting\";\r\n",
        "alert(s);\r\n",
        "```\r\n",
        " \r\n",
        "```python\r\n",
        "s = \"Python syntax highlighting\"\r\n",
        "print s\r\n",
        "```\r\n",
        " \r\n",
        "```\r\n",
        "No language indicated, so no syntax highlighting. \r\n",
        "But let's throw in a <b>tag</b>.\r\n",
        "```\r\n",
        "\r\n",
        "<dl>\r\n",
        "  <dt>Definition list</dt>\r\n",
        "  <dd>Is something people use sometimes.</dd>\r\n",
        "\r\n",
        "  <dt>Markdown in HTML</dt>\r\n",
        "  <dd>Does *not* work **very** well. Use HTML <em>tags</em>.</dd>\r\n",
        "</dl>\r\n",
        "\r\n",
        "<a href=\"https://www.youtube.com/watch?v=ZyjCqQEUa8o&feature=emb_imp_woyt&v=YOUTUBE_VIDEO_ID_HERE\r\n",
        "\" target=\"_blank\"><img src=\"https://cdn.searchenginejournal.com/wp-content/uploads/2019/07/shutterstock_1457601002-760x400.png\" \r\n",
        "alt=\"Video link\" width=\"240\" height=\"180\" border=\"10\" /></a>\r\n",
        "\r\n",
        "$$ \\sum \\limits _{i=1} ^{10} \\int \\limits _0 ^{\\infty} e^{\\nu _i x } dx  =\\left( \\begin{array}{cc} 1 & 2 \\\\ 3 & 4 \\end{array}\\right) \r\n",
        "\\left( \\begin{array}{c} 5 \\\\ 6 \\end{array} \\right) = \r\n",
        "\\mathbf{\\underline{V}}$$"
      ]
    },
    {
      "cell_type": "markdown",
      "metadata": {
        "id": "pOcBygcuaDZK"
      },
      "source": [
        "# Hello"
      ]
    },
    {
      "cell_type": "code",
      "metadata": {
        "colab": {
          "base_uri": "https://localhost:8080/"
        },
        "id": "rmgEggvm2EeT",
        "outputId": "d681e52d-0cd8-4ba8-eb20-60f4693fafc3"
      },
      "source": [
        "!cat /proc/cpuinfo"
      ],
      "execution_count": 2,
      "outputs": [
        {
          "output_type": "stream",
          "text": [
            "processor\t: 0\n",
            "vendor_id\t: GenuineIntel\n",
            "cpu family\t: 6\n",
            "model\t\t: 63\n",
            "model name\t: Intel(R) Xeon(R) CPU @ 2.30GHz\n",
            "stepping\t: 0\n",
            "microcode\t: 0x1\n",
            "cpu MHz\t\t: 2299.998\n",
            "cache size\t: 46080 KB\n",
            "physical id\t: 0\n",
            "siblings\t: 2\n",
            "core id\t\t: 0\n",
            "cpu cores\t: 1\n",
            "apicid\t\t: 0\n",
            "initial apicid\t: 0\n",
            "fpu\t\t: yes\n",
            "fpu_exception\t: yes\n",
            "cpuid level\t: 13\n",
            "wp\t\t: yes\n",
            "flags\t\t: fpu vme de pse tsc msr pae mce cx8 apic sep mtrr pge mca cmov pat pse36 clflush mmx fxsr sse sse2 ss ht syscall nx pdpe1gb rdtscp lm constant_tsc rep_good nopl xtopology nonstop_tsc cpuid tsc_known_freq pni pclmulqdq ssse3 fma cx16 pcid sse4_1 sse4_2 x2apic movbe popcnt aes xsave avx f16c rdrand hypervisor lahf_lm abm invpcid_single ssbd ibrs ibpb stibp fsgsbase tsc_adjust bmi1 avx2 smep bmi2 erms invpcid xsaveopt arat md_clear arch_capabilities\n",
            "bugs\t\t: cpu_meltdown spectre_v1 spectre_v2 spec_store_bypass l1tf mds swapgs\n",
            "bogomips\t: 4599.99\n",
            "clflush size\t: 64\n",
            "cache_alignment\t: 64\n",
            "address sizes\t: 46 bits physical, 48 bits virtual\n",
            "power management:\n",
            "\n",
            "processor\t: 1\n",
            "vendor_id\t: GenuineIntel\n",
            "cpu family\t: 6\n",
            "model\t\t: 63\n",
            "model name\t: Intel(R) Xeon(R) CPU @ 2.30GHz\n",
            "stepping\t: 0\n",
            "microcode\t: 0x1\n",
            "cpu MHz\t\t: 2299.998\n",
            "cache size\t: 46080 KB\n",
            "physical id\t: 0\n",
            "siblings\t: 2\n",
            "core id\t\t: 0\n",
            "cpu cores\t: 1\n",
            "apicid\t\t: 1\n",
            "initial apicid\t: 1\n",
            "fpu\t\t: yes\n",
            "fpu_exception\t: yes\n",
            "cpuid level\t: 13\n",
            "wp\t\t: yes\n",
            "flags\t\t: fpu vme de pse tsc msr pae mce cx8 apic sep mtrr pge mca cmov pat pse36 clflush mmx fxsr sse sse2 ss ht syscall nx pdpe1gb rdtscp lm constant_tsc rep_good nopl xtopology nonstop_tsc cpuid tsc_known_freq pni pclmulqdq ssse3 fma cx16 pcid sse4_1 sse4_2 x2apic movbe popcnt aes xsave avx f16c rdrand hypervisor lahf_lm abm invpcid_single ssbd ibrs ibpb stibp fsgsbase tsc_adjust bmi1 avx2 smep bmi2 erms invpcid xsaveopt arat md_clear arch_capabilities\n",
            "bugs\t\t: cpu_meltdown spectre_v1 spectre_v2 spec_store_bypass l1tf mds swapgs\n",
            "bogomips\t: 4599.99\n",
            "clflush size\t: 64\n",
            "cache_alignment\t: 64\n",
            "address sizes\t: 46 bits physical, 48 bits virtual\n",
            "power management:\n",
            "\n"
          ],
          "name": "stdout"
        }
      ]
    },
    {
      "cell_type": "markdown",
      "metadata": {
        "id": "ScXzRHvhl2_I"
      },
      "source": [
        "C, C++ templated"
      ]
    },
    {
      "cell_type": "code",
      "metadata": {
        "id": "hEczFaJS2D5j",
        "colab": {
          "base_uri": "https://localhost:8080/"
        },
        "outputId": "bdc18682-b8dd-4d53-918c-e3b58d42093f"
      },
      "source": [
        "%%writefile tmpc.c\r\n",
        "\r\n",
        "#include <stdio.h>\r\n",
        "\r\n",
        "int main(void) {\r\n",
        "\tprintf(\"Code C executed !!! \\n \");\r\n",
        "\treturn 0;\r\n",
        "}\r\n"
      ],
      "execution_count": 3,
      "outputs": [
        {
          "output_type": "stream",
          "text": [
            "Writing tmpc.c\n"
          ],
          "name": "stdout"
        }
      ]
    },
    {
      "cell_type": "code",
      "metadata": {
        "colab": {
          "base_uri": "https://localhost:8080/"
        },
        "id": "4-oKwDINaBJS",
        "outputId": "d5c9d1bf-6038-42ee-f420-d7d41f09acbe"
      },
      "source": [
        "!gcc tmpc.c -o tmpc\r\n",
        "!./tmpc"
      ],
      "execution_count": 4,
      "outputs": [
        {
          "output_type": "stream",
          "text": [
            "Code C executed !!! \n",
            " "
          ],
          "name": "stdout"
        }
      ]
    },
    {
      "cell_type": "code",
      "metadata": {
        "colab": {
          "base_uri": "https://localhost:8080/"
        },
        "id": "R0oDDyyDaT3S",
        "outputId": "e0c390fb-6901-47f8-f28c-c279295ad062"
      },
      "source": [
        "%%writefile tmpcc.cc\r\n",
        "#include <iostream>\r\n",
        "using namespace std;\r\n",
        "\r\n",
        "int main() {\r\n",
        "  cout << \"Code C++ executed !!! \"  << endl;  \r\n",
        "\treturn 0;\r\n",
        "}"
      ],
      "execution_count": 5,
      "outputs": [
        {
          "output_type": "stream",
          "text": [
            "Writing tmpcc.cc\n"
          ],
          "name": "stdout"
        }
      ]
    },
    {
      "cell_type": "code",
      "metadata": {
        "colab": {
          "base_uri": "https://localhost:8080/"
        },
        "id": "64hoinYYaTsp",
        "outputId": "48f3c7bb-2f3c-47a7-f922-780958d50ec6"
      },
      "source": [
        "!g++ tmpcc.cc -o tmpcc\r\n",
        "!./tmpcc"
      ],
      "execution_count": 6,
      "outputs": [
        {
          "output_type": "stream",
          "text": [
            "Code C++ executed !!! \n"
          ],
          "name": "stdout"
        }
      ]
    },
    {
      "cell_type": "code",
      "metadata": {
        "colab": {
          "base_uri": "https://localhost:8080/"
        },
        "id": "yqY_QCsRdAJr",
        "outputId": "59e0ae22-c9be-44b6-a0bb-a424f2876d33"
      },
      "source": [
        "%%writefile tmpcc.cc\r\n",
        "#include <iostream>\r\n",
        "using namespace std;\r\n",
        "\r\n",
        "int main() {\r\n",
        "  int x;\r\n",
        "  cin >> x;\r\n",
        "  cout << \"Code C++ executed !!! \"  << x << endl;  \r\n",
        "\treturn 0;\r\n",
        "}"
      ],
      "execution_count": 7,
      "outputs": [
        {
          "output_type": "stream",
          "text": [
            "Overwriting tmpcc.cc\n"
          ],
          "name": "stdout"
        }
      ]
    },
    {
      "cell_type": "code",
      "metadata": {
        "colab": {
          "base_uri": "https://localhost:8080/"
        },
        "id": "ObeM0eIfdSSj",
        "outputId": "e9dcf9b5-d9a6-4b85-de7c-e9b4aff915d5"
      },
      "source": [
        "%%writefile input.txt\r\n",
        "3\r\n"
      ],
      "execution_count": 8,
      "outputs": [
        {
          "output_type": "stream",
          "text": [
            "Writing input.txt\n"
          ],
          "name": "stdout"
        }
      ]
    },
    {
      "cell_type": "code",
      "metadata": {
        "colab": {
          "base_uri": "https://localhost:8080/"
        },
        "id": "c1IFSDvsdPYa",
        "outputId": "8a5ba1ea-2114-4bff-b231-c56c842636a9"
      },
      "source": [
        "!g++ tmpcc.cc -o tmpcc\r\n",
        "!./tmpcc < input.txt"
      ],
      "execution_count": 9,
      "outputs": [
        {
          "output_type": "stream",
          "text": [
            "Code C++ executed !!! 3\n"
          ],
          "name": "stdout"
        }
      ]
    },
    {
      "cell_type": "code",
      "metadata": {
        "id": "TExHUGSrd_Dq"
      },
      "source": [
        "!g++ tmpcc.cc -o tmpcc\r\n",
        "!./tmpcc < input.txt > output.txt"
      ],
      "execution_count": 10,
      "outputs": []
    },
    {
      "cell_type": "code",
      "metadata": {
        "colab": {
          "base_uri": "https://localhost:8080/"
        },
        "id": "almK03-SnE-F",
        "outputId": "5db17d87-db8f-4df4-fa38-6f87d1ed5127"
      },
      "source": [
        "%%writefile tmpf.f\r\n",
        "      program TEST\r\n",
        "\t      ! your code goes here\r\n",
        "        PRINT *,\"Code Fortran executed !!!\"\r\n",
        "\t      stop\r\n",
        "      end\r\n"
      ],
      "execution_count": 11,
      "outputs": [
        {
          "output_type": "stream",
          "text": [
            "Writing tmpf.f\n"
          ],
          "name": "stdout"
        }
      ]
    },
    {
      "cell_type": "code",
      "metadata": {
        "colab": {
          "base_uri": "https://localhost:8080/"
        },
        "id": "ei76WkphlxM_",
        "outputId": "03ad1fe3-f632-493d-86bb-054583e35614"
      },
      "source": [
        "!gfortran tmpf.f -o tmpf\r\n",
        "!./tmpf"
      ],
      "execution_count": 12,
      "outputs": [
        {
          "output_type": "stream",
          "text": [
            " Code Fortran executed !!!\n"
          ],
          "name": "stdout"
        }
      ]
    },
    {
      "cell_type": "code",
      "metadata": {
        "colab": {
          "base_uri": "https://localhost:8080/"
        },
        "id": "W6vVvjk1moDk",
        "outputId": "9bd20a74-1c97-4d55-ca0d-9d32fec5df2e"
      },
      "source": [
        "%%writefile tmp.js\r\n",
        "console.log('Code JavaScript executed !!!');\r\n"
      ],
      "execution_count": 13,
      "outputs": [
        {
          "output_type": "stream",
          "text": [
            "Writing tmp.js\n"
          ],
          "name": "stdout"
        }
      ]
    },
    {
      "cell_type": "code",
      "metadata": {
        "colab": {
          "base_uri": "https://localhost:8080/"
        },
        "id": "W8y2Cjrrmsms",
        "outputId": "ff381004-3c82-4a80-976b-aacdfdc4a1ae"
      },
      "source": [
        "!node tmp.js"
      ],
      "execution_count": 14,
      "outputs": [
        {
          "output_type": "stream",
          "text": [
            "Code JavaScript executed !!!\n"
          ],
          "name": "stdout"
        }
      ]
    }
  ]
}