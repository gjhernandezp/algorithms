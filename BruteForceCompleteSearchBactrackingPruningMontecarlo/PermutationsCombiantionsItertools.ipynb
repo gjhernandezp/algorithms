{
  "nbformat": 4,
  "nbformat_minor": 0,
  "metadata": {
    "colab": {
      "name": "PermutationsCombiantionsItertools.ipynb",
      "provenance": [],
      "collapsed_sections": []
    },
    "kernelspec": {
      "name": "python3",
      "display_name": "Python 3"
    }
  },
  "cells": [
    {
      "cell_type": "markdown",
      "metadata": {
        "id": "QitxL_losQpb"
      },
      "source": [
        "# Program to print all permutations of a given string\n",
        "\n",
        "* https://www.geeksforgeeks.org/write-a-c-program-to-print-all-permutations-of-a-given-string/"
      ]
    },
    {
      "cell_type": "code",
      "metadata": {
        "colab": {
          "base_uri": "https://localhost:8080/"
        },
        "id": "VKeCqFFzJqmG",
        "outputId": "8ee90023-53df-4adb-ae16-d5f7b0b80e6b"
      },
      "source": [
        "# Python program to print all permutations with \n",
        "# duplicates allowed \n",
        "  \n",
        "def toString(List): \n",
        "    return ''.join(List) \n",
        "  \n",
        "# Function to print permutations of string \n",
        "# This function takes three parameters: \n",
        "# 1. String \n",
        "# 2. Starting index of the string \n",
        "# 3. Ending index of the string. \n",
        "def permute(a, l, r): \n",
        "    if l==r: \n",
        "        print(toString(a)) \n",
        "    else: \n",
        "        for i in range(l,r+1): \n",
        "            a[l], a[i] = a[i], a[l] \n",
        "            permute(a, l+1, r) \n",
        "            a[l], a[i] = a[i], a[l] # backtrack \n",
        "  \n",
        "# Driver program to test the above function \n",
        "string = \"ABC\"\n",
        "n = len(string) \n",
        "a = list(string) \n",
        "permute(a, 0, n-1) \n",
        "  \n",
        "# This code is contributed by Bhavya Jain \n"
      ],
      "execution_count": null,
      "outputs": [
        {
          "output_type": "stream",
          "text": [
            "ABC\n",
            "ACB\n",
            "BAC\n",
            "BCA\n",
            "CBA\n",
            "CAB\n"
          ],
          "name": "stdout"
        }
      ]
    },
    {
      "cell_type": "markdown",
      "metadata": {
        "id": "4SVf2ybK8-RZ"
      },
      "source": [
        "# Permutations  and combinations from itertools in python \n",
        "\n",
        "* https://www.geeksforgeeks.org/permutation-and-combination-in-python/"
      ]
    },
    {
      "cell_type": "code",
      "metadata": {
        "colab": {
          "base_uri": "https://localhost:8080/"
        },
        "id": "LZTNOz5w874K",
        "outputId": "1640421d-c806-492c-d6e5-b6efc096eac9"
      },
      "source": [
        "# A Python program to print all  \n",
        "# permutations of given length  \n",
        "from itertools import permutations  \n",
        "  \n",
        "# Get all permutations of length 2  \n",
        "# and length 2  \n",
        "perm = permutations([1, 2, 3], 2)  \n",
        "  \n",
        "# Print the obtained permutations  \n",
        "for i in list(perm):  \n",
        "    print (i)  "
      ],
      "execution_count": null,
      "outputs": [
        {
          "output_type": "stream",
          "text": [
            "(1, 2)\n",
            "(1, 3)\n",
            "(2, 1)\n",
            "(2, 3)\n",
            "(3, 1)\n",
            "(3, 2)\n"
          ],
          "name": "stdout"
        }
      ]
    },
    {
      "cell_type": "code",
      "metadata": {
        "colab": {
          "base_uri": "https://localhost:8080/"
        },
        "id": "YCpQ5qhs9xJi",
        "outputId": "55efed15-f739-4cdd-fa05-5b818ea238cc"
      },
      "source": [
        "# A Python program to print all  \n",
        "# permutations of given length  \n",
        "from itertools import permutations  \n",
        "  \n",
        "# Get all permutations of length 2  \n",
        "# and length 2  \n",
        "perm = permutations([3, 2, 1], 2)  \n",
        "  \n",
        "# Print the obtained permutations  \n",
        "for i in list(perm):  \n",
        "    print (i)  "
      ],
      "execution_count": null,
      "outputs": [
        {
          "output_type": "stream",
          "text": [
            "(3, 2)\n",
            "(3, 1)\n",
            "(2, 3)\n",
            "(2, 1)\n",
            "(1, 3)\n",
            "(1, 2)\n"
          ],
          "name": "stdout"
        }
      ]
    },
    {
      "cell_type": "code",
      "metadata": {
        "colab": {
          "base_uri": "https://localhost:8080/"
        },
        "id": "rBsezq9C9CpI",
        "outputId": "db305c56-10c9-4ec0-b129-35f3b7c99265"
      },
      "source": [
        "# A Python program to print all  \n",
        "# combinations of given length \n",
        "from itertools import combinations \n",
        "  \n",
        "# Get all combinations of [1, 2, 3] \n",
        "# and length 2 \n",
        "comb = combinations([1, 2, 3], 2) \n",
        "  \n",
        "# Print the obtained combinations \n",
        "for i in list(comb): \n",
        "    print (i) "
      ],
      "execution_count": null,
      "outputs": [
        {
          "output_type": "stream",
          "text": [
            "(1, 2)\n",
            "(1, 3)\n",
            "(2, 3)\n"
          ],
          "name": "stdout"
        }
      ]
    },
    {
      "cell_type": "code",
      "metadata": {
        "colab": {
          "base_uri": "https://localhost:8080/"
        },
        "id": "1kfpr3gL9mzY",
        "outputId": "76cf911d-9323-4e7a-981d-427c8d17fe12"
      },
      "source": [
        "# A Python program to print all combinations  \n",
        "# of given length with unsorted input.  \n",
        "from itertools import combinations  \n",
        "  \n",
        "# Get all combinations of [2, 1, 3]  \n",
        "# and length 2  \n",
        "comb = combinations([2, 1, 3], 2)  \n",
        "  \n",
        "# Print the obtained combinations  \n",
        "for i in list(comb):  \n",
        "    print (i) "
      ],
      "execution_count": null,
      "outputs": [
        {
          "output_type": "stream",
          "text": [
            "(2, 1)\n",
            "(2, 3)\n",
            "(1, 3)\n"
          ],
          "name": "stdout"
        }
      ]
    },
    {
      "cell_type": "code",
      "metadata": {
        "colab": {
          "base_uri": "https://localhost:8080/"
        },
        "id": "32U9zY1_9q0I",
        "outputId": "ba02d583-62fc-42aa-c6dc-d1d49b571ad4"
      },
      "source": [
        "# A Python program to print all combinations  \n",
        "# with an element-to-itself combination is  \n",
        "# also included  \n",
        "from itertools import combinations_with_replacement  \n",
        "  \n",
        "# Get all combinations of [1, 2, 3] and length 2  \n",
        "comb = combinations_with_replacement([1, 2, 3], 2)  \n",
        "  \n",
        "# Print the obtained combinations  \n",
        "for i in list(comb):  \n",
        "    print (i)  "
      ],
      "execution_count": null,
      "outputs": [
        {
          "output_type": "stream",
          "text": [
            "(1, 1)\n",
            "(1, 2)\n",
            "(1, 3)\n",
            "(2, 2)\n",
            "(2, 3)\n",
            "(3, 3)\n"
          ],
          "name": "stdout"
        }
      ]
    },
    {
      "cell_type": "code",
      "metadata": {
        "colab": {
          "base_uri": "https://localhost:8080/"
        },
        "id": "UlMaAHDPqCeM",
        "outputId": "0aad16e9-d1b1-4bab-daa8-19aa07f205b9"
      },
      "source": [
        "# A Python program to print all permutations   \n",
        "# with s with repetitions  \n",
        "\n",
        "from itertools import product\n",
        "\n",
        "# Get all permutations with repetitions of [1, 2, 3] and length 2 \n",
        "permrep = product([1, 2, 3], repeat=2)  \n",
        "  \n",
        "# Print the obtained combinations  \n",
        "for i in list(permrep):  \n",
        "    print (i)  "
      ],
      "execution_count": 3,
      "outputs": [
        {
          "output_type": "stream",
          "text": [
            "(1, 1)\n",
            "(1, 2)\n",
            "(1, 3)\n",
            "(2, 1)\n",
            "(2, 2)\n",
            "(2, 3)\n",
            "(3, 1)\n",
            "(3, 2)\n",
            "(3, 3)\n"
          ],
          "name": "stdout"
        }
      ]
    },
    {
      "cell_type": "code",
      "metadata": {
        "colab": {
          "base_uri": "https://localhost:8080/"
        },
        "id": "niT67qFJs2jJ",
        "outputId": "00376e18-41a3-40c3-8e3a-c655c48c19a2"
      },
      "source": [
        "from time import time\n",
        "\n",
        "def permute(orig_str, current_str = ''):\n",
        "    diff = set(orig_str) - set(current_str)\n",
        "    calls.append(1)\n",
        "    if len(diff) == 0:\n",
        "        permutations.append(current_str)\n",
        "    else:\n",
        "        for char in diff:\n",
        "            permute(orig_str, current_str + char)\n",
        "    return (calls, permutations)\n",
        "calls = []\n",
        "permutations = []\n",
        "string_to_permute = 'abcde'\n",
        "start =  time()\n",
        "permute(string_to_permute)\n",
        "end = time()\n",
        "time_reg = end - start\n",
        "print('time: ', time_reg)\n",
        "print('number of function calls, including the initial call: ', sum(calls))\n",
        "print('number of permutations: ', len(permutations))\n",
        "print('tree nodes / leaves: ', sum(calls)/len(permutations))\n",
        "print('sorted permutations: ', sorted(permutations))"
      ],
      "execution_count": null,
      "outputs": [
        {
          "output_type": "stream",
          "text": [
            "time:  0.00039887428283691406\n",
            "number of function calls, including the initial call:  326\n",
            "number of permutations:  120\n",
            "tree nodes / leaves:  2.716666666666667\n",
            "sorted permutations:  ['abcde', 'abced', 'abdce', 'abdec', 'abecd', 'abedc', 'acbde', 'acbed', 'acdbe', 'acdeb', 'acebd', 'acedb', 'adbce', 'adbec', 'adcbe', 'adceb', 'adebc', 'adecb', 'aebcd', 'aebdc', 'aecbd', 'aecdb', 'aedbc', 'aedcb', 'bacde', 'baced', 'badce', 'badec', 'baecd', 'baedc', 'bcade', 'bcaed', 'bcdae', 'bcdea', 'bcead', 'bceda', 'bdace', 'bdaec', 'bdcae', 'bdcea', 'bdeac', 'bdeca', 'beacd', 'beadc', 'becad', 'becda', 'bedac', 'bedca', 'cabde', 'cabed', 'cadbe', 'cadeb', 'caebd', 'caedb', 'cbade', 'cbaed', 'cbdae', 'cbdea', 'cbead', 'cbeda', 'cdabe', 'cdaeb', 'cdbae', 'cdbea', 'cdeab', 'cdeba', 'ceabd', 'ceadb', 'cebad', 'cebda', 'cedab', 'cedba', 'dabce', 'dabec', 'dacbe', 'daceb', 'daebc', 'daecb', 'dbace', 'dbaec', 'dbcae', 'dbcea', 'dbeac', 'dbeca', 'dcabe', 'dcaeb', 'dcbae', 'dcbea', 'dceab', 'dceba', 'deabc', 'deacb', 'debac', 'debca', 'decab', 'decba', 'eabcd', 'eabdc', 'eacbd', 'eacdb', 'eadbc', 'eadcb', 'ebacd', 'ebadc', 'ebcad', 'ebcda', 'ebdac', 'ebdca', 'ecabd', 'ecadb', 'ecbad', 'ecbda', 'ecdab', 'ecdba', 'edabc', 'edacb', 'edbac', 'edbca', 'edcab', 'edcba']\n"
          ],
          "name": "stdout"
        }
      ]
    }
  ]
}